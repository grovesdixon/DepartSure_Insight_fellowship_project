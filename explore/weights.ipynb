{
 "cells": [
  {
   "cell_type": "markdown",
   "metadata": {},
   "source": [
    "# pull_weights"
   ]
  },
  {
   "cell_type": "code",
   "execution_count": 6,
   "metadata": {},
   "outputs": [],
   "source": [
    "# Import libraries\n",
    "import numpy as np\n",
    "import pandas as pd\n",
    "import matplotlib.pyplot as plt\n",
    "import psycopg2\n",
    "from IPython.display import display, HTML # used to print out pretty pandas dataframes\n",
    "import matplotlib.dates as dates\n",
    "import matplotlib.lines as mlines\n",
    "\n",
    "%matplotlib inline\n",
    "plt.style.use('ggplot') \n",
    "\n",
    "# specify user/password/where the database is\n",
    "sqluser = 'postgres'\n",
    "sqlpass = 'postgres'\n",
    "dbname = 'mimic'\n",
    "schema_name = 'mimiciii'\n",
    "host = 'localhost'\n",
    "\n",
    "query_schema = 'SET search_path to ' + schema_name + ';'\n",
    "\n",
    "# connect to the database\n",
    "con = psycopg2.connect(dbname=dbname, user=sqluser, password=sqlpass, host=host)"
   ]
  },
  {
   "cell_type": "code",
   "execution_count": 70,
   "metadata": {},
   "outputs": [
    {
     "name": "stdout",
     "output_type": "stream",
     "text": [
      "my query:\n",
      "SET search_path to mimiciii;\n",
      "SELECT \n",
      "    subject_id ,\n",
      "    hadm_id,\n",
      "    icustay_id,\n",
      "    itemid,\n",
      "    valuenum,\n",
      "    valueuom\n",
      "from chartevents\n",
      "WHERE\n",
      "    ITEMID = '226512'\n",
      "ORDER BY\n",
      "    valuenum DESC\n",
      "\n",
      "   subject_id  hadm_id  icustay_id  itemid  valuenum valueuom\n",
      "0       97830   112817    264867.0  226512    1251.0       kg\n",
      "1       84039   150314    274467.0  226512     710.4       kg\n",
      "2       82004   144594    287511.0  226512     710.0       kg\n",
      "3       97917   118576    220449.0  226512     670.0       kg\n",
      "4       42683   192931    267149.0  226512     575.0       kg\n"
     ]
    }
   ],
   "source": [
    "# load the daily weight from the chartevents\n",
    "# unique_item = '226531' #lb\n",
    "unique_item = '226512' #kg\n",
    "query = query_schema + \"\"\"\n",
    "SELECT \n",
    "    subject_id ,\n",
    "    hadm_id,\n",
    "    icustay_id,\n",
    "    itemid,\n",
    "    valuenum,\n",
    "    valueuom\n",
    "from chartevents\n",
    "WHERE\n",
    "    ITEMID = '{}'\n",
    "ORDER BY\n",
    "    valuenum DESC\n",
    "\"\"\".format(unique_item)\n",
    "print('my query:')\n",
    "print(query)\n",
    "df = pd.read_sql_query(query,con)\n",
    "print(df.head())"
   ]
  },
  {
   "cell_type": "code",
   "execution_count": 71,
   "metadata": {},
   "outputs": [
    {
     "name": "stdout",
     "output_type": "stream",
     "text": [
      "mean = 81.05444700053089\n"
     ]
    },
    {
     "data": {
      "image/png": "[encoded data removed]",
      "text/plain": [
       "<Figure size 432x288 with 1 Axes>"
      ]
     },
     "metadata": {},
     "output_type": "display_data"
    }
   ],
   "source": [
    "plt.hist(df['valuenum'], range = [0,600])\n",
    "plt.xlabel(\"admission weights (kg)\")\n",
    "print('mean = {}'.format(np.mean(df['valuenum'])))"
   ]
  },
  {
   "cell_type": "markdown",
   "metadata": {},
   "source": [
    "# get eicu weights"
   ]
  },
  {
   "cell_type": "code",
   "execution_count": 72,
   "metadata": {},
   "outputs": [
    {
     "data": {
      "text/html": [
       "<div>\n",
       "<style scoped>\n",
       "    .dataframe tbody tr th:only-of-type {\n",
       "        vertical-align: middle;\n",
       "    }\n",
       "\n",
       "    .dataframe tbody tr th {\n",
       "        vertical-align: top;\n",
       "    }\n",
       "\n",
       "    .dataframe thead th {\n",
       "        text-align: right;\n",
       "    }\n",
       "</style>\n",
       "<table border=\"1\" class=\"dataframe\">\n",
       "  <thead>\n",
       "    <tr style=\"text-align: right;\">\n",
       "      <th></th>\n",
       "      <th>patientunitstayid</th>\n",
       "      <th>patienthealthsystemstayid</th>\n",
       "      <th>gender</th>\n",
       "      <th>age</th>\n",
       "      <th>ethnicity</th>\n",
       "      <th>hospitalid</th>\n",
       "      <th>wardid</th>\n",
       "      <th>apacheadmissiondx</th>\n",
       "      <th>admissionheight</th>\n",
       "      <th>hospitaladmittime24</th>\n",
       "      <th>...</th>\n",
       "      <th>unitadmitsource</th>\n",
       "      <th>unitvisitnumber</th>\n",
       "      <th>unitstaytype</th>\n",
       "      <th>admissionweight</th>\n",
       "      <th>dischargeweight</th>\n",
       "      <th>unitdischargetime24</th>\n",
       "      <th>unitdischargeoffset</th>\n",
       "      <th>unitdischargelocation</th>\n",
       "      <th>unitdischargestatus</th>\n",
       "      <th>uniquepid</th>\n",
       "    </tr>\n",
       "  </thead>\n",
       "  <tbody>\n",
       "    <tr>\n",
       "      <th>0</th>\n",
       "      <td>141168</td>\n",
       "      <td>128919</td>\n",
       "      <td>Female</td>\n",
       "      <td>70</td>\n",
       "      <td>Caucasian</td>\n",
       "      <td>59</td>\n",
       "      <td>91</td>\n",
       "      <td>Rhythm disturbance (atrial, supraventricular)</td>\n",
       "      <td>152.4</td>\n",
       "      <td>15:54:00</td>\n",
       "      <td>...</td>\n",
       "      <td>Direct Admit</td>\n",
       "      <td>1</td>\n",
       "      <td>admit</td>\n",
       "      <td>84.3</td>\n",
       "      <td>85.8</td>\n",
       "      <td>03:50:00</td>\n",
       "      <td>3596</td>\n",
       "      <td>Death</td>\n",
       "      <td>Expired</td>\n",
       "      <td>002-34851</td>\n",
       "    </tr>\n",
       "    <tr>\n",
       "      <th>1</th>\n",
       "      <td>141178</td>\n",
       "      <td>128927</td>\n",
       "      <td>Female</td>\n",
       "      <td>52</td>\n",
       "      <td>Caucasian</td>\n",
       "      <td>60</td>\n",
       "      <td>83</td>\n",
       "      <td>NaN</td>\n",
       "      <td>162.6</td>\n",
       "      <td>08:56:00</td>\n",
       "      <td>...</td>\n",
       "      <td>Emergency Department</td>\n",
       "      <td>1</td>\n",
       "      <td>admit</td>\n",
       "      <td>54.4</td>\n",
       "      <td>54.4</td>\n",
       "      <td>09:18:00</td>\n",
       "      <td>8</td>\n",
       "      <td>Step-Down Unit (SDU)</td>\n",
       "      <td>Alive</td>\n",
       "      <td>002-33870</td>\n",
       "    </tr>\n",
       "    <tr>\n",
       "      <th>2</th>\n",
       "      <td>141179</td>\n",
       "      <td>128927</td>\n",
       "      <td>Female</td>\n",
       "      <td>52</td>\n",
       "      <td>Caucasian</td>\n",
       "      <td>60</td>\n",
       "      <td>83</td>\n",
       "      <td>NaN</td>\n",
       "      <td>162.6</td>\n",
       "      <td>08:56:00</td>\n",
       "      <td>...</td>\n",
       "      <td>ICU to SDU</td>\n",
       "      <td>2</td>\n",
       "      <td>stepdown/other</td>\n",
       "      <td>NaN</td>\n",
       "      <td>60.4</td>\n",
       "      <td>19:20:00</td>\n",
       "      <td>2042</td>\n",
       "      <td>Home</td>\n",
       "      <td>Alive</td>\n",
       "      <td>002-33870</td>\n",
       "    </tr>\n",
       "    <tr>\n",
       "      <th>3</th>\n",
       "      <td>141194</td>\n",
       "      <td>128941</td>\n",
       "      <td>Male</td>\n",
       "      <td>68</td>\n",
       "      <td>Caucasian</td>\n",
       "      <td>73</td>\n",
       "      <td>92</td>\n",
       "      <td>Sepsis, renal/UTI (including bladder)</td>\n",
       "      <td>180.3</td>\n",
       "      <td>18:18:40</td>\n",
       "      <td>...</td>\n",
       "      <td>Floor</td>\n",
       "      <td>1</td>\n",
       "      <td>admit</td>\n",
       "      <td>73.9</td>\n",
       "      <td>76.7</td>\n",
       "      <td>15:31:00</td>\n",
       "      <td>4813</td>\n",
       "      <td>Floor</td>\n",
       "      <td>Alive</td>\n",
       "      <td>002-5276</td>\n",
       "    </tr>\n",
       "    <tr>\n",
       "      <th>4</th>\n",
       "      <td>141196</td>\n",
       "      <td>128943</td>\n",
       "      <td>Male</td>\n",
       "      <td>71</td>\n",
       "      <td>Caucasian</td>\n",
       "      <td>67</td>\n",
       "      <td>109</td>\n",
       "      <td>NaN</td>\n",
       "      <td>162.6</td>\n",
       "      <td>20:21:00</td>\n",
       "      <td>...</td>\n",
       "      <td>ICU to SDU</td>\n",
       "      <td>2</td>\n",
       "      <td>stepdown/other</td>\n",
       "      <td>NaN</td>\n",
       "      <td>63.2</td>\n",
       "      <td>22:23:00</td>\n",
       "      <td>1463</td>\n",
       "      <td>Floor</td>\n",
       "      <td>Alive</td>\n",
       "      <td>002-37665</td>\n",
       "    </tr>\n",
       "  </tbody>\n",
       "</table>\n",
       "<p>5 rows × 29 columns</p>\n",
       "</div>"
      ],
      "text/plain": [
       "   patientunitstayid  patienthealthsystemstayid  gender age  ethnicity  \\\n",
       "0             141168                     128919  Female  70  Caucasian   \n",
       "1             141178                     128927  Female  52  Caucasian   \n",
       "2             141179                     128927  Female  52  Caucasian   \n",
       "3             141194                     128941    Male  68  Caucasian   \n",
       "4             141196                     128943    Male  71  Caucasian   \n",
       "\n",
       "   hospitalid  wardid                              apacheadmissiondx  \\\n",
       "0          59      91  Rhythm disturbance (atrial, supraventricular)   \n",
       "1          60      83                                            NaN   \n",
       "2          60      83                                            NaN   \n",
       "3          73      92          Sepsis, renal/UTI (including bladder)   \n",
       "4          67     109                                            NaN   \n",
       "\n",
       "   admissionheight hospitaladmittime24  ...       unitadmitsource  \\\n",
       "0            152.4            15:54:00  ...          Direct Admit   \n",
       "1            162.6            08:56:00  ...  Emergency Department   \n",
       "2            162.6            08:56:00  ...            ICU to SDU   \n",
       "3            180.3            18:18:40  ...                 Floor   \n",
       "4            162.6            20:21:00  ...            ICU to SDU   \n",
       "\n",
       "  unitvisitnumber    unitstaytype admissionweight  dischargeweight  \\\n",
       "0               1           admit            84.3             85.8   \n",
       "1               1           admit            54.4             54.4   \n",
       "2               2  stepdown/other             NaN             60.4   \n",
       "3               1           admit            73.9             76.7   \n",
       "4               2  stepdown/other             NaN             63.2   \n",
       "\n",
       "  unitdischargetime24 unitdischargeoffset unitdischargelocation  \\\n",
       "0            03:50:00                3596                 Death   \n",
       "1            09:18:00                   8  Step-Down Unit (SDU)   \n",
       "2            19:20:00                2042                  Home   \n",
       "3            15:31:00                4813                 Floor   \n",
       "4            22:23:00                1463                 Floor   \n",
       "\n",
       "  unitdischargestatus  uniquepid  \n",
       "0             Expired  002-34851  \n",
       "1               Alive  002-33870  \n",
       "2               Alive  002-33870  \n",
       "3               Alive   002-5276  \n",
       "4               Alive  002-37665  \n",
       "\n",
       "[5 rows x 29 columns]"
      ]
     },
     "execution_count": 72,
     "metadata": {},
     "output_type": "execute_result"
    }
   ],
   "source": [
    "edat = pd.read_csv('/Users/grovesdixon/projects/Insight/icu_project/eicu-collaborative-research-database-2.0/patient.csv.gz')\n",
    "edat.head()\n",
    "\n"
   ]
  },
  {
   "cell_type": "code",
   "execution_count": 73,
   "metadata": {},
   "outputs": [
    {
     "name": "stdout",
     "output_type": "stream",
     "text": [
      "mean = 83.93392025675978\n"
     ]
    },
    {
     "data": {
      "image/png": "[encoded data removed]",
      "text/plain": [
       "<Figure size 432x288 with 1 Axes>"
      ]
     },
     "metadata": {},
     "output_type": "display_data"
    }
   ],
   "source": [
    "w = edat.loc[edat['admissionweight'].notna()]\n",
    "len(w)\n",
    "plt.hist(w['admissionweight'], range = [0,600])\n",
    "plt.xlabel(\"admission weights (kg)\")\n",
    "print('mean = {}'.format(np.mean(edat['admissionweight'])))"
   ]
  },
  {
   "cell_type": "code",
   "execution_count": 87,
   "metadata": {},
   "outputs": [
    {
     "data": {
      "image/png": "[encoded data removed]",
      "text/plain": [
       "<Figure size 432x288 with 2 Axes>"
      ]
     },
     "metadata": {},
     "output_type": "display_data"
    }
   ],
   "source": [
    "#plot together\n",
    "fig, axs = plt.subplots(1, 2, sharey=False, sharex=True, tight_layout=True)\n",
    "n_bins = 20\n",
    "plt.xlim([0,300])\n",
    "axs[0].hist(w['admissionweight'], bins=n_bins)\n",
    "axs[1].hist(df['valuenum'], bins=n_bins);"
   ]
  },
  {
   "cell_type": "code",
   "execution_count": null,
   "metadata": {},
   "outputs": [],
   "source": []
  }
 ],
 "metadata": {
  "kernelspec": {
   "display_name": "Python 3",
   "language": "python",
   "name": "python3"
  },
  "language_info": {
   "codemirror_mode": {
    "name": "ipython",
    "version": 3
   },
   "file_extension": ".py",
   "mimetype": "text/x-python",
   "name": "python",
   "nbconvert_exporter": "python",
   "pygments_lexer": "ipython3",
   "version": "3.8.2"
  }
 },
 "nbformat": 4,
 "nbformat_minor": 4
}

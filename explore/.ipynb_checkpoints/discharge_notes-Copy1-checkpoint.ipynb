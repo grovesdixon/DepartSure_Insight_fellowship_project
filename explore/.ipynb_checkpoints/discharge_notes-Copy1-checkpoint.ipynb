{
 "cells": [
  {
   "cell_type": "markdown",
   "metadata": {},
   "source": [
    "# discharge notes"
   ]
  },
  {
   "cell_type": "code",
   "execution_count": 164,
   "metadata": {},
   "outputs": [
    {
     "name": "stdout",
     "output_type": "stream",
     "text": [
      "\n",
      "Configured for local MIMIC database:\n",
      "\tuser = postgres\n",
      "\tdbname = mimic\n",
      "\thost = localhost\n",
      "\tschema_name = mimiciii\n",
      "\tquery_schema = SET search_path to mimiciii;\n"
     ]
    }
   ],
   "source": [
    "#configure for local eicu databse\n",
    "import nltk\n",
    "import os\n",
    "os.chdir('/Users/grovesdixon/gitreps/Insight_fellowship_project/')\n",
    "exec(open(\"./merge/configure_mimic.py\").read())"
   ]
  },
  {
   "cell_type": "markdown",
   "metadata": {},
   "source": [
    "### load noteevents"
   ]
  },
  {
   "cell_type": "code",
   "execution_count": 172,
   "metadata": {},
   "outputs": [
    {
     "data": {
      "text/html": [
       "<div>\n",
       "<style scoped>\n",
       "    .dataframe tbody tr th:only-of-type {\n",
       "        vertical-align: middle;\n",
       "    }\n",
       "\n",
       "    .dataframe tbody tr th {\n",
       "        vertical-align: top;\n",
       "    }\n",
       "\n",
       "    .dataframe thead th {\n",
       "        text-align: right;\n",
       "    }\n",
       "</style>\n",
       "<table border=\"1\" class=\"dataframe\">\n",
       "  <thead>\n",
       "    <tr style=\"text-align: right;\">\n",
       "      <th></th>\n",
       "      <th>hadm_id</th>\n",
       "      <th>text</th>\n",
       "    </tr>\n",
       "  </thead>\n",
       "  <tbody>\n",
       "    <tr>\n",
       "      <th>0</th>\n",
       "      <td>167853</td>\n",
       "      <td>Admission Date:  [**2151-7-16**]       Dischar...</td>\n",
       "    </tr>\n",
       "    <tr>\n",
       "      <th>1</th>\n",
       "      <td>107527</td>\n",
       "      <td>Admission Date:  [**2118-6-2**]       Discharg...</td>\n",
       "    </tr>\n",
       "    <tr>\n",
       "      <th>2</th>\n",
       "      <td>167118</td>\n",
       "      <td>Admission Date:  [**2119-5-4**]              D...</td>\n",
       "    </tr>\n",
       "    <tr>\n",
       "      <th>3</th>\n",
       "      <td>196489</td>\n",
       "      <td>Admission Date:  [**2124-7-21**]              ...</td>\n",
       "    </tr>\n",
       "    <tr>\n",
       "      <th>4</th>\n",
       "      <td>135453</td>\n",
       "      <td>Admission Date:  [**2162-3-3**]              D...</td>\n",
       "    </tr>\n",
       "  </tbody>\n",
       "</table>\n",
       "</div>"
      ],
      "text/plain": [
       "   hadm_id                                               text\n",
       "0   167853  Admission Date:  [**2151-7-16**]       Dischar...\n",
       "1   107527  Admission Date:  [**2118-6-2**]       Discharg...\n",
       "2   167118  Admission Date:  [**2119-5-4**]              D...\n",
       "3   196489  Admission Date:  [**2124-7-21**]              ...\n",
       "4   135453  Admission Date:  [**2162-3-3**]              D..."
      ]
     },
     "execution_count": 172,
     "metadata": {},
     "output_type": "execute_result"
    }
   ],
   "source": [
    "query = query_schema + 'select * from noteevents'\n",
    "\n",
    "query = query_schema + \"\"\"\n",
    "select \n",
    "    hadm_id,\n",
    "    text\n",
    "from noteevents\n",
    "where category = 'Discharge summary';\n",
    "\"\"\"\n",
    "\n",
    "df = pd.read_sql_query(query,con)\n",
    "df.head()"
   ]
  },
  {
   "cell_type": "markdown",
   "metadata": {},
   "source": [
    "### clean the text"
   ]
  },
  {
   "cell_type": "code",
   "execution_count": 215,
   "metadata": {},
   "outputs": [],
   "source": [
    "ctext = df['text']\n",
    "ctext = pd.Series([x.lower() for x in ctext])\n",
    "replacements = {'\\[\\*\\*.*\\*\\*\\]': 'REMOVEDTEXT'}\n",
    "ctext = ctext.replace(replacements, regex=True)\n",
    "df['text'] = ctext\n",
    "df.head()\n",
    "to_see = df.replace('\\n', '', regex=True)\n",
    "to_see.loc[to_see.index[0:100], :].to_csv('~/Desktop/sample.tsv', sep='\\t')"
   ]
  },
  {
   "cell_type": "markdown",
   "metadata": {},
   "source": [
    "### pull elements"
   ]
  },
  {
   "cell_type": "code",
   "execution_count": 205,
   "metadata": {},
   "outputs": [
    {
     "name": "stdout",
     "output_type": "stream",
     "text": [
      "chief complaint:...\n",
      "\t41370 instances detected out of 59652 rows\n"
     ]
    },
    {
     "data": {
      "text/html": [
       "<div>\n",
       "<style scoped>\n",
       "    .dataframe tbody tr th:only-of-type {\n",
       "        vertical-align: middle;\n",
       "    }\n",
       "\n",
       "    .dataframe tbody tr th {\n",
       "        vertical-align: top;\n",
       "    }\n",
       "\n",
       "    .dataframe thead th {\n",
       "        text-align: right;\n",
       "    }\n",
       "</style>\n",
       "<table border=\"1\" class=\"dataframe\">\n",
       "  <thead>\n",
       "    <tr style=\"text-align: right;\">\n",
       "      <th></th>\n",
       "      <th>hadm_id</th>\n",
       "      <th>text</th>\n",
       "      <th>chief complaint</th>\n",
       "    </tr>\n",
       "  </thead>\n",
       "  <tbody>\n",
       "    <tr>\n",
       "      <th>2</th>\n",
       "      <td>167118</td>\n",
       "      <td>admission date:  [**2119-5-4**]              d...</td>\n",
       "      <td></td>\n",
       "    </tr>\n",
       "    <tr>\n",
       "      <th>3</th>\n",
       "      <td>196489</td>\n",
       "      <td>admission date:  [**2124-7-21**]              ...</td>\n",
       "      <td></td>\n",
       "    </tr>\n",
       "    <tr>\n",
       "      <th>4</th>\n",
       "      <td>135453</td>\n",
       "      <td>admission date:  [**2162-3-3**]              d...</td>\n",
       "      <td></td>\n",
       "    </tr>\n",
       "    <tr>\n",
       "      <th>5</th>\n",
       "      <td>170490</td>\n",
       "      <td>admission date:  [**2172-3-5**]              d...</td>\n",
       "      <td></td>\n",
       "    </tr>\n",
       "    <tr>\n",
       "      <th>6</th>\n",
       "      <td>134727</td>\n",
       "      <td>admission date:  [**2112-12-8**]              ...</td>\n",
       "      <td></td>\n",
       "    </tr>\n",
       "    <tr>\n",
       "      <th>...</th>\n",
       "      <td>...</td>\n",
       "      <td>...</td>\n",
       "      <td>...</td>\n",
       "    </tr>\n",
       "    <tr>\n",
       "      <th>59643</th>\n",
       "      <td>100442</td>\n",
       "      <td>admission date:  [**2119-6-7**]              d...</td>\n",
       "      <td></td>\n",
       "    </tr>\n",
       "    <tr>\n",
       "      <th>59644</th>\n",
       "      <td>191381</td>\n",
       "      <td>admission date:  [**2108-5-9**]              d...</td>\n",
       "      <td></td>\n",
       "    </tr>\n",
       "    <tr>\n",
       "      <th>59647</th>\n",
       "      <td>144407</td>\n",
       "      <td>admission date:  [**2199-3-18**]              ...</td>\n",
       "      <td></td>\n",
       "    </tr>\n",
       "    <tr>\n",
       "      <th>59648</th>\n",
       "      <td>139033</td>\n",
       "      <td>admission date:  [**2200-4-25**]              ...</td>\n",
       "      <td></td>\n",
       "    </tr>\n",
       "    <tr>\n",
       "      <th>59649</th>\n",
       "      <td>188268</td>\n",
       "      <td>admission date:  [**2200-10-21**]             ...</td>\n",
       "      <td></td>\n",
       "    </tr>\n",
       "  </tbody>\n",
       "</table>\n",
       "<p>41370 rows × 3 columns</p>\n",
       "</div>"
      ],
      "text/plain": [
       "       hadm_id                                               text  \\\n",
       "2       167118  admission date:  [**2119-5-4**]              d...   \n",
       "3       196489  admission date:  [**2124-7-21**]              ...   \n",
       "4       135453  admission date:  [**2162-3-3**]              d...   \n",
       "5       170490  admission date:  [**2172-3-5**]              d...   \n",
       "6       134727  admission date:  [**2112-12-8**]              ...   \n",
       "...        ...                                                ...   \n",
       "59643   100442  admission date:  [**2119-6-7**]              d...   \n",
       "59644   191381  admission date:  [**2108-5-9**]              d...   \n",
       "59647   144407  admission date:  [**2199-3-18**]              ...   \n",
       "59648   139033  admission date:  [**2200-4-25**]              ...   \n",
       "59649   188268  admission date:  [**2200-10-21**]             ...   \n",
       "\n",
       "      chief complaint  \n",
       "2                      \n",
       "3                      \n",
       "4                      \n",
       "5                      \n",
       "6                      \n",
       "...               ...  \n",
       "59643                  \n",
       "59644                  \n",
       "59647                  \n",
       "59648                  \n",
       "59649                  \n",
       "\n",
       "[41370 rows x 3 columns]"
      ]
     },
     "execution_count": 205,
     "metadata": {},
     "output_type": "execute_result"
    }
   ],
   "source": [
    "#set up list of elements found in the discharge notes\n",
    "element_list = ['chief complaint:',\n",
    "               'history of present illness:']\n",
    "\n",
    "#function to split out element from the discharge notes\n",
    "def pull_text_element(series, element_left_string, right_string='\\n'):\n",
    "    split = series.str.split(pat=element_left_string, n=2)\n",
    "    s1 = [x[1] for x in split]\n",
    "    values = [x.split(right_string)[0] for x in s1]\n",
    "    return(values)\n",
    "\n",
    "#split out the text elements\n",
    "tdat = df.loc[:,['hadm_id'].copy()]\n",
    "for e in element_list:\n",
    "    #first assign presence absence\n",
    "    print('{}...'.format(e))\n",
    "    pa_col = e.replace(':', '') + '_presnt'\n",
    "    df[pa_col] = df['text'].str.contains(e)\n",
    "    print('\\t{} instances detected out of {} rows'.format(np.sum(df[pa_col]), df.shape[0]))\n",
    "    #then merge in the element values if the element was present\n",
    "    esub = df.loc[df[pa_col], ['hadm_id', 'text']]\n",
    "    v_col = e.replace(':', '')\n",
    "    esub[v_col] = pull_text_element(esub['text'], e)\n",
    "    esub = esub.loc[:,['hadm_id', v_col]]\n",
    "    tdat = pd.merge(tdat, esub, how = 'left', on='hadm_id')\n",
    "tdat.index = tdat['hadm_id']\n",
    "tdat = tdat.drop('hadm_id', 1)\n",
    "tdat"
   ]
  },
  {
   "cell_type": "code",
   "execution_count": null,
   "metadata": {},
   "outputs": [],
   "source": []
  },
  {
   "cell_type": "code",
   "execution_count": null,
   "metadata": {},
   "outputs": [],
   "source": []
  },
  {
   "cell_type": "markdown",
   "metadata": {},
   "source": [
    "# get word frequencies "
   ]
  },
  {
   "cell_type": "markdown",
   "metadata": {},
   "source": [
    "### get tokens"
   ]
  },
  {
   "cell_type": "code",
   "execution_count": 199,
   "metadata": {},
   "outputs": [
    {
     "data": {
      "text/plain": [
       "hadm_id\n",
       "167853    [nan]\n",
       "107527    [nan]\n",
       "167118       []\n",
       "196489       []\n",
       "135453       []\n",
       "          ...  \n",
       "144407       []\n",
       "139033       []\n",
       "188268       []\n",
       "100195    [nan]\n",
       "127864    [nan]\n",
       "Name: chief complaint, Length: 66076, dtype: object"
      ]
     },
     "execution_count": 199,
     "metadata": {},
     "output_type": "execute_result"
    }
   ],
   "source": [
    "token_df = tdat.copy()\n",
    "token_df.columns\n",
    "c='chief complaint'\n",
    "token_df[c] = token_df[c].apply(lambda x : [t for t in str(x).split()])\n",
    "token_df[c]"
   ]
  },
  {
   "cell_type": "code",
   "execution_count": 190,
   "metadata": {},
   "outputs": [
    {
     "ename": "TypeError",
     "evalue": "'Series' object is not callable",
     "output_type": "error",
     "traceback": [
      "\u001b[0;31m---------------------------------------------------------------------------\u001b[0m",
      "\u001b[0;31mTypeError\u001b[0m                                 Traceback (most recent call last)",
      "\u001b[0;32m<ipython-input-190-74cd12ce5bdf>\u001b[0m in \u001b[0;36m<module>\u001b[0;34m\u001b[0m\n\u001b[0;32m----> 1\u001b[0;31m \u001b[0mprint\u001b[0m\u001b[0;34m(\u001b[0m\u001b[0mtdat\u001b[0m\u001b[0;34m.\u001b[0m\u001b[0mdtypes\u001b[0m\u001b[0;34m(\u001b[0m\u001b[0;34m)\u001b[0m\u001b[0;34m)\u001b[0m\u001b[0;34m\u001b[0m\u001b[0;34m\u001b[0m\u001b[0m\n\u001b[0m\u001b[1;32m      2\u001b[0m \u001b[0;31m#function to clean the tokens\u001b[0m\u001b[0;34m\u001b[0m\u001b[0;34m\u001b[0m\u001b[0;34m\u001b[0m\u001b[0m\n\u001b[1;32m      3\u001b[0m \u001b[0;32mdef\u001b[0m \u001b[0mclean_tokens\u001b[0m\u001b[0;34m(\u001b[0m\u001b[0mx\u001b[0m\u001b[0;34m)\u001b[0m\u001b[0;34m:\u001b[0m\u001b[0;34m\u001b[0m\u001b[0;34m\u001b[0m\u001b[0m\n\u001b[1;32m      4\u001b[0m     \u001b[0mclean_tokens\u001b[0m\u001b[0;34m=\u001b[0m\u001b[0mx\u001b[0m\u001b[0;34m[\u001b[0m\u001b[0;34m:\u001b[0m\u001b[0;34m]\u001b[0m\u001b[0;34m\u001b[0m\u001b[0;34m\u001b[0m\u001b[0m\n\u001b[1;32m      5\u001b[0m     \u001b[0;32mfor\u001b[0m \u001b[0mtoken\u001b[0m \u001b[0;32min\u001b[0m \u001b[0mx\u001b[0m\u001b[0;34m:\u001b[0m\u001b[0;34m\u001b[0m\u001b[0;34m\u001b[0m\u001b[0m\n",
      "\u001b[0;31mTypeError\u001b[0m: 'Series' object is not callable"
     ]
    }
   ],
   "source": [
    "\n",
    "#function to clean the tokens\n",
    "def clean_tokens(x):\n",
    "    clean_tokens=x[:]\n",
    "    for token in x:\n",
    "        if token in stopwords.words('english'):\n",
    "            clean_tokens.remove(token)\n",
    "    return(clean_tokens)\n",
    "\n",
    "#tokenize\n",
    "token_df = tdat.copy()\n",
    "all_tokens = {}\n",
    "for c in token_df.columns:\n",
    "    all_tokens[c] = []\n",
    "    token_df[c] = token_df[c].apply(lambda x : [t for t in x.split()])\n",
    "    token_df[c] = token_df[c].apply(clean_tokens) \n",
    "    c_tokens = list(set([a for b in token_df[c].tolist() for a in b]))\n",
    "    all_tokens[c] = c_tokens\n",
    "token_df\n",
    "\n",
    "\n"
   ]
  },
  {
   "cell_type": "code",
   "execution_count": null,
   "metadata": {},
   "outputs": [],
   "source": []
  }
 ],
 "metadata": {
  "kernelspec": {
   "display_name": "Python 3",
   "language": "python",
   "name": "python3"
  },
  "language_info": {
   "codemirror_mode": {
    "name": "ipython",
    "version": 3
   },
   "file_extension": ".py",
   "mimetype": "text/x-python",
   "name": "python",
   "nbconvert_exporter": "python",
   "pygments_lexer": "ipython3",
   "version": "3.7.6"
  }
 },
 "nbformat": 4,
 "nbformat_minor": 4
}

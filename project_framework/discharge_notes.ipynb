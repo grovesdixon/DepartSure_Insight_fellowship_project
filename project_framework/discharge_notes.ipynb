{
 "cells": [
  {
   "cell_type": "markdown",
   "metadata": {},
   "source": [
    "# discharge notes"
   ]
  },
  {
   "cell_type": "code",
   "execution_count": 1,
   "metadata": {},
   "outputs": [
    {
     "name": "stdout",
     "output_type": "stream",
     "text": [
      "/Users/grovesdixon/gitreps/Insight_fellowship_project/project_framework\n",
      "\n",
      "Configured for local MIMIC database:\n",
      "\tuser = postgres\n",
      "\tdbname = mimic\n",
      "\thost = localhost\n",
      "\tschema_name = mimiciii\n",
      "\tquery_schema = SET search_path to mimiciii;\n",
      "\n",
      "Configured for my local MIMIC database (modified tables):\n",
      "\tmy_username = postgres\n",
      "\tmy_dbname = mimic\n",
      "\thost = localhost\n",
      "\tmy_schema_name = my_mimic_db\n",
      "\tmy_schema = SET search_path to my_mimic_db;\n"
     ]
    }
   ],
   "source": [
    "#configure for local eicu databse\n",
    "import nltk\n",
    "import os\n",
    "print(os.getcwd())\n",
    "#configure for local mimic databse\n",
    "exec(open(\"../configs/configure_mimic.py\").read())\n",
    "exec(open(\"my_functions.py\").read())"
   ]
  },
  {
   "cell_type": "markdown",
   "metadata": {},
   "source": [
    "### load noteevents"
   ]
  },
  {
   "cell_type": "code",
   "execution_count": 2,
   "metadata": {},
   "outputs": [
    {
     "data": {
      "text/html": [
       "<div>\n",
       "<style scoped>\n",
       "    .dataframe tbody tr th:only-of-type {\n",
       "        vertical-align: middle;\n",
       "    }\n",
       "\n",
       "    .dataframe tbody tr th {\n",
       "        vertical-align: top;\n",
       "    }\n",
       "\n",
       "    .dataframe thead th {\n",
       "        text-align: right;\n",
       "    }\n",
       "</style>\n",
       "<table border=\"1\" class=\"dataframe\">\n",
       "  <thead>\n",
       "    <tr style=\"text-align: right;\">\n",
       "      <th></th>\n",
       "      <th>hadm_id</th>\n",
       "      <th>text</th>\n",
       "    </tr>\n",
       "  </thead>\n",
       "  <tbody>\n",
       "    <tr>\n",
       "      <th>0</th>\n",
       "      <td>167853</td>\n",
       "      <td>Admission Date:  [**2151-7-16**]       Dischar...</td>\n",
       "    </tr>\n",
       "    <tr>\n",
       "      <th>1</th>\n",
       "      <td>107527</td>\n",
       "      <td>Admission Date:  [**2118-6-2**]       Discharg...</td>\n",
       "    </tr>\n",
       "    <tr>\n",
       "      <th>2</th>\n",
       "      <td>167118</td>\n",
       "      <td>Admission Date:  [**2119-5-4**]              D...</td>\n",
       "    </tr>\n",
       "    <tr>\n",
       "      <th>3</th>\n",
       "      <td>196489</td>\n",
       "      <td>Admission Date:  [**2124-7-21**]              ...</td>\n",
       "    </tr>\n",
       "    <tr>\n",
       "      <th>4</th>\n",
       "      <td>135453</td>\n",
       "      <td>Admission Date:  [**2162-3-3**]              D...</td>\n",
       "    </tr>\n",
       "  </tbody>\n",
       "</table>\n",
       "</div>"
      ],
      "text/plain": [
       "   hadm_id                                               text\n",
       "0   167853  Admission Date:  [**2151-7-16**]       Dischar...\n",
       "1   107527  Admission Date:  [**2118-6-2**]       Discharg...\n",
       "2   167118  Admission Date:  [**2119-5-4**]              D...\n",
       "3   196489  Admission Date:  [**2124-7-21**]              ...\n",
       "4   135453  Admission Date:  [**2162-3-3**]              D..."
      ]
     },
     "execution_count": 2,
     "metadata": {},
     "output_type": "execute_result"
    }
   ],
   "source": [
    "query = query_schema + 'select * from noteevents'\n",
    "\n",
    "query = query_schema + \"\"\"\n",
    "select \n",
    "    hadm_id,\n",
    "    text\n",
    "from noteevents\n",
    "where category = 'Discharge summary';\n",
    "\"\"\"\n",
    "\n",
    "df = pd.read_sql_query(query,con)\n",
    "df.head()"
   ]
  },
  {
   "cell_type": "markdown",
   "metadata": {},
   "source": [
    "### clean the text\n",
    "remove frequent endlines and bracketted strings for protected information"
   ]
  },
  {
   "cell_type": "code",
   "execution_count": 3,
   "metadata": {},
   "outputs": [
    {
     "data": {
      "text/html": [
       "<div>\n",
       "<style scoped>\n",
       "    .dataframe tbody tr th:only-of-type {\n",
       "        vertical-align: middle;\n",
       "    }\n",
       "\n",
       "    .dataframe tbody tr th {\n",
       "        vertical-align: top;\n",
       "    }\n",
       "\n",
       "    .dataframe thead th {\n",
       "        text-align: right;\n",
       "    }\n",
       "</style>\n",
       "<table border=\"1\" class=\"dataframe\">\n",
       "  <thead>\n",
       "    <tr style=\"text-align: right;\">\n",
       "      <th></th>\n",
       "      <th>hadm_id</th>\n",
       "      <th>text</th>\n",
       "    </tr>\n",
       "  </thead>\n",
       "  <tbody>\n",
       "    <tr>\n",
       "      <th>0</th>\n",
       "      <td>167853</td>\n",
       "      <td>admission date:  REMOVEDTEXT   service: addend...</td>\n",
       "    </tr>\n",
       "    <tr>\n",
       "      <th>1</th>\n",
       "      <td>107527</td>\n",
       "      <td>admission date:  REMOVEDTEXT  date of birth:  ...</td>\n",
       "    </tr>\n",
       "    <tr>\n",
       "      <th>2</th>\n",
       "      <td>167118</td>\n",
       "      <td>admission date:  REMOVEDTEXT   service: cardio...</td>\n",
       "    </tr>\n",
       "    <tr>\n",
       "      <th>3</th>\n",
       "      <td>196489</td>\n",
       "      <td>admission date:  REMOVEDTEXT   service: medici...</td>\n",
       "    </tr>\n",
       "    <tr>\n",
       "      <th>4</th>\n",
       "      <td>135453</td>\n",
       "      <td>admission date:  REMOVEDTEXT  date of birth:  ...</td>\n",
       "    </tr>\n",
       "  </tbody>\n",
       "</table>\n",
       "</div>"
      ],
      "text/plain": [
       "   hadm_id                                               text\n",
       "0   167853  admission date:  REMOVEDTEXT   service: addend...\n",
       "1   107527  admission date:  REMOVEDTEXT  date of birth:  ...\n",
       "2   167118  admission date:  REMOVEDTEXT   service: cardio...\n",
       "3   196489  admission date:  REMOVEDTEXT   service: medici...\n",
       "4   135453  admission date:  REMOVEDTEXT  date of birth:  ..."
      ]
     },
     "execution_count": 3,
     "metadata": {},
     "output_type": "execute_result"
    }
   ],
   "source": [
    "ctext = df['text']\n",
    "ctext = pd.Series([x.lower() for x in ctext])\n",
    "replacements = {'\\[\\*\\*.*\\*\\*\\]': 'REMOVEDTEXT',\n",
    "               '\\n': ' '}\n",
    "ctext = ctext.replace(replacements, regex=True)\n",
    "df['text'] = ctext\n",
    "df.head()"
   ]
  },
  {
   "cell_type": "markdown",
   "metadata": {},
   "source": [
    "### call presence of elements\n",
    "There are particular elements that appear in the notes, but are not always present. Will use the presence of these as potential features."
   ]
  },
  {
   "cell_type": "code",
   "execution_count": 4,
   "metadata": {},
   "outputs": [
    {
     "name": "stdout",
     "output_type": "stream",
     "text": [
      "admission date:...\n",
      "\t59585 instances detected out of 59652 rows\n",
      "chief complaint:...\n",
      "\t41370 instances detected out of 59652 rows\n",
      "sex:...\n",
      "\t51905 instances detected out of 59652 rows\n",
      "history of present illness:...\n",
      "\t50578 instances detected out of 59652 rows\n"
     ]
    },
    {
     "data": {
      "text/html": [
       "<div>\n",
       "<style scoped>\n",
       "    .dataframe tbody tr th:only-of-type {\n",
       "        vertical-align: middle;\n",
       "    }\n",
       "\n",
       "    .dataframe tbody tr th {\n",
       "        vertical-align: top;\n",
       "    }\n",
       "\n",
       "    .dataframe thead th {\n",
       "        text-align: right;\n",
       "    }\n",
       "</style>\n",
       "<table border=\"1\" class=\"dataframe\">\n",
       "  <thead>\n",
       "    <tr style=\"text-align: right;\">\n",
       "      <th></th>\n",
       "      <th>hadm_id</th>\n",
       "      <th>text</th>\n",
       "      <th>admission date_presnt</th>\n",
       "      <th>chief complaint_presnt</th>\n",
       "      <th>sex_presnt</th>\n",
       "      <th>history of present illness_presnt</th>\n",
       "    </tr>\n",
       "  </thead>\n",
       "  <tbody>\n",
       "    <tr>\n",
       "      <th>0</th>\n",
       "      <td>167853</td>\n",
       "      <td>admission date:  REMOVEDTEXT   service: addend...</td>\n",
       "      <td>1</td>\n",
       "      <td>0</td>\n",
       "      <td>0</td>\n",
       "      <td>0</td>\n",
       "    </tr>\n",
       "    <tr>\n",
       "      <th>1</th>\n",
       "      <td>107527</td>\n",
       "      <td>admission date:  REMOVEDTEXT  date of birth:  ...</td>\n",
       "      <td>1</td>\n",
       "      <td>0</td>\n",
       "      <td>1</td>\n",
       "      <td>1</td>\n",
       "    </tr>\n",
       "    <tr>\n",
       "      <th>2</th>\n",
       "      <td>167118</td>\n",
       "      <td>admission date:  REMOVEDTEXT   service: cardio...</td>\n",
       "      <td>1</td>\n",
       "      <td>1</td>\n",
       "      <td>0</td>\n",
       "      <td>1</td>\n",
       "    </tr>\n",
       "    <tr>\n",
       "      <th>3</th>\n",
       "      <td>196489</td>\n",
       "      <td>admission date:  REMOVEDTEXT   service: medici...</td>\n",
       "      <td>1</td>\n",
       "      <td>1</td>\n",
       "      <td>0</td>\n",
       "      <td>1</td>\n",
       "    </tr>\n",
       "    <tr>\n",
       "      <th>4</th>\n",
       "      <td>135453</td>\n",
       "      <td>admission date:  REMOVEDTEXT  date of birth:  ...</td>\n",
       "      <td>1</td>\n",
       "      <td>1</td>\n",
       "      <td>1</td>\n",
       "      <td>1</td>\n",
       "    </tr>\n",
       "  </tbody>\n",
       "</table>\n",
       "</div>"
      ],
      "text/plain": [
       "   hadm_id                                               text  \\\n",
       "0   167853  admission date:  REMOVEDTEXT   service: addend...   \n",
       "1   107527  admission date:  REMOVEDTEXT  date of birth:  ...   \n",
       "2   167118  admission date:  REMOVEDTEXT   service: cardio...   \n",
       "3   196489  admission date:  REMOVEDTEXT   service: medici...   \n",
       "4   135453  admission date:  REMOVEDTEXT  date of birth:  ...   \n",
       "\n",
       "   admission date_presnt  chief complaint_presnt  sex_presnt  \\\n",
       "0                      1                       0           0   \n",
       "1                      1                       0           1   \n",
       "2                      1                       1           0   \n",
       "3                      1                       1           0   \n",
       "4                      1                       1           1   \n",
       "\n",
       "   history of present illness_presnt  \n",
       "0                                  0  \n",
       "1                                  1  \n",
       "2                                  1  \n",
       "3                                  1  \n",
       "4                                  1  "
      ]
     },
     "execution_count": 4,
     "metadata": {},
     "output_type": "execute_result"
    }
   ],
   "source": [
    "#set up list of elements found in the discharge notes\n",
    "element_list = ['admission date:',\n",
    "                'chief complaint:',\n",
    "                'sex:',\n",
    "               'history of present illness:']\n",
    "\n",
    "\n",
    "#split out the text elements\n",
    "tdat = df.loc[:,['hadm_id'].copy()]\n",
    "for e in element_list:\n",
    "    #first assign presence absence\n",
    "    print('{}...'.format(e))\n",
    "    pa_col = e.replace(':', '') + '_presnt'\n",
    "    df[pa_col] = df['text'].str.contains(e).astype(int)\n",
    "    print('\\t{} instances detected out of {} rows'.format(np.sum(df[pa_col]), df.shape[0]))\n",
    "df.head()"
   ]
  },
  {
   "cell_type": "markdown",
   "metadata": {},
   "source": [
    "# get word frequencies "
   ]
  },
  {
   "cell_type": "code",
   "execution_count": 5,
   "metadata": {},
   "outputs": [],
   "source": [
    "#prepare data\n",
    "tdat = df.loc[:,['hadm_id', 'text']].copy()\n",
    "tdat.index = tdat['hadm_id']\n",
    "tdat = tdat.loc[~tdat.index.duplicated(keep='first')]"
   ]
  },
  {
   "cell_type": "markdown",
   "metadata": {},
   "source": [
    "### get tokens\n",
    "split notes into tokens and remove stopwords"
   ]
  },
  {
   "cell_type": "code",
   "execution_count": 6,
   "metadata": {},
   "outputs": [],
   "source": [
    "from nltk.corpus import stopwords\n",
    "\n",
    "#function to generate and clean the tokens\n",
    "def clean_tokens(x):\n",
    "    x=pd.Series(x.split(), dtype='object')\n",
    "    return list(x[~x.isin(stopwords.words('english'))])\n",
    "\n",
    "#tokenize\n",
    "token_df = tdat.copy()\n",
    "token_df['text'] = token_df['text'].apply(clean_tokens) \n",
    "token_df\n",
    "\n",
    "#gather word count as a feature\n",
    "wc_df = token_df.copy()\n",
    "wc_df['wc'] = wc_df['text'].apply(len)\n",
    "wc_df = wc_df.drop('text', 1)"
   ]
  },
  {
   "cell_type": "markdown",
   "metadata": {},
   "source": [
    "### get word frequencies"
   ]
  },
  {
   "cell_type": "code",
   "execution_count": 7,
   "metadata": {},
   "outputs": [
    {
     "name": "stdout",
     "output_type": "stream",
     "text": [
      "getting frequencies...\n"
     ]
    },
    {
     "data": {
      "text/html": [
       "<div>\n",
       "<style scoped>\n",
       "    .dataframe tbody tr th:only-of-type {\n",
       "        vertical-align: middle;\n",
       "    }\n",
       "\n",
       "    .dataframe tbody tr th {\n",
       "        vertical-align: top;\n",
       "    }\n",
       "\n",
       "    .dataframe thead th {\n",
       "        text-align: right;\n",
       "    }\n",
       "</style>\n",
       "<table border=\"1\" class=\"dataframe\">\n",
       "  <thead>\n",
       "    <tr style=\"text-align: right;\">\n",
       "      <th></th>\n",
       "      <th>hadm_id</th>\n",
       "      <th>text</th>\n",
       "    </tr>\n",
       "    <tr>\n",
       "      <th>hadm_id</th>\n",
       "      <th></th>\n",
       "      <th></th>\n",
       "    </tr>\n",
       "  </thead>\n",
       "  <tbody>\n",
       "    <tr>\n",
       "      <th>167853</th>\n",
       "      <td>167853</td>\n",
       "      <td>{'admission': 1, 'date:': 1, 'REMOVEDTEXT': 5,...</td>\n",
       "    </tr>\n",
       "    <tr>\n",
       "      <th>107527</th>\n",
       "      <td>107527</td>\n",
       "      <td>{'admission': 2, 'date:': 1, 'REMOVEDTEXT': 21...</td>\n",
       "    </tr>\n",
       "    <tr>\n",
       "      <th>167118</th>\n",
       "      <td>167118</td>\n",
       "      <td>{'admission': 2, 'date:': 1, 'REMOVEDTEXT': 35...</td>\n",
       "    </tr>\n",
       "    <tr>\n",
       "      <th>196489</th>\n",
       "      <td>196489</td>\n",
       "      <td>{'admission': 2, 'date:': 1, 'REMOVEDTEXT': 30...</td>\n",
       "    </tr>\n",
       "    <tr>\n",
       "      <th>135453</th>\n",
       "      <td>135453</td>\n",
       "      <td>{'admission': 2, 'date:': 1, 'REMOVEDTEXT': 17...</td>\n",
       "    </tr>\n",
       "  </tbody>\n",
       "</table>\n",
       "</div>"
      ],
      "text/plain": [
       "         hadm_id                                               text\n",
       "hadm_id                                                            \n",
       "167853    167853  {'admission': 1, 'date:': 1, 'REMOVEDTEXT': 5,...\n",
       "107527    107527  {'admission': 2, 'date:': 1, 'REMOVEDTEXT': 21...\n",
       "167118    167118  {'admission': 2, 'date:': 1, 'REMOVEDTEXT': 35...\n",
       "196489    196489  {'admission': 2, 'date:': 1, 'REMOVEDTEXT': 30...\n",
       "135453    135453  {'admission': 2, 'date:': 1, 'REMOVEDTEXT': 17..."
      ]
     },
     "execution_count": 7,
     "metadata": {},
     "output_type": "execute_result"
    }
   ],
   "source": [
    "#get word frequencies\n",
    "print('getting frequencies...')\n",
    "freq_df = token_df.copy()\n",
    "freq_df['text'] = freq_df['text'].apply(nltk.FreqDist)\n",
    "freq_df.head()"
   ]
  },
  {
   "cell_type": "markdown",
   "metadata": {},
   "source": [
    "### format into long df"
   ]
  },
  {
   "cell_type": "code",
   "execution_count": 8,
   "metadata": {
    "scrolled": false
   },
   "outputs": [],
   "source": [
    "#build dataframe cor column\n",
    "c='text'\n",
    "fdf_list = []\n",
    "for i in freq_df.index:\n",
    "    sub_df = pd.DataFrame.from_dict(freq_df.loc[i,c], orient='index')\n",
    "    sub_df['hadm_id'] = i\n",
    "    fdf_list.append(sub_df)\n",
    "fdat = pd.concat(fdf_list)\n",
    "fdat.columns = ['count', 'hadm_id']\n",
    "fdat['word'] = fdat.index"
   ]
  },
  {
   "cell_type": "markdown",
   "metadata": {},
   "source": [
    "### select words based on content and frequency\n",
    "also remove short words and numbers"
   ]
  },
  {
   "cell_type": "code",
   "execution_count": 9,
   "metadata": {},
   "outputs": [
    {
     "name": "stdout",
     "output_type": "stream",
     "text": [
      "starting total words = 664696\n",
      "total words appearing kept = 14085\n"
     ]
    },
    {
     "data": {
      "text/html": [
       "<div>\n",
       "<style scoped>\n",
       "    .dataframe tbody tr th:only-of-type {\n",
       "        vertical-align: middle;\n",
       "    }\n",
       "\n",
       "    .dataframe tbody tr th {\n",
       "        vertical-align: top;\n",
       "    }\n",
       "\n",
       "    .dataframe thead th {\n",
       "        text-align: right;\n",
       "    }\n",
       "</style>\n",
       "<table border=\"1\" class=\"dataframe\">\n",
       "  <thead>\n",
       "    <tr style=\"text-align: right;\">\n",
       "      <th></th>\n",
       "      <th>count</th>\n",
       "      <th>hadm_id</th>\n",
       "      <th>word</th>\n",
       "    </tr>\n",
       "  </thead>\n",
       "  <tbody>\n",
       "    <tr>\n",
       "      <th>radiologic</th>\n",
       "      <td>2</td>\n",
       "      <td>167853</td>\n",
       "      <td>radiologic</td>\n",
       "    </tr>\n",
       "    <tr>\n",
       "      <th>studies</th>\n",
       "      <td>1</td>\n",
       "      <td>167853</td>\n",
       "      <td>studies</td>\n",
       "    </tr>\n",
       "    <tr>\n",
       "      <th>included</th>\n",
       "      <td>1</td>\n",
       "      <td>167853</td>\n",
       "      <td>included</td>\n",
       "    </tr>\n",
       "    <tr>\n",
       "      <th>confirmed</th>\n",
       "      <td>1</td>\n",
       "      <td>167853</td>\n",
       "      <td>confirmed</td>\n",
       "    </tr>\n",
       "    <tr>\n",
       "      <th>cavitary</th>\n",
       "      <td>1</td>\n",
       "      <td>167853</td>\n",
       "      <td>cavitary</td>\n",
       "    </tr>\n",
       "  </tbody>\n",
       "</table>\n",
       "</div>"
      ],
      "text/plain": [
       "            count  hadm_id        word\n",
       "radiologic      2   167853  radiologic\n",
       "studies         1   167853     studies\n",
       "included        1   167853    included\n",
       "confirmed       1   167853   confirmed\n",
       "cavitary        1   167853    cavitary"
      ]
     },
     "execution_count": 9,
     "metadata": {},
     "output_type": "execute_result"
    }
   ],
   "source": [
    "word_counts = fdat['word'].value_counts()\n",
    "print('starting total words = {}'.format(len(word_counts)))\n",
    "keep = word_counts.index[(word_counts > 25) & (word_counts < 10000)].to_series()\n",
    "word_lengths = keep.str.len()\n",
    "keep = keep[word_lengths>3]\n",
    "keep = keep[~keep.str.contains('[^\\w]')]\n",
    "keep = keep[~keep.str.contains('[\\d]')]\n",
    "keep = keep[~keep.str.contains('__')]\n",
    "keep = keep[~keep.str.contains('REMOVEDTEXT')]\n",
    "\n",
    "print('total words appearing kept = {}'.format(len(keep)))\n",
    "common_fdat = fdat.loc[fdat['word'].isin(keep),:]\n",
    "common_fdat.head()"
   ]
  },
  {
   "cell_type": "markdown",
   "metadata": {},
   "source": [
    "#### pivot and convert to present absence"
   ]
  },
  {
   "cell_type": "code",
   "execution_count": 10,
   "metadata": {
    "scrolled": true
   },
   "outputs": [
    {
     "data": {
      "text/html": [
       "<div>\n",
       "<style scoped>\n",
       "    .dataframe tbody tr th:only-of-type {\n",
       "        vertical-align: middle;\n",
       "    }\n",
       "\n",
       "    .dataframe tbody tr th {\n",
       "        vertical-align: top;\n",
       "    }\n",
       "\n",
       "    .dataframe thead th {\n",
       "        text-align: right;\n",
       "    }\n",
       "</style>\n",
       "<table border=\"1\" class=\"dataframe\">\n",
       "  <thead>\n",
       "    <tr style=\"text-align: right;\">\n",
       "      <th>word</th>\n",
       "      <th>abacavir</th>\n",
       "      <th>abandoned</th>\n",
       "      <th>abated</th>\n",
       "      <th>abbreviated</th>\n",
       "      <th>abcess</th>\n",
       "      <th>abcesses</th>\n",
       "      <th>abdm</th>\n",
       "      <th>abdom</th>\n",
       "      <th>abdomenal</th>\n",
       "      <th>abdominial</th>\n",
       "      <th>...</th>\n",
       "      <th>zones</th>\n",
       "      <th>zonisamide</th>\n",
       "      <th>zoster</th>\n",
       "      <th>zosyn</th>\n",
       "      <th>zydis</th>\n",
       "      <th>zygoma</th>\n",
       "      <th>zygomatic</th>\n",
       "      <th>zyprexa</th>\n",
       "      <th>zyrtec</th>\n",
       "      <th>zyvox</th>\n",
       "    </tr>\n",
       "    <tr>\n",
       "      <th>hadm_id</th>\n",
       "      <th></th>\n",
       "      <th></th>\n",
       "      <th></th>\n",
       "      <th></th>\n",
       "      <th></th>\n",
       "      <th></th>\n",
       "      <th></th>\n",
       "      <th></th>\n",
       "      <th></th>\n",
       "      <th></th>\n",
       "      <th></th>\n",
       "      <th></th>\n",
       "      <th></th>\n",
       "      <th></th>\n",
       "      <th></th>\n",
       "      <th></th>\n",
       "      <th></th>\n",
       "      <th></th>\n",
       "      <th></th>\n",
       "      <th></th>\n",
       "      <th></th>\n",
       "    </tr>\n",
       "  </thead>\n",
       "  <tbody>\n",
       "    <tr>\n",
       "      <th>100001</th>\n",
       "      <td>0</td>\n",
       "      <td>0</td>\n",
       "      <td>0</td>\n",
       "      <td>0</td>\n",
       "      <td>0</td>\n",
       "      <td>0</td>\n",
       "      <td>0</td>\n",
       "      <td>0</td>\n",
       "      <td>0</td>\n",
       "      <td>0</td>\n",
       "      <td>...</td>\n",
       "      <td>0</td>\n",
       "      <td>0</td>\n",
       "      <td>0</td>\n",
       "      <td>0</td>\n",
       "      <td>0</td>\n",
       "      <td>0</td>\n",
       "      <td>0</td>\n",
       "      <td>0</td>\n",
       "      <td>0</td>\n",
       "      <td>0</td>\n",
       "    </tr>\n",
       "    <tr>\n",
       "      <th>100003</th>\n",
       "      <td>0</td>\n",
       "      <td>0</td>\n",
       "      <td>0</td>\n",
       "      <td>0</td>\n",
       "      <td>0</td>\n",
       "      <td>0</td>\n",
       "      <td>0</td>\n",
       "      <td>0</td>\n",
       "      <td>0</td>\n",
       "      <td>0</td>\n",
       "      <td>...</td>\n",
       "      <td>0</td>\n",
       "      <td>0</td>\n",
       "      <td>0</td>\n",
       "      <td>0</td>\n",
       "      <td>0</td>\n",
       "      <td>0</td>\n",
       "      <td>0</td>\n",
       "      <td>0</td>\n",
       "      <td>0</td>\n",
       "      <td>0</td>\n",
       "    </tr>\n",
       "    <tr>\n",
       "      <th>100006</th>\n",
       "      <td>0</td>\n",
       "      <td>0</td>\n",
       "      <td>0</td>\n",
       "      <td>0</td>\n",
       "      <td>0</td>\n",
       "      <td>0</td>\n",
       "      <td>0</td>\n",
       "      <td>0</td>\n",
       "      <td>0</td>\n",
       "      <td>0</td>\n",
       "      <td>...</td>\n",
       "      <td>0</td>\n",
       "      <td>0</td>\n",
       "      <td>0</td>\n",
       "      <td>0</td>\n",
       "      <td>0</td>\n",
       "      <td>0</td>\n",
       "      <td>0</td>\n",
       "      <td>0</td>\n",
       "      <td>0</td>\n",
       "      <td>0</td>\n",
       "    </tr>\n",
       "    <tr>\n",
       "      <th>100007</th>\n",
       "      <td>0</td>\n",
       "      <td>0</td>\n",
       "      <td>0</td>\n",
       "      <td>0</td>\n",
       "      <td>0</td>\n",
       "      <td>0</td>\n",
       "      <td>0</td>\n",
       "      <td>0</td>\n",
       "      <td>0</td>\n",
       "      <td>0</td>\n",
       "      <td>...</td>\n",
       "      <td>0</td>\n",
       "      <td>0</td>\n",
       "      <td>0</td>\n",
       "      <td>0</td>\n",
       "      <td>0</td>\n",
       "      <td>0</td>\n",
       "      <td>0</td>\n",
       "      <td>0</td>\n",
       "      <td>0</td>\n",
       "      <td>0</td>\n",
       "    </tr>\n",
       "    <tr>\n",
       "      <th>100009</th>\n",
       "      <td>0</td>\n",
       "      <td>0</td>\n",
       "      <td>0</td>\n",
       "      <td>0</td>\n",
       "      <td>0</td>\n",
       "      <td>0</td>\n",
       "      <td>0</td>\n",
       "      <td>0</td>\n",
       "      <td>0</td>\n",
       "      <td>0</td>\n",
       "      <td>...</td>\n",
       "      <td>0</td>\n",
       "      <td>0</td>\n",
       "      <td>0</td>\n",
       "      <td>0</td>\n",
       "      <td>0</td>\n",
       "      <td>0</td>\n",
       "      <td>0</td>\n",
       "      <td>0</td>\n",
       "      <td>0</td>\n",
       "      <td>0</td>\n",
       "    </tr>\n",
       "    <tr>\n",
       "      <th>...</th>\n",
       "      <td>...</td>\n",
       "      <td>...</td>\n",
       "      <td>...</td>\n",
       "      <td>...</td>\n",
       "      <td>...</td>\n",
       "      <td>...</td>\n",
       "      <td>...</td>\n",
       "      <td>...</td>\n",
       "      <td>...</td>\n",
       "      <td>...</td>\n",
       "      <td>...</td>\n",
       "      <td>...</td>\n",
       "      <td>...</td>\n",
       "      <td>...</td>\n",
       "      <td>...</td>\n",
       "      <td>...</td>\n",
       "      <td>...</td>\n",
       "      <td>...</td>\n",
       "      <td>...</td>\n",
       "      <td>...</td>\n",
       "      <td>...</td>\n",
       "    </tr>\n",
       "    <tr>\n",
       "      <th>199993</th>\n",
       "      <td>0</td>\n",
       "      <td>0</td>\n",
       "      <td>0</td>\n",
       "      <td>0</td>\n",
       "      <td>0</td>\n",
       "      <td>0</td>\n",
       "      <td>0</td>\n",
       "      <td>0</td>\n",
       "      <td>0</td>\n",
       "      <td>0</td>\n",
       "      <td>...</td>\n",
       "      <td>0</td>\n",
       "      <td>0</td>\n",
       "      <td>0</td>\n",
       "      <td>0</td>\n",
       "      <td>0</td>\n",
       "      <td>0</td>\n",
       "      <td>0</td>\n",
       "      <td>0</td>\n",
       "      <td>0</td>\n",
       "      <td>0</td>\n",
       "    </tr>\n",
       "    <tr>\n",
       "      <th>199994</th>\n",
       "      <td>0</td>\n",
       "      <td>0</td>\n",
       "      <td>0</td>\n",
       "      <td>0</td>\n",
       "      <td>0</td>\n",
       "      <td>0</td>\n",
       "      <td>0</td>\n",
       "      <td>0</td>\n",
       "      <td>0</td>\n",
       "      <td>0</td>\n",
       "      <td>...</td>\n",
       "      <td>0</td>\n",
       "      <td>0</td>\n",
       "      <td>0</td>\n",
       "      <td>0</td>\n",
       "      <td>0</td>\n",
       "      <td>0</td>\n",
       "      <td>0</td>\n",
       "      <td>0</td>\n",
       "      <td>0</td>\n",
       "      <td>0</td>\n",
       "    </tr>\n",
       "    <tr>\n",
       "      <th>199995</th>\n",
       "      <td>0</td>\n",
       "      <td>0</td>\n",
       "      <td>0</td>\n",
       "      <td>0</td>\n",
       "      <td>0</td>\n",
       "      <td>0</td>\n",
       "      <td>0</td>\n",
       "      <td>0</td>\n",
       "      <td>0</td>\n",
       "      <td>0</td>\n",
       "      <td>...</td>\n",
       "      <td>0</td>\n",
       "      <td>0</td>\n",
       "      <td>0</td>\n",
       "      <td>0</td>\n",
       "      <td>0</td>\n",
       "      <td>0</td>\n",
       "      <td>0</td>\n",
       "      <td>0</td>\n",
       "      <td>0</td>\n",
       "      <td>0</td>\n",
       "    </tr>\n",
       "    <tr>\n",
       "      <th>199998</th>\n",
       "      <td>0</td>\n",
       "      <td>0</td>\n",
       "      <td>0</td>\n",
       "      <td>0</td>\n",
       "      <td>0</td>\n",
       "      <td>0</td>\n",
       "      <td>0</td>\n",
       "      <td>0</td>\n",
       "      <td>0</td>\n",
       "      <td>0</td>\n",
       "      <td>...</td>\n",
       "      <td>0</td>\n",
       "      <td>0</td>\n",
       "      <td>0</td>\n",
       "      <td>0</td>\n",
       "      <td>0</td>\n",
       "      <td>0</td>\n",
       "      <td>0</td>\n",
       "      <td>0</td>\n",
       "      <td>0</td>\n",
       "      <td>0</td>\n",
       "    </tr>\n",
       "    <tr>\n",
       "      <th>199999</th>\n",
       "      <td>0</td>\n",
       "      <td>0</td>\n",
       "      <td>0</td>\n",
       "      <td>0</td>\n",
       "      <td>0</td>\n",
       "      <td>0</td>\n",
       "      <td>0</td>\n",
       "      <td>0</td>\n",
       "      <td>0</td>\n",
       "      <td>0</td>\n",
       "      <td>...</td>\n",
       "      <td>0</td>\n",
       "      <td>0</td>\n",
       "      <td>0</td>\n",
       "      <td>0</td>\n",
       "      <td>0</td>\n",
       "      <td>0</td>\n",
       "      <td>0</td>\n",
       "      <td>0</td>\n",
       "      <td>0</td>\n",
       "      <td>0</td>\n",
       "    </tr>\n",
       "  </tbody>\n",
       "</table>\n",
       "<p>52704 rows × 14085 columns</p>\n",
       "</div>"
      ],
      "text/plain": [
       "word     abacavir  abandoned  abated  abbreviated  abcess  abcesses  abdm  \\\n",
       "hadm_id                                                                     \n",
       "100001          0          0       0            0       0         0     0   \n",
       "100003          0          0       0            0       0         0     0   \n",
       "100006          0          0       0            0       0         0     0   \n",
       "100007          0          0       0            0       0         0     0   \n",
       "100009          0          0       0            0       0         0     0   \n",
       "...           ...        ...     ...          ...     ...       ...   ...   \n",
       "199993          0          0       0            0       0         0     0   \n",
       "199994          0          0       0            0       0         0     0   \n",
       "199995          0          0       0            0       0         0     0   \n",
       "199998          0          0       0            0       0         0     0   \n",
       "199999          0          0       0            0       0         0     0   \n",
       "\n",
       "word     abdom  abdomenal  abdominial  ...  zones  zonisamide  zoster  zosyn  \\\n",
       "hadm_id                                ...                                     \n",
       "100001       0          0           0  ...      0           0       0      0   \n",
       "100003       0          0           0  ...      0           0       0      0   \n",
       "100006       0          0           0  ...      0           0       0      0   \n",
       "100007       0          0           0  ...      0           0       0      0   \n",
       "100009       0          0           0  ...      0           0       0      0   \n",
       "...        ...        ...         ...  ...    ...         ...     ...    ...   \n",
       "199993       0          0           0  ...      0           0       0      0   \n",
       "199994       0          0           0  ...      0           0       0      0   \n",
       "199995       0          0           0  ...      0           0       0      0   \n",
       "199998       0          0           0  ...      0           0       0      0   \n",
       "199999       0          0           0  ...      0           0       0      0   \n",
       "\n",
       "word     zydis  zygoma  zygomatic  zyprexa  zyrtec  zyvox  \n",
       "hadm_id                                                    \n",
       "100001       0       0          0        0       0      0  \n",
       "100003       0       0          0        0       0      0  \n",
       "100006       0       0          0        0       0      0  \n",
       "100007       0       0          0        0       0      0  \n",
       "100009       0       0          0        0       0      0  \n",
       "...        ...     ...        ...      ...     ...    ...  \n",
       "199993       0       0          0        0       0      0  \n",
       "199994       0       0          0        0       0      0  \n",
       "199995       0       0          0        0       0      0  \n",
       "199998       0       0          0        0       0      0  \n",
       "199999       0       0          0        0       0      0  \n",
       "\n",
       "[52704 rows x 14085 columns]"
      ]
     },
     "execution_count": 10,
     "metadata": {},
     "output_type": "execute_result"
    }
   ],
   "source": [
    "dn_dat = common_fdat.pivot(index='hadm_id', columns='word', values='count').fillna(value=0).astype('int')\n",
    "dn_dat"
   ]
  },
  {
   "cell_type": "markdown",
   "metadata": {},
   "source": [
    "### upload training outcomes"
   ]
  },
  {
   "cell_type": "code",
   "execution_count": 11,
   "metadata": {},
   "outputs": [
    {
     "name": "stdout",
     "output_type": "stream",
     "text": [
      "1724\n"
     ]
    },
    {
     "data": {
      "text/plain": [
       "hadm_id\n",
       "159128    0\n",
       "113499    0\n",
       "163615    0\n",
       "157427    0\n",
       "176972    0\n",
       "         ..\n",
       "155274    0\n",
       "157212    0\n",
       "141275    0\n",
       "113262    0\n",
       "107169    0\n",
       "Name: hrrd_penalized, Length: 35164, dtype: int64"
      ]
     },
     "execution_count": 11,
     "metadata": {},
     "output_type": "execute_result"
    }
   ],
   "source": [
    "#load training outcomes\n",
    "import joblib\n",
    "y_train = joblib.load(open(my_local_data_dir + 'y_train.joblib', 'rb')) #build this with feature_engineering.ipynb\n",
    "train_pos_hadm_ids = y_train.index[y_train==1]\n",
    "print(len(train_pos_hadm_ids))\n",
    "y_train"
   ]
  },
  {
   "cell_type": "markdown",
   "metadata": {},
   "source": [
    "### select on presence"
   ]
  },
  {
   "cell_type": "code",
   "execution_count": 12,
   "metadata": {
    "scrolled": true
   },
   "outputs": [
    {
     "name": "stdout",
     "output_type": "stream",
     "text": [
      "482 of 52704 total words appear in more than 10% of notes for positive patients\n",
      "Index(['abnormal', 'acid', 'active', 'additional', 'adequate', 'advanced',\n",
      "       'aerosol', 'afebrile', 'afib', 'aggressive',\n",
      "       ...\n",
      "       'weakness', 'weigh', 'went', 'wheezes', 'wife', 'woman', 'worked',\n",
      "       'workup', 'worse', 'wound'],\n",
      "      dtype='object', name='word', length=482)\n"
     ]
    },
    {
     "data": {
      "text/plain": [
       "(52704, 482)"
      ]
     },
     "execution_count": 12,
     "metadata": {},
     "output_type": "execute_result"
    }
   ],
   "source": [
    "padn_dat = dn_dat.copy() > 0\n",
    "padn_dat = padn_dat.astype(int).loc[padn_dat.index.isin(train_pos_hadm_ids)]\n",
    "freqs = padn_dat.sum() / len(padn_dat.index.unique())\n",
    "keep = freqs.index[freqs > 1/10]\n",
    "print('{} of {} total words appear in more than 10% of notes for positive patients'.format(len(keep), dn_dat.shape[0]))\n",
    "print(keep)\n",
    "notes_dat = dn_dat.loc[:,keep]\n",
    "notes_dat.shape"
   ]
  },
  {
   "cell_type": "markdown",
   "metadata": {},
   "source": [
    "### scale"
   ]
  },
  {
   "cell_type": "code",
   "execution_count": 13,
   "metadata": {},
   "outputs": [
    {
     "name": "stdout",
     "output_type": "stream",
     "text": [
      "maximum value in dataframe = 1.0\n"
     ]
    }
   ],
   "source": [
    "#Note the 'total' columns created for presence absence sets above are already scaled\n",
    "#scale the dataframe\n",
    "from sklearn.preprocessing import MinMaxScaler\n",
    "scaler = MinMaxScaler()\n",
    "notes_dat[notes_dat.columns] = scaler.fit_transform(notes_dat[notes_dat.columns])\n",
    "print('maximum value in dataframe = {}'.format(max(notes_dat.max())))"
   ]
  },
  {
   "cell_type": "markdown",
   "metadata": {},
   "source": [
    "## select features"
   ]
  },
  {
   "cell_type": "markdown",
   "metadata": {},
   "source": [
    "#### set up training set for feature selection"
   ]
  },
  {
   "cell_type": "code",
   "execution_count": 14,
   "metadata": {},
   "outputs": [
    {
     "name": "stdout",
     "output_type": "stream",
     "text": [
      "(34293, 483)\n"
     ]
    }
   ],
   "source": [
    "mdat = pd.merge(notes_dat, pd.DataFrame(y_train), how = 'inner', on='hadm_id')\n",
    "print(mdat.shape)\n",
    "mdat\n",
    "X_train = mdat.drop(columns = ['hrrd_penalized'])\n",
    "y_train = mdat['hrrd_penalized']"
   ]
  },
  {
   "cell_type": "markdown",
   "metadata": {},
   "source": [
    "#### optimize hyperparameters for feature selection model"
   ]
  },
  {
   "cell_type": "code",
   "execution_count": 15,
   "metadata": {
    "scrolled": true
   },
   "outputs": [
    {
     "name": "stdout",
     "output_type": "stream",
     "text": [
      "Fitting 4 folds for each of 4 candidates, totalling 16 fits\n",
      "[CV] min_samples_split=2, min_samples_leaf=1, max_depth=30 ...........\n"
     ]
    },
    {
     "name": "stderr",
     "output_type": "stream",
     "text": [
      "/opt/anaconda3/lib/python3.7/site-packages/sklearn/model_selection/_search.py:282: UserWarning: The total space of parameters 4 is smaller than n_iter=100. Running 4 iterations. For exhaustive searches, use GridSearchCV.\n",
      "  % (grid_size, self.n_iter, grid_size), UserWarning)\n",
      "[Parallel(n_jobs=1)]: Using backend SequentialBackend with 1 concurrent workers.\n"
     ]
    },
    {
     "name": "stdout",
     "output_type": "stream",
     "text": [
      "[CV]  min_samples_split=2, min_samples_leaf=1, max_depth=30, total=   6.5s\n",
      "[CV] min_samples_split=2, min_samples_leaf=1, max_depth=30 ...........\n"
     ]
    },
    {
     "name": "stderr",
     "output_type": "stream",
     "text": [
      "[Parallel(n_jobs=1)]: Done   1 out of   1 | elapsed:    6.6s remaining:    0.0s\n"
     ]
    },
    {
     "name": "stdout",
     "output_type": "stream",
     "text": [
      "[CV]  min_samples_split=2, min_samples_leaf=1, max_depth=30, total=   7.5s\n",
      "[CV] min_samples_split=2, min_samples_leaf=1, max_depth=30 ...........\n",
      "[CV]  min_samples_split=2, min_samples_leaf=1, max_depth=30, total=   7.5s\n",
      "[CV] min_samples_split=2, min_samples_leaf=1, max_depth=30 ...........\n",
      "[CV]  min_samples_split=2, min_samples_leaf=1, max_depth=30, total=   7.5s\n",
      "[CV] min_samples_split=2, min_samples_leaf=1, max_depth=40 ...........\n",
      "[CV]  min_samples_split=2, min_samples_leaf=1, max_depth=40, total=   9.1s\n",
      "[CV] min_samples_split=2, min_samples_leaf=1, max_depth=40 ...........\n",
      "[CV]  min_samples_split=2, min_samples_leaf=1, max_depth=40, total=   9.1s\n",
      "[CV] min_samples_split=2, min_samples_leaf=1, max_depth=40 ...........\n",
      "[CV]  min_samples_split=2, min_samples_leaf=1, max_depth=40, total=   9.1s\n",
      "[CV] min_samples_split=2, min_samples_leaf=1, max_depth=40 ...........\n",
      "[CV]  min_samples_split=2, min_samples_leaf=1, max_depth=40, total=   9.1s\n",
      "[CV] min_samples_split=2, min_samples_leaf=1, max_depth=50 ...........\n",
      "[CV]  min_samples_split=2, min_samples_leaf=1, max_depth=50, total=  10.3s\n",
      "[CV] min_samples_split=2, min_samples_leaf=1, max_depth=50 ...........\n",
      "[CV]  min_samples_split=2, min_samples_leaf=1, max_depth=50, total=  10.0s\n",
      "[CV] min_samples_split=2, min_samples_leaf=1, max_depth=50 ...........\n",
      "[CV]  min_samples_split=2, min_samples_leaf=1, max_depth=50, total=  10.0s\n",
      "[CV] min_samples_split=2, min_samples_leaf=1, max_depth=50 ...........\n",
      "[CV]  min_samples_split=2, min_samples_leaf=1, max_depth=50, total=  10.2s\n",
      "[CV] min_samples_split=2, min_samples_leaf=1, max_depth=60 ...........\n",
      "[CV]  min_samples_split=2, min_samples_leaf=1, max_depth=60, total=  11.1s\n",
      "[CV] min_samples_split=2, min_samples_leaf=1, max_depth=60 ...........\n",
      "[CV]  min_samples_split=2, min_samples_leaf=1, max_depth=60, total=  10.7s\n",
      "[CV] min_samples_split=2, min_samples_leaf=1, max_depth=60 ...........\n",
      "[CV]  min_samples_split=2, min_samples_leaf=1, max_depth=60, total=  10.9s\n",
      "[CV] min_samples_split=2, min_samples_leaf=1, max_depth=60 ...........\n",
      "[CV]  min_samples_split=2, min_samples_leaf=1, max_depth=60, total=  11.1s\n"
     ]
    },
    {
     "name": "stderr",
     "output_type": "stream",
     "text": [
      "[Parallel(n_jobs=1)]: Done  16 out of  16 | elapsed:  2.5min finished\n"
     ]
    },
    {
     "name": "stdout",
     "output_type": "stream",
     "text": [
      "{'min_samples_split': 2, 'min_samples_leaf': 1, 'max_depth': 60}\n"
     ]
    }
   ],
   "source": [
    "#------- OPTIMIZE RF\n",
    "RAND_SEED=321\n",
    "N_JOBS=1\n",
    "#use RandomizedSearchCV() to optimized Random forest hyperparameters\n",
    "from sklearn.ensemble import RandomForestClassifier\n",
    "from sklearn.model_selection import RandomizedSearchCV\n",
    "rf_clf = RandomForestClassifier()\n",
    "\n",
    "#choose parameter grid values\n",
    "max_depth = [30,40,50,60]\n",
    "min_samples_split = [2]\n",
    "min_samples_leaf = [1]\n",
    "\n",
    "#make grid dict\n",
    "random_grid = {'max_depth': max_depth,\n",
    "               'min_samples_split': min_samples_split,\n",
    "               'min_samples_leaf': min_samples_leaf}\n",
    "\n",
    "\n",
    "# ### run random search\n",
    "rf_search = RandomizedSearchCV(estimator = rf_clf,\n",
    "                               param_distributions = random_grid,\n",
    "                               n_iter = 100,\n",
    "                               scoring = 'f1',\n",
    "                               cv = 4,\n",
    "                               verbose=2,\n",
    "                               random_state=RAND_SEED,\n",
    "                               n_jobs = N_JOBS)\n",
    "rf_search.fit(X_train, y_train)\n",
    "best_params = rf_search.best_params_\n",
    "print(rf_search.best_params_)"
   ]
  },
  {
   "cell_type": "markdown",
   "metadata": {},
   "source": [
    "#### fit model with optimized parameters"
   ]
  },
  {
   "cell_type": "code",
   "execution_count": 16,
   "metadata": {},
   "outputs": [
    {
     "name": "stdout",
     "output_type": "stream",
     "text": [
      "{'min_samples_split': 2, 'min_samples_leaf': 1, 'max_depth': 60}\n"
     ]
    },
    {
     "data": {
      "text/plain": [
       "RandomForestClassifier(max_depth=60, n_jobs=1, random_state=321)"
      ]
     },
     "execution_count": 16,
     "metadata": {},
     "output_type": "execute_result"
    }
   ],
   "source": [
    "#set up optimized rf model based on from best_params above\n",
    "from sklearn.ensemble import RandomForestClassifier\n",
    "from sklearn.model_selection import RandomizedSearchCV\n",
    "print(best_params)\n",
    "rf_opt = RandomForestClassifier(n_jobs=N_JOBS,\n",
    "                                min_samples_split = best_params['min_samples_split'],\n",
    "                                min_samples_leaf = best_params['min_samples_leaf'],\n",
    "                                max_depth = best_params['max_depth'],\n",
    "                                bootstrap = True,\n",
    "                               random_state=RAND_SEED)\n",
    "\n",
    "#train\n",
    "rf_opt.fit(X_train, y_train)"
   ]
  },
  {
   "cell_type": "markdown",
   "metadata": {},
   "source": [
    "### performance"
   ]
  },
  {
   "cell_type": "code",
   "execution_count": 17,
   "metadata": {},
   "outputs": [
    {
     "data": {
      "image/png": "[encoded data removed]",
      "text/plain": [
       "<Figure size 432x288 with 1 Axes>"
      ]
     },
     "metadata": {
      "needs_background": "light"
     },
     "output_type": "display_data"
    },
    {
     "data": {
      "image/png": "[encoded data removed]",
      "text/plain": [
       "<Figure size 432x288 with 1 Axes>"
      ]
     },
     "metadata": {
      "needs_background": "light"
     },
     "output_type": "display_data"
    },
    {
     "name": "stdout",
     "output_type": "stream",
     "text": [
      "Confusion matrix for threshold = 0.15:\n",
      "[[31065  1541]\n",
      " [ 1542   145]]\n",
      "Classification report:\n",
      "              precision    recall  f1-score   support\n",
      "\n",
      "           0       0.95      0.95      0.95     32606\n",
      "           1       0.09      0.09      0.09      1687\n",
      "\n",
      "    accuracy                           0.91     34293\n",
      "   macro avg       0.52      0.52      0.52     34293\n",
      "weighted avg       0.91      0.91      0.91     34293\n",
      "\n"
     ]
    },
    {
     "data": {
      "image/png": "[encoded data removed]",
      "text/plain": [
       "<Figure size 432x288 with 1 Axes>"
      ]
     },
     "metadata": {
      "needs_background": "light"
     },
     "output_type": "display_data"
    },
    {
     "name": "stdout",
     "output_type": "stream",
     "text": [
      "0.602\n"
     ]
    }
   ],
   "source": [
    "#logistic regression cross validation\n",
    "probs_rf_cv = cross_val_predict(rf_opt, X_train, y_train, cv=4, method=\"predict_proba\", n_jobs=3)\n",
    "scores_rf_cv = probs_rf_cv[:, 1]\n",
    "rf_perf_cv = get_model_performance('logistic regression CV', X_train, scores_rf_cv, y_train, pos_label=1)\n",
    "print(rf_perf_cv['auc'])"
   ]
  },
  {
   "cell_type": "markdown",
   "metadata": {},
   "source": [
    "#### look at feature importances from optimized model"
   ]
  },
  {
   "cell_type": "code",
   "execution_count": 18,
   "metadata": {
    "scrolled": true
   },
   "outputs": [
    {
     "data": {
      "image/png": "[encoded data removed]",
      "text/plain": [
       "<Figure size 432x288 with 1 Axes>"
      ]
     },
     "metadata": {
      "needs_background": "light"
     },
     "output_type": "display_data"
    }
   ],
   "source": [
    "importances = rf_opt.feature_importances_\n",
    "plt.hist(importances, bins=500)\n",
    "plt.show()"
   ]
  },
  {
   "cell_type": "markdown",
   "metadata": {},
   "source": [
    "### select features"
   ]
  },
  {
   "cell_type": "code",
   "execution_count": 23,
   "metadata": {},
   "outputs": [],
   "source": [
    "CUT=0.003\n",
    "tdn_dat = notes_dat.loc[:,notes_dat.columns[importances > CUT]]\n",
    "tdn_dat.shape\n",
    "pd.DataFrame({'importance' : importances,\n",
    "             'pass' : importances > CUT}).to_csv('../data/for_plotting/discharge_note_importances.csv', index=False)"
   ]
  },
  {
   "cell_type": "markdown",
   "metadata": {},
   "source": [
    "### write out to database"
   ]
  },
  {
   "cell_type": "code",
   "execution_count": 24,
   "metadata": {},
   "outputs": [],
   "source": [
    "#write out results to my mimic\n",
    "tdn_dat.to_sql('discharge_note_features', engine, if_exists='replace')"
   ]
  },
  {
   "cell_type": "markdown",
   "metadata": {},
   "source": [
    "#### optionally write out to csv"
   ]
  },
  {
   "cell_type": "code",
   "execution_count": 25,
   "metadata": {},
   "outputs": [],
   "source": [
    "tdn_dat.to_csv(my_local_data_dir + 'discharge_note_features.csv')"
   ]
  }
 ],
 "metadata": {
  "kernelspec": {
   "display_name": "Python 3",
   "language": "python",
   "name": "python3"
  },
  "language_info": {
   "codemirror_mode": {
    "name": "ipython",
    "version": 3
   },
   "file_extension": ".py",
   "mimetype": "text/x-python",
   "name": "python",
   "nbconvert_exporter": "python",
   "pygments_lexer": "ipython3",
   "version": "3.7.6"
  }
 },
 "nbformat": 4,
 "nbformat_minor": 4
}

{
 "cells": [
  {
   "cell_type": "markdown",
   "metadata": {},
   "source": [
    "# feature engineering"
   ]
  },
  {
   "cell_type": "markdown",
   "metadata": {},
   "source": [
    "### setup"
   ]
  },
  {
   "cell_type": "code",
   "execution_count": 1,
   "metadata": {},
   "outputs": [
    {
     "name": "stdout",
     "output_type": "stream",
     "text": [
      "\n",
      "Configured for local MIMIC database:\n",
      "\tuser = postgres\n",
      "\tdbname = mimic\n",
      "\thost = localhost\n",
      "\tschema_name = mimiciii\n",
      "\tquery_schema = SET search_path to mimiciii;\n"
     ]
    }
   ],
   "source": [
    "THRESHOLD=0.2\n",
    "PROP=1/100\n",
    "\n",
    "#configure for local mimic databse\n",
    "exec(open(\"../configs/configure_mimic.py\").read())\n",
    "exec(open(\"my_functions.py\").read())"
   ]
  },
  {
   "cell_type": "markdown",
   "metadata": {},
   "source": [
    "## demographics\n",
    "From admissions and patients tables"
   ]
  },
  {
   "cell_type": "code",
   "execution_count": 2,
   "metadata": {},
   "outputs": [
    {
     "data": {
      "image/png": "[encoded data removed]",
      "text/plain": [
       "<Figure size 432x288 with 1 Axes>"
      ]
     },
     "metadata": {
      "needs_background": "light"
     },
     "output_type": "display_data"
    }
   ],
   "source": [
    "#load admission data along with outcomes desginated in build_outcome.ipynb\n",
    "adat = pd.read_csv('/Users/grovesdixon/projects/Insight/icu_project/my_mimic/outcome_penalizable_dat.csv')\n",
    "\n",
    "#add stay duration\n",
    "adat['stay_duration'] = pd.to_datetime(adat['dischtime']) - pd.to_datetime(adat['admittime'])\n",
    "adat['stay_duration'] = pd.to_timedelta(adat['stay_duration'], unit='D')/datetime.timedelta(days=1)\n",
    "plt.hist(adat['stay_duration'])\n",
    "plt.xlabel('days')\n",
    "plt.ylabel('frequency');\n",
    "\n",
    "#subset for useful variables and remove patients with deathtimes\n",
    "adat = adat.loc[adat['deathtime'].isna(), ['subject_id', 'hadm_id', 'admittime', 'discharge_location', 'insurance', 'language', 'religion',\n",
    "       'marital_status', 'ethnicity', 'hospital_expire_flag', 'stay_duration', 'hrrd_penalized']]"
   ]
  },
  {
   "cell_type": "code",
   "execution_count": 3,
   "metadata": {
    "scrolled": true
   },
   "outputs": [
    {
     "data": {
      "text/html": [
       "<div>\n",
       "<style scoped>\n",
       "    .dataframe tbody tr th:only-of-type {\n",
       "        vertical-align: middle;\n",
       "    }\n",
       "\n",
       "    .dataframe tbody tr th {\n",
       "        vertical-align: top;\n",
       "    }\n",
       "\n",
       "    .dataframe thead th {\n",
       "        text-align: right;\n",
       "    }\n",
       "</style>\n",
       "<table border=\"1\" class=\"dataframe\">\n",
       "  <thead>\n",
       "    <tr style=\"text-align: right;\">\n",
       "      <th></th>\n",
       "      <th>hrrd_penalized</th>\n",
       "      <th>discharge_location</th>\n",
       "      <th>insurance</th>\n",
       "      <th>language</th>\n",
       "      <th>religion</th>\n",
       "      <th>marital_status</th>\n",
       "      <th>ethnicity</th>\n",
       "      <th>gender</th>\n",
       "      <th>age</th>\n",
       "    </tr>\n",
       "    <tr>\n",
       "      <th>hadm_id</th>\n",
       "      <th></th>\n",
       "      <th></th>\n",
       "      <th></th>\n",
       "      <th></th>\n",
       "      <th></th>\n",
       "      <th></th>\n",
       "      <th></th>\n",
       "      <th></th>\n",
       "      <th></th>\n",
       "    </tr>\n",
       "  </thead>\n",
       "  <tbody>\n",
       "    <tr>\n",
       "      <th>165315</th>\n",
       "      <td>0</td>\n",
       "      <td>DISC-TRAN CANCER/CHLDRN H</td>\n",
       "      <td>Private</td>\n",
       "      <td>NaN</td>\n",
       "      <td>UNOBTAINABLE</td>\n",
       "      <td>MARRIED</td>\n",
       "      <td>WHITE</td>\n",
       "      <td>F</td>\n",
       "      <td>64.969863</td>\n",
       "    </tr>\n",
       "    <tr>\n",
       "      <th>152223</th>\n",
       "      <td>0</td>\n",
       "      <td>HOME HEALTH CARE</td>\n",
       "      <td>Medicare</td>\n",
       "      <td>NaN</td>\n",
       "      <td>CATHOLIC</td>\n",
       "      <td>MARRIED</td>\n",
       "      <td>WHITE</td>\n",
       "      <td>M</td>\n",
       "      <td>71.178082</td>\n",
       "    </tr>\n",
       "    <tr>\n",
       "      <th>124321</th>\n",
       "      <td>0</td>\n",
       "      <td>HOME HEALTH CARE</td>\n",
       "      <td>Medicare</td>\n",
       "      <td>ENGL</td>\n",
       "      <td>CATHOLIC</td>\n",
       "      <td>MARRIED</td>\n",
       "      <td>WHITE</td>\n",
       "      <td>M</td>\n",
       "      <td>75.304110</td>\n",
       "    </tr>\n",
       "    <tr>\n",
       "      <th>161859</th>\n",
       "      <td>0</td>\n",
       "      <td>HOME</td>\n",
       "      <td>Private</td>\n",
       "      <td>NaN</td>\n",
       "      <td>PROTESTANT QUAKER</td>\n",
       "      <td>SINGLE</td>\n",
       "      <td>WHITE</td>\n",
       "      <td>M</td>\n",
       "      <td>39.041096</td>\n",
       "    </tr>\n",
       "    <tr>\n",
       "      <th>129635</th>\n",
       "      <td>0</td>\n",
       "      <td>HOME</td>\n",
       "      <td>Private</td>\n",
       "      <td>NaN</td>\n",
       "      <td>UNOBTAINABLE</td>\n",
       "      <td>MARRIED</td>\n",
       "      <td>WHITE</td>\n",
       "      <td>M</td>\n",
       "      <td>58.989041</td>\n",
       "    </tr>\n",
       "    <tr>\n",
       "      <th>...</th>\n",
       "      <td>...</td>\n",
       "      <td>...</td>\n",
       "      <td>...</td>\n",
       "      <td>...</td>\n",
       "      <td>...</td>\n",
       "      <td>...</td>\n",
       "      <td>...</td>\n",
       "      <td>...</td>\n",
       "      <td>...</td>\n",
       "    </tr>\n",
       "    <tr>\n",
       "      <th>141860</th>\n",
       "      <td>0</td>\n",
       "      <td>SNF</td>\n",
       "      <td>Medicare</td>\n",
       "      <td>ENGL</td>\n",
       "      <td>CATHOLIC</td>\n",
       "      <td>WIDOWED</td>\n",
       "      <td>WHITE</td>\n",
       "      <td>F</td>\n",
       "      <td>80.389041</td>\n",
       "    </tr>\n",
       "    <tr>\n",
       "      <th>187987</th>\n",
       "      <td>0</td>\n",
       "      <td>HOME HEALTH CARE</td>\n",
       "      <td>Private</td>\n",
       "      <td>ENGL</td>\n",
       "      <td>NOT SPECIFIED</td>\n",
       "      <td>MARRIED</td>\n",
       "      <td>WHITE</td>\n",
       "      <td>M</td>\n",
       "      <td>53.613699</td>\n",
       "    </tr>\n",
       "    <tr>\n",
       "      <th>190603</th>\n",
       "      <td>0</td>\n",
       "      <td>HOME HEALTH CARE</td>\n",
       "      <td>Medicare</td>\n",
       "      <td>ENGL</td>\n",
       "      <td>CATHOLIC</td>\n",
       "      <td>MARRIED</td>\n",
       "      <td>WHITE</td>\n",
       "      <td>M</td>\n",
       "      <td>78.326027</td>\n",
       "    </tr>\n",
       "    <tr>\n",
       "      <th>191113</th>\n",
       "      <td>0</td>\n",
       "      <td>HOME</td>\n",
       "      <td>Private</td>\n",
       "      <td>ENGL</td>\n",
       "      <td>NOT SPECIFIED</td>\n",
       "      <td>SINGLE</td>\n",
       "      <td>WHITE</td>\n",
       "      <td>F</td>\n",
       "      <td>19.410959</td>\n",
       "    </tr>\n",
       "    <tr>\n",
       "      <th>122631</th>\n",
       "      <td>0</td>\n",
       "      <td>HOME HEALTH CARE</td>\n",
       "      <td>Private</td>\n",
       "      <td>ENGL</td>\n",
       "      <td>NOT SPECIFIED</td>\n",
       "      <td>MARRIED</td>\n",
       "      <td>WHITE</td>\n",
       "      <td>M</td>\n",
       "      <td>42.558904</td>\n",
       "    </tr>\n",
       "  </tbody>\n",
       "</table>\n",
       "<p>44987 rows × 9 columns</p>\n",
       "</div>"
      ],
      "text/plain": [
       "         hrrd_penalized         discharge_location insurance language  \\\n",
       "hadm_id                                                                 \n",
       "165315                0  DISC-TRAN CANCER/CHLDRN H   Private      NaN   \n",
       "152223                0           HOME HEALTH CARE  Medicare      NaN   \n",
       "124321                0           HOME HEALTH CARE  Medicare     ENGL   \n",
       "161859                0                       HOME   Private      NaN   \n",
       "129635                0                       HOME   Private      NaN   \n",
       "...                 ...                        ...       ...      ...   \n",
       "141860                0                        SNF  Medicare     ENGL   \n",
       "187987                0           HOME HEALTH CARE   Private     ENGL   \n",
       "190603                0           HOME HEALTH CARE  Medicare     ENGL   \n",
       "191113                0                       HOME   Private     ENGL   \n",
       "122631                0           HOME HEALTH CARE   Private     ENGL   \n",
       "\n",
       "                  religion marital_status ethnicity gender        age  \n",
       "hadm_id                                                                \n",
       "165315        UNOBTAINABLE        MARRIED     WHITE      F  64.969863  \n",
       "152223            CATHOLIC        MARRIED     WHITE      M  71.178082  \n",
       "124321            CATHOLIC        MARRIED     WHITE      M  75.304110  \n",
       "161859   PROTESTANT QUAKER         SINGLE     WHITE      M  39.041096  \n",
       "129635        UNOBTAINABLE        MARRIED     WHITE      M  58.989041  \n",
       "...                    ...            ...       ...    ...        ...  \n",
       "141860            CATHOLIC        WIDOWED     WHITE      F  80.389041  \n",
       "187987       NOT SPECIFIED        MARRIED     WHITE      M  53.613699  \n",
       "190603            CATHOLIC        MARRIED     WHITE      M  78.326027  \n",
       "191113       NOT SPECIFIED         SINGLE     WHITE      F  19.410959  \n",
       "122631       NOT SPECIFIED        MARRIED     WHITE      M  42.558904  \n",
       "\n",
       "[44987 rows x 9 columns]"
      ]
     },
     "execution_count": 3,
     "metadata": {},
     "output_type": "execute_result"
    }
   ],
   "source": [
    "#load patient data\n",
    "query = query_schema + \\\n",
    "\"\"\"select \n",
    "    subject_id,\n",
    "    gender,\n",
    "    dob\n",
    "    from patients\"\"\"\n",
    "pdat = pd.read_sql_query(query,con)\n",
    "\n",
    "#merge them\n",
    "odat = pd.merge(adat, pdat, how = 'inner', on='subject_id')\n",
    "odat['dob_dt'] = pd.to_datetime(odat['dob']).dt.date\n",
    "odat['admittime_dt'] = pd.to_datetime(odat['admittime']).dt.date\n",
    "odat['age'] = odat.apply(lambda e: (e['admittime_dt'] - e['dob_dt']).days/365, axis=1)\n",
    "odat.loc[odat['age']>200, 'age'] = 91\n",
    "odat = odat.loc[odat['age']>18, ['subject_id', 'hadm_id', 'hrrd_penalized', 'discharge_location', 'insurance',\n",
    "       'language', 'religion', 'marital_status', 'ethnicity',\n",
    "       'gender', 'age']]\n",
    "odat.index = odat['hadm_id']\n",
    "odat.drop(columns = ['hadm_id', 'subject_id'])"
   ]
  },
  {
   "cell_type": "markdown",
   "metadata": {},
   "source": [
    "#### handle missing values"
   ]
  },
  {
   "cell_type": "code",
   "execution_count": 4,
   "metadata": {},
   "outputs": [],
   "source": [
    "# print(np.sum(odat.isnull()))\n",
    "odat.loc[odat['language'].isna(), 'language'] = 'missing'\n",
    "odat.loc[odat['religion'].isna(), 'religion'] = 'missing'\n",
    "odat.loc[odat['marital_status'].isna(), 'marital_status'] = 'missing'\n",
    "# print(np.sum(odat.isnull()))"
   ]
  },
  {
   "cell_type": "markdown",
   "metadata": {},
   "source": [
    "#### age distribution"
   ]
  },
  {
   "cell_type": "code",
   "execution_count": 5,
   "metadata": {
    "scrolled": false
   },
   "outputs": [
    {
     "data": {
      "image/png": "[encoded data removed]",
      "text/plain": [
       "<Figure size 432x288 with 1 Axes>"
      ]
     },
     "metadata": {
      "needs_background": "light"
     },
     "output_type": "display_data"
    }
   ],
   "source": [
    "plt.hist(odat['age'], bins = 91-18);\n",
    "plt.xlabel('age')\n",
    "plt.ylabel('N visits')\n",
    "plt.show();"
   ]
  },
  {
   "cell_type": "markdown",
   "metadata": {},
   "source": [
    "### add icu features\n",
    "add total time spent in icu and total icu visits"
   ]
  },
  {
   "cell_type": "code",
   "execution_count": 6,
   "metadata": {
    "scrolled": true
   },
   "outputs": [
    {
     "name": "stderr",
     "output_type": "stream",
     "text": [
      "/opt/anaconda3/lib/python3.7/site-packages/numpy/lib/histograms.py:839: RuntimeWarning: invalid value encountered in greater_equal\n",
      "  keep = (tmp_a >= first_edge)\n",
      "/opt/anaconda3/lib/python3.7/site-packages/numpy/lib/histograms.py:840: RuntimeWarning: invalid value encountered in less_equal\n",
      "  keep &= (tmp_a <= last_edge)\n"
     ]
    },
    {
     "data": {
      "image/png": "[encoded data removed]",
      "text/plain": [
       "<Figure size 432x288 with 1 Axes>"
      ]
     },
     "metadata": {
      "needs_background": "light"
     },
     "output_type": "display_data"
    },
    {
     "data": {
      "image/png": "[encoded data removed]",
      "text/plain": [
       "<Figure size 432x288 with 1 Axes>"
      ]
     },
     "metadata": {
      "needs_background": "light"
     },
     "output_type": "display_data"
    },
    {
     "data": {
      "image/png": "[encoded data removed]",
      "text/plain": [
       "<Figure size 432x288 with 1 Axes>"
      ]
     },
     "metadata": {
      "needs_background": "light"
     },
     "output_type": "display_data"
    }
   ],
   "source": [
    "#load patient data\n",
    "query = query_schema + \\\n",
    "\"\"\"select \n",
    "    *\n",
    "    from ICUSTAYS\"\"\"\n",
    "idat = pd.read_sql_query(query,con)\n",
    "\n",
    "\n",
    "\n",
    "idat['icu_duration'] = idat['outtime'] - idat['intime']\n",
    "idat['icu_duration'] = pd.to_timedelta(idat['icu_duration'], unit='hr')/datetime.timedelta(hours=1)\n",
    "\n",
    "#plot icu hours\n",
    "plt.hist(idat['icu_duration'], bins=100)\n",
    "plt.title('icu lengths')\n",
    "plt.xlabel('hours')\n",
    "plt.ylabel('N ICU stays')\n",
    "plt.show()\n",
    "\n",
    "#organize icu stay features\n",
    "total_time = idat.loc[:,['icu_duration', 'hadm_id']].groupby(['hadm_id']).sum()\n",
    "total_icu_visits = idat.loc[:,['hadm_id', 'icustay_id']].groupby(['hadm_id']).count()\n",
    "total_icu_visits.columns = ['nicu_stays']\n",
    "total_icu_visits.index.name = 'hadm_id'\n",
    "icu_features = pd.merge(total_time, total_icu_visits, how='inner', on='hadm_id')\n",
    "\n",
    "#plot cumulative icu time\n",
    "plt.hist(icu_features['icu_duration'], bins=100)\n",
    "plt.title('cumulative time in ICU')\n",
    "plt.xlabel('hours')\n",
    "plt.ylabel('N patients')\n",
    "plt.show()\n",
    "\n",
    "#plot total ICU stays\n",
    "plt.hist(icu_features['nicu_stays'], bins=25)\n",
    "plt.title('total ICU stays')\n",
    "plt.xlabel('N ICU stays stays')\n",
    "plt.ylabel('N patients')\n",
    "plt.show()\n",
    "\n",
    "#add to odat\n",
    "odat = pd.merge(odat.drop(columns='hadm_id'), icu_features, how = 'inner', on = 'hadm_id')"
   ]
  },
  {
   "cell_type": "code",
   "execution_count": 7,
   "metadata": {
    "scrolled": true
   },
   "outputs": [
    {
     "name": "stdout",
     "output_type": "stream",
     "text": [
      "908\n",
      "227\n"
     ]
    },
    {
     "data": {
      "text/plain": [
       "['/Users/grovesdixon/projects/Insight/icu_project/my_mimic/y_train.joblib']"
      ]
     },
     "execution_count": 7,
     "metadata": {},
     "output_type": "execute_result"
    }
   ],
   "source": [
    "from sklearn.metrics import precision_recall_curve, roc_curve, roc_auc_score, confusion_matrix, accuracy_score, precision_score, recall_score, f1_score, classification_report\n",
    "from sklearn.model_selection import train_test_split\n",
    "\n",
    "odat['hadm_id'] = odat.index\n",
    "y = odat['hrrd_penalized']\n",
    "X = odat.drop([\n",
    "    'hrrd_penalized'], 1)\n",
    "X_train, X_test, y_train, y_test = train_test_split(X, y, test_size = 0.2, random_state=321, stratify=y)\n",
    "print(np.sum(y_train))\n",
    "print(np.sum(y_test))\n",
    "all_hadm_ids = odat['hadm_id']\n",
    "train_hadm_ids = X_train['hadm_id']\n",
    "test_hadm_ids = X_test['hadm_id']\n",
    "train_pos_hadm_ids = train_hadm_ids[y==1]\n",
    "len(train_pos_hadm_ids)\n",
    "X_train.drop(['subject_id', 'hadm_id'], 1)\n",
    "X_test.drop(['subject_id', 'hadm_id'], 1)\n",
    "\n",
    "#write out outcomes\n",
    "import joblib\n",
    "joblib.dump(y_train, '/Users/grovesdixon/projects/Insight/icu_project/my_mimic/y_train.joblib')"
   ]
  },
  {
   "cell_type": "markdown",
   "metadata": {},
   "source": [
    "## Funcitons for feature selection"
   ]
  },
  {
   "cell_type": "code",
   "execution_count": 8,
   "metadata": {},
   "outputs": [],
   "source": [
    "def filter_by_presence_in_pos(input_df, pos_ids, feature_col, prop=1/50):\n",
    "    \"\"\"Function to remove features unlikely to be informative for outcome.\n",
    "    df = the input predictors\n",
    "    pos_ids = the positive hadm_ids\n",
    "    feature_col = the column of features (eg prescriptions, diagnoses, procedures) given to patient\n",
    "    prop = the proportion of positive patients the feature must have occured in to keep it\"\"\"\n",
    "    pos_df = input_df.loc[input_df['hadm_id'].isin(pos_ids),]\n",
    "    occurance = pos_df[feature_col].value_counts()\n",
    "    keep_features = occurance.index[occurance > (len(pos_ids)*prop)]\n",
    "    print('{} features found among >= {}% of positive cases'.format(len(keep_features), prop*100))\n",
    "    return input_df.loc[input_df[feature_col].isin(keep_features),:]\n",
    "\n",
    "\n",
    "def filter_by_presence_in_general(input_df, feature_col, prop=1/100):\n",
    "    \"\"\"Function to remove features unlikely to be informative for outcome because rare in dataset.\n",
    "    input_df = the input predictors\n",
    "    feature_col = the column of features (eg prescriptions, diagnoses, procedures) given to patient\n",
    "    prop = the proportion of hadm_ids the feature must have occured in to keep it\"\"\"\n",
    "    occurance = input_df[feature_col].value_counts()\n",
    "    keep_features = occurance.index[occurance > (len(input_df['hadm_id'].unique())*prop)]\n",
    "    print('{} features found among >= {}% of positive cases'.format(len(keep_features), prop*100))\n",
    "    return input_df.loc[input_df[feature_col].isin(keep_features),:]\n",
    "\n",
    "from sklearn.preprocessing import MinMaxScaler\n",
    "def onehot_features(long_df, feature_col):\n",
    "    to_onehot = [feature_col]\n",
    "    raw_oh_dat = pd.get_dummies(long_df, columns = to_onehot, drop_first = True)\n",
    "    summed_dat = raw_oh_dat.groupby('hadm_id').sum()\n",
    "    bool_dat = summed_dat > 0\n",
    "    oh_dat = bool_dat.astype('int')\n",
    "    total_col = 'total_{}'.format(feature_col)\n",
    "    oh_dat[total_col] = oh_dat.sum(axis=1)\n",
    "    scaler = MinMaxScaler()\n",
    "    oh_dat[[total_col]] = scaler.fit_transform(oh_dat[[total_col]])\n",
    "    return oh_dat\n",
    "\n",
    "from sklearn.linear_model import LogisticRegression\n",
    "from sklearn.feature_selection import SelectFromModel\n",
    "def logistic_select_features(dat, y_train, feature_col, threshold):\n",
    "    \"\"\"feature selection using l1 regularization.\n",
    "    dat = full dataset of features\n",
    "    y_train = the training outcome data indexed with hadm_id\n",
    "    The data are subset to match just the test set, then logistic regression coefficient is used for selection\"\"\"\n",
    "    #make sure data and training outputs line up\n",
    "    dat_for_train = dat.copy()\n",
    "    dat_ids = set(dat_for_train.index)\n",
    "    y_ids = set(y_train.index)\n",
    "    shared_ids = list(dat_ids.intersection(y_ids))\n",
    "    dat_X_train = dat_for_train.loc[shared_ids,:] #first subset for training set\n",
    "    dat_y_train = y_train.loc[shared_ids]   #then subset outcomes to match\n",
    "    matched = np.sum(dat_X_train.index==dat_y_train.index) ==dat_X_train.shape[0]\n",
    "    print('training data and outcomes matched = {}'.format(matched))\n",
    "    print('total ids used for training = {}'.format(dat_X_train.shape[0]))\n",
    "    #do selection\n",
    "    sel = SelectFromModel(estimator=LogisticRegression(max_iter=1000),\n",
    "                         threshold = threshold).fit(dat_X_train, dat_y_train)\n",
    "    coefs = sel.estimator_.coef_\n",
    "    #write out for prettier plotting\n",
    "    pd.DataFrame({'coef':coefs[0]}).to_csv('../data/for_plotting/' + feature_col + '_coefs.csv',\n",
    "                                          index=False)\n",
    "    #plot the distribution of coefficients\n",
    "    plt.hist(coefs[0], bins=100)\n",
    "    plt.xlabel('coeficient')\n",
    "    plt.ylabel('frequency')\n",
    "    plt.title('before selection')\n",
    "    plt.show()\n",
    "    #plot the distribution of coefficients after selection\n",
    "    plt.hist(coefs[0][sel.get_support()], bins=100)\n",
    "    plt.xlabel('coeficient')\n",
    "    plt.ylabel('frequency')\n",
    "    plt.title('after selection')\n",
    "    plt.show()\n",
    "    #make selections\n",
    "    print(np.mean(np.absolute(coefs)))\n",
    "    print('selector threshold = {}'.format(sel.threshold_))\n",
    "    sel.get_support()\n",
    "    nonZeroN = np.sum(sel.get_support())\n",
    "    print('{} total featuers had nonzero coefficients after selection'.format(nonZeroN))\n",
    "    res = dat.loc[:,list(dat_X_train.columns[sel.get_support()])]\n",
    "    return res\n",
    "\n",
    "#function to combine all above\n",
    "def select_presence_absence_features(input_df, all_ids, train_ids, pos_ids, feature_col, prop, y_train, threshold):\n",
    "    filt_pos = filter_by_presence_in_pos(input_df, pos_ids, feature_col, prop)\n",
    "    filt_gen = filter_by_presence_in_general(input_df, feature_col, prop=prop)\n",
    "    keep = pd.concat([filt_pos, filt_gen], 0)\n",
    "    filt_df = input_df.loc[input_df[feature_col].isin(keep[feature_col])]\n",
    "    print('{} features total unique feature kept for selection'.format(len(filt_df[feature_col].unique()), prop*100))\n",
    "    oh_dat = onehot_features(filt_df, feature_col)\n",
    "    sel_dat = logistic_select_features(oh_dat, y_train, feature_col, threshold)\n",
    "    return sel_dat\n",
    "\n",
    "    \n",
    "#vars for recording\n",
    "dat_dict = {'odat': odat}\n",
    "dat_list = ['odat']"
   ]
  },
  {
   "cell_type": "markdown",
   "metadata": {},
   "source": [
    "## add presence absence features"
   ]
  },
  {
   "cell_type": "markdown",
   "metadata": {},
   "source": [
    "## services"
   ]
  },
  {
   "cell_type": "code",
   "execution_count": 9,
   "metadata": {
    "scrolled": true
   },
   "outputs": [
    {
     "name": "stdout",
     "output_type": "stream",
     "text": [
      "11 features found among >= 1.0% of positive cases\n",
      "12 features found among >= 1.0% of positive cases\n",
      "12 features total unique feature kept for selection\n",
      "training data and outcomes matched = True\n",
      "total ids used for training = 34745\n"
     ]
    },
    {
     "data": {
      "image/png": "[encoded data removed]",
      "text/plain": [
       "<Figure size 432x288 with 1 Axes>"
      ]
     },
     "metadata": {
      "needs_background": "light"
     },
     "output_type": "display_data"
    },
    {
     "data": {
      "image/png": "[encoded data removed]",
      "text/plain": [
       "<Figure size 432x288 with 1 Axes>"
      ]
     },
     "metadata": {
      "needs_background": "light"
     },
     "output_type": "display_data"
    },
    {
     "name": "stdout",
     "output_type": "stream",
     "text": [
      "0.5323720537911941\n",
      "selector threshold = 0.2\n",
      "9 total featuers had nonzero coefficients after selection\n"
     ]
    },
    {
     "data": {
      "text/plain": [
       "(58029, 9)"
      ]
     },
     "execution_count": 9,
     "metadata": {},
     "output_type": "execute_result"
    }
   ],
   "source": [
    "#load patient data\n",
    "query = query_schema + \\\n",
    "\"\"\"select \n",
    "    hadm_id,\n",
    "    curr_service\n",
    "    from SERVICES\"\"\"\n",
    "serv_dat = pd.read_sql_query(query,con)\n",
    "serv_dat = select_presence_absence_features(input_df = serv_dat,\n",
    "                                            all_ids = all_hadm_ids,\n",
    "                                          train_ids = train_hadm_ids,\n",
    "                                          pos_ids = train_pos_hadm_ids,\n",
    "                                          feature_col = 'curr_service',\n",
    "                                          prop=PROP,\n",
    "                                          y_train = y_train,\n",
    "                                            threshold=THRESHOLD)\n",
    "dat_dict['services'] = serv_dat\n",
    "dat_list.append('services')\n",
    "serv_dat.shape"
   ]
  },
  {
   "cell_type": "markdown",
   "metadata": {},
   "source": [
    "### diagnoses"
   ]
  },
  {
   "cell_type": "code",
   "execution_count": 11,
   "metadata": {},
   "outputs": [
    {
     "name": "stdout",
     "output_type": "stream",
     "text": [
      "total unique diagnoses = 6985\n",
      "270 features found among >= 1.0% of positive cases\n",
      "211 features found among >= 1.0% of positive cases\n",
      "309 features total unique feature kept for selection\n",
      "training data and outcomes matched = True\n",
      "total ids used for training = 34395\n"
     ]
    },
    {
     "data": {
      "image/png": "[encoded data removed]",
      "text/plain": [
       "<Figure size 432x288 with 1 Axes>"
      ]
     },
     "metadata": {
      "needs_background": "light"
     },
     "output_type": "display_data"
    },
    {
     "data": {
      "image/png": "[encoded data removed]",
      "text/plain": [
       "<Figure size 432x288 with 1 Axes>"
      ]
     },
     "metadata": {
      "needs_background": "light"
     },
     "output_type": "display_data"
    },
    {
     "name": "stdout",
     "output_type": "stream",
     "text": [
      "0.26636374930725687\n",
      "selector threshold = 0.2\n",
      "152 total featuers had nonzero coefficients after selection\n"
     ]
    },
    {
     "data": {
      "text/plain": [
       "(57791, 152)"
      ]
     },
     "execution_count": 11,
     "metadata": {},
     "output_type": "execute_result"
    }
   ],
   "source": [
    "#load patient data\n",
    "query = query_schema + \\\n",
    "\"\"\"select \n",
    "    hadm_id,\n",
    "    icd9_code\n",
    "    from DIAGNOSES_ICD\"\"\"\n",
    "ddat = pd.read_sql_query(query,con)\n",
    "ddat = ddat.rename(columns = {'icd9_code':'diagnosis_icd9'})\n",
    "print('total unique diagnoses = {}'.format(len(ddat['diagnosis_icd9'].unique())))\n",
    "ddat = select_presence_absence_features(input_df = ddat,\n",
    "                                        all_ids = all_hadm_ids,\n",
    "                                          train_ids = train_hadm_ids,\n",
    "                                          pos_ids = train_pos_hadm_ids,\n",
    "                                          feature_col = 'diagnosis_icd9',\n",
    "                                          prop=PROP,\n",
    "                                          y_train = y_train,\n",
    "                                         threshold=THRESHOLD)\n",
    "dat_dict['diagnoses'] = ddat\n",
    "dat_list.append('diagnoses')\n",
    "ddat.shape"
   ]
  },
  {
   "cell_type": "markdown",
   "metadata": {},
   "source": [
    "### procedures"
   ]
  },
  {
   "cell_type": "code",
   "execution_count": 12,
   "metadata": {},
   "outputs": [
    {
     "name": "stdout",
     "output_type": "stream",
     "text": [
      "total unique diagnoses = 2032\n",
      "61 features found among >= 1.0% of positive cases\n",
      "72 features found among >= 1.0% of positive cases\n",
      "76 features total unique feature kept for selection\n",
      "training data and outcomes matched = True\n",
      "total ids used for training = 27600\n"
     ]
    },
    {
     "data": {
      "image/png": "[encoded data removed]",
      "text/plain": [
       "<Figure size 432x288 with 1 Axes>"
      ]
     },
     "metadata": {
      "needs_background": "light"
     },
     "output_type": "display_data"
    },
    {
     "data": {
      "image/png": "[encoded data removed]",
      "text/plain": [
       "<Figure size 432x288 with 1 Axes>"
      ]
     },
     "metadata": {
      "needs_background": "light"
     },
     "output_type": "display_data"
    },
    {
     "name": "stdout",
     "output_type": "stream",
     "text": [
      "0.32496186016513123\n",
      "selector threshold = 0.2\n",
      "44 total featuers had nonzero coefficients after selection\n"
     ]
    },
    {
     "data": {
      "text/plain": [
       "(47758, 44)"
      ]
     },
     "execution_count": 12,
     "metadata": {},
     "output_type": "execute_result"
    }
   ],
   "source": [
    "#load patient data\n",
    "query = query_schema + \\\n",
    "\"\"\"select \n",
    "    hadm_id,\n",
    "    icd9_code\n",
    "    from PROCEDURES_ICD\"\"\"\n",
    "proc_dat = pd.read_sql_query(query, con)\n",
    "proc_dat = proc_dat.rename(columns = {'icd9_code':'procedure_icd9'})\n",
    "print('total unique procedures = {}'.format(len(proc_dat['procedure_icd9'].unique())))\n",
    "proc_dat = select_presence_absence_features(input_df = proc_dat,\n",
    "                                            all_ids = all_hadm_ids,\n",
    "                                          train_ids = train_hadm_ids,\n",
    "                                          pos_ids = train_pos_hadm_ids,\n",
    "                                          feature_col = 'procedure_icd9',\n",
    "                                          prop=PROP,\n",
    "                                          y_train = y_train,\n",
    "                                           threshold=THRESHOLD)\n",
    "dat_dict['procedures'] = proc_dat\n",
    "dat_list.append('procedures')\n",
    "proc_dat.shape"
   ]
  },
  {
   "cell_type": "markdown",
   "metadata": {},
   "source": [
    "### prescriptions"
   ]
  },
  {
   "cell_type": "code",
   "execution_count": 33,
   "metadata": {
    "scrolled": false
   },
   "outputs": [
    {
     "name": "stdout",
     "output_type": "stream",
     "text": [
      "138 features found among >= 10.0% of positive cases\n",
      "146 features found among >= 10.0% of positive cases\n",
      "163 features total unique feature kept for selection\n",
      "training data and outcomes matched = True\n",
      "total ids used for training = 32360\n"
     ]
    },
    {
     "data": {
      "image/png": "[encoded data removed]",
      "text/plain": [
       "<Figure size 432x288 with 1 Axes>"
      ]
     },
     "metadata": {
      "needs_background": "light"
     },
     "output_type": "display_data"
    },
    {
     "data": {
      "image/png": "[encoded data removed]",
      "text/plain": [
       "<Figure size 432x288 with 1 Axes>"
      ]
     },
     "metadata": {
      "needs_background": "light"
     },
     "output_type": "display_data"
    },
    {
     "name": "stdout",
     "output_type": "stream",
     "text": [
      "0.17199785993023745\n",
      "selector threshold = 0.2\n",
      "58 total featuers had nonzero coefficients after selection\n"
     ]
    },
    {
     "data": {
      "text/plain": [
       "(49856, 58)"
      ]
     },
     "execution_count": 33,
     "metadata": {},
     "output_type": "execute_result"
    }
   ],
   "source": [
    "#load patient data\n",
    "query = query_schema + \\\n",
    "\"\"\"select \n",
    "    hadm_id,\n",
    "    drug\n",
    "    from PRESCRIPTIONS\"\"\"\n",
    "drug_dat = pd.read_sql_query(query, con)\n",
    "drug_dat = select_presence_absence_features(input_df = drug_dat,\n",
    "                                            all_ids = all_hadm_ids,\n",
    "                                          train_ids = train_hadm_ids,\n",
    "                                          pos_ids = train_pos_hadm_ids,\n",
    "                                          feature_col = 'drug',\n",
    "                                          prop=1/10,\n",
    "                                          y_train = y_train,\n",
    "                                           threshold=THRESHOLD)\n",
    "dat_dict['drugs'] = drug_dat\n",
    "dat_list.append('drugs')\n",
    "drug_dat.shape"
   ]
  },
  {
   "cell_type": "markdown",
   "metadata": {},
   "source": [
    "### icu wards\n",
    "Here we get all the ICU wards the pateint was exposed to"
   ]
  },
  {
   "cell_type": "code",
   "execution_count": 34,
   "metadata": {},
   "outputs": [
    {
     "name": "stdout",
     "output_type": "stream",
     "text": [
      "5 features found among >= 2.0% of positive cases\n",
      "6 features found among >= 2.0% of positive cases\n",
      "6 features total unique feature kept for selection\n",
      "training data and outcomes matched = True\n",
      "total ids used for training = 35164\n"
     ]
    },
    {
     "data": {
      "image/png": "[encoded data removed]",
      "text/plain": [
       "<Figure size 432x288 with 1 Axes>"
      ]
     },
     "metadata": {
      "needs_background": "light"
     },
     "output_type": "display_data"
    },
    {
     "data": {
      "image/png": "[encoded data removed]",
      "text/plain": [
       "<Figure size 432x288 with 1 Axes>"
      ]
     },
     "metadata": {
      "needs_background": "light"
     },
     "output_type": "display_data"
    },
    {
     "name": "stdout",
     "output_type": "stream",
     "text": [
      "0.2718126957663292\n",
      "selector threshold = 0.2\n",
      "4 total featuers had nonzero coefficients after selection\n",
      "9 features found among >= 2.0% of positive cases\n",
      "10 features found among >= 2.0% of positive cases\n",
      "10 features total unique feature kept for selection\n",
      "training data and outcomes matched = True\n",
      "total ids used for training = 34925\n"
     ]
    },
    {
     "data": {
      "image/png": "[encoded data removed]",
      "text/plain": [
       "<Figure size 432x288 with 1 Axes>"
      ]
     },
     "metadata": {
      "needs_background": "light"
     },
     "output_type": "display_data"
    },
    {
     "data": {
      "image/png": "[encoded data removed]",
      "text/plain": [
       "<Figure size 432x288 with 1 Axes>"
      ]
     },
     "metadata": {
      "needs_background": "light"
     },
     "output_type": "display_data"
    },
    {
     "name": "stdout",
     "output_type": "stream",
     "text": [
      "0.37885997945567956\n",
      "selector threshold = 0.2\n",
      "8 total featuers had nonzero coefficients after selection\n"
     ]
    }
   ],
   "source": [
    "#care unit\n",
    "careunit_dat = select_presence_absence_features(input_df = idat,\n",
    "                                            all_ids = all_hadm_ids,\n",
    "                                          train_ids = train_hadm_ids,\n",
    "                                          pos_ids = train_pos_hadm_ids,\n",
    "                                          feature_col = 'last_careunit',\n",
    "                                          prop=1/50,\n",
    "                                          y_train = y_train,\n",
    "                                           threshold=THRESHOLD)\n",
    "if careunit_dat.shape[0] > 0:\n",
    "    dat_dict['care_unit'] = careunit_dat\n",
    "    dat_list.append('care_unit')\n",
    "    careunit_dat.shape\n",
    "\n",
    "#ward\n",
    "ward_dat = select_presence_absence_features(input_df = idat,\n",
    "                                            all_ids = all_hadm_ids,\n",
    "                                          train_ids = train_hadm_ids,\n",
    "                                          pos_ids = train_pos_hadm_ids,\n",
    "                                          feature_col = 'last_wardid',\n",
    "                                          prop=1/50,\n",
    "                                          y_train = y_train,\n",
    "                                           threshold=THRESHOLD)\n",
    "if careunit_dat.shape[0] > 0:\n",
    "    dat_dict['ward'] = ward_dat\n",
    "    dat_list.append('ward')\n",
    "    ward_dat.shape"
   ]
  },
  {
   "cell_type": "markdown",
   "metadata": {},
   "source": [
    "### add discharge note features"
   ]
  },
  {
   "cell_type": "code",
   "execution_count": 35,
   "metadata": {},
   "outputs": [],
   "source": [
    "ndat = pd.read_csv('/Users/grovesdixon/projects/Insight/icu_project/my_mimic/discharge_note_features.csv', index_col='hadm_id') #build this with discharge_notes.ipynb\n",
    "dat_dict['dnotes'] = ndat\n",
    "dat_list.append('dnotes')"
   ]
  },
  {
   "cell_type": "markdown",
   "metadata": {},
   "source": [
    "## combine"
   ]
  },
  {
   "cell_type": "code",
   "execution_count": 36,
   "metadata": {
    "scrolled": true
   },
   "outputs": [
    {
     "name": "stdout",
     "output_type": "stream",
     "text": [
      "services\n",
      "diagnoses\n",
      "procedures\n",
      "drugs\n",
      "care_unit\n",
      "ward\n",
      "dnotes\n"
     ]
    }
   ],
   "source": [
    "cdat = odat.copy()\n",
    "cdat = cdat.drop(columns = ['hadm_id'])\n",
    "\n",
    "#merge them all\n",
    "for d in dat_list:\n",
    "    if d != 'odat':\n",
    "        to_add = dat_dict[d]\n",
    "        print(d)\n",
    "        cdat = pd.merge(cdat, dat_dict[d], how = 'left', on='hadm_id')\n",
    "\n",
    "        \n",
    "y = cdat['hrrd_penalized'].astype('int')\n",
    "cdat = cdat.drop(['subject_id', 'hrrd_penalized'], 1)"
   ]
  },
  {
   "cell_type": "markdown",
   "metadata": {},
   "source": [
    "### missing"
   ]
  },
  {
   "cell_type": "code",
   "execution_count": 37,
   "metadata": {},
   "outputs": [],
   "source": [
    "missing = cdat.isnull().sum()\n",
    "cols_w_missing = missing[missing>0].index\n",
    "\n",
    "#imput totals with mean\n",
    "totals_w_missing = cols_w_missing[cols_w_missing.str.contains('total_')]\n",
    "for tc in totals_w_missing:\n",
    "    cdat[tc] = cdat[tc].fillna(cdat[tc].mean())\n",
    "\n",
    "#imput the categorical cols\n",
    "categorical_w_missing = cols_w_missing[~cols_w_missing.isin(totals_w_missing)]\n",
    "for cc in categorical_w_missing:\n",
    "    cdat[cc] = cdat[cc].fillna(0)\n"
   ]
  },
  {
   "cell_type": "markdown",
   "metadata": {},
   "source": [
    "### onehot"
   ]
  },
  {
   "cell_type": "code",
   "execution_count": 38,
   "metadata": {
    "scrolled": true
   },
   "outputs": [
    {
     "data": {
      "text/html": [
       "<div>\n",
       "<style scoped>\n",
       "    .dataframe tbody tr th:only-of-type {\n",
       "        vertical-align: middle;\n",
       "    }\n",
       "\n",
       "    .dataframe tbody tr th {\n",
       "        vertical-align: top;\n",
       "    }\n",
       "\n",
       "    .dataframe thead th {\n",
       "        text-align: right;\n",
       "    }\n",
       "</style>\n",
       "<table border=\"1\" class=\"dataframe\">\n",
       "  <thead>\n",
       "    <tr style=\"text-align: right;\">\n",
       "      <th></th>\n",
       "      <th>age</th>\n",
       "      <th>icu_duration</th>\n",
       "      <th>nicu_stays</th>\n",
       "      <th>curr_service_CSURG</th>\n",
       "      <th>curr_service_MED</th>\n",
       "      <th>curr_service_NMED</th>\n",
       "      <th>curr_service_NSURG</th>\n",
       "      <th>curr_service_OMED</th>\n",
       "      <th>curr_service_ORTHO</th>\n",
       "      <th>curr_service_SURG</th>\n",
       "      <th>...</th>\n",
       "      <th>ethnicity_PORTUGUESE</th>\n",
       "      <th>ethnicity_SOUTH AMERICAN</th>\n",
       "      <th>ethnicity_UNABLE TO OBTAIN</th>\n",
       "      <th>ethnicity_UNKNOWN/NOT SPECIFIED</th>\n",
       "      <th>ethnicity_WHITE</th>\n",
       "      <th>ethnicity_WHITE - BRAZILIAN</th>\n",
       "      <th>ethnicity_WHITE - EASTERN EUROPEAN</th>\n",
       "      <th>ethnicity_WHITE - OTHER EUROPEAN</th>\n",
       "      <th>ethnicity_WHITE - RUSSIAN</th>\n",
       "      <th>gender_M</th>\n",
       "    </tr>\n",
       "    <tr>\n",
       "      <th>hadm_id</th>\n",
       "      <th></th>\n",
       "      <th></th>\n",
       "      <th></th>\n",
       "      <th></th>\n",
       "      <th></th>\n",
       "      <th></th>\n",
       "      <th></th>\n",
       "      <th></th>\n",
       "      <th></th>\n",
       "      <th></th>\n",
       "      <th></th>\n",
       "      <th></th>\n",
       "      <th></th>\n",
       "      <th></th>\n",
       "      <th></th>\n",
       "      <th></th>\n",
       "      <th></th>\n",
       "      <th></th>\n",
       "      <th></th>\n",
       "      <th></th>\n",
       "      <th></th>\n",
       "    </tr>\n",
       "  </thead>\n",
       "  <tbody>\n",
       "    <tr>\n",
       "      <th>165315</th>\n",
       "      <td>64.969863</td>\n",
       "      <td>27.450000</td>\n",
       "      <td>1</td>\n",
       "      <td>0.0</td>\n",
       "      <td>1.0</td>\n",
       "      <td>0.0</td>\n",
       "      <td>0.0</td>\n",
       "      <td>0.0</td>\n",
       "      <td>0.0</td>\n",
       "      <td>0.0</td>\n",
       "      <td>...</td>\n",
       "      <td>0</td>\n",
       "      <td>0</td>\n",
       "      <td>0</td>\n",
       "      <td>0</td>\n",
       "      <td>1</td>\n",
       "      <td>0</td>\n",
       "      <td>0</td>\n",
       "      <td>0</td>\n",
       "      <td>0</td>\n",
       "      <td>0</td>\n",
       "    </tr>\n",
       "    <tr>\n",
       "      <th>152223</th>\n",
       "      <td>71.178082</td>\n",
       "      <td>30.337778</td>\n",
       "      <td>1</td>\n",
       "      <td>1.0</td>\n",
       "      <td>0.0</td>\n",
       "      <td>0.0</td>\n",
       "      <td>0.0</td>\n",
       "      <td>0.0</td>\n",
       "      <td>0.0</td>\n",
       "      <td>0.0</td>\n",
       "      <td>...</td>\n",
       "      <td>0</td>\n",
       "      <td>0</td>\n",
       "      <td>0</td>\n",
       "      <td>0</td>\n",
       "      <td>1</td>\n",
       "      <td>0</td>\n",
       "      <td>0</td>\n",
       "      <td>0</td>\n",
       "      <td>0</td>\n",
       "      <td>1</td>\n",
       "    </tr>\n",
       "    <tr>\n",
       "      <th>124321</th>\n",
       "      <td>75.304110</td>\n",
       "      <td>28.469444</td>\n",
       "      <td>1</td>\n",
       "      <td>0.0</td>\n",
       "      <td>0.0</td>\n",
       "      <td>0.0</td>\n",
       "      <td>1.0</td>\n",
       "      <td>0.0</td>\n",
       "      <td>0.0</td>\n",
       "      <td>0.0</td>\n",
       "      <td>...</td>\n",
       "      <td>0</td>\n",
       "      <td>0</td>\n",
       "      <td>0</td>\n",
       "      <td>0</td>\n",
       "      <td>1</td>\n",
       "      <td>0</td>\n",
       "      <td>0</td>\n",
       "      <td>0</td>\n",
       "      <td>0</td>\n",
       "      <td>1</td>\n",
       "    </tr>\n",
       "    <tr>\n",
       "      <th>161859</th>\n",
       "      <td>39.041096</td>\n",
       "      <td>12.296944</td>\n",
       "      <td>1</td>\n",
       "      <td>0.0</td>\n",
       "      <td>0.0</td>\n",
       "      <td>0.0</td>\n",
       "      <td>0.0</td>\n",
       "      <td>0.0</td>\n",
       "      <td>0.0</td>\n",
       "      <td>0.0</td>\n",
       "      <td>...</td>\n",
       "      <td>0</td>\n",
       "      <td>0</td>\n",
       "      <td>0</td>\n",
       "      <td>0</td>\n",
       "      <td>1</td>\n",
       "      <td>0</td>\n",
       "      <td>0</td>\n",
       "      <td>0</td>\n",
       "      <td>0</td>\n",
       "      <td>1</td>\n",
       "    </tr>\n",
       "    <tr>\n",
       "      <th>129635</th>\n",
       "      <td>58.989041</td>\n",
       "      <td>85.117778</td>\n",
       "      <td>1</td>\n",
       "      <td>0.0</td>\n",
       "      <td>0.0</td>\n",
       "      <td>0.0</td>\n",
       "      <td>0.0</td>\n",
       "      <td>0.0</td>\n",
       "      <td>0.0</td>\n",
       "      <td>0.0</td>\n",
       "      <td>...</td>\n",
       "      <td>0</td>\n",
       "      <td>0</td>\n",
       "      <td>0</td>\n",
       "      <td>0</td>\n",
       "      <td>1</td>\n",
       "      <td>0</td>\n",
       "      <td>0</td>\n",
       "      <td>0</td>\n",
       "      <td>0</td>\n",
       "      <td>1</td>\n",
       "    </tr>\n",
       "    <tr>\n",
       "      <th>...</th>\n",
       "      <td>...</td>\n",
       "      <td>...</td>\n",
       "      <td>...</td>\n",
       "      <td>...</td>\n",
       "      <td>...</td>\n",
       "      <td>...</td>\n",
       "      <td>...</td>\n",
       "      <td>...</td>\n",
       "      <td>...</td>\n",
       "      <td>...</td>\n",
       "      <td>...</td>\n",
       "      <td>...</td>\n",
       "      <td>...</td>\n",
       "      <td>...</td>\n",
       "      <td>...</td>\n",
       "      <td>...</td>\n",
       "      <td>...</td>\n",
       "      <td>...</td>\n",
       "      <td>...</td>\n",
       "      <td>...</td>\n",
       "      <td>...</td>\n",
       "    </tr>\n",
       "    <tr>\n",
       "      <th>141860</th>\n",
       "      <td>80.389041</td>\n",
       "      <td>186.932500</td>\n",
       "      <td>1</td>\n",
       "      <td>0.0</td>\n",
       "      <td>0.0</td>\n",
       "      <td>0.0</td>\n",
       "      <td>0.0</td>\n",
       "      <td>0.0</td>\n",
       "      <td>0.0</td>\n",
       "      <td>1.0</td>\n",
       "      <td>...</td>\n",
       "      <td>0</td>\n",
       "      <td>0</td>\n",
       "      <td>0</td>\n",
       "      <td>0</td>\n",
       "      <td>1</td>\n",
       "      <td>0</td>\n",
       "      <td>0</td>\n",
       "      <td>0</td>\n",
       "      <td>0</td>\n",
       "      <td>0</td>\n",
       "    </tr>\n",
       "    <tr>\n",
       "      <th>187987</th>\n",
       "      <td>53.613699</td>\n",
       "      <td>78.476667</td>\n",
       "      <td>2</td>\n",
       "      <td>0.0</td>\n",
       "      <td>0.0</td>\n",
       "      <td>0.0</td>\n",
       "      <td>0.0</td>\n",
       "      <td>0.0</td>\n",
       "      <td>1.0</td>\n",
       "      <td>0.0</td>\n",
       "      <td>...</td>\n",
       "      <td>0</td>\n",
       "      <td>0</td>\n",
       "      <td>0</td>\n",
       "      <td>0</td>\n",
       "      <td>1</td>\n",
       "      <td>0</td>\n",
       "      <td>0</td>\n",
       "      <td>0</td>\n",
       "      <td>0</td>\n",
       "      <td>1</td>\n",
       "    </tr>\n",
       "    <tr>\n",
       "      <th>190603</th>\n",
       "      <td>78.326027</td>\n",
       "      <td>54.931111</td>\n",
       "      <td>1</td>\n",
       "      <td>1.0</td>\n",
       "      <td>0.0</td>\n",
       "      <td>0.0</td>\n",
       "      <td>0.0</td>\n",
       "      <td>0.0</td>\n",
       "      <td>0.0</td>\n",
       "      <td>0.0</td>\n",
       "      <td>...</td>\n",
       "      <td>0</td>\n",
       "      <td>0</td>\n",
       "      <td>0</td>\n",
       "      <td>0</td>\n",
       "      <td>1</td>\n",
       "      <td>0</td>\n",
       "      <td>0</td>\n",
       "      <td>0</td>\n",
       "      <td>0</td>\n",
       "      <td>1</td>\n",
       "    </tr>\n",
       "    <tr>\n",
       "      <th>191113</th>\n",
       "      <td>19.410959</td>\n",
       "      <td>21.066667</td>\n",
       "      <td>1</td>\n",
       "      <td>0.0</td>\n",
       "      <td>0.0</td>\n",
       "      <td>0.0</td>\n",
       "      <td>0.0</td>\n",
       "      <td>0.0</td>\n",
       "      <td>0.0</td>\n",
       "      <td>0.0</td>\n",
       "      <td>...</td>\n",
       "      <td>0</td>\n",
       "      <td>0</td>\n",
       "      <td>0</td>\n",
       "      <td>0</td>\n",
       "      <td>1</td>\n",
       "      <td>0</td>\n",
       "      <td>0</td>\n",
       "      <td>0</td>\n",
       "      <td>0</td>\n",
       "      <td>0</td>\n",
       "    </tr>\n",
       "    <tr>\n",
       "      <th>122631</th>\n",
       "      <td>42.558904</td>\n",
       "      <td>46.852778</td>\n",
       "      <td>1</td>\n",
       "      <td>0.0</td>\n",
       "      <td>0.0</td>\n",
       "      <td>0.0</td>\n",
       "      <td>0.0</td>\n",
       "      <td>0.0</td>\n",
       "      <td>0.0</td>\n",
       "      <td>0.0</td>\n",
       "      <td>...</td>\n",
       "      <td>0</td>\n",
       "      <td>0</td>\n",
       "      <td>0</td>\n",
       "      <td>0</td>\n",
       "      <td>1</td>\n",
       "      <td>0</td>\n",
       "      <td>0</td>\n",
       "      <td>0</td>\n",
       "      <td>0</td>\n",
       "      <td>1</td>\n",
       "    </tr>\n",
       "  </tbody>\n",
       "</table>\n",
       "<p>43956 rows × 457 columns</p>\n",
       "</div>"
      ],
      "text/plain": [
       "               age  icu_duration  nicu_stays  curr_service_CSURG  \\\n",
       "hadm_id                                                            \n",
       "165315   64.969863     27.450000           1                 0.0   \n",
       "152223   71.178082     30.337778           1                 1.0   \n",
       "124321   75.304110     28.469444           1                 0.0   \n",
       "161859   39.041096     12.296944           1                 0.0   \n",
       "129635   58.989041     85.117778           1                 0.0   \n",
       "...            ...           ...         ...                 ...   \n",
       "141860   80.389041    186.932500           1                 0.0   \n",
       "187987   53.613699     78.476667           2                 0.0   \n",
       "190603   78.326027     54.931111           1                 1.0   \n",
       "191113   19.410959     21.066667           1                 0.0   \n",
       "122631   42.558904     46.852778           1                 0.0   \n",
       "\n",
       "         curr_service_MED  curr_service_NMED  curr_service_NSURG  \\\n",
       "hadm_id                                                            \n",
       "165315                1.0                0.0                 0.0   \n",
       "152223                0.0                0.0                 0.0   \n",
       "124321                0.0                0.0                 1.0   \n",
       "161859                0.0                0.0                 0.0   \n",
       "129635                0.0                0.0                 0.0   \n",
       "...                   ...                ...                 ...   \n",
       "141860                0.0                0.0                 0.0   \n",
       "187987                0.0                0.0                 0.0   \n",
       "190603                0.0                0.0                 0.0   \n",
       "191113                0.0                0.0                 0.0   \n",
       "122631                0.0                0.0                 0.0   \n",
       "\n",
       "         curr_service_OMED  curr_service_ORTHO  curr_service_SURG  ...  \\\n",
       "hadm_id                                                            ...   \n",
       "165315                 0.0                 0.0                0.0  ...   \n",
       "152223                 0.0                 0.0                0.0  ...   \n",
       "124321                 0.0                 0.0                0.0  ...   \n",
       "161859                 0.0                 0.0                0.0  ...   \n",
       "129635                 0.0                 0.0                0.0  ...   \n",
       "...                    ...                 ...                ...  ...   \n",
       "141860                 0.0                 0.0                1.0  ...   \n",
       "187987                 0.0                 1.0                0.0  ...   \n",
       "190603                 0.0                 0.0                0.0  ...   \n",
       "191113                 0.0                 0.0                0.0  ...   \n",
       "122631                 0.0                 0.0                0.0  ...   \n",
       "\n",
       "         ethnicity_PORTUGUESE  ethnicity_SOUTH AMERICAN  \\\n",
       "hadm_id                                                   \n",
       "165315                      0                         0   \n",
       "152223                      0                         0   \n",
       "124321                      0                         0   \n",
       "161859                      0                         0   \n",
       "129635                      0                         0   \n",
       "...                       ...                       ...   \n",
       "141860                      0                         0   \n",
       "187987                      0                         0   \n",
       "190603                      0                         0   \n",
       "191113                      0                         0   \n",
       "122631                      0                         0   \n",
       "\n",
       "         ethnicity_UNABLE TO OBTAIN  ethnicity_UNKNOWN/NOT SPECIFIED  \\\n",
       "hadm_id                                                                \n",
       "165315                            0                                0   \n",
       "152223                            0                                0   \n",
       "124321                            0                                0   \n",
       "161859                            0                                0   \n",
       "129635                            0                                0   \n",
       "...                             ...                              ...   \n",
       "141860                            0                                0   \n",
       "187987                            0                                0   \n",
       "190603                            0                                0   \n",
       "191113                            0                                0   \n",
       "122631                            0                                0   \n",
       "\n",
       "         ethnicity_WHITE  ethnicity_WHITE - BRAZILIAN  \\\n",
       "hadm_id                                                 \n",
       "165315                 1                            0   \n",
       "152223                 1                            0   \n",
       "124321                 1                            0   \n",
       "161859                 1                            0   \n",
       "129635                 1                            0   \n",
       "...                  ...                          ...   \n",
       "141860                 1                            0   \n",
       "187987                 1                            0   \n",
       "190603                 1                            0   \n",
       "191113                 1                            0   \n",
       "122631                 1                            0   \n",
       "\n",
       "         ethnicity_WHITE - EASTERN EUROPEAN  ethnicity_WHITE - OTHER EUROPEAN  \\\n",
       "hadm_id                                                                         \n",
       "165315                                    0                                 0   \n",
       "152223                                    0                                 0   \n",
       "124321                                    0                                 0   \n",
       "161859                                    0                                 0   \n",
       "129635                                    0                                 0   \n",
       "...                                     ...                               ...   \n",
       "141860                                    0                                 0   \n",
       "187987                                    0                                 0   \n",
       "190603                                    0                                 0   \n",
       "191113                                    0                                 0   \n",
       "122631                                    0                                 0   \n",
       "\n",
       "         ethnicity_WHITE - RUSSIAN  gender_M  \n",
       "hadm_id                                       \n",
       "165315                           0         0  \n",
       "152223                           0         1  \n",
       "124321                           0         1  \n",
       "161859                           0         1  \n",
       "129635                           0         1  \n",
       "...                            ...       ...  \n",
       "141860                           0         0  \n",
       "187987                           0         1  \n",
       "190603                           0         1  \n",
       "191113                           0         0  \n",
       "122631                           0         1  \n",
       "\n",
       "[43956 rows x 457 columns]"
      ]
     },
     "execution_count": 38,
     "metadata": {},
     "output_type": "execute_result"
    }
   ],
   "source": [
    "#onehot encode the pdat columns\n",
    "to_onehot = ['discharge_location', \n",
    "             'insurance', \n",
    "             'language',\n",
    "             'religion', \n",
    "             'marital_status',\n",
    "             'ethnicity',\n",
    "            'gender']\n",
    "cdat = pd.get_dummies(cdat, columns = to_onehot, drop_first = True)\n",
    "cdat"
   ]
  },
  {
   "cell_type": "markdown",
   "metadata": {},
   "source": [
    "### scale"
   ]
  },
  {
   "cell_type": "code",
   "execution_count": 39,
   "metadata": {},
   "outputs": [
    {
     "name": "stdout",
     "output_type": "stream",
     "text": [
      "maximum value in dataframe = 31.0\n"
     ]
    }
   ],
   "source": [
    "#Note the 'total' columns created for presence absence sets above are already scaled\n",
    "#scale the dataframe\n",
    "from sklearn.preprocessing import MinMaxScaler\n",
    "scaler = MinMaxScaler()\n",
    "need_scaling = [\n",
    "    'age', 'icu_duration', 'nicu_stays'\n",
    "]\n",
    "cdat[need_scaling] = scaler.fit_transform(cdat[need_scaling])\n",
    "print('maximum value in dataframe = {}'.format(max(cdat.max())))"
   ]
  },
  {
   "cell_type": "markdown",
   "metadata": {},
   "source": [
    "### handle colinearity\n",
    "greedily take the member of each pair that correlates better with outcome"
   ]
  },
  {
   "cell_type": "code",
   "execution_count": 40,
   "metadata": {},
   "outputs": [
    {
     "name": "stdout",
     "output_type": "stream",
     "text": [
      "6 features from 6 feature pairs with correlations > 0.75 were dropped\n"
     ]
    }
   ],
   "source": [
    "#get highly correlated pairs\n",
    "m = cdat.corr()\n",
    "cor_df = m.stack().reset_index()\n",
    "cor_df.columns = ['f1', 'f2', 'cor']\n",
    "cor_df = cor_df.loc[cor_df['f1']!=cor_df['f2'],:]\n",
    "hcor_df = cor_df.loc[np.abs(cor_df['cor'])>0.75,:]\n",
    "sorted_pairs = pd.DataFrame(hcor_df.loc[:,['f1','f2']].apply(lambda x: x.sort_values().values, axis=1))\n",
    "dups = pd.DataFrame(sorted_pairs[0].tolist(), index= sorted_pairs.index).duplicated()\n",
    "hcor_df = hcor_df.loc[~dups,:]\n",
    "\n",
    "#drop the lesser of the two\n",
    "def col_outcome_cor(col):\n",
    "    c = cdat[col].corr(y)\n",
    "    return(c)\n",
    "col_outcome_cor('curr_service_CSURG')\n",
    "hcor_df['f1c'] = hcor_df['f1'].apply(col_outcome_cor)\n",
    "hcor_df['f2c'] = hcor_df['f2'].apply(col_outcome_cor)\n",
    "f1_higher = hcor_df['f1c'] >= hcor_df['f2c']\n",
    "drop_count = 0\n",
    "for i in range(len(f1_higher)):\n",
    "    f1 = hcor_df.loc[hcor_df.index[i],'f1']\n",
    "    f2 = hcor_df.loc[hcor_df.index[i],'f2']\n",
    "    compare = f1_higher.loc[f1_higher.index[i]]\n",
    "    if compare:\n",
    "        to_drop = f2\n",
    "    else:\n",
    "        to_drop=f1\n",
    "    if str(to_drop) in cdat.columns:\n",
    "        cdat.drop(columns=[to_drop])\n",
    "        drop_count += 1\n",
    "print('{} features from {} feature pairs with correlations > 0.75 were dropped'.format(drop_count, hcor_df.shape[0]))"
   ]
  },
  {
   "cell_type": "markdown",
   "metadata": {},
   "source": [
    "### retrieve training and test sets"
   ]
  },
  {
   "cell_type": "code",
   "execution_count": 41,
   "metadata": {},
   "outputs": [
    {
     "name": "stdout",
     "output_type": "stream",
     "text": [
      "(35164, 457)\n",
      "908\n",
      "(8792, 457)\n",
      "227\n"
     ]
    }
   ],
   "source": [
    "X_train = cdat.loc[train_hadm_ids,:]\n",
    "y_train = y[train_hadm_ids]\n",
    "X_test = cdat.loc[test_hadm_ids,:]\n",
    "y_test = y[test_hadm_ids]\n",
    "print(X_train.shape)\n",
    "print(np.sum(y_train))\n",
    "print(X_test.shape)\n",
    "print(np.sum(y_test))"
   ]
  },
  {
   "cell_type": "markdown",
   "metadata": {},
   "source": [
    "## write out"
   ]
  },
  {
   "cell_type": "code",
   "execution_count": 42,
   "metadata": {},
   "outputs": [],
   "source": [
    "import joblib\n",
    "joblib.dump(X_train, '/Users/grovesdixon/projects/Insight/icu_project/my_mimic/X_train.joblib')\n",
    "joblib.dump(y_train, '/Users/grovesdixon/projects/Insight/icu_project/my_mimic/y_train.joblib')\n",
    "joblib.dump(X_test, '/Users/grovesdixon/projects/Insight/icu_project/my_mimic/X_test.joblib')\n",
    "joblib.dump(y_test, '/Users/grovesdixon/projects/Insight/icu_project/my_mimic/y_test.joblib');"
   ]
  }
 ],
 "metadata": {
  "kernelspec": {
   "display_name": "Python 3",
   "language": "python",
   "name": "python3"
  },
  "language_info": {
   "codemirror_mode": {
    "name": "ipython",
    "version": 3
   },
   "file_extension": ".py",
   "mimetype": "text/x-python",
   "name": "python",
   "nbconvert_exporter": "python",
   "pygments_lexer": "ipython3",
   "version": "3.7.6"
  }
 },
 "nbformat": 4,
 "nbformat_minor": 4
}

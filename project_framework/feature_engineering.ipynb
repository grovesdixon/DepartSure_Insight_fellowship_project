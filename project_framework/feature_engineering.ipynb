{
 "cells": [
  {
   "cell_type": "markdown",
   "metadata": {},
   "source": [
    "# feature engineering"
   ]
  },
  {
   "cell_type": "markdown",
   "metadata": {},
   "source": [
    "### setup"
   ]
  },
  {
   "cell_type": "code",
   "execution_count": 20,
   "metadata": {},
   "outputs": [
    {
     "name": "stdout",
     "output_type": "stream",
     "text": [
      "\n",
      "Configured for local MIMIC database:\n",
      "\tuser = postgres\n",
      "\tdbname = mimic\n",
      "\thost = localhost\n",
      "\tschema_name = mimiciii\n",
      "\tquery_schema = SET search_path to mimiciii;\n"
     ]
    }
   ],
   "source": [
    "THRESHOLD=0.2\n",
    "PROP=1/100\n",
    "\n",
    "#configure for local mimic databse\n",
    "exec(open(\"../configs/configure_mimic.py\").read())\n",
    "exec(open(\"my_functions.py\").read())"
   ]
  },
  {
   "cell_type": "markdown",
   "metadata": {},
   "source": [
    "## demographics\n",
    "From admissions and patients tables"
   ]
  },
  {
   "cell_type": "code",
   "execution_count": 21,
   "metadata": {},
   "outputs": [
    {
     "data": {
      "image/png": "[encoded data removed]",
      "text/plain": [
       "<Figure size 432x288 with 1 Axes>"
      ]
     },
     "metadata": {
      "needs_background": "light"
     },
     "output_type": "display_data"
    }
   ],
   "source": [
    "#load admission data along with outcomes desginated in build_outcome.ipynb\n",
    "adat = pd.read_csv('/Users/grovesdixon/projects/Insight/icu_project/my_mimic/outcome_penalizable_dat.csv')\n",
    "\n",
    "#add stay duration\n",
    "adat['stay_duration'] = pd.to_datetime(adat['dischtime']) - pd.to_datetime(adat['admittime'])\n",
    "adat['stay_duration'] = pd.to_timedelta(adat['stay_duration'], unit='D')/datetime.timedelta(days=1)\n",
    "plt.hist(adat['stay_duration'])\n",
    "plt.xlabel('days')\n",
    "plt.ylabel('frequency');\n",
    "\n",
    "#subset for useful variables and remove patients with deathtimes\n",
    "adat = adat.loc[adat['deathtime'].isna(), ['subject_id', 'hadm_id', 'admittime', 'discharge_location', 'insurance', 'language', 'religion',\n",
    "       'marital_status', 'ethnicity', 'hospital_expire_flag', 'stay_duration', 'hrrd_penalized']]"
   ]
  },
  {
   "cell_type": "code",
   "execution_count": 22,
   "metadata": {
    "scrolled": true
   },
   "outputs": [
    {
     "data": {
      "text/html": [
       "<div>\n",
       "<style scoped>\n",
       "    .dataframe tbody tr th:only-of-type {\n",
       "        vertical-align: middle;\n",
       "    }\n",
       "\n",
       "    .dataframe tbody tr th {\n",
       "        vertical-align: top;\n",
       "    }\n",
       "\n",
       "    .dataframe thead th {\n",
       "        text-align: right;\n",
       "    }\n",
       "</style>\n",
       "<table border=\"1\" class=\"dataframe\">\n",
       "  <thead>\n",
       "    <tr style=\"text-align: right;\">\n",
       "      <th></th>\n",
       "      <th>hrrd_penalized</th>\n",
       "      <th>discharge_location</th>\n",
       "      <th>insurance</th>\n",
       "      <th>language</th>\n",
       "      <th>religion</th>\n",
       "      <th>marital_status</th>\n",
       "      <th>ethnicity</th>\n",
       "      <th>gender</th>\n",
       "      <th>age</th>\n",
       "    </tr>\n",
       "    <tr>\n",
       "      <th>hadm_id</th>\n",
       "      <th></th>\n",
       "      <th></th>\n",
       "      <th></th>\n",
       "      <th></th>\n",
       "      <th></th>\n",
       "      <th></th>\n",
       "      <th></th>\n",
       "      <th></th>\n",
       "      <th></th>\n",
       "    </tr>\n",
       "  </thead>\n",
       "  <tbody>\n",
       "    <tr>\n",
       "      <th>165315</th>\n",
       "      <td>0</td>\n",
       "      <td>DISC-TRAN CANCER/CHLDRN H</td>\n",
       "      <td>Private</td>\n",
       "      <td>NaN</td>\n",
       "      <td>UNOBTAINABLE</td>\n",
       "      <td>MARRIED</td>\n",
       "      <td>WHITE</td>\n",
       "      <td>F</td>\n",
       "      <td>64.969863</td>\n",
       "    </tr>\n",
       "    <tr>\n",
       "      <th>152223</th>\n",
       "      <td>0</td>\n",
       "      <td>HOME HEALTH CARE</td>\n",
       "      <td>Medicare</td>\n",
       "      <td>NaN</td>\n",
       "      <td>CATHOLIC</td>\n",
       "      <td>MARRIED</td>\n",
       "      <td>WHITE</td>\n",
       "      <td>M</td>\n",
       "      <td>71.178082</td>\n",
       "    </tr>\n",
       "    <tr>\n",
       "      <th>124321</th>\n",
       "      <td>0</td>\n",
       "      <td>HOME HEALTH CARE</td>\n",
       "      <td>Medicare</td>\n",
       "      <td>ENGL</td>\n",
       "      <td>CATHOLIC</td>\n",
       "      <td>MARRIED</td>\n",
       "      <td>WHITE</td>\n",
       "      <td>M</td>\n",
       "      <td>75.304110</td>\n",
       "    </tr>\n",
       "    <tr>\n",
       "      <th>161859</th>\n",
       "      <td>0</td>\n",
       "      <td>HOME</td>\n",
       "      <td>Private</td>\n",
       "      <td>NaN</td>\n",
       "      <td>PROTESTANT QUAKER</td>\n",
       "      <td>SINGLE</td>\n",
       "      <td>WHITE</td>\n",
       "      <td>M</td>\n",
       "      <td>39.041096</td>\n",
       "    </tr>\n",
       "    <tr>\n",
       "      <th>129635</th>\n",
       "      <td>0</td>\n",
       "      <td>HOME</td>\n",
       "      <td>Private</td>\n",
       "      <td>NaN</td>\n",
       "      <td>UNOBTAINABLE</td>\n",
       "      <td>MARRIED</td>\n",
       "      <td>WHITE</td>\n",
       "      <td>M</td>\n",
       "      <td>58.989041</td>\n",
       "    </tr>\n",
       "    <tr>\n",
       "      <th>...</th>\n",
       "      <td>...</td>\n",
       "      <td>...</td>\n",
       "      <td>...</td>\n",
       "      <td>...</td>\n",
       "      <td>...</td>\n",
       "      <td>...</td>\n",
       "      <td>...</td>\n",
       "      <td>...</td>\n",
       "      <td>...</td>\n",
       "    </tr>\n",
       "    <tr>\n",
       "      <th>141860</th>\n",
       "      <td>0</td>\n",
       "      <td>SNF</td>\n",
       "      <td>Medicare</td>\n",
       "      <td>ENGL</td>\n",
       "      <td>CATHOLIC</td>\n",
       "      <td>WIDOWED</td>\n",
       "      <td>WHITE</td>\n",
       "      <td>F</td>\n",
       "      <td>80.389041</td>\n",
       "    </tr>\n",
       "    <tr>\n",
       "      <th>187987</th>\n",
       "      <td>0</td>\n",
       "      <td>HOME HEALTH CARE</td>\n",
       "      <td>Private</td>\n",
       "      <td>ENGL</td>\n",
       "      <td>NOT SPECIFIED</td>\n",
       "      <td>MARRIED</td>\n",
       "      <td>WHITE</td>\n",
       "      <td>M</td>\n",
       "      <td>53.613699</td>\n",
       "    </tr>\n",
       "    <tr>\n",
       "      <th>190603</th>\n",
       "      <td>0</td>\n",
       "      <td>HOME HEALTH CARE</td>\n",
       "      <td>Medicare</td>\n",
       "      <td>ENGL</td>\n",
       "      <td>CATHOLIC</td>\n",
       "      <td>MARRIED</td>\n",
       "      <td>WHITE</td>\n",
       "      <td>M</td>\n",
       "      <td>78.326027</td>\n",
       "    </tr>\n",
       "    <tr>\n",
       "      <th>191113</th>\n",
       "      <td>0</td>\n",
       "      <td>HOME</td>\n",
       "      <td>Private</td>\n",
       "      <td>ENGL</td>\n",
       "      <td>NOT SPECIFIED</td>\n",
       "      <td>SINGLE</td>\n",
       "      <td>WHITE</td>\n",
       "      <td>F</td>\n",
       "      <td>19.410959</td>\n",
       "    </tr>\n",
       "    <tr>\n",
       "      <th>122631</th>\n",
       "      <td>0</td>\n",
       "      <td>HOME HEALTH CARE</td>\n",
       "      <td>Private</td>\n",
       "      <td>ENGL</td>\n",
       "      <td>NOT SPECIFIED</td>\n",
       "      <td>MARRIED</td>\n",
       "      <td>WHITE</td>\n",
       "      <td>M</td>\n",
       "      <td>42.558904</td>\n",
       "    </tr>\n",
       "  </tbody>\n",
       "</table>\n",
       "<p>44987 rows × 9 columns</p>\n",
       "</div>"
      ],
      "text/plain": [
       "         hrrd_penalized         discharge_location insurance language  \\\n",
       "hadm_id                                                                 \n",
       "165315                0  DISC-TRAN CANCER/CHLDRN H   Private      NaN   \n",
       "152223                0           HOME HEALTH CARE  Medicare      NaN   \n",
       "124321                0           HOME HEALTH CARE  Medicare     ENGL   \n",
       "161859                0                       HOME   Private      NaN   \n",
       "129635                0                       HOME   Private      NaN   \n",
       "...                 ...                        ...       ...      ...   \n",
       "141860                0                        SNF  Medicare     ENGL   \n",
       "187987                0           HOME HEALTH CARE   Private     ENGL   \n",
       "190603                0           HOME HEALTH CARE  Medicare     ENGL   \n",
       "191113                0                       HOME   Private     ENGL   \n",
       "122631                0           HOME HEALTH CARE   Private     ENGL   \n",
       "\n",
       "                  religion marital_status ethnicity gender        age  \n",
       "hadm_id                                                                \n",
       "165315        UNOBTAINABLE        MARRIED     WHITE      F  64.969863  \n",
       "152223            CATHOLIC        MARRIED     WHITE      M  71.178082  \n",
       "124321            CATHOLIC        MARRIED     WHITE      M  75.304110  \n",
       "161859   PROTESTANT QUAKER         SINGLE     WHITE      M  39.041096  \n",
       "129635        UNOBTAINABLE        MARRIED     WHITE      M  58.989041  \n",
       "...                    ...            ...       ...    ...        ...  \n",
       "141860            CATHOLIC        WIDOWED     WHITE      F  80.389041  \n",
       "187987       NOT SPECIFIED        MARRIED     WHITE      M  53.613699  \n",
       "190603            CATHOLIC        MARRIED     WHITE      M  78.326027  \n",
       "191113       NOT SPECIFIED         SINGLE     WHITE      F  19.410959  \n",
       "122631       NOT SPECIFIED        MARRIED     WHITE      M  42.558904  \n",
       "\n",
       "[44987 rows x 9 columns]"
      ]
     },
     "execution_count": 22,
     "metadata": {},
     "output_type": "execute_result"
    }
   ],
   "source": [
    "#load patient data\n",
    "query = query_schema + \\\n",
    "\"\"\"select \n",
    "    subject_id,\n",
    "    gender,\n",
    "    dob\n",
    "    from patients\"\"\"\n",
    "pdat = pd.read_sql_query(query,con)\n",
    "\n",
    "#merge them\n",
    "odat = pd.merge(adat, pdat, how = 'inner', on='subject_id')\n",
    "odat['dob_dt'] = pd.to_datetime(odat['dob']).dt.date\n",
    "odat['admittime_dt'] = pd.to_datetime(odat['admittime']).dt.date\n",
    "odat['age'] = odat.apply(lambda e: (e['admittime_dt'] - e['dob_dt']).days/365, axis=1)\n",
    "odat.loc[odat['age']>200, 'age'] = 91\n",
    "odat = odat.loc[odat['age']>18, ['subject_id', 'hadm_id', 'hrrd_penalized', 'discharge_location', 'insurance',\n",
    "       'language', 'religion', 'marital_status', 'ethnicity',\n",
    "       'gender', 'age']]\n",
    "odat.index = odat['hadm_id']\n",
    "odat.drop(columns = ['hadm_id', 'subject_id'])"
   ]
  },
  {
   "cell_type": "markdown",
   "metadata": {},
   "source": [
    "#### handle missing values"
   ]
  },
  {
   "cell_type": "code",
   "execution_count": 23,
   "metadata": {},
   "outputs": [],
   "source": [
    "# print(np.sum(odat.isnull()))\n",
    "odat.loc[odat['language'].isna(), 'language'] = 'missing'\n",
    "odat.loc[odat['religion'].isna(), 'religion'] = 'missing'\n",
    "odat.loc[odat['marital_status'].isna(), 'marital_status'] = 'missing'\n",
    "# print(np.sum(odat.isnull()))"
   ]
  },
  {
   "cell_type": "markdown",
   "metadata": {},
   "source": [
    "#### age distribution"
   ]
  },
  {
   "cell_type": "code",
   "execution_count": 24,
   "metadata": {
    "scrolled": false
   },
   "outputs": [
    {
     "data": {
      "image/png": "[encoded data removed]",
      "text/plain": [
       "<Figure size 432x288 with 1 Axes>"
      ]
     },
     "metadata": {
      "needs_background": "light"
     },
     "output_type": "display_data"
    }
   ],
   "source": [
    "plt.hist(odat['age'], bins = 91-18);\n",
    "plt.xlabel('age')\n",
    "plt.ylabel('N visits')\n",
    "plt.show();"
   ]
  },
  {
   "cell_type": "markdown",
   "metadata": {},
   "source": [
    "### add icu features\n",
    "add total time spent in icu and total icu visits"
   ]
  },
  {
   "cell_type": "code",
   "execution_count": 25,
   "metadata": {
    "scrolled": true
   },
   "outputs": [
    {
     "name": "stderr",
     "output_type": "stream",
     "text": [
      "/opt/anaconda3/lib/python3.7/site-packages/numpy/lib/histograms.py:839: RuntimeWarning: invalid value encountered in greater_equal\n",
      "  keep = (tmp_a >= first_edge)\n",
      "/opt/anaconda3/lib/python3.7/site-packages/numpy/lib/histograms.py:840: RuntimeWarning: invalid value encountered in less_equal\n",
      "  keep &= (tmp_a <= last_edge)\n"
     ]
    },
    {
     "data": {
      "image/png": "[encoded data removed]",
      "text/plain": [
       "<Figure size 432x288 with 1 Axes>"
      ]
     },
     "metadata": {
      "needs_background": "light"
     },
     "output_type": "display_data"
    },
    {
     "data": {
      "image/png": "[encoded data removed]",
      "text/plain": [
       "<Figure size 432x288 with 1 Axes>"
      ]
     },
     "metadata": {
      "needs_background": "light"
     },
     "output_type": "display_data"
    },
    {
     "data": {
      "image/png": "[encoded data removed]",
      "text/plain": [
       "<Figure size 432x288 with 1 Axes>"
      ]
     },
     "metadata": {
      "needs_background": "light"
     },
     "output_type": "display_data"
    }
   ],
   "source": [
    "#load patient data\n",
    "query = query_schema + \\\n",
    "\"\"\"select \n",
    "    *\n",
    "    from ICUSTAYS\"\"\"\n",
    "idat = pd.read_sql_query(query,con)\n",
    "\n",
    "\n",
    "\n",
    "idat['icu_duration'] = idat['outtime'] - idat['intime']\n",
    "idat['icu_duration'] = pd.to_timedelta(idat['icu_duration'], unit='hr')/datetime.timedelta(hours=1)\n",
    "\n",
    "#plot icu hours\n",
    "plt.hist(idat['icu_duration'], bins=100)\n",
    "plt.title('icu lengths')\n",
    "plt.xlabel('hours')\n",
    "plt.ylabel('N ICU stays')\n",
    "plt.show()\n",
    "\n",
    "#organize icu stay features\n",
    "total_time = idat.loc[:,['icu_duration', 'hadm_id']].groupby(['hadm_id']).sum()\n",
    "total_icu_visits = idat.loc[:,['hadm_id', 'icustay_id']].groupby(['hadm_id']).count()\n",
    "total_icu_visits.columns = ['nicu_stays']\n",
    "total_icu_visits.index.name = 'hadm_id'\n",
    "icu_features = pd.merge(total_time, total_icu_visits, how='inner', on='hadm_id')\n",
    "\n",
    "#plot cumulative icu time\n",
    "plt.hist(icu_features['icu_duration'], bins=100)\n",
    "plt.title('cumulative time in ICU')\n",
    "plt.xlabel('hours')\n",
    "plt.ylabel('N patients')\n",
    "plt.show()\n",
    "\n",
    "#plot total ICU stays\n",
    "plt.hist(icu_features['nicu_stays'], bins=25)\n",
    "plt.title('total ICU stays')\n",
    "plt.xlabel('N ICU stays stays')\n",
    "plt.ylabel('N patients')\n",
    "plt.show()\n",
    "\n",
    "#add to odat\n",
    "odat = pd.merge(odat.drop(columns='hadm_id'), icu_features, how = 'inner', on = 'hadm_id')"
   ]
  },
  {
   "cell_type": "code",
   "execution_count": 26,
   "metadata": {},
   "outputs": [
    {
     "name": "stdout",
     "output_type": "stream",
     "text": [
      "860\n",
      "215\n"
     ]
    },
    {
     "data": {
      "text/html": [
       "<div>\n",
       "<style scoped>\n",
       "    .dataframe tbody tr th:only-of-type {\n",
       "        vertical-align: middle;\n",
       "    }\n",
       "\n",
       "    .dataframe tbody tr th {\n",
       "        vertical-align: top;\n",
       "    }\n",
       "\n",
       "    .dataframe thead th {\n",
       "        text-align: right;\n",
       "    }\n",
       "</style>\n",
       "<table border=\"1\" class=\"dataframe\">\n",
       "  <thead>\n",
       "    <tr style=\"text-align: right;\">\n",
       "      <th></th>\n",
       "      <th>discharge_location</th>\n",
       "      <th>insurance</th>\n",
       "      <th>language</th>\n",
       "      <th>religion</th>\n",
       "      <th>marital_status</th>\n",
       "      <th>ethnicity</th>\n",
       "      <th>gender</th>\n",
       "      <th>age</th>\n",
       "      <th>icu_duration</th>\n",
       "      <th>nicu_stays</th>\n",
       "    </tr>\n",
       "    <tr>\n",
       "      <th>hadm_id</th>\n",
       "      <th></th>\n",
       "      <th></th>\n",
       "      <th></th>\n",
       "      <th></th>\n",
       "      <th></th>\n",
       "      <th></th>\n",
       "      <th></th>\n",
       "      <th></th>\n",
       "      <th></th>\n",
       "      <th></th>\n",
       "    </tr>\n",
       "  </thead>\n",
       "  <tbody>\n",
       "    <tr>\n",
       "      <th>188876</th>\n",
       "      <td>HOME HEALTH CARE</td>\n",
       "      <td>Medicare</td>\n",
       "      <td>ENGL</td>\n",
       "      <td>NOT SPECIFIED</td>\n",
       "      <td>MARRIED</td>\n",
       "      <td>WHITE</td>\n",
       "      <td>M</td>\n",
       "      <td>69.775342</td>\n",
       "      <td>23.028333</td>\n",
       "      <td>1</td>\n",
       "    </tr>\n",
       "    <tr>\n",
       "      <th>199278</th>\n",
       "      <td>HOME HEALTH CARE</td>\n",
       "      <td>Medicare</td>\n",
       "      <td>ENGL</td>\n",
       "      <td>JEWISH</td>\n",
       "      <td>MARRIED</td>\n",
       "      <td>WHITE</td>\n",
       "      <td>M</td>\n",
       "      <td>85.046575</td>\n",
       "      <td>50.030000</td>\n",
       "      <td>1</td>\n",
       "    </tr>\n",
       "    <tr>\n",
       "      <th>197579</th>\n",
       "      <td>LONG TERM CARE HOSPITAL</td>\n",
       "      <td>Private</td>\n",
       "      <td>ENGL</td>\n",
       "      <td>PROTESTANT QUAKER</td>\n",
       "      <td>SINGLE</td>\n",
       "      <td>WHITE</td>\n",
       "      <td>M</td>\n",
       "      <td>37.958904</td>\n",
       "      <td>25.070000</td>\n",
       "      <td>1</td>\n",
       "    </tr>\n",
       "    <tr>\n",
       "      <th>158308</th>\n",
       "      <td>LONG TERM CARE HOSPITAL</td>\n",
       "      <td>Private</td>\n",
       "      <td>ENGL</td>\n",
       "      <td>NOT SPECIFIED</td>\n",
       "      <td>MARRIED</td>\n",
       "      <td>WHITE</td>\n",
       "      <td>F</td>\n",
       "      <td>60.210959</td>\n",
       "      <td>19.257222</td>\n",
       "      <td>1</td>\n",
       "    </tr>\n",
       "    <tr>\n",
       "      <th>138446</th>\n",
       "      <td>REHAB/DISTINCT PART HOSP</td>\n",
       "      <td>Medicare</td>\n",
       "      <td>ENGL</td>\n",
       "      <td>CATHOLIC</td>\n",
       "      <td>MARRIED</td>\n",
       "      <td>WHITE</td>\n",
       "      <td>M</td>\n",
       "      <td>80.350685</td>\n",
       "      <td>26.722778</td>\n",
       "      <td>1</td>\n",
       "    </tr>\n",
       "    <tr>\n",
       "      <th>...</th>\n",
       "      <td>...</td>\n",
       "      <td>...</td>\n",
       "      <td>...</td>\n",
       "      <td>...</td>\n",
       "      <td>...</td>\n",
       "      <td>...</td>\n",
       "      <td>...</td>\n",
       "      <td>...</td>\n",
       "      <td>...</td>\n",
       "      <td>...</td>\n",
       "    </tr>\n",
       "    <tr>\n",
       "      <th>148004</th>\n",
       "      <td>REHAB/DISTINCT PART HOSP</td>\n",
       "      <td>Private</td>\n",
       "      <td>ENGL</td>\n",
       "      <td>CATHOLIC</td>\n",
       "      <td>DIVORCED</td>\n",
       "      <td>WHITE</td>\n",
       "      <td>F</td>\n",
       "      <td>37.663014</td>\n",
       "      <td>42.599444</td>\n",
       "      <td>1</td>\n",
       "    </tr>\n",
       "    <tr>\n",
       "      <th>134188</th>\n",
       "      <td>HOME HEALTH CARE</td>\n",
       "      <td>Private</td>\n",
       "      <td>ENGL</td>\n",
       "      <td>CATHOLIC</td>\n",
       "      <td>MARRIED</td>\n",
       "      <td>WHITE</td>\n",
       "      <td>M</td>\n",
       "      <td>53.591781</td>\n",
       "      <td>123.397500</td>\n",
       "      <td>1</td>\n",
       "    </tr>\n",
       "    <tr>\n",
       "      <th>180393</th>\n",
       "      <td>SNF</td>\n",
       "      <td>Medicare</td>\n",
       "      <td>*YID</td>\n",
       "      <td>JEWISH</td>\n",
       "      <td>MARRIED</td>\n",
       "      <td>WHITE</td>\n",
       "      <td>M</td>\n",
       "      <td>91.000000</td>\n",
       "      <td>55.757222</td>\n",
       "      <td>2</td>\n",
       "    </tr>\n",
       "    <tr>\n",
       "      <th>148325</th>\n",
       "      <td>HOSPICE-HOME</td>\n",
       "      <td>Private</td>\n",
       "      <td>ENGL</td>\n",
       "      <td>CATHOLIC</td>\n",
       "      <td>MARRIED</td>\n",
       "      <td>WHITE</td>\n",
       "      <td>F</td>\n",
       "      <td>61.665753</td>\n",
       "      <td>49.431111</td>\n",
       "      <td>1</td>\n",
       "    </tr>\n",
       "    <tr>\n",
       "      <th>109990</th>\n",
       "      <td>SNF</td>\n",
       "      <td>Medicare</td>\n",
       "      <td>missing</td>\n",
       "      <td>PROTESTANT QUAKER</td>\n",
       "      <td>SINGLE</td>\n",
       "      <td>WHITE</td>\n",
       "      <td>M</td>\n",
       "      <td>88.569863</td>\n",
       "      <td>193.827222</td>\n",
       "      <td>1</td>\n",
       "    </tr>\n",
       "  </tbody>\n",
       "</table>\n",
       "<p>8792 rows × 10 columns</p>\n",
       "</div>"
      ],
      "text/plain": [
       "               discharge_location insurance language           religion  \\\n",
       "hadm_id                                                                   \n",
       "188876           HOME HEALTH CARE  Medicare     ENGL      NOT SPECIFIED   \n",
       "199278           HOME HEALTH CARE  Medicare     ENGL             JEWISH   \n",
       "197579    LONG TERM CARE HOSPITAL   Private     ENGL  PROTESTANT QUAKER   \n",
       "158308    LONG TERM CARE HOSPITAL   Private     ENGL      NOT SPECIFIED   \n",
       "138446   REHAB/DISTINCT PART HOSP  Medicare     ENGL           CATHOLIC   \n",
       "...                           ...       ...      ...                ...   \n",
       "148004   REHAB/DISTINCT PART HOSP   Private     ENGL           CATHOLIC   \n",
       "134188           HOME HEALTH CARE   Private     ENGL           CATHOLIC   \n",
       "180393                        SNF  Medicare     *YID             JEWISH   \n",
       "148325               HOSPICE-HOME   Private     ENGL           CATHOLIC   \n",
       "109990                        SNF  Medicare  missing  PROTESTANT QUAKER   \n",
       "\n",
       "        marital_status ethnicity gender        age  icu_duration  nicu_stays  \n",
       "hadm_id                                                                       \n",
       "188876         MARRIED     WHITE      M  69.775342     23.028333           1  \n",
       "199278         MARRIED     WHITE      M  85.046575     50.030000           1  \n",
       "197579          SINGLE     WHITE      M  37.958904     25.070000           1  \n",
       "158308         MARRIED     WHITE      F  60.210959     19.257222           1  \n",
       "138446         MARRIED     WHITE      M  80.350685     26.722778           1  \n",
       "...                ...       ...    ...        ...           ...         ...  \n",
       "148004        DIVORCED     WHITE      F  37.663014     42.599444           1  \n",
       "134188         MARRIED     WHITE      M  53.591781    123.397500           1  \n",
       "180393         MARRIED     WHITE      M  91.000000     55.757222           2  \n",
       "148325         MARRIED     WHITE      F  61.665753     49.431111           1  \n",
       "109990          SINGLE     WHITE      M  88.569863    193.827222           1  \n",
       "\n",
       "[8792 rows x 10 columns]"
      ]
     },
     "execution_count": 26,
     "metadata": {},
     "output_type": "execute_result"
    }
   ],
   "source": [
    "from sklearn.metrics import precision_recall_curve, roc_curve, roc_auc_score, confusion_matrix, accuracy_score, precision_score, recall_score, f1_score, classification_report\n",
    "from sklearn.model_selection import train_test_split\n",
    "odat['hadm_id'] = odat.index\n",
    "y = odat['hrrd_penalized']\n",
    "X = odat.drop([\n",
    "    'hrrd_penalized'], 1)\n",
    "X_train, X_test, y_train, y_test = train_test_split(X, y, test_size = 0.2, random_state=321, stratify=y)\n",
    "print(np.sum(y_train))\n",
    "print(np.sum(y_test))\n",
    "all_hadm_ids = odat['hadm_id']\n",
    "train_hadm_ids = X_train['hadm_id']\n",
    "test_hadm_ids = X_test['hadm_id']\n",
    "train_pos_hadm_ids = train_hadm_ids[y==1]\n",
    "len(train_pos_hadm_ids)\n",
    "X_train.drop(['subject_id', 'hadm_id'], 1)\n",
    "X_test.drop(['subject_id', 'hadm_id'], 1)"
   ]
  },
  {
   "cell_type": "markdown",
   "metadata": {},
   "source": [
    "## add presence absence features"
   ]
  },
  {
   "cell_type": "code",
   "execution_count": 27,
   "metadata": {},
   "outputs": [],
   "source": [
    "def filter_by_presence_in_pos(input_df, pos_ids, feature_col, prop=1/50):\n",
    "    \"\"\"Function to remove features unlikely to be informative for outcome.\n",
    "    df = the input predictors\n",
    "    pos_ids = the positive hadm_ids\n",
    "    feature_col = the column of features (eg prescriptions, diagnoses, procedures) given to patient\n",
    "    prop = the proportion of positive patients the feature must have occured in to keep it\"\"\"\n",
    "    pos_df = input_df.loc[input_df['hadm_id'].isin(pos_ids),]\n",
    "    occurance = pos_df[feature_col].value_counts()\n",
    "    keep_features = occurance.index[occurance > (len(pos_ids)*prop)]\n",
    "    print('{} features found among >= {}% of positive cases'.format(len(keep_features), prop*100))\n",
    "    return input_df.loc[input_df[feature_col].isin(keep_features),:]\n",
    "\n",
    "\n",
    "def filter_by_presence_in_general(input_df, feature_col, prop=1/100):\n",
    "    \"\"\"Function to remove features unlikely to be informative for outcome because rare in dataset.\n",
    "    input_df = the input predictors\n",
    "    feature_col = the column of features (eg prescriptions, diagnoses, procedures) given to patient\n",
    "    prop = the proportion of hadm_ids the feature must have occured in to keep it\"\"\"\n",
    "    occurance = input_df[feature_col].value_counts()\n",
    "    keep_features = occurance.index[occurance > (len(input_df['hadm_id'].unique())*prop)]\n",
    "    print('{} features found among >= {}% of positive cases'.format(len(keep_features), prop*100))\n",
    "    return input_df.loc[input_df[feature_col].isin(keep_features),:]\n",
    "\n",
    "from sklearn.preprocessing import MinMaxScaler\n",
    "def onehot_features(long_df, feature_col):\n",
    "    to_onehot = [feature_col]\n",
    "    raw_oh_dat = pd.get_dummies(long_df, columns = to_onehot, drop_first = True)\n",
    "    summed_dat = raw_oh_dat.groupby('hadm_id').sum()\n",
    "    bool_dat = summed_dat > 0\n",
    "    oh_dat = bool_dat.astype('int')\n",
    "    total_col = 'total_{}'.format(feature_col)\n",
    "    oh_dat[total_col] = oh_dat.sum(axis=1)\n",
    "    scaler = MinMaxScaler()\n",
    "    oh_dat[[total_col]] = scaler.fit_transform(oh_dat[[total_col]])\n",
    "    return oh_dat\n",
    "\n",
    "from sklearn.linear_model import LogisticRegression\n",
    "from sklearn.feature_selection import SelectFromModel\n",
    "def logistic_select_features(dat, y_train, feature_col, threshold):\n",
    "    \"\"\"feature selection using l1 regularization.\n",
    "    dat = full dataset of features\n",
    "    y_train = the training outcome data indexed with hadm_id\n",
    "    The data are subset to match just the test set, then logistic regression coefficient is used for selection\"\"\"\n",
    "    #make sure data and training outputs line up\n",
    "    dat_for_train = dat.copy()\n",
    "    dat_ids = set(dat_for_train.index)\n",
    "    y_ids = set(y_train.index)\n",
    "    shared_ids = list(dat_ids.intersection(y_ids))\n",
    "    dat_X_train = dat_for_train.loc[shared_ids,:] #first subset for training set\n",
    "    dat_y_train = y_train.loc[shared_ids]   #then subset outcomes to match\n",
    "    matched = np.sum(dat_X_train.index==dat_y_train.index) ==dat_X_train.shape[0]\n",
    "    print('training data and outcomes matched = {}'.format(matched))\n",
    "    print('total ids used for training = {}'.format(dat_X_train.shape[0]))\n",
    "    #do selection\n",
    "    sel = SelectFromModel(estimator=LogisticRegression(max_iter=1000),\n",
    "                         threshold = threshold).fit(dat_X_train, dat_y_train)\n",
    "    coefs = sel.estimator_.coef_\n",
    "    #write out for prettier plotting\n",
    "    pd.DataFrame({'coef':coefs[0]}).to_csv('../data/for_plotting/' + feature_col + '_coefs.csv',\n",
    "                                          index=False)\n",
    "    #plot the distribution of coefficients\n",
    "    plt.hist(coefs[0], bins=100)\n",
    "    plt.xlabel('coeficient')\n",
    "    plt.ylabel('frequency')\n",
    "    plt.title('before selection')\n",
    "    plt.show()\n",
    "    #plot the distribution of coefficients after selection\n",
    "    plt.hist(coefs[0][sel.get_support()], bins=100)\n",
    "    plt.xlabel('coeficient')\n",
    "    plt.ylabel('frequency')\n",
    "    plt.title('after selection')\n",
    "    plt.show()\n",
    "    #make selections\n",
    "    print(np.mean(np.absolute(coefs)))\n",
    "    print('selector threshold = {}'.format(sel.threshold_))\n",
    "    sel.get_support()\n",
    "    nonZeroN = np.sum(sel.get_support())\n",
    "    print('{} total featuers had nonzero coefficients after selection'.format(nonZeroN))\n",
    "    res = dat.loc[:,list(dat_X_train.columns[sel.get_support()])]\n",
    "    return res\n",
    "\n",
    "#function to combine all above\n",
    "def select_presence_absence_features(input_df, all_ids, train_ids, pos_ids, feature_col, prop, y_train, threshold):\n",
    "    filt_pos = filter_by_presence_in_pos(input_df, pos_ids, feature_col, prop)\n",
    "    filt_gen = filter_by_presence_in_general(input_df, feature_col, prop=prop)\n",
    "    keep = pd.concat([filt_pos, filt_gen], 0)\n",
    "    filt_df = input_df.loc[input_df[feature_col].isin(keep[feature_col])]\n",
    "    print('{} features total unique feature kept for selection'.format(len(filt_df[feature_col].unique()), prop*100))\n",
    "    oh_dat = onehot_features(filt_df, feature_col)\n",
    "    sel_dat = logistic_select_features(oh_dat, y_train, feature_col, threshold)\n",
    "    return sel_dat\n",
    "\n",
    "    \n",
    "#vars for recording\n",
    "dat_dict = {'odat': odat}\n",
    "dat_list = ['odat']"
   ]
  },
  {
   "cell_type": "markdown",
   "metadata": {},
   "source": [
    "## services"
   ]
  },
  {
   "cell_type": "code",
   "execution_count": 28,
   "metadata": {
    "scrolled": true
   },
   "outputs": [
    {
     "name": "stdout",
     "output_type": "stream",
     "text": [
      "11 features found among >= 1.0% of positive cases\n",
      "12 features found among >= 1.0% of positive cases\n",
      "12 features total unique feature kept for selection\n",
      "training data and outcomes matched = True\n",
      "total ids used for training = 34743\n"
     ]
    },
    {
     "data": {
      "image/png": "[encoded data removed]",
      "text/plain": [
       "<Figure size 432x288 with 1 Axes>"
      ]
     },
     "metadata": {
      "needs_background": "light"
     },
     "output_type": "display_data"
    },
    {
     "data": {
      "image/png": "[encoded data removed]",
      "text/plain": [
       "<Figure size 432x288 with 1 Axes>"
      ]
     },
     "metadata": {
      "needs_background": "light"
     },
     "output_type": "display_data"
    },
    {
     "name": "stdout",
     "output_type": "stream",
     "text": [
      "0.5311427997657961\n",
      "selector threshold = 0.2\n",
      "9 total featuers had nonzero coefficients after selection\n"
     ]
    },
    {
     "data": {
      "text/plain": [
       "(58029, 9)"
      ]
     },
     "execution_count": 28,
     "metadata": {},
     "output_type": "execute_result"
    }
   ],
   "source": [
    "#load patient data\n",
    "query = query_schema + \\\n",
    "\"\"\"select \n",
    "    hadm_id,\n",
    "    curr_service\n",
    "    from SERVICES\"\"\"\n",
    "serv_dat = pd.read_sql_query(query,con)\n",
    "serv_dat = select_presence_absence_features(input_df = serv_dat,\n",
    "                                            all_ids = all_hadm_ids,\n",
    "                                          train_ids = train_hadm_ids,\n",
    "                                          pos_ids = train_pos_hadm_ids,\n",
    "                                          feature_col = 'curr_service',\n",
    "                                          prop=PROP,\n",
    "                                          y_train = y_train,\n",
    "                                            threshold=THRESHOLD)\n",
    "dat_dict['services'] = serv_dat\n",
    "dat_list.append('services')\n",
    "serv_dat.shape"
   ]
  },
  {
   "cell_type": "markdown",
   "metadata": {},
   "source": [
    "### diagnoses"
   ]
  },
  {
   "cell_type": "code",
   "execution_count": 29,
   "metadata": {},
   "outputs": [
    {
     "name": "stdout",
     "output_type": "stream",
     "text": [
      "283 features found among >= 1.0% of positive cases\n",
      "211 features found among >= 1.0% of positive cases\n",
      "318 features total unique feature kept for selection\n",
      "training data and outcomes matched = True\n",
      "total ids used for training = 34398\n"
     ]
    },
    {
     "data": {
      "image/png": "[encoded data removed]",
      "text/plain": [
       "<Figure size 432x288 with 1 Axes>"
      ]
     },
     "metadata": {
      "needs_background": "light"
     },
     "output_type": "display_data"
    },
    {
     "data": {
      "image/png": "[encoded data removed]",
      "text/plain": [
       "<Figure size 432x288 with 1 Axes>"
      ]
     },
     "metadata": {
      "needs_background": "light"
     },
     "output_type": "display_data"
    },
    {
     "name": "stdout",
     "output_type": "stream",
     "text": [
      "0.2717793541476549\n",
      "selector threshold = 0.2\n",
      "163 total featuers had nonzero coefficients after selection\n"
     ]
    },
    {
     "data": {
      "text/plain": [
       "(57830, 163)"
      ]
     },
     "execution_count": 29,
     "metadata": {},
     "output_type": "execute_result"
    }
   ],
   "source": [
    "#load patient data\n",
    "query = query_schema + \\\n",
    "\"\"\"select \n",
    "    hadm_id,\n",
    "    icd9_code\n",
    "    from DIAGNOSES_ICD\"\"\"\n",
    "ddat = pd.read_sql_query(query,con)\n",
    "ddat = ddat.rename(columns = {'icd9_code':'diagnosis_icd9'})\n",
    "ddat = select_presence_absence_features(input_df = ddat,\n",
    "                                        all_ids = all_hadm_ids,\n",
    "                                          train_ids = train_hadm_ids,\n",
    "                                          pos_ids = train_pos_hadm_ids,\n",
    "                                          feature_col = 'diagnosis_icd9',\n",
    "                                          prop=PROP,\n",
    "                                          y_train = y_train,\n",
    "                                         threshold=THRESHOLD)\n",
    "dat_dict['diagnoses'] = ddat\n",
    "dat_list.append('diagnoses')\n",
    "ddat.shape"
   ]
  },
  {
   "cell_type": "markdown",
   "metadata": {},
   "source": [
    "### procedures"
   ]
  },
  {
   "cell_type": "code",
   "execution_count": 30,
   "metadata": {},
   "outputs": [
    {
     "name": "stdout",
     "output_type": "stream",
     "text": [
      "64 features found among >= 1.0% of positive cases\n",
      "72 features found among >= 1.0% of positive cases\n",
      "79 features total unique feature kept for selection\n",
      "training data and outcomes matched = True\n",
      "total ids used for training = 27648\n"
     ]
    },
    {
     "data": {
      "image/png": "[encoded data removed]",
      "text/plain": [
       "<Figure size 432x288 with 1 Axes>"
      ]
     },
     "metadata": {
      "needs_background": "light"
     },
     "output_type": "display_data"
    },
    {
     "data": {
      "image/png": "[encoded data removed]",
      "text/plain": [
       "<Figure size 432x288 with 1 Axes>"
      ]
     },
     "metadata": {
      "needs_background": "light"
     },
     "output_type": "display_data"
    },
    {
     "name": "stdout",
     "output_type": "stream",
     "text": [
      "0.3520491756047948\n",
      "selector threshold = 0.2\n",
      "50 total featuers had nonzero coefficients after selection\n"
     ]
    },
    {
     "data": {
      "text/plain": [
       "(47857, 50)"
      ]
     },
     "execution_count": 30,
     "metadata": {},
     "output_type": "execute_result"
    }
   ],
   "source": [
    "#load patient data\n",
    "query = query_schema + \\\n",
    "\"\"\"select \n",
    "    hadm_id,\n",
    "    icd9_code\n",
    "    from PROCEDURES_ICD\"\"\"\n",
    "proc_dat = pd.read_sql_query(query, con)\n",
    "proc_dat = proc_dat.rename(columns = {'icd9_code':'procedure_icd9'})\n",
    "proc_dat = select_presence_absence_features(input_df = proc_dat,\n",
    "                                            all_ids = all_hadm_ids,\n",
    "                                          train_ids = train_hadm_ids,\n",
    "                                          pos_ids = train_pos_hadm_ids,\n",
    "                                          feature_col = 'procedure_icd9',\n",
    "                                          prop=PROP,\n",
    "                                          y_train = y_train,\n",
    "                                           threshold=THRESHOLD)\n",
    "dat_dict['procedures'] = proc_dat\n",
    "dat_list.append('procedures')\n",
    "proc_dat.shape"
   ]
  },
  {
   "cell_type": "markdown",
   "metadata": {},
   "source": [
    "### prescriptions"
   ]
  },
  {
   "cell_type": "code",
   "execution_count": 31,
   "metadata": {
    "scrolled": false
   },
   "outputs": [
    {
     "name": "stdout",
     "output_type": "stream",
     "text": [
      "136 features found among >= 10.0% of positive cases\n",
      "146 features found among >= 10.0% of positive cases\n",
      "162 features total unique feature kept for selection\n",
      "training data and outcomes matched = True\n",
      "total ids used for training = 32355\n"
     ]
    },
    {
     "data": {
      "image/png": "[encoded data removed]",
      "text/plain": [
       "<Figure size 432x288 with 1 Axes>"
      ]
     },
     "metadata": {
      "needs_background": "light"
     },
     "output_type": "display_data"
    },
    {
     "data": {
      "image/png": "[encoded data removed]",
      "text/plain": [
       "<Figure size 432x288 with 1 Axes>"
      ]
     },
     "metadata": {
      "needs_background": "light"
     },
     "output_type": "display_data"
    },
    {
     "name": "stdout",
     "output_type": "stream",
     "text": [
      "0.1675834110343343\n",
      "selector threshold = 0.2\n",
      "55 total featuers had nonzero coefficients after selection\n"
     ]
    },
    {
     "data": {
      "text/plain": [
       "(49856, 55)"
      ]
     },
     "execution_count": 31,
     "metadata": {},
     "output_type": "execute_result"
    }
   ],
   "source": [
    "#load patient data\n",
    "query = query_schema + \\\n",
    "\"\"\"select \n",
    "    hadm_id,\n",
    "    drug\n",
    "    from PRESCRIPTIONS\"\"\"\n",
    "drug_dat = pd.read_sql_query(query, con)\n",
    "drug_dat = select_presence_absence_features(input_df = drug_dat,\n",
    "                                            all_ids = all_hadm_ids,\n",
    "                                          train_ids = train_hadm_ids,\n",
    "                                          pos_ids = train_pos_hadm_ids,\n",
    "                                          feature_col = 'drug',\n",
    "                                          prop=1/10,\n",
    "                                          y_train = y_train,\n",
    "                                           threshold=THRESHOLD)\n",
    "dat_dict['drugs'] = drug_dat\n",
    "dat_list.append('drugs')\n",
    "drug_dat.shape"
   ]
  },
  {
   "cell_type": "markdown",
   "metadata": {},
   "source": [
    "### icu wards\n",
    "Here we get all the ICU wards the pateint was exposed to"
   ]
  },
  {
   "cell_type": "code",
   "execution_count": 32,
   "metadata": {},
   "outputs": [
    {
     "name": "stdout",
     "output_type": "stream",
     "text": [
      "5 features found among >= 2.0% of positive cases\n",
      "6 features found among >= 2.0% of positive cases\n",
      "6 features total unique feature kept for selection\n",
      "training data and outcomes matched = True\n",
      "total ids used for training = 35164\n"
     ]
    },
    {
     "data": {
      "image/png": "[encoded data removed]",
      "text/plain": [
       "<Figure size 432x288 with 1 Axes>"
      ]
     },
     "metadata": {
      "needs_background": "light"
     },
     "output_type": "display_data"
    },
    {
     "data": {
      "image/png": "[encoded data removed]",
      "text/plain": [
       "<Figure size 432x288 with 1 Axes>"
      ]
     },
     "metadata": {
      "needs_background": "light"
     },
     "output_type": "display_data"
    },
    {
     "name": "stdout",
     "output_type": "stream",
     "text": [
      "0.28887277848440723\n",
      "selector threshold = 0.2\n",
      "4 total featuers had nonzero coefficients after selection\n",
      "9 features found among >= 2.0% of positive cases\n",
      "10 features found among >= 2.0% of positive cases\n",
      "10 features total unique feature kept for selection\n",
      "training data and outcomes matched = True\n",
      "total ids used for training = 34925\n"
     ]
    },
    {
     "data": {
      "image/png": "[encoded data removed]",
      "text/plain": [
       "<Figure size 432x288 with 1 Axes>"
      ]
     },
     "metadata": {
      "needs_background": "light"
     },
     "output_type": "display_data"
    },
    {
     "data": {
      "image/png": "[encoded data removed]",
      "text/plain": [
       "<Figure size 432x288 with 1 Axes>"
      ]
     },
     "metadata": {
      "needs_background": "light"
     },
     "output_type": "display_data"
    },
    {
     "name": "stdout",
     "output_type": "stream",
     "text": [
      "0.38718430873693604\n",
      "selector threshold = 0.2\n",
      "7 total featuers had nonzero coefficients after selection\n"
     ]
    }
   ],
   "source": [
    "#care unit\n",
    "careunit_dat = select_presence_absence_features(input_df = idat,\n",
    "                                            all_ids = all_hadm_ids,\n",
    "                                          train_ids = train_hadm_ids,\n",
    "                                          pos_ids = train_pos_hadm_ids,\n",
    "                                          feature_col = 'last_careunit',\n",
    "                                          prop=1/50,\n",
    "                                          y_train = y_train,\n",
    "                                           threshold=THRESHOLD)\n",
    "if careunit_dat.shape[0] > 0:\n",
    "    dat_dict['care_unit'] = careunit_dat\n",
    "    dat_list.append('care_unit')\n",
    "    careunit_dat.shape\n",
    "\n",
    "#ward\n",
    "ward_dat = select_presence_absence_features(input_df = idat,\n",
    "                                            all_ids = all_hadm_ids,\n",
    "                                          train_ids = train_hadm_ids,\n",
    "                                          pos_ids = train_pos_hadm_ids,\n",
    "                                          feature_col = 'last_wardid',\n",
    "                                          prop=1/50,\n",
    "                                          y_train = y_train,\n",
    "                                           threshold=THRESHOLD)\n",
    "if careunit_dat.shape[0] > 0:\n",
    "    dat_dict['ward'] = ward_dat\n",
    "    dat_list.append('ward')\n",
    "    ward_dat.shape"
   ]
  },
  {
   "cell_type": "markdown",
   "metadata": {},
   "source": [
    "## combine"
   ]
  },
  {
   "cell_type": "code",
   "execution_count": 33,
   "metadata": {
    "scrolled": true
   },
   "outputs": [
    {
     "name": "stdout",
     "output_type": "stream",
     "text": [
      "services\n",
      "diagnoses\n",
      "procedures\n",
      "drugs\n",
      "care_unit\n",
      "ward\n"
     ]
    }
   ],
   "source": [
    "cdat = odat.copy()\n",
    "cdat = cdat.drop(columns = ['hadm_id'])\n",
    "\n",
    "#merge them all\n",
    "for d in dat_list:\n",
    "    if d != 'odat':\n",
    "        to_add = dat_dict[d]\n",
    "        print(d)\n",
    "        cdat = pd.merge(cdat, dat_dict[d], how = 'left', on='hadm_id')\n",
    "\n",
    "        \n",
    "y = cdat['hrrd_penalized'].astype('int')\n",
    "cdat = cdat.drop(['subject_id', 'hrrd_penalized'], 1)"
   ]
  },
  {
   "cell_type": "markdown",
   "metadata": {},
   "source": [
    "### missing"
   ]
  },
  {
   "cell_type": "code",
   "execution_count": 34,
   "metadata": {},
   "outputs": [],
   "source": [
    "missing = cdat.isnull().sum()\n",
    "cols_w_missing = missing[missing>0].index\n",
    "\n",
    "#imput totals with mean\n",
    "totals_w_missing = cols_w_missing[cols_w_missing.str.contains('total_')]\n",
    "for tc in totals_w_missing:\n",
    "    cdat[tc] = cdat[tc].fillna(cdat[tc].mean())\n",
    "\n",
    "#imput the categorical cols\n",
    "categorical_w_missing = cols_w_missing[~cols_w_missing.isin(totals_w_missing)]\n",
    "for cc in categorical_w_missing:\n",
    "    cdat[cc] = cdat[cc].fillna(0)\n"
   ]
  },
  {
   "cell_type": "markdown",
   "metadata": {},
   "source": [
    "### onehot"
   ]
  },
  {
   "cell_type": "code",
   "execution_count": 35,
   "metadata": {
    "scrolled": true
   },
   "outputs": [
    {
     "data": {
      "text/html": [
       "<div>\n",
       "<style scoped>\n",
       "    .dataframe tbody tr th:only-of-type {\n",
       "        vertical-align: middle;\n",
       "    }\n",
       "\n",
       "    .dataframe tbody tr th {\n",
       "        vertical-align: top;\n",
       "    }\n",
       "\n",
       "    .dataframe thead th {\n",
       "        text-align: right;\n",
       "    }\n",
       "</style>\n",
       "<table border=\"1\" class=\"dataframe\">\n",
       "  <thead>\n",
       "    <tr style=\"text-align: right;\">\n",
       "      <th></th>\n",
       "      <th>age</th>\n",
       "      <th>icu_duration</th>\n",
       "      <th>nicu_stays</th>\n",
       "      <th>curr_service_CSURG</th>\n",
       "      <th>curr_service_MED</th>\n",
       "      <th>curr_service_NMED</th>\n",
       "      <th>curr_service_NSURG</th>\n",
       "      <th>curr_service_ORTHO</th>\n",
       "      <th>curr_service_SURG</th>\n",
       "      <th>curr_service_TRAUM</th>\n",
       "      <th>...</th>\n",
       "      <th>ethnicity_PORTUGUESE</th>\n",
       "      <th>ethnicity_SOUTH AMERICAN</th>\n",
       "      <th>ethnicity_UNABLE TO OBTAIN</th>\n",
       "      <th>ethnicity_UNKNOWN/NOT SPECIFIED</th>\n",
       "      <th>ethnicity_WHITE</th>\n",
       "      <th>ethnicity_WHITE - BRAZILIAN</th>\n",
       "      <th>ethnicity_WHITE - EASTERN EUROPEAN</th>\n",
       "      <th>ethnicity_WHITE - OTHER EUROPEAN</th>\n",
       "      <th>ethnicity_WHITE - RUSSIAN</th>\n",
       "      <th>gender_M</th>\n",
       "    </tr>\n",
       "    <tr>\n",
       "      <th>hadm_id</th>\n",
       "      <th></th>\n",
       "      <th></th>\n",
       "      <th></th>\n",
       "      <th></th>\n",
       "      <th></th>\n",
       "      <th></th>\n",
       "      <th></th>\n",
       "      <th></th>\n",
       "      <th></th>\n",
       "      <th></th>\n",
       "      <th></th>\n",
       "      <th></th>\n",
       "      <th></th>\n",
       "      <th></th>\n",
       "      <th></th>\n",
       "      <th></th>\n",
       "      <th></th>\n",
       "      <th></th>\n",
       "      <th></th>\n",
       "      <th></th>\n",
       "      <th></th>\n",
       "    </tr>\n",
       "  </thead>\n",
       "  <tbody>\n",
       "    <tr>\n",
       "      <th>165315</th>\n",
       "      <td>64.969863</td>\n",
       "      <td>27.450000</td>\n",
       "      <td>1</td>\n",
       "      <td>0.0</td>\n",
       "      <td>1.0</td>\n",
       "      <td>0.0</td>\n",
       "      <td>0.0</td>\n",
       "      <td>0.0</td>\n",
       "      <td>0.0</td>\n",
       "      <td>0.0</td>\n",
       "      <td>...</td>\n",
       "      <td>0</td>\n",
       "      <td>0</td>\n",
       "      <td>0</td>\n",
       "      <td>0</td>\n",
       "      <td>1</td>\n",
       "      <td>0</td>\n",
       "      <td>0</td>\n",
       "      <td>0</td>\n",
       "      <td>0</td>\n",
       "      <td>0</td>\n",
       "    </tr>\n",
       "    <tr>\n",
       "      <th>152223</th>\n",
       "      <td>71.178082</td>\n",
       "      <td>30.337778</td>\n",
       "      <td>1</td>\n",
       "      <td>1.0</td>\n",
       "      <td>0.0</td>\n",
       "      <td>0.0</td>\n",
       "      <td>0.0</td>\n",
       "      <td>0.0</td>\n",
       "      <td>0.0</td>\n",
       "      <td>0.0</td>\n",
       "      <td>...</td>\n",
       "      <td>0</td>\n",
       "      <td>0</td>\n",
       "      <td>0</td>\n",
       "      <td>0</td>\n",
       "      <td>1</td>\n",
       "      <td>0</td>\n",
       "      <td>0</td>\n",
       "      <td>0</td>\n",
       "      <td>0</td>\n",
       "      <td>1</td>\n",
       "    </tr>\n",
       "    <tr>\n",
       "      <th>124321</th>\n",
       "      <td>75.304110</td>\n",
       "      <td>28.469444</td>\n",
       "      <td>1</td>\n",
       "      <td>0.0</td>\n",
       "      <td>0.0</td>\n",
       "      <td>0.0</td>\n",
       "      <td>1.0</td>\n",
       "      <td>0.0</td>\n",
       "      <td>0.0</td>\n",
       "      <td>0.0</td>\n",
       "      <td>...</td>\n",
       "      <td>0</td>\n",
       "      <td>0</td>\n",
       "      <td>0</td>\n",
       "      <td>0</td>\n",
       "      <td>1</td>\n",
       "      <td>0</td>\n",
       "      <td>0</td>\n",
       "      <td>0</td>\n",
       "      <td>0</td>\n",
       "      <td>1</td>\n",
       "    </tr>\n",
       "    <tr>\n",
       "      <th>161859</th>\n",
       "      <td>39.041096</td>\n",
       "      <td>12.296944</td>\n",
       "      <td>1</td>\n",
       "      <td>0.0</td>\n",
       "      <td>0.0</td>\n",
       "      <td>0.0</td>\n",
       "      <td>0.0</td>\n",
       "      <td>0.0</td>\n",
       "      <td>0.0</td>\n",
       "      <td>0.0</td>\n",
       "      <td>...</td>\n",
       "      <td>0</td>\n",
       "      <td>0</td>\n",
       "      <td>0</td>\n",
       "      <td>0</td>\n",
       "      <td>1</td>\n",
       "      <td>0</td>\n",
       "      <td>0</td>\n",
       "      <td>0</td>\n",
       "      <td>0</td>\n",
       "      <td>1</td>\n",
       "    </tr>\n",
       "    <tr>\n",
       "      <th>129635</th>\n",
       "      <td>58.989041</td>\n",
       "      <td>85.117778</td>\n",
       "      <td>1</td>\n",
       "      <td>0.0</td>\n",
       "      <td>0.0</td>\n",
       "      <td>0.0</td>\n",
       "      <td>0.0</td>\n",
       "      <td>0.0</td>\n",
       "      <td>0.0</td>\n",
       "      <td>0.0</td>\n",
       "      <td>...</td>\n",
       "      <td>0</td>\n",
       "      <td>0</td>\n",
       "      <td>0</td>\n",
       "      <td>0</td>\n",
       "      <td>1</td>\n",
       "      <td>0</td>\n",
       "      <td>0</td>\n",
       "      <td>0</td>\n",
       "      <td>0</td>\n",
       "      <td>1</td>\n",
       "    </tr>\n",
       "    <tr>\n",
       "      <th>...</th>\n",
       "      <td>...</td>\n",
       "      <td>...</td>\n",
       "      <td>...</td>\n",
       "      <td>...</td>\n",
       "      <td>...</td>\n",
       "      <td>...</td>\n",
       "      <td>...</td>\n",
       "      <td>...</td>\n",
       "      <td>...</td>\n",
       "      <td>...</td>\n",
       "      <td>...</td>\n",
       "      <td>...</td>\n",
       "      <td>...</td>\n",
       "      <td>...</td>\n",
       "      <td>...</td>\n",
       "      <td>...</td>\n",
       "      <td>...</td>\n",
       "      <td>...</td>\n",
       "      <td>...</td>\n",
       "      <td>...</td>\n",
       "      <td>...</td>\n",
       "    </tr>\n",
       "    <tr>\n",
       "      <th>141860</th>\n",
       "      <td>80.389041</td>\n",
       "      <td>186.932500</td>\n",
       "      <td>1</td>\n",
       "      <td>0.0</td>\n",
       "      <td>0.0</td>\n",
       "      <td>0.0</td>\n",
       "      <td>0.0</td>\n",
       "      <td>0.0</td>\n",
       "      <td>1.0</td>\n",
       "      <td>0.0</td>\n",
       "      <td>...</td>\n",
       "      <td>0</td>\n",
       "      <td>0</td>\n",
       "      <td>0</td>\n",
       "      <td>0</td>\n",
       "      <td>1</td>\n",
       "      <td>0</td>\n",
       "      <td>0</td>\n",
       "      <td>0</td>\n",
       "      <td>0</td>\n",
       "      <td>0</td>\n",
       "    </tr>\n",
       "    <tr>\n",
       "      <th>187987</th>\n",
       "      <td>53.613699</td>\n",
       "      <td>78.476667</td>\n",
       "      <td>2</td>\n",
       "      <td>0.0</td>\n",
       "      <td>0.0</td>\n",
       "      <td>0.0</td>\n",
       "      <td>0.0</td>\n",
       "      <td>1.0</td>\n",
       "      <td>0.0</td>\n",
       "      <td>0.0</td>\n",
       "      <td>...</td>\n",
       "      <td>0</td>\n",
       "      <td>0</td>\n",
       "      <td>0</td>\n",
       "      <td>0</td>\n",
       "      <td>1</td>\n",
       "      <td>0</td>\n",
       "      <td>0</td>\n",
       "      <td>0</td>\n",
       "      <td>0</td>\n",
       "      <td>1</td>\n",
       "    </tr>\n",
       "    <tr>\n",
       "      <th>190603</th>\n",
       "      <td>78.326027</td>\n",
       "      <td>54.931111</td>\n",
       "      <td>1</td>\n",
       "      <td>1.0</td>\n",
       "      <td>0.0</td>\n",
       "      <td>0.0</td>\n",
       "      <td>0.0</td>\n",
       "      <td>0.0</td>\n",
       "      <td>0.0</td>\n",
       "      <td>0.0</td>\n",
       "      <td>...</td>\n",
       "      <td>0</td>\n",
       "      <td>0</td>\n",
       "      <td>0</td>\n",
       "      <td>0</td>\n",
       "      <td>1</td>\n",
       "      <td>0</td>\n",
       "      <td>0</td>\n",
       "      <td>0</td>\n",
       "      <td>0</td>\n",
       "      <td>1</td>\n",
       "    </tr>\n",
       "    <tr>\n",
       "      <th>191113</th>\n",
       "      <td>19.410959</td>\n",
       "      <td>21.066667</td>\n",
       "      <td>1</td>\n",
       "      <td>0.0</td>\n",
       "      <td>0.0</td>\n",
       "      <td>0.0</td>\n",
       "      <td>0.0</td>\n",
       "      <td>0.0</td>\n",
       "      <td>0.0</td>\n",
       "      <td>1.0</td>\n",
       "      <td>...</td>\n",
       "      <td>0</td>\n",
       "      <td>0</td>\n",
       "      <td>0</td>\n",
       "      <td>0</td>\n",
       "      <td>1</td>\n",
       "      <td>0</td>\n",
       "      <td>0</td>\n",
       "      <td>0</td>\n",
       "      <td>0</td>\n",
       "      <td>0</td>\n",
       "    </tr>\n",
       "    <tr>\n",
       "      <th>122631</th>\n",
       "      <td>42.558904</td>\n",
       "      <td>46.852778</td>\n",
       "      <td>1</td>\n",
       "      <td>0.0</td>\n",
       "      <td>0.0</td>\n",
       "      <td>0.0</td>\n",
       "      <td>0.0</td>\n",
       "      <td>0.0</td>\n",
       "      <td>0.0</td>\n",
       "      <td>0.0</td>\n",
       "      <td>...</td>\n",
       "      <td>0</td>\n",
       "      <td>0</td>\n",
       "      <td>0</td>\n",
       "      <td>0</td>\n",
       "      <td>1</td>\n",
       "      <td>0</td>\n",
       "      <td>0</td>\n",
       "      <td>0</td>\n",
       "      <td>0</td>\n",
       "      <td>1</td>\n",
       "    </tr>\n",
       "  </tbody>\n",
       "</table>\n",
       "<p>43956 rows × 450 columns</p>\n",
       "</div>"
      ],
      "text/plain": [
       "               age  icu_duration  nicu_stays  curr_service_CSURG  \\\n",
       "hadm_id                                                            \n",
       "165315   64.969863     27.450000           1                 0.0   \n",
       "152223   71.178082     30.337778           1                 1.0   \n",
       "124321   75.304110     28.469444           1                 0.0   \n",
       "161859   39.041096     12.296944           1                 0.0   \n",
       "129635   58.989041     85.117778           1                 0.0   \n",
       "...            ...           ...         ...                 ...   \n",
       "141860   80.389041    186.932500           1                 0.0   \n",
       "187987   53.613699     78.476667           2                 0.0   \n",
       "190603   78.326027     54.931111           1                 1.0   \n",
       "191113   19.410959     21.066667           1                 0.0   \n",
       "122631   42.558904     46.852778           1                 0.0   \n",
       "\n",
       "         curr_service_MED  curr_service_NMED  curr_service_NSURG  \\\n",
       "hadm_id                                                            \n",
       "165315                1.0                0.0                 0.0   \n",
       "152223                0.0                0.0                 0.0   \n",
       "124321                0.0                0.0                 1.0   \n",
       "161859                0.0                0.0                 0.0   \n",
       "129635                0.0                0.0                 0.0   \n",
       "...                   ...                ...                 ...   \n",
       "141860                0.0                0.0                 0.0   \n",
       "187987                0.0                0.0                 0.0   \n",
       "190603                0.0                0.0                 0.0   \n",
       "191113                0.0                0.0                 0.0   \n",
       "122631                0.0                0.0                 0.0   \n",
       "\n",
       "         curr_service_ORTHO  curr_service_SURG  curr_service_TRAUM  ...  \\\n",
       "hadm_id                                                             ...   \n",
       "165315                  0.0                0.0                 0.0  ...   \n",
       "152223                  0.0                0.0                 0.0  ...   \n",
       "124321                  0.0                0.0                 0.0  ...   \n",
       "161859                  0.0                0.0                 0.0  ...   \n",
       "129635                  0.0                0.0                 0.0  ...   \n",
       "...                     ...                ...                 ...  ...   \n",
       "141860                  0.0                1.0                 0.0  ...   \n",
       "187987                  1.0                0.0                 0.0  ...   \n",
       "190603                  0.0                0.0                 0.0  ...   \n",
       "191113                  0.0                0.0                 1.0  ...   \n",
       "122631                  0.0                0.0                 0.0  ...   \n",
       "\n",
       "         ethnicity_PORTUGUESE  ethnicity_SOUTH AMERICAN  \\\n",
       "hadm_id                                                   \n",
       "165315                      0                         0   \n",
       "152223                      0                         0   \n",
       "124321                      0                         0   \n",
       "161859                      0                         0   \n",
       "129635                      0                         0   \n",
       "...                       ...                       ...   \n",
       "141860                      0                         0   \n",
       "187987                      0                         0   \n",
       "190603                      0                         0   \n",
       "191113                      0                         0   \n",
       "122631                      0                         0   \n",
       "\n",
       "         ethnicity_UNABLE TO OBTAIN  ethnicity_UNKNOWN/NOT SPECIFIED  \\\n",
       "hadm_id                                                                \n",
       "165315                            0                                0   \n",
       "152223                            0                                0   \n",
       "124321                            0                                0   \n",
       "161859                            0                                0   \n",
       "129635                            0                                0   \n",
       "...                             ...                              ...   \n",
       "141860                            0                                0   \n",
       "187987                            0                                0   \n",
       "190603                            0                                0   \n",
       "191113                            0                                0   \n",
       "122631                            0                                0   \n",
       "\n",
       "         ethnicity_WHITE  ethnicity_WHITE - BRAZILIAN  \\\n",
       "hadm_id                                                 \n",
       "165315                 1                            0   \n",
       "152223                 1                            0   \n",
       "124321                 1                            0   \n",
       "161859                 1                            0   \n",
       "129635                 1                            0   \n",
       "...                  ...                          ...   \n",
       "141860                 1                            0   \n",
       "187987                 1                            0   \n",
       "190603                 1                            0   \n",
       "191113                 1                            0   \n",
       "122631                 1                            0   \n",
       "\n",
       "         ethnicity_WHITE - EASTERN EUROPEAN  ethnicity_WHITE - OTHER EUROPEAN  \\\n",
       "hadm_id                                                                         \n",
       "165315                                    0                                 0   \n",
       "152223                                    0                                 0   \n",
       "124321                                    0                                 0   \n",
       "161859                                    0                                 0   \n",
       "129635                                    0                                 0   \n",
       "...                                     ...                               ...   \n",
       "141860                                    0                                 0   \n",
       "187987                                    0                                 0   \n",
       "190603                                    0                                 0   \n",
       "191113                                    0                                 0   \n",
       "122631                                    0                                 0   \n",
       "\n",
       "         ethnicity_WHITE - RUSSIAN  gender_M  \n",
       "hadm_id                                       \n",
       "165315                           0         0  \n",
       "152223                           0         1  \n",
       "124321                           0         1  \n",
       "161859                           0         1  \n",
       "129635                           0         1  \n",
       "...                            ...       ...  \n",
       "141860                           0         0  \n",
       "187987                           0         1  \n",
       "190603                           0         1  \n",
       "191113                           0         0  \n",
       "122631                           0         1  \n",
       "\n",
       "[43956 rows x 450 columns]"
      ]
     },
     "execution_count": 35,
     "metadata": {},
     "output_type": "execute_result"
    }
   ],
   "source": [
    "#onehot encode the pdat columns\n",
    "to_onehot = ['discharge_location', \n",
    "             'insurance', \n",
    "             'language',\n",
    "             'religion', \n",
    "             'marital_status',\n",
    "             'ethnicity',\n",
    "            'gender']\n",
    "cdat = pd.get_dummies(cdat, columns = to_onehot, drop_first = True)\n",
    "cdat"
   ]
  },
  {
   "cell_type": "markdown",
   "metadata": {},
   "source": [
    "### scale"
   ]
  },
  {
   "cell_type": "code",
   "execution_count": 36,
   "metadata": {},
   "outputs": [
    {
     "name": "stdout",
     "output_type": "stream",
     "text": [
      "maximum value in dataframe = 1.0\n"
     ]
    }
   ],
   "source": [
    "#Note the 'total' columns created for presence absence sets above are already scaled\n",
    "#scale the dataframe\n",
    "from sklearn.preprocessing import MinMaxScaler\n",
    "scaler = MinMaxScaler()\n",
    "need_scaling = [\n",
    "    'age', 'icu_duration', 'nicu_stays'\n",
    "]\n",
    "cdat[need_scaling] = scaler.fit_transform(cdat[need_scaling])\n",
    "print('maximum value in dataframe = {}'.format(max(cdat.max())))"
   ]
  },
  {
   "cell_type": "markdown",
   "metadata": {},
   "source": [
    "### handle colinearity\n",
    "greedily take the member of each pair that correlates better with outcome"
   ]
  },
  {
   "cell_type": "code",
   "execution_count": 37,
   "metadata": {},
   "outputs": [
    {
     "name": "stdout",
     "output_type": "stream",
     "text": [
      "10 features from 10 feature pairs with correlations > 0.75 were dropped\n"
     ]
    }
   ],
   "source": [
    "#get highly correlated pairs\n",
    "m = cdat.corr()\n",
    "cor_df = m.stack().reset_index()\n",
    "cor_df.columns = ['f1', 'f2', 'cor']\n",
    "cor_df = cor_df.loc[cor_df['f1']!=cor_df['f2'],:]\n",
    "hcor_df = cor_df.loc[np.abs(cor_df['cor'])>0.75,:]\n",
    "sorted_pairs = pd.DataFrame(hcor_df.loc[:,['f1','f2']].apply(lambda x: x.sort_values().values, axis=1))\n",
    "dups = pd.DataFrame(sorted_pairs[0].tolist(), index= sorted_pairs.index).duplicated()\n",
    "hcor_df = hcor_df.loc[~dups,:]\n",
    "\n",
    "#drop the lesser of the two\n",
    "def col_outcome_cor(col):\n",
    "    c = cdat[col].corr(y)\n",
    "    return(c)\n",
    "col_outcome_cor('curr_service_CSURG')\n",
    "hcor_df['f1c'] = hcor_df['f1'].apply(col_outcome_cor)\n",
    "hcor_df['f2c'] = hcor_df['f2'].apply(col_outcome_cor)\n",
    "f1_higher = hcor_df['f1c'] >= hcor_df['f2c']\n",
    "drop_count = 0\n",
    "for i in range(len(f1_higher)):\n",
    "    f1 = hcor_df.loc[hcor_df.index[i],'f1']\n",
    "    f2 = hcor_df.loc[hcor_df.index[i],'f2']\n",
    "    compare = f1_higher.loc[f1_higher.index[i]]\n",
    "    if compare:\n",
    "        to_drop = f2\n",
    "    else:\n",
    "        to_drop=f1\n",
    "    if str(to_drop) in cdat.columns:\n",
    "        cdat.drop(columns=[to_drop])\n",
    "        drop_count += 1\n",
    "print('{} features from {} feature pairs with correlations > 0.75 were dropped'.format(drop_count, hcor_df.shape[0]))"
   ]
  },
  {
   "cell_type": "markdown",
   "metadata": {},
   "source": [
    "### retrieve training and test sets"
   ]
  },
  {
   "cell_type": "code",
   "execution_count": 38,
   "metadata": {},
   "outputs": [
    {
     "name": "stdout",
     "output_type": "stream",
     "text": [
      "(35164, 450)\n",
      "860\n",
      "(8792, 450)\n",
      "215\n"
     ]
    }
   ],
   "source": [
    "X_train = cdat.loc[train_hadm_ids,:]\n",
    "y_train = y[train_hadm_ids]\n",
    "X_test = cdat.loc[test_hadm_ids,:]\n",
    "y_test = y[test_hadm_ids]\n",
    "print(X_train.shape)\n",
    "print(np.sum(y_train))\n",
    "print(X_test.shape)\n",
    "print(np.sum(y_test))"
   ]
  },
  {
   "cell_type": "markdown",
   "metadata": {},
   "source": [
    "## write out"
   ]
  },
  {
   "cell_type": "code",
   "execution_count": 39,
   "metadata": {},
   "outputs": [],
   "source": [
    "import joblib\n",
    "joblib.dump(X_train, '/Users/grovesdixon/projects/Insight/icu_project/my_mimic/X_train.joblib')\n",
    "joblib.dump(y_train, '/Users/grovesdixon/projects/Insight/icu_project/my_mimic/y_train.joblib')\n",
    "joblib.dump(X_test, '/Users/grovesdixon/projects/Insight/icu_project/my_mimic/X_test.joblib')\n",
    "joblib.dump(y_test, '/Users/grovesdixon/projects/Insight/icu_project/my_mimic/y_test.joblib');"
   ]
  },
  {
   "cell_type": "code",
   "execution_count": 101,
   "metadata": {},
   "outputs": [
    {
     "data": {
      "text/plain": [
       "LogisticRegression(C=1.0, class_weight=None, dual=False, fit_intercept=True,\n",
       "                   intercept_scaling=1, l1_ratio=None, max_iter=1000,\n",
       "                   multi_class='auto', n_jobs=None, penalty='l1',\n",
       "                   random_state=None, solver='liblinear', tol=0.0001, verbose=0,\n",
       "                   warm_start=False)"
      ]
     },
     "execution_count": 101,
     "metadata": {},
     "output_type": "execute_result"
    }
   ],
   "source": [
    "#lasso logistic regression\n",
    "from sklearn.linear_model import LogisticRegression\n",
    "l1log_reg = LogisticRegression(max_iter=1000, penalty='l1', solver='liblinear')\n",
    "\n",
    "#train\n",
    "l1log_reg.fit(X_train, y_train)"
   ]
  },
  {
   "cell_type": "code",
   "execution_count": 104,
   "metadata": {},
   "outputs": [
    {
     "data": {
      "image/png": "[encoded data removed]",
      "text/plain": [
       "<Figure size 432x288 with 1 Axes>"
      ]
     },
     "metadata": {
      "needs_background": "light"
     },
     "output_type": "display_data"
    },
    {
     "data": {
      "image/png": "[encoded data removed]",
      "text/plain": [
       "<Figure size 432x288 with 1 Axes>"
      ]
     },
     "metadata": {
      "needs_background": "light"
     },
     "output_type": "display_data"
    },
    {
     "name": "stdout",
     "output_type": "stream",
     "text": [
      "Confusion matrix for threshold = 0.13:\n",
      "[[33612   692]\n",
      " [  693   167]]\n",
      "Classification report:\n",
      "              precision    recall  f1-score   support\n",
      "\n",
      "           0       0.98      0.98      0.98     34304\n",
      "           1       0.19      0.19      0.19       860\n",
      "\n",
      "    accuracy                           0.96     35164\n",
      "   macro avg       0.59      0.59      0.59     35164\n",
      "weighted avg       0.96      0.96      0.96     35164\n",
      "\n"
     ]
    },
    {
     "data": {
      "image/png": "[encoded data removed]",
      "text/plain": [
       "<Figure size 432x288 with 1 Axes>"
      ]
     },
     "metadata": {
      "needs_background": "light"
     },
     "output_type": "display_data"
    }
   ],
   "source": [
    "#performance on the training set\n",
    "exec(open(\"my_functions.py\").read())\n",
    "probs_train = l1log_reg.predict_proba(X_train)\n",
    "scores_train = probs_train[:, 1]\n",
    "train_perf = get_model_performance('logistic regression training set', X_train, scores_train, y_train, pos_label=1)"
   ]
  },
  {
   "cell_type": "code",
   "execution_count": 105,
   "metadata": {
    "scrolled": true
   },
   "outputs": [
    {
     "data": {
      "image/png": "[encoded data removed]",
      "text/plain": [
       "<Figure size 432x288 with 1 Axes>"
      ]
     },
     "metadata": {
      "needs_background": "light"
     },
     "output_type": "display_data"
    },
    {
     "data": {
      "image/png": "[encoded data removed]",
      "text/plain": [
       "<Figure size 432x288 with 1 Axes>"
      ]
     },
     "metadata": {
      "needs_background": "light"
     },
     "output_type": "display_data"
    },
    {
     "name": "stdout",
     "output_type": "stream",
     "text": [
      "Confusion matrix for threshold = 0.13:\n",
      "[[8398  179]\n",
      " [ 180   35]]\n",
      "Classification report:\n",
      "              precision    recall  f1-score   support\n",
      "\n",
      "           0       0.98      0.98      0.98      8577\n",
      "           1       0.16      0.16      0.16       215\n",
      "\n",
      "    accuracy                           0.96      8792\n",
      "   macro avg       0.57      0.57      0.57      8792\n",
      "weighted avg       0.96      0.96      0.96      8792\n",
      "\n"
     ]
    },
    {
     "data": {
      "image/png": "[encoded data removed]",
      "text/plain": [
       "<Figure size 432x288 with 1 Axes>"
      ]
     },
     "metadata": {
      "needs_background": "light"
     },
     "output_type": "display_data"
    }
   ],
   "source": [
    "#performance on the test set\n",
    "probs_test = l1log_reg.predict_proba(X_test)\n",
    "scores_test = probs_test[:, 1]\n",
    "test_perf = get_model_performance('logistic regression test set', X_test, scores_test, y_test, pos_label=1)"
   ]
  },
  {
   "cell_type": "markdown",
   "metadata": {},
   "source": [
    "## regularize features for RF"
   ]
  },
  {
   "cell_type": "code",
   "execution_count": 106,
   "metadata": {},
   "outputs": [
    {
     "name": "stdout",
     "output_type": "stream",
     "text": [
      "89 of 200 features had nonzero coefficients\n"
     ]
    }
   ],
   "source": [
    "from sklearn.linear_model import Lasso, LogisticRegression\n",
    "from sklearn.feature_selection import SelectFromModel\n",
    "sel = SelectFromModel(LogisticRegression(C=1, penalty='l1', solver='liblinear'))\n",
    "sel.fit(X_train, y_train)\n",
    "sel.get_support()\n",
    "print('{} of {} features had nonzero coefficients'.format(np.sum(sel.get_support()), X_train.shape[1]))\n",
    "\n",
    "X_l1_train = X_train.loc[:, X_train.columns[sel.get_support()]]\n",
    "X_l1_test = X_test.loc[:, X_test.columns[sel.get_support()]]"
   ]
  },
  {
   "cell_type": "code",
   "execution_count": 20,
   "metadata": {},
   "outputs": [
    {
     "name": "stdout",
     "output_type": "stream",
     "text": [
      "Fitting 5 folds for each of 45 candidates, totalling 225 fits\n"
     ]
    },
    {
     "name": "stderr",
     "output_type": "stream",
     "text": [
      "/opt/anaconda3/lib/python3.7/site-packages/sklearn/model_selection/_search.py:281: UserWarning: The total space of parameters 45 is smaller than n_iter=100. Running 45 iterations. For exhaustive searches, use GridSearchCV.\n",
      "  % (grid_size, self.n_iter, grid_size), UserWarning)\n",
      "[Parallel(n_jobs=3)]: Using backend LokyBackend with 3 concurrent workers.\n",
      "/opt/anaconda3/lib/python3.7/site-packages/joblib/externals/loky/process_executor.py:706: UserWarning: A worker stopped while some jobs were given to the executor. This can be caused by a too short worker timeout or by a memory leak.\n",
      "  \"timeout or by a memory leak.\", UserWarning\n",
      "[Parallel(n_jobs=3)]: Done  35 tasks      | elapsed:   20.8s\n",
      "[Parallel(n_jobs=3)]: Done 156 tasks      | elapsed:  2.3min\n",
      "exception calling callback for <Future at 0x7fd888165d10 state=finished raised TerminatedWorkerError>\n",
      "Traceback (most recent call last):\n",
      "  File \"/opt/anaconda3/lib/python3.7/site-packages/joblib/externals/loky/_base.py\", line 625, in _invoke_callbacks\n",
      "    callback(self)\n",
      "  File \"/opt/anaconda3/lib/python3.7/site-packages/joblib/parallel.py\", line 340, in __call__\n",
      "    self.parallel.dispatch_next()\n",
      "  File \"/opt/anaconda3/lib/python3.7/site-packages/joblib/parallel.py\", line 769, in dispatch_next\n",
      "    if not self.dispatch_one_batch(self._original_iterator):\n",
      "  File \"/opt/anaconda3/lib/python3.7/site-packages/joblib/parallel.py\", line 835, in dispatch_one_batch\n",
      "    self._dispatch(tasks)\n",
      "  File \"/opt/anaconda3/lib/python3.7/site-packages/joblib/parallel.py\", line 754, in _dispatch\n",
      "    job = self._backend.apply_async(batch, callback=cb)\n",
      "  File \"/opt/anaconda3/lib/python3.7/site-packages/joblib/_parallel_backends.py\", line 551, in apply_async\n",
      "    future = self._workers.submit(SafeFunction(func))\n",
      "  File \"/opt/anaconda3/lib/python3.7/site-packages/joblib/externals/loky/reusable_executor.py\", line 160, in submit\n",
      "    fn, *args, **kwargs)\n",
      "  File \"/opt/anaconda3/lib/python3.7/site-packages/joblib/externals/loky/process_executor.py\", line 1027, in submit\n",
      "    raise self._flags.broken\n",
      "joblib.externals.loky.process_executor.TerminatedWorkerError: A worker process managed by the executor was unexpectedly terminated. This could be caused by a segmentation fault while calling the function or by an excessive memory usage causing the Operating System to kill the worker. The exit codes of the workers are {SIGABRT(-6)}\n"
     ]
    },
    {
     "ename": "TerminatedWorkerError",
     "evalue": "A worker process managed by the executor was unexpectedly terminated. This could be caused by a segmentation fault while calling the function or by an excessive memory usage causing the Operating System to kill the worker. The exit codes of the workers are {SIGABRT(-6)}",
     "output_type": "error",
     "traceback": [
      "\u001b[0;31m---------------------------------------------------------------------------\u001b[0m",
      "\u001b[0;31mTerminatedWorkerError\u001b[0m                     Traceback (most recent call last)",
      "\u001b[0;32m<ipython-input-20-79bb2b669673>\u001b[0m in \u001b[0;36m<module>\u001b[0;34m\u001b[0m\n\u001b[1;32m     27\u001b[0m                                \u001b[0mrandom_state\u001b[0m\u001b[0;34m=\u001b[0m\u001b[0mRAND_SEED\u001b[0m\u001b[0;34m,\u001b[0m\u001b[0;34m\u001b[0m\u001b[0;34m\u001b[0m\u001b[0m\n\u001b[1;32m     28\u001b[0m                                n_jobs = N_JOBS)\n\u001b[0;32m---> 29\u001b[0;31m \u001b[0mrf_search\u001b[0m\u001b[0;34m.\u001b[0m\u001b[0mfit\u001b[0m\u001b[0;34m(\u001b[0m\u001b[0mX_l1_train\u001b[0m\u001b[0;34m,\u001b[0m \u001b[0my_train\u001b[0m\u001b[0;34m)\u001b[0m\u001b[0;34m\u001b[0m\u001b[0;34m\u001b[0m\u001b[0m\n\u001b[0m\u001b[1;32m     30\u001b[0m \u001b[0mbest_params\u001b[0m \u001b[0;34m=\u001b[0m \u001b[0mrf_search\u001b[0m\u001b[0;34m.\u001b[0m\u001b[0mbest_params_\u001b[0m\u001b[0;34m\u001b[0m\u001b[0;34m\u001b[0m\u001b[0m\n\u001b[1;32m     31\u001b[0m \u001b[0mprint\u001b[0m\u001b[0;34m(\u001b[0m\u001b[0mrf_search\u001b[0m\u001b[0;34m.\u001b[0m\u001b[0mbest_params_\u001b[0m\u001b[0;34m)\u001b[0m\u001b[0;34m\u001b[0m\u001b[0;34m\u001b[0m\u001b[0m\n",
      "\u001b[0;32m/opt/anaconda3/lib/python3.7/site-packages/sklearn/model_selection/_search.py\u001b[0m in \u001b[0;36mfit\u001b[0;34m(self, X, y, groups, **fit_params)\u001b[0m\n\u001b[1;32m    708\u001b[0m                 \u001b[0;32mreturn\u001b[0m \u001b[0mresults\u001b[0m\u001b[0;34m\u001b[0m\u001b[0;34m\u001b[0m\u001b[0m\n\u001b[1;32m    709\u001b[0m \u001b[0;34m\u001b[0m\u001b[0m\n\u001b[0;32m--> 710\u001b[0;31m             \u001b[0mself\u001b[0m\u001b[0;34m.\u001b[0m\u001b[0m_run_search\u001b[0m\u001b[0;34m(\u001b[0m\u001b[0mevaluate_candidates\u001b[0m\u001b[0;34m)\u001b[0m\u001b[0;34m\u001b[0m\u001b[0;34m\u001b[0m\u001b[0m\n\u001b[0m\u001b[1;32m    711\u001b[0m \u001b[0;34m\u001b[0m\u001b[0m\n\u001b[1;32m    712\u001b[0m         \u001b[0;31m# For multi-metric evaluation, store the best_index_, best_params_ and\u001b[0m\u001b[0;34m\u001b[0m\u001b[0;34m\u001b[0m\u001b[0;34m\u001b[0m\u001b[0m\n",
      "\u001b[0;32m/opt/anaconda3/lib/python3.7/site-packages/sklearn/model_selection/_search.py\u001b[0m in \u001b[0;36m_run_search\u001b[0;34m(self, evaluate_candidates)\u001b[0m\n\u001b[1;32m   1482\u001b[0m         evaluate_candidates(ParameterSampler(\n\u001b[1;32m   1483\u001b[0m             \u001b[0mself\u001b[0m\u001b[0;34m.\u001b[0m\u001b[0mparam_distributions\u001b[0m\u001b[0;34m,\u001b[0m \u001b[0mself\u001b[0m\u001b[0;34m.\u001b[0m\u001b[0mn_iter\u001b[0m\u001b[0;34m,\u001b[0m\u001b[0;34m\u001b[0m\u001b[0;34m\u001b[0m\u001b[0m\n\u001b[0;32m-> 1484\u001b[0;31m             random_state=self.random_state))\n\u001b[0m",
      "\u001b[0;32m/opt/anaconda3/lib/python3.7/site-packages/sklearn/model_selection/_search.py\u001b[0m in \u001b[0;36mevaluate_candidates\u001b[0;34m(candidate_params)\u001b[0m\n\u001b[1;32m    687\u001b[0m                                \u001b[0;32mfor\u001b[0m \u001b[0mparameters\u001b[0m\u001b[0;34m,\u001b[0m \u001b[0;34m(\u001b[0m\u001b[0mtrain\u001b[0m\u001b[0;34m,\u001b[0m \u001b[0mtest\u001b[0m\u001b[0;34m)\u001b[0m\u001b[0;34m\u001b[0m\u001b[0;34m\u001b[0m\u001b[0m\n\u001b[1;32m    688\u001b[0m                                in product(candidate_params,\n\u001b[0;32m--> 689\u001b[0;31m                                           cv.split(X, y, groups)))\n\u001b[0m\u001b[1;32m    690\u001b[0m \u001b[0;34m\u001b[0m\u001b[0m\n\u001b[1;32m    691\u001b[0m                 \u001b[0;32mif\u001b[0m \u001b[0mlen\u001b[0m\u001b[0;34m(\u001b[0m\u001b[0mout\u001b[0m\u001b[0;34m)\u001b[0m \u001b[0;34m<\u001b[0m \u001b[0;36m1\u001b[0m\u001b[0;34m:\u001b[0m\u001b[0;34m\u001b[0m\u001b[0;34m\u001b[0m\u001b[0m\n",
      "\u001b[0;32m/opt/anaconda3/lib/python3.7/site-packages/joblib/parallel.py\u001b[0m in \u001b[0;36m__call__\u001b[0;34m(self, iterable)\u001b[0m\n\u001b[1;32m   1015\u001b[0m \u001b[0;34m\u001b[0m\u001b[0m\n\u001b[1;32m   1016\u001b[0m             \u001b[0;32mwith\u001b[0m \u001b[0mself\u001b[0m\u001b[0;34m.\u001b[0m\u001b[0m_backend\u001b[0m\u001b[0;34m.\u001b[0m\u001b[0mretrieval_context\u001b[0m\u001b[0;34m(\u001b[0m\u001b[0;34m)\u001b[0m\u001b[0;34m:\u001b[0m\u001b[0;34m\u001b[0m\u001b[0;34m\u001b[0m\u001b[0m\n\u001b[0;32m-> 1017\u001b[0;31m                 \u001b[0mself\u001b[0m\u001b[0;34m.\u001b[0m\u001b[0mretrieve\u001b[0m\u001b[0;34m(\u001b[0m\u001b[0;34m)\u001b[0m\u001b[0;34m\u001b[0m\u001b[0;34m\u001b[0m\u001b[0m\n\u001b[0m\u001b[1;32m   1018\u001b[0m             \u001b[0;31m# Make sure that we get a last message telling us we are done\u001b[0m\u001b[0;34m\u001b[0m\u001b[0;34m\u001b[0m\u001b[0;34m\u001b[0m\u001b[0m\n\u001b[1;32m   1019\u001b[0m             \u001b[0melapsed_time\u001b[0m \u001b[0;34m=\u001b[0m \u001b[0mtime\u001b[0m\u001b[0;34m.\u001b[0m\u001b[0mtime\u001b[0m\u001b[0;34m(\u001b[0m\u001b[0;34m)\u001b[0m \u001b[0;34m-\u001b[0m \u001b[0mself\u001b[0m\u001b[0;34m.\u001b[0m\u001b[0m_start_time\u001b[0m\u001b[0;34m\u001b[0m\u001b[0;34m\u001b[0m\u001b[0m\n",
      "\u001b[0;32m/opt/anaconda3/lib/python3.7/site-packages/joblib/parallel.py\u001b[0m in \u001b[0;36mretrieve\u001b[0;34m(self)\u001b[0m\n\u001b[1;32m    907\u001b[0m             \u001b[0;32mtry\u001b[0m\u001b[0;34m:\u001b[0m\u001b[0;34m\u001b[0m\u001b[0;34m\u001b[0m\u001b[0m\n\u001b[1;32m    908\u001b[0m                 \u001b[0;32mif\u001b[0m \u001b[0mgetattr\u001b[0m\u001b[0;34m(\u001b[0m\u001b[0mself\u001b[0m\u001b[0;34m.\u001b[0m\u001b[0m_backend\u001b[0m\u001b[0;34m,\u001b[0m \u001b[0;34m'supports_timeout'\u001b[0m\u001b[0;34m,\u001b[0m \u001b[0;32mFalse\u001b[0m\u001b[0;34m)\u001b[0m\u001b[0;34m:\u001b[0m\u001b[0;34m\u001b[0m\u001b[0;34m\u001b[0m\u001b[0m\n\u001b[0;32m--> 909\u001b[0;31m                     \u001b[0mself\u001b[0m\u001b[0;34m.\u001b[0m\u001b[0m_output\u001b[0m\u001b[0;34m.\u001b[0m\u001b[0mextend\u001b[0m\u001b[0;34m(\u001b[0m\u001b[0mjob\u001b[0m\u001b[0;34m.\u001b[0m\u001b[0mget\u001b[0m\u001b[0;34m(\u001b[0m\u001b[0mtimeout\u001b[0m\u001b[0;34m=\u001b[0m\u001b[0mself\u001b[0m\u001b[0;34m.\u001b[0m\u001b[0mtimeout\u001b[0m\u001b[0;34m)\u001b[0m\u001b[0;34m)\u001b[0m\u001b[0;34m\u001b[0m\u001b[0;34m\u001b[0m\u001b[0m\n\u001b[0m\u001b[1;32m    910\u001b[0m                 \u001b[0;32melse\u001b[0m\u001b[0;34m:\u001b[0m\u001b[0;34m\u001b[0m\u001b[0;34m\u001b[0m\u001b[0m\n\u001b[1;32m    911\u001b[0m                     \u001b[0mself\u001b[0m\u001b[0;34m.\u001b[0m\u001b[0m_output\u001b[0m\u001b[0;34m.\u001b[0m\u001b[0mextend\u001b[0m\u001b[0;34m(\u001b[0m\u001b[0mjob\u001b[0m\u001b[0;34m.\u001b[0m\u001b[0mget\u001b[0m\u001b[0;34m(\u001b[0m\u001b[0;34m)\u001b[0m\u001b[0;34m)\u001b[0m\u001b[0;34m\u001b[0m\u001b[0;34m\u001b[0m\u001b[0m\n",
      "\u001b[0;32m/opt/anaconda3/lib/python3.7/site-packages/joblib/_parallel_backends.py\u001b[0m in \u001b[0;36mwrap_future_result\u001b[0;34m(future, timeout)\u001b[0m\n\u001b[1;32m    560\u001b[0m         AsyncResults.get from multiprocessing.\"\"\"\n\u001b[1;32m    561\u001b[0m         \u001b[0;32mtry\u001b[0m\u001b[0;34m:\u001b[0m\u001b[0;34m\u001b[0m\u001b[0;34m\u001b[0m\u001b[0m\n\u001b[0;32m--> 562\u001b[0;31m             \u001b[0;32mreturn\u001b[0m \u001b[0mfuture\u001b[0m\u001b[0;34m.\u001b[0m\u001b[0mresult\u001b[0m\u001b[0;34m(\u001b[0m\u001b[0mtimeout\u001b[0m\u001b[0;34m=\u001b[0m\u001b[0mtimeout\u001b[0m\u001b[0;34m)\u001b[0m\u001b[0;34m\u001b[0m\u001b[0;34m\u001b[0m\u001b[0m\n\u001b[0m\u001b[1;32m    563\u001b[0m         \u001b[0;32mexcept\u001b[0m \u001b[0mLokyTimeoutError\u001b[0m\u001b[0;34m:\u001b[0m\u001b[0;34m\u001b[0m\u001b[0;34m\u001b[0m\u001b[0m\n\u001b[1;32m    564\u001b[0m             \u001b[0;32mraise\u001b[0m \u001b[0mTimeoutError\u001b[0m\u001b[0;34m(\u001b[0m\u001b[0;34m)\u001b[0m\u001b[0;34m\u001b[0m\u001b[0;34m\u001b[0m\u001b[0m\n",
      "\u001b[0;32m/opt/anaconda3/lib/python3.7/concurrent/futures/_base.py\u001b[0m in \u001b[0;36mresult\u001b[0;34m(self, timeout)\u001b[0m\n\u001b[1;32m    433\u001b[0m                 \u001b[0;32mraise\u001b[0m \u001b[0mCancelledError\u001b[0m\u001b[0;34m(\u001b[0m\u001b[0;34m)\u001b[0m\u001b[0;34m\u001b[0m\u001b[0;34m\u001b[0m\u001b[0m\n\u001b[1;32m    434\u001b[0m             \u001b[0;32melif\u001b[0m \u001b[0mself\u001b[0m\u001b[0;34m.\u001b[0m\u001b[0m_state\u001b[0m \u001b[0;34m==\u001b[0m \u001b[0mFINISHED\u001b[0m\u001b[0;34m:\u001b[0m\u001b[0;34m\u001b[0m\u001b[0;34m\u001b[0m\u001b[0m\n\u001b[0;32m--> 435\u001b[0;31m                 \u001b[0;32mreturn\u001b[0m \u001b[0mself\u001b[0m\u001b[0;34m.\u001b[0m\u001b[0m__get_result\u001b[0m\u001b[0;34m(\u001b[0m\u001b[0;34m)\u001b[0m\u001b[0;34m\u001b[0m\u001b[0;34m\u001b[0m\u001b[0m\n\u001b[0m\u001b[1;32m    436\u001b[0m             \u001b[0;32melse\u001b[0m\u001b[0;34m:\u001b[0m\u001b[0;34m\u001b[0m\u001b[0;34m\u001b[0m\u001b[0m\n\u001b[1;32m    437\u001b[0m                 \u001b[0;32mraise\u001b[0m \u001b[0mTimeoutError\u001b[0m\u001b[0;34m(\u001b[0m\u001b[0;34m)\u001b[0m\u001b[0;34m\u001b[0m\u001b[0;34m\u001b[0m\u001b[0m\n",
      "\u001b[0;32m/opt/anaconda3/lib/python3.7/concurrent/futures/_base.py\u001b[0m in \u001b[0;36m__get_result\u001b[0;34m(self)\u001b[0m\n\u001b[1;32m    382\u001b[0m     \u001b[0;32mdef\u001b[0m \u001b[0m__get_result\u001b[0m\u001b[0;34m(\u001b[0m\u001b[0mself\u001b[0m\u001b[0;34m)\u001b[0m\u001b[0;34m:\u001b[0m\u001b[0;34m\u001b[0m\u001b[0;34m\u001b[0m\u001b[0m\n\u001b[1;32m    383\u001b[0m         \u001b[0;32mif\u001b[0m \u001b[0mself\u001b[0m\u001b[0;34m.\u001b[0m\u001b[0m_exception\u001b[0m\u001b[0;34m:\u001b[0m\u001b[0;34m\u001b[0m\u001b[0;34m\u001b[0m\u001b[0m\n\u001b[0;32m--> 384\u001b[0;31m             \u001b[0;32mraise\u001b[0m \u001b[0mself\u001b[0m\u001b[0;34m.\u001b[0m\u001b[0m_exception\u001b[0m\u001b[0;34m\u001b[0m\u001b[0;34m\u001b[0m\u001b[0m\n\u001b[0m\u001b[1;32m    385\u001b[0m         \u001b[0;32melse\u001b[0m\u001b[0;34m:\u001b[0m\u001b[0;34m\u001b[0m\u001b[0;34m\u001b[0m\u001b[0m\n\u001b[1;32m    386\u001b[0m             \u001b[0;32mreturn\u001b[0m \u001b[0mself\u001b[0m\u001b[0;34m.\u001b[0m\u001b[0m_result\u001b[0m\u001b[0;34m\u001b[0m\u001b[0;34m\u001b[0m\u001b[0m\n",
      "\u001b[0;32m/opt/anaconda3/lib/python3.7/site-packages/joblib/externals/loky/_base.py\u001b[0m in \u001b[0;36m_invoke_callbacks\u001b[0;34m(self)\u001b[0m\n\u001b[1;32m    623\u001b[0m         \u001b[0;32mfor\u001b[0m \u001b[0mcallback\u001b[0m \u001b[0;32min\u001b[0m \u001b[0mself\u001b[0m\u001b[0;34m.\u001b[0m\u001b[0m_done_callbacks\u001b[0m\u001b[0;34m:\u001b[0m\u001b[0;34m\u001b[0m\u001b[0;34m\u001b[0m\u001b[0m\n\u001b[1;32m    624\u001b[0m             \u001b[0;32mtry\u001b[0m\u001b[0;34m:\u001b[0m\u001b[0;34m\u001b[0m\u001b[0;34m\u001b[0m\u001b[0m\n\u001b[0;32m--> 625\u001b[0;31m                 \u001b[0mcallback\u001b[0m\u001b[0;34m(\u001b[0m\u001b[0mself\u001b[0m\u001b[0;34m)\u001b[0m\u001b[0;34m\u001b[0m\u001b[0;34m\u001b[0m\u001b[0m\n\u001b[0m\u001b[1;32m    626\u001b[0m             \u001b[0;32mexcept\u001b[0m \u001b[0mBaseException\u001b[0m\u001b[0;34m:\u001b[0m\u001b[0;34m\u001b[0m\u001b[0;34m\u001b[0m\u001b[0m\n\u001b[1;32m    627\u001b[0m                 \u001b[0mLOGGER\u001b[0m\u001b[0;34m.\u001b[0m\u001b[0mexception\u001b[0m\u001b[0;34m(\u001b[0m\u001b[0;34m'exception calling callback for %r'\u001b[0m\u001b[0;34m,\u001b[0m \u001b[0mself\u001b[0m\u001b[0;34m)\u001b[0m\u001b[0;34m\u001b[0m\u001b[0;34m\u001b[0m\u001b[0m\n",
      "\u001b[0;32m/opt/anaconda3/lib/python3.7/site-packages/joblib/parallel.py\u001b[0m in \u001b[0;36m__call__\u001b[0;34m(self, out)\u001b[0m\n\u001b[1;32m    338\u001b[0m         \u001b[0;32mwith\u001b[0m \u001b[0mself\u001b[0m\u001b[0;34m.\u001b[0m\u001b[0mparallel\u001b[0m\u001b[0;34m.\u001b[0m\u001b[0m_lock\u001b[0m\u001b[0;34m:\u001b[0m\u001b[0;34m\u001b[0m\u001b[0;34m\u001b[0m\u001b[0m\n\u001b[1;32m    339\u001b[0m             \u001b[0;32mif\u001b[0m \u001b[0mself\u001b[0m\u001b[0;34m.\u001b[0m\u001b[0mparallel\u001b[0m\u001b[0;34m.\u001b[0m\u001b[0m_original_iterator\u001b[0m \u001b[0;32mis\u001b[0m \u001b[0;32mnot\u001b[0m \u001b[0;32mNone\u001b[0m\u001b[0;34m:\u001b[0m\u001b[0;34m\u001b[0m\u001b[0;34m\u001b[0m\u001b[0m\n\u001b[0;32m--> 340\u001b[0;31m                 \u001b[0mself\u001b[0m\u001b[0;34m.\u001b[0m\u001b[0mparallel\u001b[0m\u001b[0;34m.\u001b[0m\u001b[0mdispatch_next\u001b[0m\u001b[0;34m(\u001b[0m\u001b[0;34m)\u001b[0m\u001b[0;34m\u001b[0m\u001b[0;34m\u001b[0m\u001b[0m\n\u001b[0m\u001b[1;32m    341\u001b[0m \u001b[0;34m\u001b[0m\u001b[0m\n\u001b[1;32m    342\u001b[0m \u001b[0;34m\u001b[0m\u001b[0m\n",
      "\u001b[0;32m/opt/anaconda3/lib/python3.7/site-packages/joblib/parallel.py\u001b[0m in \u001b[0;36mdispatch_next\u001b[0;34m(self)\u001b[0m\n\u001b[1;32m    767\u001b[0m \u001b[0;34m\u001b[0m\u001b[0m\n\u001b[1;32m    768\u001b[0m         \"\"\"\n\u001b[0;32m--> 769\u001b[0;31m         \u001b[0;32mif\u001b[0m \u001b[0;32mnot\u001b[0m \u001b[0mself\u001b[0m\u001b[0;34m.\u001b[0m\u001b[0mdispatch_one_batch\u001b[0m\u001b[0;34m(\u001b[0m\u001b[0mself\u001b[0m\u001b[0;34m.\u001b[0m\u001b[0m_original_iterator\u001b[0m\u001b[0;34m)\u001b[0m\u001b[0;34m:\u001b[0m\u001b[0;34m\u001b[0m\u001b[0;34m\u001b[0m\u001b[0m\n\u001b[0m\u001b[1;32m    770\u001b[0m             \u001b[0mself\u001b[0m\u001b[0;34m.\u001b[0m\u001b[0m_iterating\u001b[0m \u001b[0;34m=\u001b[0m \u001b[0;32mFalse\u001b[0m\u001b[0;34m\u001b[0m\u001b[0;34m\u001b[0m\u001b[0m\n\u001b[1;32m    771\u001b[0m             \u001b[0mself\u001b[0m\u001b[0;34m.\u001b[0m\u001b[0m_original_iterator\u001b[0m \u001b[0;34m=\u001b[0m \u001b[0;32mNone\u001b[0m\u001b[0;34m\u001b[0m\u001b[0;34m\u001b[0m\u001b[0m\n",
      "\u001b[0;32m/opt/anaconda3/lib/python3.7/site-packages/joblib/parallel.py\u001b[0m in \u001b[0;36mdispatch_one_batch\u001b[0;34m(self, iterator)\u001b[0m\n\u001b[1;32m    833\u001b[0m                 \u001b[0;32mreturn\u001b[0m \u001b[0;32mFalse\u001b[0m\u001b[0;34m\u001b[0m\u001b[0;34m\u001b[0m\u001b[0m\n\u001b[1;32m    834\u001b[0m             \u001b[0;32melse\u001b[0m\u001b[0;34m:\u001b[0m\u001b[0;34m\u001b[0m\u001b[0;34m\u001b[0m\u001b[0m\n\u001b[0;32m--> 835\u001b[0;31m                 \u001b[0mself\u001b[0m\u001b[0;34m.\u001b[0m\u001b[0m_dispatch\u001b[0m\u001b[0;34m(\u001b[0m\u001b[0mtasks\u001b[0m\u001b[0;34m)\u001b[0m\u001b[0;34m\u001b[0m\u001b[0;34m\u001b[0m\u001b[0m\n\u001b[0m\u001b[1;32m    836\u001b[0m                 \u001b[0;32mreturn\u001b[0m \u001b[0;32mTrue\u001b[0m\u001b[0;34m\u001b[0m\u001b[0;34m\u001b[0m\u001b[0m\n\u001b[1;32m    837\u001b[0m \u001b[0;34m\u001b[0m\u001b[0m\n",
      "\u001b[0;32m/opt/anaconda3/lib/python3.7/site-packages/joblib/parallel.py\u001b[0m in \u001b[0;36m_dispatch\u001b[0;34m(self, batch)\u001b[0m\n\u001b[1;32m    752\u001b[0m         \u001b[0;32mwith\u001b[0m \u001b[0mself\u001b[0m\u001b[0;34m.\u001b[0m\u001b[0m_lock\u001b[0m\u001b[0;34m:\u001b[0m\u001b[0;34m\u001b[0m\u001b[0;34m\u001b[0m\u001b[0m\n\u001b[1;32m    753\u001b[0m             \u001b[0mjob_idx\u001b[0m \u001b[0;34m=\u001b[0m \u001b[0mlen\u001b[0m\u001b[0;34m(\u001b[0m\u001b[0mself\u001b[0m\u001b[0;34m.\u001b[0m\u001b[0m_jobs\u001b[0m\u001b[0;34m)\u001b[0m\u001b[0;34m\u001b[0m\u001b[0;34m\u001b[0m\u001b[0m\n\u001b[0;32m--> 754\u001b[0;31m             \u001b[0mjob\u001b[0m \u001b[0;34m=\u001b[0m \u001b[0mself\u001b[0m\u001b[0;34m.\u001b[0m\u001b[0m_backend\u001b[0m\u001b[0;34m.\u001b[0m\u001b[0mapply_async\u001b[0m\u001b[0;34m(\u001b[0m\u001b[0mbatch\u001b[0m\u001b[0;34m,\u001b[0m \u001b[0mcallback\u001b[0m\u001b[0;34m=\u001b[0m\u001b[0mcb\u001b[0m\u001b[0;34m)\u001b[0m\u001b[0;34m\u001b[0m\u001b[0;34m\u001b[0m\u001b[0m\n\u001b[0m\u001b[1;32m    755\u001b[0m             \u001b[0;31m# A job can complete so quickly than its callback is\u001b[0m\u001b[0;34m\u001b[0m\u001b[0;34m\u001b[0m\u001b[0;34m\u001b[0m\u001b[0m\n\u001b[1;32m    756\u001b[0m             \u001b[0;31m# called before we get here, causing self._jobs to\u001b[0m\u001b[0;34m\u001b[0m\u001b[0;34m\u001b[0m\u001b[0;34m\u001b[0m\u001b[0m\n",
      "\u001b[0;32m/opt/anaconda3/lib/python3.7/site-packages/joblib/_parallel_backends.py\u001b[0m in \u001b[0;36mapply_async\u001b[0;34m(self, func, callback)\u001b[0m\n\u001b[1;32m    549\u001b[0m     \u001b[0;32mdef\u001b[0m \u001b[0mapply_async\u001b[0m\u001b[0;34m(\u001b[0m\u001b[0mself\u001b[0m\u001b[0;34m,\u001b[0m \u001b[0mfunc\u001b[0m\u001b[0;34m,\u001b[0m \u001b[0mcallback\u001b[0m\u001b[0;34m=\u001b[0m\u001b[0;32mNone\u001b[0m\u001b[0;34m)\u001b[0m\u001b[0;34m:\u001b[0m\u001b[0;34m\u001b[0m\u001b[0;34m\u001b[0m\u001b[0m\n\u001b[1;32m    550\u001b[0m         \u001b[0;34m\"\"\"Schedule a func to be run\"\"\"\u001b[0m\u001b[0;34m\u001b[0m\u001b[0;34m\u001b[0m\u001b[0m\n\u001b[0;32m--> 551\u001b[0;31m         \u001b[0mfuture\u001b[0m \u001b[0;34m=\u001b[0m \u001b[0mself\u001b[0m\u001b[0;34m.\u001b[0m\u001b[0m_workers\u001b[0m\u001b[0;34m.\u001b[0m\u001b[0msubmit\u001b[0m\u001b[0;34m(\u001b[0m\u001b[0mSafeFunction\u001b[0m\u001b[0;34m(\u001b[0m\u001b[0mfunc\u001b[0m\u001b[0;34m)\u001b[0m\u001b[0;34m)\u001b[0m\u001b[0;34m\u001b[0m\u001b[0;34m\u001b[0m\u001b[0m\n\u001b[0m\u001b[1;32m    552\u001b[0m         \u001b[0mfuture\u001b[0m\u001b[0;34m.\u001b[0m\u001b[0mget\u001b[0m \u001b[0;34m=\u001b[0m \u001b[0mfunctools\u001b[0m\u001b[0;34m.\u001b[0m\u001b[0mpartial\u001b[0m\u001b[0;34m(\u001b[0m\u001b[0mself\u001b[0m\u001b[0;34m.\u001b[0m\u001b[0mwrap_future_result\u001b[0m\u001b[0;34m,\u001b[0m \u001b[0mfuture\u001b[0m\u001b[0;34m)\u001b[0m\u001b[0;34m\u001b[0m\u001b[0;34m\u001b[0m\u001b[0m\n\u001b[1;32m    553\u001b[0m         \u001b[0;32mif\u001b[0m \u001b[0mcallback\u001b[0m \u001b[0;32mis\u001b[0m \u001b[0;32mnot\u001b[0m \u001b[0;32mNone\u001b[0m\u001b[0;34m:\u001b[0m\u001b[0;34m\u001b[0m\u001b[0;34m\u001b[0m\u001b[0m\n",
      "\u001b[0;32m/opt/anaconda3/lib/python3.7/site-packages/joblib/externals/loky/reusable_executor.py\u001b[0m in \u001b[0;36msubmit\u001b[0;34m(self, fn, *args, **kwargs)\u001b[0m\n\u001b[1;32m    158\u001b[0m         \u001b[0;32mwith\u001b[0m \u001b[0mself\u001b[0m\u001b[0;34m.\u001b[0m\u001b[0m_submit_resize_lock\u001b[0m\u001b[0;34m:\u001b[0m\u001b[0;34m\u001b[0m\u001b[0;34m\u001b[0m\u001b[0m\n\u001b[1;32m    159\u001b[0m             return super(_ReusablePoolExecutor, self).submit(\n\u001b[0;32m--> 160\u001b[0;31m                 fn, *args, **kwargs)\n\u001b[0m\u001b[1;32m    161\u001b[0m \u001b[0;34m\u001b[0m\u001b[0m\n\u001b[1;32m    162\u001b[0m     \u001b[0;32mdef\u001b[0m \u001b[0m_resize\u001b[0m\u001b[0;34m(\u001b[0m\u001b[0mself\u001b[0m\u001b[0;34m,\u001b[0m \u001b[0mmax_workers\u001b[0m\u001b[0;34m)\u001b[0m\u001b[0;34m:\u001b[0m\u001b[0;34m\u001b[0m\u001b[0;34m\u001b[0m\u001b[0m\n",
      "\u001b[0;32m/opt/anaconda3/lib/python3.7/site-packages/joblib/externals/loky/process_executor.py\u001b[0m in \u001b[0;36msubmit\u001b[0;34m(self, fn, *args, **kwargs)\u001b[0m\n\u001b[1;32m   1025\u001b[0m         \u001b[0;32mwith\u001b[0m \u001b[0mself\u001b[0m\u001b[0;34m.\u001b[0m\u001b[0m_flags\u001b[0m\u001b[0;34m.\u001b[0m\u001b[0mshutdown_lock\u001b[0m\u001b[0;34m:\u001b[0m\u001b[0;34m\u001b[0m\u001b[0;34m\u001b[0m\u001b[0m\n\u001b[1;32m   1026\u001b[0m             \u001b[0;32mif\u001b[0m \u001b[0mself\u001b[0m\u001b[0;34m.\u001b[0m\u001b[0m_flags\u001b[0m\u001b[0;34m.\u001b[0m\u001b[0mbroken\u001b[0m \u001b[0;32mis\u001b[0m \u001b[0;32mnot\u001b[0m \u001b[0;32mNone\u001b[0m\u001b[0;34m:\u001b[0m\u001b[0;34m\u001b[0m\u001b[0;34m\u001b[0m\u001b[0m\n\u001b[0;32m-> 1027\u001b[0;31m                 \u001b[0;32mraise\u001b[0m \u001b[0mself\u001b[0m\u001b[0;34m.\u001b[0m\u001b[0m_flags\u001b[0m\u001b[0;34m.\u001b[0m\u001b[0mbroken\u001b[0m\u001b[0;34m\u001b[0m\u001b[0;34m\u001b[0m\u001b[0m\n\u001b[0m\u001b[1;32m   1028\u001b[0m             \u001b[0;32mif\u001b[0m \u001b[0mself\u001b[0m\u001b[0;34m.\u001b[0m\u001b[0m_flags\u001b[0m\u001b[0;34m.\u001b[0m\u001b[0mshutdown\u001b[0m\u001b[0;34m:\u001b[0m\u001b[0;34m\u001b[0m\u001b[0;34m\u001b[0m\u001b[0m\n\u001b[1;32m   1029\u001b[0m                 raise ShutdownExecutorError(\n",
      "\u001b[0;31mTerminatedWorkerError\u001b[0m: A worker process managed by the executor was unexpectedly terminated. This could be caused by a segmentation fault while calling the function or by an excessive memory usage causing the Operating System to kill the worker. The exit codes of the workers are {SIGABRT(-6)}"
     ]
    }
   ],
   "source": [
    "#------- OPTIMIZE RF\n",
    "RAND_SEED=321\n",
    "N_JOBS=3\n",
    "#use RandomizedSearchCV() to optimized Random forest hyperparameters\n",
    "from sklearn.ensemble import RandomForestClassifier\n",
    "from sklearn.model_selection import RandomizedSearchCV\n",
    "rf_clf = RandomForestClassifier()\n",
    "\n",
    "#choose parameter grid values\n",
    "max_depth = [10, 20, 30, 40, 50]\n",
    "min_samples_split = [2, 3, 5]\n",
    "min_samples_leaf = [1, 2, 3]\n",
    "\n",
    "#make grid dict\n",
    "random_grid = {'max_depth': max_depth,\n",
    "               'min_samples_split': min_samples_split,\n",
    "               'min_samples_leaf': min_samples_leaf}\n",
    "\n",
    "\n",
    "# ### run random search\n",
    "rf_search = RandomizedSearchCV(estimator = rf_clf,\n",
    "                               param_distributions = random_grid,\n",
    "                               n_iter = 100,\n",
    "                               scoring = 'recall',\n",
    "                               cv = 5,\n",
    "                               verbose=2,\n",
    "                               random_state=RAND_SEED,\n",
    "                               n_jobs = N_JOBS)\n",
    "rf_search.fit(X_l1_train, y_train)\n",
    "best_params = rf_search.best_params_\n",
    "print(rf_search.best_params_)\n"
   ]
  },
  {
   "cell_type": "code",
   "execution_count": 98,
   "metadata": {},
   "outputs": [],
   "source": [
    "best_params = {'min_samples_split': 2, 'min_samples_leaf': 1, 'max_depth': 20}"
   ]
  },
  {
   "cell_type": "code",
   "execution_count": 99,
   "metadata": {},
   "outputs": [
    {
     "name": "stdout",
     "output_type": "stream",
     "text": [
      "{'min_samples_split': 2, 'min_samples_leaf': 1, 'max_depth': 5}\n"
     ]
    },
    {
     "data": {
      "text/plain": [
       "RandomForestClassifier(bootstrap=True, ccp_alpha=0.0, class_weight=None,\n",
       "                       criterion='gini', max_depth=5, max_features='auto',\n",
       "                       max_leaf_nodes=None, max_samples=None,\n",
       "                       min_impurity_decrease=0.0, min_impurity_split=None,\n",
       "                       min_samples_leaf=1, min_samples_split=2,\n",
       "                       min_weight_fraction_leaf=0.0, n_estimators=100, n_jobs=6,\n",
       "                       oob_score=False, random_state=321, verbose=0,\n",
       "                       warm_start=False)"
      ]
     },
     "execution_count": 99,
     "metadata": {},
     "output_type": "execute_result"
    }
   ],
   "source": [
    "#set up optimized rf model based on from best_params above\n",
    "from sklearn.ensemble import RandomForestClassifier\n",
    "from sklearn.model_selection import RandomizedSearchCV\n",
    "print(best_params)\n",
    "rf_opt_basic = RandomForestClassifier(n_jobs=N_JOBS,\n",
    "                                min_samples_split = best_params['min_samples_split'],\n",
    "                                min_samples_leaf = best_params['min_samples_leaf'],\n",
    "                                max_depth = best_params['max_depth'],\n",
    "                                bootstrap = True,\n",
    "                               random_state=RAND_SEED)\n",
    "\n",
    "#train\n",
    "rf_opt_basic.fit(X_l1_train, y_train)"
   ]
  },
  {
   "cell_type": "code",
   "execution_count": 100,
   "metadata": {},
   "outputs": [
    {
     "data": {
      "image/png": "[encoded data removed]",
      "text/plain": [
       "<Figure size 432x288 with 1 Axes>"
      ]
     },
     "metadata": {
      "needs_background": "light"
     },
     "output_type": "display_data"
    },
    {
     "data": {
      "image/png": "[encoded data removed]",
      "text/plain": [
       "<Figure size 432x288 with 1 Axes>"
      ]
     },
     "metadata": {
      "needs_background": "light"
     },
     "output_type": "display_data"
    },
    {
     "name": "stdout",
     "output_type": "stream",
     "text": [
      "Confusion matrix for threshold = 0.07:\n",
      "[[34448   663]\n",
      " [  664   214]]\n",
      "Classification report:\n",
      "              precision    recall  f1-score   support\n",
      "\n",
      "           0       0.98      0.98      0.98     35111\n",
      "           1       0.24      0.24      0.24       878\n",
      "\n",
      "    accuracy                           0.96     35989\n",
      "   macro avg       0.61      0.61      0.61     35989\n",
      "weighted avg       0.96      0.96      0.96     35989\n",
      "\n"
     ]
    },
    {
     "data": {
      "image/png": "[encoded data removed]",
      "text/plain": [
       "<Figure size 432x288 with 1 Axes>"
      ]
     },
     "metadata": {
      "needs_background": "light"
     },
     "output_type": "display_data"
    }
   ],
   "source": [
    "#optimized model performance on training set\n",
    "scores_opt = rf_opt_basic.predict_proba(X_l1_train)[:, 1]\n",
    "opt_perf = get_model_performance('optimized random forest training', X_train, scores_opt, y_train, pos_label=1)"
   ]
  },
  {
   "cell_type": "code",
   "execution_count": 101,
   "metadata": {},
   "outputs": [
    {
     "data": {
      "image/png": "[encoded data removed]",
      "text/plain": [
       "<Figure size 432x288 with 1 Axes>"
      ]
     },
     "metadata": {
      "needs_background": "light"
     },
     "output_type": "display_data"
    },
    {
     "data": {
      "image/png": "[encoded data removed]",
      "text/plain": [
       "<Figure size 432x288 with 1 Axes>"
      ]
     },
     "metadata": {
      "needs_background": "light"
     },
     "output_type": "display_data"
    },
    {
     "name": "stdout",
     "output_type": "stream",
     "text": [
      "Confusion matrix for threshold = 0.07:\n",
      "[[8587  192]\n",
      " [ 193   26]]\n",
      "Classification report:\n",
      "              precision    recall  f1-score   support\n",
      "\n",
      "           0       0.98      0.98      0.98      8779\n",
      "           1       0.12      0.12      0.12       219\n",
      "\n",
      "    accuracy                           0.96      8998\n",
      "   macro avg       0.55      0.55      0.55      8998\n",
      "weighted avg       0.96      0.96      0.96      8998\n",
      "\n"
     ]
    },
    {
     "data": {
      "image/png": "[encoded data removed]",
      "text/plain": [
       "<Figure size 432x288 with 1 Axes>"
      ]
     },
     "metadata": {
      "needs_background": "light"
     },
     "output_type": "display_data"
    },
    {
     "name": "stdout",
     "output_type": "stream",
     "text": [
      "Confusion matrix for threshold = 0.04:\n",
      "[[7470 1309]\n",
      " [ 113  106]]\n",
      "Classification report:\n",
      "              precision    recall  f1-score   support\n",
      "\n",
      "           0       0.99      0.85      0.91      8779\n",
      "           1       0.07      0.48      0.13       219\n",
      "\n",
      "    accuracy                           0.84      8998\n",
      "   macro avg       0.53      0.67      0.52      8998\n",
      "weighted avg       0.96      0.84      0.89      8998\n",
      "\n"
     ]
    }
   ],
   "source": [
    "#predict for test set\n",
    "test_scores = rf_opt_basic.predict_proba(X_l1_test)[:, 1]\n",
    "test_perf = get_model_performance('optimized random forest TEST', X_test, test_scores, y_test, pos_label=1)\n",
    "\n",
    "\n",
    "threshold = 0.04\n",
    "opt_pred = (test_scores > threshold).astype('int')\n",
    "y_num = (y_test==1).astype('int')\n",
    "print('Confusion matrix for threshold = {}:'.format(round(threshold, 2)))\n",
    "cm = confusion_matrix(y_num, opt_pred)\n",
    "print(cm)\n",
    "print('Classification report:')\n",
    "print(classification_report(y_num, opt_pred))"
   ]
  },
  {
   "cell_type": "code",
   "execution_count": null,
   "metadata": {},
   "outputs": [],
   "source": []
  },
  {
   "cell_type": "code",
   "execution_count": null,
   "metadata": {},
   "outputs": [],
   "source": []
  },
  {
   "cell_type": "code",
   "execution_count": null,
   "metadata": {},
   "outputs": [],
   "source": []
  }
 ],
 "metadata": {
  "kernelspec": {
   "display_name": "Python 3",
   "language": "python",
   "name": "python3"
  },
  "language_info": {
   "codemirror_mode": {
    "name": "ipython",
    "version": 3
   },
   "file_extension": ".py",
   "mimetype": "text/x-python",
   "name": "python",
   "nbconvert_exporter": "python",
   "pygments_lexer": "ipython3",
   "version": "3.7.6"
  }
 },
 "nbformat": 4,
 "nbformat_minor": 4
}

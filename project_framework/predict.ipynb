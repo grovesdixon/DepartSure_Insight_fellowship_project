{
 "cells": [
  {
   "cell_type": "markdown",
   "metadata": {},
   "source": [
    "# predict"
   ]
  },
  {
   "cell_type": "markdown",
   "metadata": {},
   "source": [
    "### setup"
   ]
  },
  {
   "cell_type": "code",
   "execution_count": 1,
   "metadata": {},
   "outputs": [
    {
     "name": "stdout",
     "output_type": "stream",
     "text": [
      "\n",
      "Configured for local MIMIC database:\n",
      "\tuser = postgres\n",
      "\tdbname = mimic\n",
      "\thost = localhost\n",
      "\tschema_name = mimiciii\n",
      "\tquery_schema = SET search_path to mimiciii;\n"
     ]
    }
   ],
   "source": [
    "#configure for local mimic databse\n",
    "exec(open(\"../configs/configure_mimic.py\").read())\n",
    "exec(open(\"my_functions.py\").read())\n",
    "\n",
    "#Global vars\n",
    "CV=4"
   ]
  },
  {
   "cell_type": "markdown",
   "metadata": {},
   "source": [
    "## load sets"
   ]
  },
  {
   "cell_type": "code",
   "execution_count": 2,
   "metadata": {},
   "outputs": [],
   "source": [
    "import joblib\n",
    "X_train = joblib.load(open('/Users/grovesdixon/projects/Insight/icu_project/my_mimic/X_train.joblib', 'rb'))\n",
    "y_train = joblib.load(open('/Users/grovesdixon/projects/Insight/icu_project/my_mimic/y_train.joblib', 'rb'))\n",
    "X_test = joblib.load(open('/Users/grovesdixon/projects/Insight/icu_project/my_mimic/X_test.joblib', 'rb'))\n",
    "y_test = joblib.load(open('/Users/grovesdixon/projects/Insight/icu_project/my_mimic/y_test.joblib', 'rb'))"
   ]
  },
  {
   "cell_type": "markdown",
   "metadata": {},
   "source": [
    "### train logistic regression with cross validation for regularization"
   ]
  },
  {
   "cell_type": "code",
   "execution_count": null,
   "metadata": {},
   "outputs": [],
   "source": [
    "#logistic regression\n",
    "from sklearn.linear_model import LogisticRegression\n",
    "from sklearn.linear_model import LogisticRegressionCV\n",
    "log_reg = LogisticRegressionCV(max_iter=1000,\n",
    "#                                solver='liblinear',\n",
    "                                 scoring='recall',\n",
    "                               n_jobs=4)\n",
    "\n",
    "#train\n",
    "log_reg.fit(X_train, y_train)"
   ]
  },
  {
   "cell_type": "markdown",
   "metadata": {},
   "source": [
    "### logistic regression cross validation performance"
   ]
  },
  {
   "cell_type": "code",
   "execution_count": null,
   "metadata": {},
   "outputs": [],
   "source": [
    "#logistic regression cross validation\n",
    "probs_log_cv = cross_val_predict(log_reg, X_train, y_train, cv=CV, method=\"predict_proba\", n_jobs=3)\n",
    "scores_log_cv = probs_log_cv[:, 1]\n",
    "log_perf_cv = get_model_performance('logistic regression CV', X_train, scores_log_cv, y_train, pos_label=1)"
   ]
  },
  {
   "cell_type": "code",
   "execution_count": null,
   "metadata": {
    "scrolled": true
   },
   "outputs": [],
   "source": [
    "#performance on the test set\n",
    "probs_test = log_reg.predict_proba(X_test)\n",
    "scores_test = probs_test[:, 1]\n",
    "test_perf = get_model_performance('logistic regression test set', X_test, scores_test, y_test, pos_label=1)"
   ]
  },
  {
   "cell_type": "code",
   "execution_count": null,
   "metadata": {},
   "outputs": [],
   "source": [
    "print(log_perf_cv['auc'])"
   ]
  },
  {
   "cell_type": "markdown",
   "metadata": {},
   "source": [
    "## Random forest"
   ]
  },
  {
   "cell_type": "code",
   "execution_count": null,
   "metadata": {},
   "outputs": [],
   "source": [
    "#------- OPTIMIZE RF\n",
    "RAND_SEED=321\n",
    "N_JOBS=1\n",
    "#use RandomizedSearchCV() to optimized Random forest hyperparameters\n",
    "from sklearn.ensemble import RandomForestClassifier\n",
    "from sklearn.model_selection import RandomizedSearchCV\n",
    "rf_clf = RandomForestClassifier()\n",
    "\n",
    "#choose parameter grid values\n",
    "max_depth = [10, 20, 30, 40, 50]\n",
    "min_samples_split = [2]\n",
    "min_samples_leaf = [1]\n",
    "\n",
    "#make grid dict\n",
    "random_grid = {'max_depth': max_depth,\n",
    "               'min_samples_split': min_samples_split,\n",
    "               'min_samples_leaf': min_samples_leaf}\n",
    "\n",
    "\n",
    "# ### run random search\n",
    "rf_search = RandomizedSearchCV(estimator = rf_clf,\n",
    "                               param_distributions = random_grid,\n",
    "                               n_iter = 100,\n",
    "                               scoring = 'precision',\n",
    "                               cv = 4,\n",
    "                               verbose=2,\n",
    "                               random_state=RAND_SEED,\n",
    "                               n_jobs = N_JOBS)\n",
    "rf_search.fit(X_train, y_train)\n",
    "best_params = rf_search.best_params_\n",
    "print(rf_search.best_params_)\n"
   ]
  },
  {
   "cell_type": "code",
   "execution_count": null,
   "metadata": {},
   "outputs": [],
   "source": [
    "#best_params = {'min_samples_split': 2, 'min_samples_leaf': 1, 'max_depth': 40}"
   ]
  },
  {
   "cell_type": "code",
   "execution_count": null,
   "metadata": {},
   "outputs": [],
   "source": [
    "#set up optimized rf model based on from best_params above\n",
    "from sklearn.ensemble import RandomForestClassifier\n",
    "from sklearn.model_selection import RandomizedSearchCV\n",
    "print(best_params)\n",
    "rf_opt = RandomForestClassifier(n_jobs=N_JOBS,\n",
    "                                min_samples_split = best_params['min_samples_split'],\n",
    "                                min_samples_leaf = best_params['min_samples_leaf'],\n",
    "                                max_depth = best_params['max_depth'],\n",
    "                                bootstrap = True,\n",
    "                               random_state=RAND_SEED)\n",
    "\n",
    "#train\n",
    "rf_opt.fit(X_train, y_train)"
   ]
  },
  {
   "cell_type": "code",
   "execution_count": null,
   "metadata": {
    "scrolled": true
   },
   "outputs": [],
   "source": [
    "#optimized model performance on training set\n",
    "scores_opt = rf_opt.predict_proba(X_train)[:, 1]\n",
    "opt_perf = get_model_performance('optimized random forest training', X_train, scores_opt, y_train, pos_label=1)"
   ]
  },
  {
   "cell_type": "markdown",
   "metadata": {},
   "source": [
    "### random forest cross validation performance"
   ]
  },
  {
   "cell_type": "code",
   "execution_count": null,
   "metadata": {
    "scrolled": true
   },
   "outputs": [],
   "source": [
    "#logistic regression cross validation\n",
    "probs_rf_cv = cross_val_predict(rf_opt, X_train, y_train, cv=CV, method=\"predict_proba\", n_jobs=3)\n",
    "scores_rf_cv = probs_rf_cv[:, 1]\n",
    "rf_perf_cv = get_model_performance('logistic regression CV', X_train, scores_rf_cv, y_train, pos_label=1)\n",
    "print(rf_perf_cv['auc'])"
   ]
  },
  {
   "cell_type": "markdown",
   "metadata": {},
   "source": [
    "### plot AUC from the two cross validations"
   ]
  },
  {
   "cell_type": "code",
   "execution_count": 12,
   "metadata": {
    "scrolled": true
   },
   "outputs": [
    {
     "data": {
      "image/png": "[encoded data removed]",
      "text/plain": [
       "<Figure size 432x288 with 1 Axes>"
      ]
     },
     "metadata": {
      "needs_background": "light"
     },
     "output_type": "display_data"
    }
   ],
   "source": [
    "mods = ['logistic regression',\n",
    "       'random forest']\n",
    "performance = [log_perf_cv['auc'],\n",
    "               rf_perf_cv['auc']]\n",
    "fig, ax = plt.subplots()\n",
    "y_pos = np.arange(len(mods))\n",
    "ax.barh(y_pos, performance, align='center', color='grey')\n",
    "ax.set_yticks(y_pos)\n",
    "ax.set_yticklabels(mods)\n",
    "ax.invert_yaxis()  # labels read top-to-bottom\n",
    "ax.set_xlabel('AUC')\n",
    "plt.show()\n",
    "auc_df = pd.DataFrame({'model':mods, 'auc':performance})\n",
    "auc_df.to_csv('../data/for_plotting/auc_comparison.csv', index=False)"
   ]
  },
  {
   "cell_type": "code",
   "execution_count": 13,
   "metadata": {},
   "outputs": [
    {
     "data": {
      "image/png": "[encoded data removed]",
      "text/plain": [
       "<Figure size 432x288 with 1 Axes>"
      ]
     },
     "metadata": {
      "needs_background": "light"
     },
     "output_type": "display_data"
    },
    {
     "data": {
      "image/png": "[encoded data removed]",
      "text/plain": [
       "<Figure size 432x288 with 1 Axes>"
      ]
     },
     "metadata": {
      "needs_background": "light"
     },
     "output_type": "display_data"
    },
    {
     "name": "stdout",
     "output_type": "stream",
     "text": [
      "Confusion matrix for threshold = 0.08:\n",
      "[[8370  195]\n",
      " [ 196   31]]\n",
      "Classification report:\n",
      "              precision    recall  f1-score   support\n",
      "\n",
      "           0       0.98      0.98      0.98      8565\n",
      "           1       0.14      0.14      0.14       227\n",
      "\n",
      "    accuracy                           0.96      8792\n",
      "   macro avg       0.56      0.56      0.56      8792\n",
      "weighted avg       0.96      0.96      0.96      8792\n",
      "\n"
     ]
    },
    {
     "data": {
      "image/png": "[encoded data removed]",
      "text/plain": [
       "<Figure size 432x288 with 1 Axes>"
      ]
     },
     "metadata": {
      "needs_background": "light"
     },
     "output_type": "display_data"
    },
    {
     "name": "stdout",
     "output_type": "stream",
     "text": [
      "Confusion matrix for threshold = 0.04:\n",
      "[[7148 1417]\n",
      " [  90  137]]\n",
      "Classification report:\n",
      "              precision    recall  f1-score   support\n",
      "\n",
      "           0       0.99      0.83      0.90      8565\n",
      "           1       0.09      0.60      0.15       227\n",
      "\n",
      "    accuracy                           0.83      8792\n",
      "   macro avg       0.54      0.72      0.53      8792\n",
      "weighted avg       0.96      0.83      0.89      8792\n",
      "\n"
     ]
    }
   ],
   "source": [
    "#predict for test set\n",
    "test_scores = rf_opt.predict_proba(X_test)[:, 1]\n",
    "test_perf = get_model_performance('optimized random forest TEST', X_test, test_scores, y_test, pos_label=1)\n",
    "\n",
    "\n",
    "threshold = 0.04\n",
    "opt_pred = (test_scores > threshold).astype('int')\n",
    "y_num = (y_test==1).astype('int')\n",
    "print('Confusion matrix for threshold = {}:'.format(round(threshold, 2)))\n",
    "cm = confusion_matrix(y_num, opt_pred)\n",
    "print(cm)\n",
    "print('Classification report:')\n",
    "print(classification_report(y_num, opt_pred))"
   ]
  },
  {
   "cell_type": "code",
   "execution_count": null,
   "metadata": {},
   "outputs": [],
   "source": []
  },
  {
   "cell_type": "code",
   "execution_count": null,
   "metadata": {},
   "outputs": [],
   "source": []
  },
  {
   "cell_type": "code",
   "execution_count": null,
   "metadata": {},
   "outputs": [],
   "source": []
  }
 ],
 "metadata": {
  "kernelspec": {
   "display_name": "Python 3",
   "language": "python",
   "name": "python3"
  },
  "language_info": {
   "codemirror_mode": {
    "name": "ipython",
    "version": 3
   },
   "file_extension": ".py",
   "mimetype": "text/x-python",
   "name": "python",
   "nbconvert_exporter": "python",
   "pygments_lexer": "ipython3",
   "version": "3.7.6"
  }
 },
 "nbformat": 4,
 "nbformat_minor": 4
}

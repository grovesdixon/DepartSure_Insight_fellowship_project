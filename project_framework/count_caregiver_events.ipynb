{
 "cells": [
  {
   "cell_type": "code",
   "execution_count": null,
   "metadata": {},
   "outputs": [],
   "source": [
    "#configure for local mimic databse\n",
    "exec(open(\"../configs/configure_mimic.py\").read())\n",
    "exec(open(\"my_functions.py\").read())"
   ]
  },
  {
   "cell_type": "code",
   "execution_count": null,
   "metadata": {},
   "outputs": [],
   "source": [
    "#load patient data\n",
    "query = query_schema + \\\n",
    "\"\"\"select \n",
    "    hadm_id,\n",
    "    cgid\n",
    "    from chartevents\"\"\"\n",
    "ch_dat = pd.read_sql_query(query, con).drop_duplicates()\n",
    "ch_dat = ch_dat.dropna()\n",
    "ch_dat['hadm_id'] = ch_dat['hadm_id'].astype('int')\n",
    "ch_dat['cgid'] = ch_dat['cgid'].astype('int')\n",
    "ch_dat.to_csv('/Users/grovesdixon/projects/Insight/icu_project/my_mimic/caregivers.csv')"
   ]
  }
 ],
 "metadata": {
  "kernelspec": {
   "display_name": "Python 3",
   "language": "python",
   "name": "python3"
  },
  "language_info": {
   "codemirror_mode": {
    "name": "ipython",
    "version": 3
   },
   "file_extension": ".py",
   "mimetype": "text/x-python",
   "name": "python",
   "nbconvert_exporter": "python",
   "pygments_lexer": "ipython3",
   "version": "3.7.6"
  }
 },
 "nbformat": 4,
 "nbformat_minor": 4
}

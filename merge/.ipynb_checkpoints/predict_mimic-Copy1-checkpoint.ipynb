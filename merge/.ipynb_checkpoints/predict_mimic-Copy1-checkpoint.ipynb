{
 "cells": [
  {
   "cell_type": "markdown",
   "metadata": {},
   "source": [
    "## load"
   ]
  },
  {
   "cell_type": "code",
   "execution_count": 85,
   "metadata": {
    "scrolled": true
   },
   "outputs": [
    {
     "name": "stdout",
     "output_type": "stream",
     "text": [
      "Database: eicu\n",
      "Username: postgres\n",
      "\n",
      "Configured for local EICU database.\n"
     ]
    }
   ],
   "source": [
    "#configure for local eicu databse\n",
    "exec(open(\"/Users/grovesdixon/gitreps/Insight_fellowship_project/merge/configure_eicu.py\").read())"
   ]
  },
  {
   "cell_type": "code",
   "execution_count": 99,
   "metadata": {},
   "outputs": [
    {
     "name": "stdout",
     "output_type": "stream",
     "text": [
      "2436\n"
     ]
    }
   ],
   "source": [
    "RAND_SEED=1234\n",
    "N_JOBS=6\n",
    "#dat = pd.read_csv(\"~/projects/Insight/icu_project/my_mimic/readmission_quickCdiff_features.csv\")\n",
    "#dat = pd.read_csv(\"~/projects/Insight/icu_project/my_mimic/readmission_after_cdiff_features.csv\")\n",
    "#dat = pd.read_csv(\"~/projects/Insight/icu_project/my_mimic/readmission_cdiff_features.csv\")\n",
    "dat = pd.read_csv(\"~/projects/Insight/icu_project/my_mimic/any_readmission.csv\")\n",
    "pa_column_list = ['diagnosis_icd9', 'procedure_icd9', 'DRUG']\n",
    "standard_column_list = [i for i in dat.columns if i not in pa_column_list]\n",
    "sdat = dat.loc[:,standard_column_list]\n",
    "sdat = sdat.drop_duplicates()\n",
    "pa_dat = dat.loc[:,['HADM_ID', 'diagnosis_icd9', 'procedure_icd9', 'DRUG']]\n",
    "print(np.sum(sdat['outcome']))"
   ]
  },
  {
   "cell_type": "markdown",
   "metadata": {},
   "source": [
    "## handle missing values"
   ]
  },
  {
   "cell_type": "code",
   "execution_count": 100,
   "metadata": {},
   "outputs": [
    {
     "data": {
      "text/html": [
       "<div>\n",
       "<style scoped>\n",
       "    .dataframe tbody tr th:only-of-type {\n",
       "        vertical-align: middle;\n",
       "    }\n",
       "\n",
       "    .dataframe tbody tr th {\n",
       "        vertical-align: top;\n",
       "    }\n",
       "\n",
       "    .dataframe thead th {\n",
       "        text-align: right;\n",
       "    }\n",
       "</style>\n",
       "<table border=\"1\" class=\"dataframe\">\n",
       "  <thead>\n",
       "    <tr style=\"text-align: right;\">\n",
       "      <th></th>\n",
       "      <th>outcome</th>\n",
       "      <th>SUBJECT_ID</th>\n",
       "      <th>HADM_ID</th>\n",
       "      <th>INSURANCE</th>\n",
       "      <th>RELIGION</th>\n",
       "      <th>MARITAL_STATUS</th>\n",
       "      <th>hospital_duration</th>\n",
       "      <th>ADMISSION_LOCATION</th>\n",
       "      <th>DISCHARGE_LOCATION</th>\n",
       "      <th>GENDER</th>\n",
       "      <th>age</th>\n",
       "      <th>nicu_stays</th>\n",
       "      <th>total_icu_days</th>\n",
       "      <th>total_diagnoses</th>\n",
       "      <th>total_procedure</th>\n",
       "      <th>total_drug</th>\n",
       "    </tr>\n",
       "  </thead>\n",
       "  <tbody>\n",
       "    <tr>\n",
       "      <th>0</th>\n",
       "      <td>0</td>\n",
       "      <td>22</td>\n",
       "      <td>165315</td>\n",
       "      <td>Private</td>\n",
       "      <td>UNOBTAINABLE</td>\n",
       "      <td>MARRIED</td>\n",
       "      <td>1.144444</td>\n",
       "      <td>EMERGENCY ROOM ADMIT</td>\n",
       "      <td>DISC-TRAN CANCER/CHLDRN H</td>\n",
       "      <td>F</td>\n",
       "      <td>64.971282</td>\n",
       "      <td>1.0</td>\n",
       "      <td>1.143750</td>\n",
       "      <td>7</td>\n",
       "      <td>3</td>\n",
       "      <td>NaN</td>\n",
       "    </tr>\n",
       "    <tr>\n",
       "      <th>1</th>\n",
       "      <td>0</td>\n",
       "      <td>23</td>\n",
       "      <td>152223</td>\n",
       "      <td>Medicare</td>\n",
       "      <td>CATHOLIC</td>\n",
       "      <td>MARRIED</td>\n",
       "      <td>5.496528</td>\n",
       "      <td>PHYS REFERRAL/NORMAL DELI</td>\n",
       "      <td>HOME HEALTH CARE</td>\n",
       "      <td>M</td>\n",
       "      <td>73.242627</td>\n",
       "      <td>1.0</td>\n",
       "      <td>1.264074</td>\n",
       "      <td>8</td>\n",
       "      <td>7</td>\n",
       "      <td>38.0</td>\n",
       "    </tr>\n",
       "    <tr>\n",
       "      <th>40</th>\n",
       "      <td>0</td>\n",
       "      <td>23</td>\n",
       "      <td>124321</td>\n",
       "      <td>Medicare</td>\n",
       "      <td>CATHOLIC</td>\n",
       "      <td>MARRIED</td>\n",
       "      <td>6.768056</td>\n",
       "      <td>TRANSFER FROM HOSP/EXTRAM</td>\n",
       "      <td>HOME HEALTH CARE</td>\n",
       "      <td>M</td>\n",
       "      <td>73.242627</td>\n",
       "      <td>1.0</td>\n",
       "      <td>1.186227</td>\n",
       "      <td>10</td>\n",
       "      <td>1</td>\n",
       "      <td>33.0</td>\n",
       "    </tr>\n",
       "    <tr>\n",
       "      <th>52</th>\n",
       "      <td>0</td>\n",
       "      <td>24</td>\n",
       "      <td>161859</td>\n",
       "      <td>Private</td>\n",
       "      <td>PROTESTANT QUAKER</td>\n",
       "      <td>SINGLE</td>\n",
       "      <td>2.856944</td>\n",
       "      <td>TRANSFER FROM HOSP/EXTRAM</td>\n",
       "      <td>HOME</td>\n",
       "      <td>M</td>\n",
       "      <td>39.042949</td>\n",
       "      <td>1.0</td>\n",
       "      <td>0.512373</td>\n",
       "      <td>4</td>\n",
       "      <td>6</td>\n",
       "      <td>22.0</td>\n",
       "    </tr>\n",
       "    <tr>\n",
       "      <th>60</th>\n",
       "      <td>0</td>\n",
       "      <td>25</td>\n",
       "      <td>129635</td>\n",
       "      <td>Private</td>\n",
       "      <td>UNOBTAINABLE</td>\n",
       "      <td>MARRIED</td>\n",
       "      <td>3.534028</td>\n",
       "      <td>EMERGENCY ROOM ADMIT</td>\n",
       "      <td>HOME</td>\n",
       "      <td>M</td>\n",
       "      <td>58.989281</td>\n",
       "      <td>1.0</td>\n",
       "      <td>3.546574</td>\n",
       "      <td>4</td>\n",
       "      <td>6</td>\n",
       "      <td>35.0</td>\n",
       "    </tr>\n",
       "  </tbody>\n",
       "</table>\n",
       "</div>"
      ],
      "text/plain": [
       "    outcome  SUBJECT_ID  HADM_ID INSURANCE           RELIGION MARITAL_STATUS  \\\n",
       "0         0          22   165315   Private       UNOBTAINABLE        MARRIED   \n",
       "1         0          23   152223  Medicare           CATHOLIC        MARRIED   \n",
       "40        0          23   124321  Medicare           CATHOLIC        MARRIED   \n",
       "52        0          24   161859   Private  PROTESTANT QUAKER         SINGLE   \n",
       "60        0          25   129635   Private       UNOBTAINABLE        MARRIED   \n",
       "\n",
       "    hospital_duration         ADMISSION_LOCATION         DISCHARGE_LOCATION  \\\n",
       "0            1.144444       EMERGENCY ROOM ADMIT  DISC-TRAN CANCER/CHLDRN H   \n",
       "1            5.496528  PHYS REFERRAL/NORMAL DELI           HOME HEALTH CARE   \n",
       "40           6.768056  TRANSFER FROM HOSP/EXTRAM           HOME HEALTH CARE   \n",
       "52           2.856944  TRANSFER FROM HOSP/EXTRAM                       HOME   \n",
       "60           3.534028       EMERGENCY ROOM ADMIT                       HOME   \n",
       "\n",
       "   GENDER        age  nicu_stays  total_icu_days  total_diagnoses  \\\n",
       "0       F  64.971282         1.0        1.143750                7   \n",
       "1       M  73.242627         1.0        1.264074                8   \n",
       "40      M  73.242627         1.0        1.186227               10   \n",
       "52      M  39.042949         1.0        0.512373                4   \n",
       "60      M  58.989281         1.0        3.546574                4   \n",
       "\n",
       "    total_procedure  total_drug  \n",
       "0                 3         NaN  \n",
       "1                 7        38.0  \n",
       "40                1        33.0  \n",
       "52                6        22.0  \n",
       "60                6        35.0  "
      ]
     },
     "execution_count": 100,
     "metadata": {},
     "output_type": "execute_result"
    }
   ],
   "source": [
    "sdat.head()"
   ]
  },
  {
   "cell_type": "code",
   "execution_count": 101,
   "metadata": {},
   "outputs": [],
   "source": [
    "#handle missing values\n",
    "# print(np.sum(pa_dat.isnull()))\n",
    "# print(np.sum(sdat.isnull()))\n",
    "sdat['age'] = sdat['age'].fillna(np.mean(sdat['age'])) #input missing ages with mean\n",
    "sdat['age'] = sdat['age'].fillna(np.mean(sdat['age'])) #input missing ages with mean\n",
    "sdat['total_drug'] = sdat['total_drug'].fillna(0) #people that did not recieve drugs\n",
    "pa_dat = pa_dat.fillna('missing')\n",
    "# print(np.sum(pa_dat.isnull()))\n",
    "# print(np.sum(sdat.isnull()))"
   ]
  },
  {
   "cell_type": "markdown",
   "metadata": {},
   "source": [
    "## add presence absence variables"
   ]
  },
  {
   "cell_type": "code",
   "execution_count": 102,
   "metadata": {},
   "outputs": [],
   "source": [
    "#function to build boolean column for a column of hospital events\n",
    "def build_presence_absence_cols(stay_ids, long_df, long_col):\n",
    "    df = pd.DataFrame(stay_ids)\n",
    "    levels = long_df[long_col].unique()\n",
    "    print('making columns for {} levels'.format(len(levels)))\n",
    "    counter = 0\n",
    "    for l in levels:\n",
    "        counter += 1\n",
    "        if counter % 100 == 0:\n",
    "            print('level {} of {}'.format(counter, len(levels)))\n",
    "        new_col = '{}_{}'.format(long_col, l)\n",
    "        l_ids = long_df.loc[long_df[long_col]==l, 'HADM_ID']\n",
    "        df[new_col] = df['HADM_ID'].isin(l_ids).astype(int)\n",
    "    return df"
   ]
  },
  {
   "cell_type": "code",
   "execution_count": 104,
   "metadata": {},
   "outputs": [
    {
     "name": "stdout",
     "output_type": "stream",
     "text": [
      "making columns for 21 levels\n",
      "(49693, 22)\n",
      "HADM_IDs match = True\n",
      "making columns for 3 levels\n",
      "(49693, 4)\n",
      "HADM_IDs match = True\n",
      "making columns for 14 levels\n",
      "(49693, 15)\n",
      "HADM_IDs match = True\n",
      "(49693, 38)\n",
      "Index(['outcome', 'SUBJECT_ID', 'HADM_ID', 'INSURANCE', 'RELIGION',\n",
      "       'MARITAL_STATUS', 'hospital_duration', 'ADMISSION_LOCATION',\n",
      "       'DISCHARGE_LOCATION', 'GENDER', 'age', 'nicu_stays', 'total_icu_days',\n",
      "       'total_diagnoses', 'total_procedure', 'total_drug'],\n",
      "      dtype='object')\n"
     ]
    }
   ],
   "source": [
    "#build boolean columns for diagnoses and add to pdat\n",
    "stay_ids = sdat['HADM_ID']\n",
    "\n",
    "#for diagnoses\n",
    "diag_cols = build_presence_absence_cols(stay_ids, pa_dat, 'diagnosis_icd9')\n",
    "print(diag_cols.shape)\n",
    "print('HADM_IDs match = {}'.format(np.sum(diag_cols['HADM_ID']==sdat['HADM_ID'])==sdat.shape[0]))\n",
    "\n",
    "#for procedures\n",
    "proc_cols = build_presence_absence_cols(stay_ids, pa_dat, 'procedure_icd9')\n",
    "print(proc_cols.shape)\n",
    "print('HADM_IDs match = {}'.format(np.sum(proc_cols['HADM_ID']==sdat['HADM_ID'])==sdat.shape[0]))\n",
    "\n",
    "#for drugs\n",
    "drug_cols = build_presence_absence_cols(stay_ids, pa_dat, 'DRUG')\n",
    "print(drug_cols.shape)\n",
    "print('HADM_IDs match = {}'.format(np.sum(drug_cols['HADM_ID']==sdat['HADM_ID'])==sdat.shape[0]))\n",
    "\n",
    "#assemble\n",
    "cat_list = [\n",
    "    diag_cols.drop(['HADM_ID'], 1),\n",
    "    proc_cols.drop(['HADM_ID'], 1),\n",
    "    drug_cols.drop(['HADM_ID'], 1)]\n",
    "pa_cols = pd.concat(cat_list, axis=1)\n",
    "print(pa_cols.shape)\n",
    "pa_cols.head()\n",
    "print(sdat.columns)"
   ]
  },
  {
   "cell_type": "code",
   "execution_count": 105,
   "metadata": {
    "scrolled": true
   },
   "outputs": [
    {
     "data": {
      "text/html": [
       "<div>\n",
       "<style scoped>\n",
       "    .dataframe tbody tr th:only-of-type {\n",
       "        vertical-align: middle;\n",
       "    }\n",
       "\n",
       "    .dataframe tbody tr th {\n",
       "        vertical-align: top;\n",
       "    }\n",
       "\n",
       "    .dataframe thead th {\n",
       "        text-align: right;\n",
       "    }\n",
       "</style>\n",
       "<table border=\"1\" class=\"dataframe\">\n",
       "  <thead>\n",
       "    <tr style=\"text-align: right;\">\n",
       "      <th></th>\n",
       "      <th>outcome</th>\n",
       "      <th>SUBJECT_ID</th>\n",
       "      <th>HADM_ID</th>\n",
       "      <th>hospital_duration</th>\n",
       "      <th>age</th>\n",
       "      <th>nicu_stays</th>\n",
       "      <th>total_icu_days</th>\n",
       "      <th>total_diagnoses</th>\n",
       "      <th>total_procedure</th>\n",
       "      <th>total_drug</th>\n",
       "      <th>...</th>\n",
       "      <th>DRUG_Insulin</th>\n",
       "      <th>DRUG_Pantoprazole</th>\n",
       "      <th>DRUG_Spironolactone</th>\n",
       "      <th>DRUG_Lactulose</th>\n",
       "      <th>DRUG_Ketorolac</th>\n",
       "      <th>DRUG_Hydromorphone</th>\n",
       "      <th>DRUG_PredniSONE</th>\n",
       "      <th>DRUG_CefePIME</th>\n",
       "      <th>DRUG_Nephrocaps</th>\n",
       "      <th>DRUG_Labetalol</th>\n",
       "    </tr>\n",
       "  </thead>\n",
       "  <tbody>\n",
       "    <tr>\n",
       "      <th>0</th>\n",
       "      <td>0</td>\n",
       "      <td>22</td>\n",
       "      <td>165315</td>\n",
       "      <td>1.144444</td>\n",
       "      <td>64.971282</td>\n",
       "      <td>1.0</td>\n",
       "      <td>1.143750</td>\n",
       "      <td>7</td>\n",
       "      <td>3</td>\n",
       "      <td>0.0</td>\n",
       "      <td>...</td>\n",
       "      <td>0</td>\n",
       "      <td>0</td>\n",
       "      <td>0</td>\n",
       "      <td>0</td>\n",
       "      <td>0</td>\n",
       "      <td>0</td>\n",
       "      <td>0</td>\n",
       "      <td>0</td>\n",
       "      <td>0</td>\n",
       "      <td>0</td>\n",
       "    </tr>\n",
       "    <tr>\n",
       "      <th>1</th>\n",
       "      <td>0</td>\n",
       "      <td>23</td>\n",
       "      <td>152223</td>\n",
       "      <td>5.496528</td>\n",
       "      <td>73.242627</td>\n",
       "      <td>1.0</td>\n",
       "      <td>1.264074</td>\n",
       "      <td>8</td>\n",
       "      <td>7</td>\n",
       "      <td>38.0</td>\n",
       "      <td>...</td>\n",
       "      <td>1</td>\n",
       "      <td>0</td>\n",
       "      <td>0</td>\n",
       "      <td>0</td>\n",
       "      <td>0</td>\n",
       "      <td>0</td>\n",
       "      <td>0</td>\n",
       "      <td>0</td>\n",
       "      <td>0</td>\n",
       "      <td>0</td>\n",
       "    </tr>\n",
       "    <tr>\n",
       "      <th>40</th>\n",
       "      <td>0</td>\n",
       "      <td>23</td>\n",
       "      <td>124321</td>\n",
       "      <td>6.768056</td>\n",
       "      <td>73.242627</td>\n",
       "      <td>1.0</td>\n",
       "      <td>1.186227</td>\n",
       "      <td>10</td>\n",
       "      <td>1</td>\n",
       "      <td>33.0</td>\n",
       "      <td>...</td>\n",
       "      <td>1</td>\n",
       "      <td>1</td>\n",
       "      <td>0</td>\n",
       "      <td>0</td>\n",
       "      <td>0</td>\n",
       "      <td>0</td>\n",
       "      <td>0</td>\n",
       "      <td>0</td>\n",
       "      <td>0</td>\n",
       "      <td>0</td>\n",
       "    </tr>\n",
       "    <tr>\n",
       "      <th>52</th>\n",
       "      <td>0</td>\n",
       "      <td>24</td>\n",
       "      <td>161859</td>\n",
       "      <td>2.856944</td>\n",
       "      <td>39.042949</td>\n",
       "      <td>1.0</td>\n",
       "      <td>0.512373</td>\n",
       "      <td>4</td>\n",
       "      <td>6</td>\n",
       "      <td>22.0</td>\n",
       "      <td>...</td>\n",
       "      <td>1</td>\n",
       "      <td>1</td>\n",
       "      <td>0</td>\n",
       "      <td>0</td>\n",
       "      <td>0</td>\n",
       "      <td>0</td>\n",
       "      <td>0</td>\n",
       "      <td>0</td>\n",
       "      <td>0</td>\n",
       "      <td>0</td>\n",
       "    </tr>\n",
       "    <tr>\n",
       "      <th>60</th>\n",
       "      <td>0</td>\n",
       "      <td>25</td>\n",
       "      <td>129635</td>\n",
       "      <td>3.534028</td>\n",
       "      <td>58.989281</td>\n",
       "      <td>1.0</td>\n",
       "      <td>3.546574</td>\n",
       "      <td>4</td>\n",
       "      <td>6</td>\n",
       "      <td>35.0</td>\n",
       "      <td>...</td>\n",
       "      <td>0</td>\n",
       "      <td>1</td>\n",
       "      <td>0</td>\n",
       "      <td>0</td>\n",
       "      <td>0</td>\n",
       "      <td>0</td>\n",
       "      <td>0</td>\n",
       "      <td>0</td>\n",
       "      <td>0</td>\n",
       "      <td>0</td>\n",
       "    </tr>\n",
       "    <tr>\n",
       "      <th>...</th>\n",
       "      <td>...</td>\n",
       "      <td>...</td>\n",
       "      <td>...</td>\n",
       "      <td>...</td>\n",
       "      <td>...</td>\n",
       "      <td>...</td>\n",
       "      <td>...</td>\n",
       "      <td>...</td>\n",
       "      <td>...</td>\n",
       "      <td>...</td>\n",
       "      <td>...</td>\n",
       "      <td>...</td>\n",
       "      <td>...</td>\n",
       "      <td>...</td>\n",
       "      <td>...</td>\n",
       "      <td>...</td>\n",
       "      <td>...</td>\n",
       "      <td>...</td>\n",
       "      <td>...</td>\n",
       "      <td>...</td>\n",
       "      <td>...</td>\n",
       "    </tr>\n",
       "    <tr>\n",
       "      <th>1053980</th>\n",
       "      <td>0</td>\n",
       "      <td>98794</td>\n",
       "      <td>190603</td>\n",
       "      <td>4.145833</td>\n",
       "      <td>78.327283</td>\n",
       "      <td>1.0</td>\n",
       "      <td>2.288796</td>\n",
       "      <td>5</td>\n",
       "      <td>2</td>\n",
       "      <td>44.0</td>\n",
       "      <td>...</td>\n",
       "      <td>1</td>\n",
       "      <td>0</td>\n",
       "      <td>0</td>\n",
       "      <td>0</td>\n",
       "      <td>0</td>\n",
       "      <td>0</td>\n",
       "      <td>0</td>\n",
       "      <td>0</td>\n",
       "      <td>0</td>\n",
       "      <td>0</td>\n",
       "    </tr>\n",
       "    <tr>\n",
       "      <th>1053984</th>\n",
       "      <td>0</td>\n",
       "      <td>98800</td>\n",
       "      <td>191113</td>\n",
       "      <td>2.742361</td>\n",
       "      <td>19.413381</td>\n",
       "      <td>1.0</td>\n",
       "      <td>0.877778</td>\n",
       "      <td>8</td>\n",
       "      <td>4</td>\n",
       "      <td>33.0</td>\n",
       "      <td>...</td>\n",
       "      <td>1</td>\n",
       "      <td>0</td>\n",
       "      <td>0</td>\n",
       "      <td>0</td>\n",
       "      <td>0</td>\n",
       "      <td>0</td>\n",
       "      <td>0</td>\n",
       "      <td>0</td>\n",
       "      <td>0</td>\n",
       "      <td>0</td>\n",
       "    </tr>\n",
       "    <tr>\n",
       "      <th>1053985</th>\n",
       "      <td>0</td>\n",
       "      <td>98805</td>\n",
       "      <td>122631</td>\n",
       "      <td>8.203472</td>\n",
       "      <td>42.559732</td>\n",
       "      <td>1.0</td>\n",
       "      <td>1.952199</td>\n",
       "      <td>17</td>\n",
       "      <td>5</td>\n",
       "      <td>40.0</td>\n",
       "      <td>...</td>\n",
       "      <td>1</td>\n",
       "      <td>1</td>\n",
       "      <td>0</td>\n",
       "      <td>0</td>\n",
       "      <td>0</td>\n",
       "      <td>0</td>\n",
       "      <td>0</td>\n",
       "      <td>0</td>\n",
       "      <td>0</td>\n",
       "      <td>0</td>\n",
       "    </tr>\n",
       "    <tr>\n",
       "      <th>1053988</th>\n",
       "      <td>0</td>\n",
       "      <td>98813</td>\n",
       "      <td>170407</td>\n",
       "      <td>41.445833</td>\n",
       "      <td>63.289557</td>\n",
       "      <td>1.0</td>\n",
       "      <td>8.036157</td>\n",
       "      <td>9</td>\n",
       "      <td>4</td>\n",
       "      <td>60.0</td>\n",
       "      <td>...</td>\n",
       "      <td>1</td>\n",
       "      <td>1</td>\n",
       "      <td>0</td>\n",
       "      <td>1</td>\n",
       "      <td>0</td>\n",
       "      <td>0</td>\n",
       "      <td>0</td>\n",
       "      <td>0</td>\n",
       "      <td>0</td>\n",
       "      <td>0</td>\n",
       "    </tr>\n",
       "    <tr>\n",
       "      <th>1054014</th>\n",
       "      <td>0</td>\n",
       "      <td>98813</td>\n",
       "      <td>190264</td>\n",
       "      <td>1.607639</td>\n",
       "      <td>63.289557</td>\n",
       "      <td>1.0</td>\n",
       "      <td>1.637025</td>\n",
       "      <td>7</td>\n",
       "      <td>1</td>\n",
       "      <td>17.0</td>\n",
       "      <td>...</td>\n",
       "      <td>0</td>\n",
       "      <td>1</td>\n",
       "      <td>0</td>\n",
       "      <td>0</td>\n",
       "      <td>0</td>\n",
       "      <td>0</td>\n",
       "      <td>0</td>\n",
       "      <td>0</td>\n",
       "      <td>0</td>\n",
       "      <td>0</td>\n",
       "    </tr>\n",
       "  </tbody>\n",
       "</table>\n",
       "<p>48658 rows × 101 columns</p>\n",
       "</div>"
      ],
      "text/plain": [
       "         outcome  SUBJECT_ID  HADM_ID  hospital_duration        age  \\\n",
       "0              0          22   165315           1.144444  64.971282   \n",
       "1              0          23   152223           5.496528  73.242627   \n",
       "40             0          23   124321           6.768056  73.242627   \n",
       "52             0          24   161859           2.856944  39.042949   \n",
       "60             0          25   129635           3.534028  58.989281   \n",
       "...          ...         ...      ...                ...        ...   \n",
       "1053980        0       98794   190603           4.145833  78.327283   \n",
       "1053984        0       98800   191113           2.742361  19.413381   \n",
       "1053985        0       98805   122631           8.203472  42.559732   \n",
       "1053988        0       98813   170407          41.445833  63.289557   \n",
       "1054014        0       98813   190264           1.607639  63.289557   \n",
       "\n",
       "         nicu_stays  total_icu_days  total_diagnoses  total_procedure  \\\n",
       "0               1.0        1.143750                7                3   \n",
       "1               1.0        1.264074                8                7   \n",
       "40              1.0        1.186227               10                1   \n",
       "52              1.0        0.512373                4                6   \n",
       "60              1.0        3.546574                4                6   \n",
       "...             ...             ...              ...              ...   \n",
       "1053980         1.0        2.288796                5                2   \n",
       "1053984         1.0        0.877778                8                4   \n",
       "1053985         1.0        1.952199               17                5   \n",
       "1053988         1.0        8.036157                9                4   \n",
       "1054014         1.0        1.637025                7                1   \n",
       "\n",
       "         total_drug  ...  DRUG_Insulin  DRUG_Pantoprazole  \\\n",
       "0               0.0  ...             0                  0   \n",
       "1              38.0  ...             1                  0   \n",
       "40             33.0  ...             1                  1   \n",
       "52             22.0  ...             1                  1   \n",
       "60             35.0  ...             0                  1   \n",
       "...             ...  ...           ...                ...   \n",
       "1053980        44.0  ...             1                  0   \n",
       "1053984        33.0  ...             1                  0   \n",
       "1053985        40.0  ...             1                  1   \n",
       "1053988        60.0  ...             1                  1   \n",
       "1054014        17.0  ...             0                  1   \n",
       "\n",
       "         DRUG_Spironolactone  DRUG_Lactulose  DRUG_Ketorolac  \\\n",
       "0                          0               0               0   \n",
       "1                          0               0               0   \n",
       "40                         0               0               0   \n",
       "52                         0               0               0   \n",
       "60                         0               0               0   \n",
       "...                      ...             ...             ...   \n",
       "1053980                    0               0               0   \n",
       "1053984                    0               0               0   \n",
       "1053985                    0               0               0   \n",
       "1053988                    0               1               0   \n",
       "1054014                    0               0               0   \n",
       "\n",
       "         DRUG_Hydromorphone  DRUG_PredniSONE  DRUG_CefePIME  DRUG_Nephrocaps  \\\n",
       "0                         0                0              0                0   \n",
       "1                         0                0              0                0   \n",
       "40                        0                0              0                0   \n",
       "52                        0                0              0                0   \n",
       "60                        0                0              0                0   \n",
       "...                     ...              ...            ...              ...   \n",
       "1053980                   0                0              0                0   \n",
       "1053984                   0                0              0                0   \n",
       "1053985                   0                0              0                0   \n",
       "1053988                   0                0              0                0   \n",
       "1054014                   0                0              0                0   \n",
       "\n",
       "         DRUG_Labetalol  \n",
       "0                     0  \n",
       "1                     0  \n",
       "40                    0  \n",
       "52                    0  \n",
       "60                    0  \n",
       "...                 ...  \n",
       "1053980               0  \n",
       "1053984               0  \n",
       "1053985               0  \n",
       "1053988               0  \n",
       "1054014               0  \n",
       "\n",
       "[48658 rows x 101 columns]"
      ]
     },
     "execution_count": 105,
     "metadata": {},
     "output_type": "execute_result"
    }
   ],
   "source": [
    "#onehot encode the pdat columns\n",
    "to_onehot = ['INSURANCE', \n",
    "             'RELIGION', \n",
    "             'MARITAL_STATUS',\n",
    "             'GENDER', \n",
    "             'ADMISSION_LOCATION',\n",
    "             'DISCHARGE_LOCATION']\n",
    "sdat_cols = pd.get_dummies(sdat, columns = to_onehot, drop_first = True)\n",
    "for_model = pd.concat([sdat_cols, pa_cols], axis=1)\n",
    "for_model = for_model.dropna()\n",
    "for_model"
   ]
  },
  {
   "cell_type": "code",
   "execution_count": 106,
   "metadata": {
    "scrolled": true
   },
   "outputs": [
    {
     "name": "stdout",
     "output_type": "stream",
     "text": [
      "2267\n"
     ]
    },
    {
     "data": {
      "text/html": [
       "<div>\n",
       "<style scoped>\n",
       "    .dataframe tbody tr th:only-of-type {\n",
       "        vertical-align: middle;\n",
       "    }\n",
       "\n",
       "    .dataframe tbody tr th {\n",
       "        vertical-align: top;\n",
       "    }\n",
       "\n",
       "    .dataframe thead th {\n",
       "        text-align: right;\n",
       "    }\n",
       "</style>\n",
       "<table border=\"1\" class=\"dataframe\">\n",
       "  <thead>\n",
       "    <tr style=\"text-align: right;\">\n",
       "      <th></th>\n",
       "      <th>outcome</th>\n",
       "      <th>SUBJECT_ID</th>\n",
       "      <th>HADM_ID</th>\n",
       "      <th>hospital_duration</th>\n",
       "      <th>age</th>\n",
       "      <th>nicu_stays</th>\n",
       "      <th>total_icu_days</th>\n",
       "      <th>total_diagnoses</th>\n",
       "      <th>total_procedure</th>\n",
       "      <th>total_drug</th>\n",
       "      <th>...</th>\n",
       "      <th>DRUG_Insulin</th>\n",
       "      <th>DRUG_Pantoprazole</th>\n",
       "      <th>DRUG_Spironolactone</th>\n",
       "      <th>DRUG_Lactulose</th>\n",
       "      <th>DRUG_Ketorolac</th>\n",
       "      <th>DRUG_Hydromorphone</th>\n",
       "      <th>DRUG_PredniSONE</th>\n",
       "      <th>DRUG_CefePIME</th>\n",
       "      <th>DRUG_Nephrocaps</th>\n",
       "      <th>DRUG_Labetalol</th>\n",
       "    </tr>\n",
       "  </thead>\n",
       "  <tbody>\n",
       "    <tr>\n",
       "      <th>0</th>\n",
       "      <td>0</td>\n",
       "      <td>22</td>\n",
       "      <td>165315</td>\n",
       "      <td>1.144444</td>\n",
       "      <td>0.643391</td>\n",
       "      <td>0.0</td>\n",
       "      <td>0.004386</td>\n",
       "      <td>0.157895</td>\n",
       "      <td>0.058824</td>\n",
       "      <td>0.000000</td>\n",
       "      <td>...</td>\n",
       "      <td>0</td>\n",
       "      <td>0</td>\n",
       "      <td>0</td>\n",
       "      <td>0</td>\n",
       "      <td>0</td>\n",
       "      <td>0</td>\n",
       "      <td>0</td>\n",
       "      <td>0</td>\n",
       "      <td>0</td>\n",
       "      <td>0</td>\n",
       "    </tr>\n",
       "    <tr>\n",
       "      <th>1</th>\n",
       "      <td>0</td>\n",
       "      <td>23</td>\n",
       "      <td>152223</td>\n",
       "      <td>5.496528</td>\n",
       "      <td>0.756713</td>\n",
       "      <td>0.0</td>\n",
       "      <td>0.004847</td>\n",
       "      <td>0.184211</td>\n",
       "      <td>0.176471</td>\n",
       "      <td>0.231707</td>\n",
       "      <td>...</td>\n",
       "      <td>1</td>\n",
       "      <td>0</td>\n",
       "      <td>0</td>\n",
       "      <td>0</td>\n",
       "      <td>0</td>\n",
       "      <td>0</td>\n",
       "      <td>0</td>\n",
       "      <td>0</td>\n",
       "      <td>0</td>\n",
       "      <td>0</td>\n",
       "    </tr>\n",
       "    <tr>\n",
       "      <th>40</th>\n",
       "      <td>0</td>\n",
       "      <td>23</td>\n",
       "      <td>124321</td>\n",
       "      <td>6.768056</td>\n",
       "      <td>0.756713</td>\n",
       "      <td>0.0</td>\n",
       "      <td>0.004549</td>\n",
       "      <td>0.236842</td>\n",
       "      <td>0.000000</td>\n",
       "      <td>0.201220</td>\n",
       "      <td>...</td>\n",
       "      <td>1</td>\n",
       "      <td>1</td>\n",
       "      <td>0</td>\n",
       "      <td>0</td>\n",
       "      <td>0</td>\n",
       "      <td>0</td>\n",
       "      <td>0</td>\n",
       "      <td>0</td>\n",
       "      <td>0</td>\n",
       "      <td>0</td>\n",
       "    </tr>\n",
       "    <tr>\n",
       "      <th>52</th>\n",
       "      <td>0</td>\n",
       "      <td>24</td>\n",
       "      <td>161859</td>\n",
       "      <td>2.856944</td>\n",
       "      <td>0.288156</td>\n",
       "      <td>0.0</td>\n",
       "      <td>0.001964</td>\n",
       "      <td>0.078947</td>\n",
       "      <td>0.147059</td>\n",
       "      <td>0.134146</td>\n",
       "      <td>...</td>\n",
       "      <td>1</td>\n",
       "      <td>1</td>\n",
       "      <td>0</td>\n",
       "      <td>0</td>\n",
       "      <td>0</td>\n",
       "      <td>0</td>\n",
       "      <td>0</td>\n",
       "      <td>0</td>\n",
       "      <td>0</td>\n",
       "      <td>0</td>\n",
       "    </tr>\n",
       "    <tr>\n",
       "      <th>60</th>\n",
       "      <td>0</td>\n",
       "      <td>25</td>\n",
       "      <td>129635</td>\n",
       "      <td>3.534028</td>\n",
       "      <td>0.561433</td>\n",
       "      <td>0.0</td>\n",
       "      <td>0.013602</td>\n",
       "      <td>0.078947</td>\n",
       "      <td>0.147059</td>\n",
       "      <td>0.213415</td>\n",
       "      <td>...</td>\n",
       "      <td>0</td>\n",
       "      <td>1</td>\n",
       "      <td>0</td>\n",
       "      <td>0</td>\n",
       "      <td>0</td>\n",
       "      <td>0</td>\n",
       "      <td>0</td>\n",
       "      <td>0</td>\n",
       "      <td>0</td>\n",
       "      <td>0</td>\n",
       "    </tr>\n",
       "  </tbody>\n",
       "</table>\n",
       "<p>5 rows × 101 columns</p>\n",
       "</div>"
      ],
      "text/plain": [
       "    outcome  SUBJECT_ID  HADM_ID  hospital_duration       age  nicu_stays  \\\n",
       "0         0          22   165315           1.144444  0.643391         0.0   \n",
       "1         0          23   152223           5.496528  0.756713         0.0   \n",
       "40        0          23   124321           6.768056  0.756713         0.0   \n",
       "52        0          24   161859           2.856944  0.288156         0.0   \n",
       "60        0          25   129635           3.534028  0.561433         0.0   \n",
       "\n",
       "    total_icu_days  total_diagnoses  total_procedure  total_drug  ...  \\\n",
       "0         0.004386         0.157895         0.058824    0.000000  ...   \n",
       "1         0.004847         0.184211         0.176471    0.231707  ...   \n",
       "40        0.004549         0.236842         0.000000    0.201220  ...   \n",
       "52        0.001964         0.078947         0.147059    0.134146  ...   \n",
       "60        0.013602         0.078947         0.147059    0.213415  ...   \n",
       "\n",
       "    DRUG_Insulin  DRUG_Pantoprazole  DRUG_Spironolactone  DRUG_Lactulose  \\\n",
       "0              0                  0                    0               0   \n",
       "1              1                  0                    0               0   \n",
       "40             1                  1                    0               0   \n",
       "52             1                  1                    0               0   \n",
       "60             0                  1                    0               0   \n",
       "\n",
       "    DRUG_Ketorolac  DRUG_Hydromorphone  DRUG_PredniSONE  DRUG_CefePIME  \\\n",
       "0                0                   0                0              0   \n",
       "1                0                   0                0              0   \n",
       "40               0                   0                0              0   \n",
       "52               0                   0                0              0   \n",
       "60               0                   0                0              0   \n",
       "\n",
       "    DRUG_Nephrocaps  DRUG_Labetalol  \n",
       "0                 0               0  \n",
       "1                 0               0  \n",
       "40                0               0  \n",
       "52                0               0  \n",
       "60                0               0  \n",
       "\n",
       "[5 rows x 101 columns]"
      ]
     },
     "execution_count": 106,
     "metadata": {},
     "output_type": "execute_result"
    }
   ],
   "source": [
    "#scale the dataframe\n",
    "from sklearn.preprocessing import MinMaxScaler\n",
    "scaler = MinMaxScaler()\n",
    "need_scaling = [\n",
    "    'age', 'total_diagnoses','total_procedure', 'total_drug', 'nicu_stays', 'total_icu_days',\n",
    "]\n",
    "for_model[need_scaling] = scaler.fit_transform(for_model[need_scaling])\n",
    "print(np.sum(for_model['outcome']))\n",
    "for_model.head()"
   ]
  },
  {
   "cell_type": "markdown",
   "metadata": {},
   "source": [
    "## set aside basic and presence absense"
   ]
  },
  {
   "cell_type": "code",
   "execution_count": 107,
   "metadata": {},
   "outputs": [],
   "source": [
    "for_model.head()\n",
    "basic = for_model.loc[:,sdat_cols.columns]"
   ]
  },
  {
   "cell_type": "markdown",
   "metadata": {},
   "source": [
    "## Run basic"
   ]
  },
  {
   "cell_type": "code",
   "execution_count": 108,
   "metadata": {},
   "outputs": [],
   "source": [
    "from sklearn.metrics import precision_recall_curve, roc_curve, roc_auc_score, confusion_matrix, accuracy_score, precision_score, recall_score, f1_score, classification_report\n",
    "from sklearn.model_selection import train_test_split\n",
    "y = basic['outcome']\n",
    "X = basic.drop([\n",
    "    'outcome',\n",
    "    'SUBJECT_ID',\n",
    "    'HADM_ID'], 1)\n",
    "X_train, X_test, y_train, y_test = train_test_split(X, y, test_size = 0.2, random_state=321)"
   ]
  },
  {
   "cell_type": "code",
   "execution_count": 109,
   "metadata": {},
   "outputs": [
    {
     "data": {
      "text/plain": [
       "LogisticRegression(C=1.0, class_weight=None, dual=False, fit_intercept=True,\n",
       "                   intercept_scaling=1, l1_ratio=None, max_iter=1000,\n",
       "                   multi_class='auto', n_jobs=None, penalty='l2',\n",
       "                   random_state=None, solver='lbfgs', tol=0.0001, verbose=0,\n",
       "                   warm_start=False)"
      ]
     },
     "execution_count": 109,
     "metadata": {},
     "output_type": "execute_result"
    }
   ],
   "source": [
    "#logistic regression\n",
    "from sklearn.linear_model import LogisticRegression\n",
    "log_reg = LogisticRegression(max_iter=1000)\n",
    "\n",
    "#train\n",
    "log_reg.fit(X_train, y_train)"
   ]
  },
  {
   "cell_type": "code",
   "execution_count": 110,
   "metadata": {},
   "outputs": [
    {
     "data": {
      "image/png": "[encoded data removed]",
      "text/plain": [
       "<Figure size 432x288 with 1 Axes>"
      ]
     },
     "metadata": {
      "needs_background": "light"
     },
     "output_type": "display_data"
    },
    {
     "data": {
      "image/png": "[encoded data removed]",
      "text/plain": [
       "<Figure size 432x288 with 1 Axes>"
      ]
     },
     "metadata": {
      "needs_background": "light"
     },
     "output_type": "display_data"
    },
    {
     "name": "stdout",
     "output_type": "stream",
     "text": [
      "Confusion matrix for threshold = 0.12:\n",
      "[[35633  1504]\n",
      " [ 1505   284]]\n",
      "Classification report:\n",
      "              precision    recall  f1-score   support\n",
      "\n",
      "           0       0.96      0.96      0.96     37137\n",
      "           1       0.16      0.16      0.16      1789\n",
      "\n",
      "    accuracy                           0.92     38926\n",
      "   macro avg       0.56      0.56      0.56     38926\n",
      "weighted avg       0.92      0.92      0.92     38926\n",
      "\n"
     ]
    },
    {
     "data": {
      "image/png": "[encoded data removed]",
      "text/plain": [
       "<Figure size 432x288 with 1 Axes>"
      ]
     },
     "metadata": {
      "needs_background": "light"
     },
     "output_type": "display_data"
    }
   ],
   "source": [
    "#performance on the training set\n",
    "exec(open(\"my_functions.py\").read())\n",
    "probs_train = log_reg.predict_proba(X_train)\n",
    "scores_train = probs_train[:, 1]\n",
    "train_perf = get_model_performance('logistic regression training set', X_train, scores_train, y_train, pos_label=1)"
   ]
  },
  {
   "cell_type": "code",
   "execution_count": 111,
   "metadata": {},
   "outputs": [
    {
     "data": {
      "image/png": "[encoded data removed]",
      "text/plain": [
       "<Figure size 432x288 with 1 Axes>"
      ]
     },
     "metadata": {
      "needs_background": "light"
     },
     "output_type": "display_data"
    },
    {
     "data": {
      "image/png": "[encoded data removed]",
      "text/plain": [
       "<Figure size 432x288 with 1 Axes>"
      ]
     },
     "metadata": {
      "needs_background": "light"
     },
     "output_type": "display_data"
    },
    {
     "name": "stdout",
     "output_type": "stream",
     "text": [
      "Confusion matrix for threshold = 0.12:\n",
      "[[8844  410]\n",
      " [ 411   67]]\n",
      "Classification report:\n",
      "              precision    recall  f1-score   support\n",
      "\n",
      "           0       0.96      0.96      0.96      9254\n",
      "           1       0.14      0.14      0.14       478\n",
      "\n",
      "    accuracy                           0.92      9732\n",
      "   macro avg       0.55      0.55      0.55      9732\n",
      "weighted avg       0.92      0.92      0.92      9732\n",
      "\n"
     ]
    },
    {
     "data": {
      "image/png": "[encoded data removed]",
      "text/plain": [
       "<Figure size 432x288 with 1 Axes>"
      ]
     },
     "metadata": {
      "needs_background": "light"
     },
     "output_type": "display_data"
    }
   ],
   "source": [
    "#performance on the test set\n",
    "probs_test = log_reg.predict_proba(X_test)\n",
    "scores_test = probs_test[:, 1]\n",
    "test_perf = get_model_performance('logistic regression test set', X_test, scores_test, y_test, pos_label=1)"
   ]
  },
  {
   "cell_type": "code",
   "execution_count": 113,
   "metadata": {},
   "outputs": [
    {
     "name": "stdout",
     "output_type": "stream",
     "text": [
      "Fitting 5 folds for each of 48 candidates, totalling 240 fits\n"
     ]
    },
    {
     "name": "stderr",
     "output_type": "stream",
     "text": [
      "/opt/anaconda3/lib/python3.7/site-packages/sklearn/model_selection/_search.py:281: UserWarning: The total space of parameters 48 is smaller than n_iter=100. Running 48 iterations. For exhaustive searches, use GridSearchCV.\n",
      "  % (grid_size, self.n_iter, grid_size), UserWarning)\n",
      "[Parallel(n_jobs=6)]: Using backend LokyBackend with 6 concurrent workers.\n",
      "[Parallel(n_jobs=6)]: Done  29 tasks      | elapsed:   13.8s\n",
      "[Parallel(n_jobs=6)]: Done 150 tasks      | elapsed:  1.5min\n",
      "[Parallel(n_jobs=6)]: Done 240 out of 240 | elapsed:  2.5min finished\n"
     ]
    },
    {
     "name": "stdout",
     "output_type": "stream",
     "text": [
      "{'min_samples_split': 3, 'min_samples_leaf': 1, 'max_depth': 100}\n"
     ]
    }
   ],
   "source": [
    "#------- OPTIMIZE RF\n",
    "\n",
    "#use RandomizedSearchCV() to optimized Random forest hyperparameters\n",
    "from sklearn.ensemble import RandomForestClassifier\n",
    "from sklearn.model_selection import RandomizedSearchCV\n",
    "rf_clf = RandomForestClassifier()\n",
    "\n",
    "#choose parameter grid values\n",
    "max_depth = [10, 50, 100, 150]\n",
    "min_samples_split = [3, 5, 10]\n",
    "min_samples_leaf = [1, 2, 3, 4]\n",
    "\n",
    "#make grid dict\n",
    "random_grid = {'max_depth': max_depth,\n",
    "               'min_samples_split': min_samples_split,\n",
    "               'min_samples_leaf': min_samples_leaf}\n",
    "\n",
    "\n",
    "# ### run random search\n",
    "rf_search = RandomizedSearchCV(estimator = rf_clf,\n",
    "                               param_distributions = random_grid,\n",
    "                               n_iter = 100,\n",
    "                               scoring = 'recall',\n",
    "                               cv = 5,\n",
    "                               verbose=2,\n",
    "                               random_state=RAND_SEED,\n",
    "                               n_jobs = N_JOBS)\n",
    "rf_search.fit(X_train, y_train)\n",
    "best_params = rf_search.best_params_\n",
    "print(rf_search.best_params_)\n",
    "\n",
    "\n",
    "# #or just select the best parameters if already run\n",
    "# best_params = {'min_samples_split': 10,\n",
    "#   'min_samples_leaf': 5,\n",
    "#   'max_features': 'sqrt',\n",
    "#   'max_depth': 100,\n",
    "#   'bootstrap': True}\n",
    "\n",
    "# print('Best parameters:')\n",
    "# print(best_params)\n",
    "\n"
   ]
  },
  {
   "cell_type": "code",
   "execution_count": 115,
   "metadata": {},
   "outputs": [
    {
     "data": {
      "text/plain": [
       "RandomForestClassifier(bootstrap=True, ccp_alpha=0.0, class_weight=None,\n",
       "                       criterion='gini', max_depth=100, max_features='auto',\n",
       "                       max_leaf_nodes=None, max_samples=None,\n",
       "                       min_impurity_decrease=0.0, min_impurity_split=None,\n",
       "                       min_samples_leaf=1, min_samples_split=3,\n",
       "                       min_weight_fraction_leaf=0.0, n_estimators=100, n_jobs=6,\n",
       "                       oob_score=False, random_state=1234, verbose=0,\n",
       "                       warm_start=False)"
      ]
     },
     "execution_count": 115,
     "metadata": {},
     "output_type": "execute_result"
    }
   ],
   "source": [
    "#set up optimized rf model based on from best_params above\n",
    "rf_opt = RandomForestClassifier(n_jobs=N_JOBS,\n",
    "                                min_samples_split = best_params['min_samples_split'],\n",
    "                                min_samples_leaf = best_params['min_samples_leaf'],\n",
    "                                max_depth = best_params['max_depth'],\n",
    "                                bootstrap = True,\n",
    "                               random_state=RAND_SEED)\n",
    "\n",
    "#train\n",
    "rf_opt.fit(X_train, y_train)"
   ]
  },
  {
   "cell_type": "code",
   "execution_count": 116,
   "metadata": {},
   "outputs": [
    {
     "data": {
      "image/png": "[encoded data removed]",
      "text/plain": [
       "<Figure size 432x288 with 1 Axes>"
      ]
     },
     "metadata": {
      "needs_background": "light"
     },
     "output_type": "display_data"
    },
    {
     "data": {
      "image/png": "[encoded data removed]",
      "text/plain": [
       "<Figure size 432x288 with 1 Axes>"
      ]
     },
     "metadata": {
      "needs_background": "light"
     },
     "output_type": "display_data"
    },
    {
     "name": "stdout",
     "output_type": "stream",
     "text": [
      "Confusion matrix for threshold = 0.37:\n",
      "[[37136     1]\n",
      " [    2  1787]]\n",
      "Classification report:\n",
      "              precision    recall  f1-score   support\n",
      "\n",
      "           0       1.00      1.00      1.00     37137\n",
      "           1       1.00      1.00      1.00      1789\n",
      "\n",
      "    accuracy                           1.00     38926\n",
      "   macro avg       1.00      1.00      1.00     38926\n",
      "weighted avg       1.00      1.00      1.00     38926\n",
      "\n"
     ]
    },
    {
     "data": {
      "image/png": "[encoded data removed]",
      "text/plain": [
       "<Figure size 432x288 with 1 Axes>"
      ]
     },
     "metadata": {
      "needs_background": "light"
     },
     "output_type": "display_data"
    }
   ],
   "source": [
    "#optimized model performance on training set\n",
    "probs_opt_t = rf_opt.predict_proba(X_train)\n",
    "scores_opt_t = probs_opt_t[:, 1]\n",
    "opt_perf_t = get_model_performance('optimized random forest training', X_train, scores_opt_t, y_train, pos_label=1)"
   ]
  },
  {
   "cell_type": "code",
   "execution_count": 117,
   "metadata": {
    "scrolled": false
   },
   "outputs": [
    {
     "data": {
      "image/png": "[encoded data removed]",
      "text/plain": [
       "<Figure size 432x288 with 1 Axes>"
      ]
     },
     "metadata": {
      "needs_background": "light"
     },
     "output_type": "display_data"
    },
    {
     "data": {
      "image/png": "[encoded data removed]",
      "text/plain": [
       "<Figure size 432x288 with 1 Axes>"
      ]
     },
     "metadata": {
      "needs_background": "light"
     },
     "output_type": "display_data"
    },
    {
     "name": "stdout",
     "output_type": "stream",
     "text": [
      "Confusion matrix for threshold = 0.16:\n",
      "[[8859  395]\n",
      " [ 398   80]]\n",
      "Classification report:\n",
      "              precision    recall  f1-score   support\n",
      "\n",
      "           0       0.96      0.96      0.96      9254\n",
      "           1       0.17      0.17      0.17       478\n",
      "\n",
      "    accuracy                           0.92      9732\n",
      "   macro avg       0.56      0.56      0.56      9732\n",
      "weighted avg       0.92      0.92      0.92      9732\n",
      "\n"
     ]
    },
    {
     "data": {
      "image/png": "[encoded data removed]",
      "text/plain": [
       "<Figure size 432x288 with 1 Axes>"
      ]
     },
     "metadata": {
      "needs_background": "light"
     },
     "output_type": "display_data"
    }
   ],
   "source": [
    "#predict for test set\n",
    "test_probs = rf_opt.predict_proba(X_test)\n",
    "test_scores = test_probs[:, 1]\n",
    "test_perf = get_model_performance('optimized random forest TEST', X_test, test_scores, y_test, pos_label=1)"
   ]
  },
  {
   "cell_type": "markdown",
   "metadata": {},
   "source": [
    "## run full set"
   ]
  },
  {
   "cell_type": "code",
   "execution_count": 118,
   "metadata": {},
   "outputs": [],
   "source": [
    "from sklearn.metrics import precision_recall_curve, roc_curve, roc_auc_score, confusion_matrix, accuracy_score, precision_score, recall_score, f1_score, classification_report\n",
    "from sklearn.model_selection import train_test_split\n",
    "y = for_model['outcome']\n",
    "X = for_model.drop([\n",
    "    'outcome',\n",
    "    'SUBJECT_ID',\n",
    "    'HADM_ID'], 1)\n",
    "X_train, X_test, y_train, y_test = train_test_split(X, y, test_size = 0.2, random_state=RAND_SEED, stratify = y)"
   ]
  },
  {
   "cell_type": "code",
   "execution_count": 119,
   "metadata": {
    "scrolled": false
   },
   "outputs": [
    {
     "name": "stderr",
     "output_type": "stream",
     "text": [
      "/opt/anaconda3/lib/python3.7/site-packages/sklearn/model_selection/_search.py:281: UserWarning: The total space of parameters 48 is smaller than n_iter=100. Running 48 iterations. For exhaustive searches, use GridSearchCV.\n",
      "  % (grid_size, self.n_iter, grid_size), UserWarning)\n",
      "[Parallel(n_jobs=6)]: Using backend LokyBackend with 6 concurrent workers.\n"
     ]
    },
    {
     "name": "stdout",
     "output_type": "stream",
     "text": [
      "Fitting 5 folds for each of 48 candidates, totalling 240 fits\n"
     ]
    },
    {
     "name": "stderr",
     "output_type": "stream",
     "text": [
      "[Parallel(n_jobs=6)]: Done  29 tasks      | elapsed:   14.3s\n",
      "[Parallel(n_jobs=6)]: Done 150 tasks      | elapsed:  1.7min\n",
      "[Parallel(n_jobs=6)]: Done 240 out of 240 | elapsed:  3.0min finished\n"
     ]
    },
    {
     "name": "stdout",
     "output_type": "stream",
     "text": [
      "{'min_samples_split': 3, 'min_samples_leaf': 1, 'max_depth': 150}\n"
     ]
    }
   ],
   "source": [
    "#------- OPTIMIZE RF\n",
    "\n",
    "#use RandomizedSearchCV() to optimized Random forest hyperparameters\n",
    "from sklearn.ensemble import RandomForestClassifier\n",
    "from sklearn.model_selection import RandomizedSearchCV\n",
    "rf_clf = RandomForestClassifier()\n",
    "\n",
    "#choose parameter grid values\n",
    "max_depth = [10, 50, 100, 150]\n",
    "min_samples_split = [3, 5, 10]\n",
    "min_samples_leaf = [1, 2, 3, 4]\n",
    "\n",
    "#make grid dict\n",
    "random_grid = {'max_depth': max_depth,\n",
    "               'min_samples_split': min_samples_split,\n",
    "               'min_samples_leaf': min_samples_leaf}\n",
    "\n",
    "\n",
    "# ### run random search\n",
    "rf_search = RandomizedSearchCV(estimator = rf_clf,\n",
    "                               param_distributions = random_grid,\n",
    "                               n_iter = 100,\n",
    "                               scoring = 'recall',\n",
    "                               cv = 5,\n",
    "                               verbose=2,\n",
    "                               random_state=RAND_SEED,\n",
    "                               n_jobs = N_JOBS)\n",
    "rf_search.fit(X_train, y_train)\n",
    "best_params = rf_search.best_params_\n",
    "print(rf_search.best_params_)\n",
    "\n"
   ]
  },
  {
   "cell_type": "code",
   "execution_count": 120,
   "metadata": {},
   "outputs": [],
   "source": [
    "#best_params = {'min_samples_split': 3, 'min_samples_leaf': 1, 'max_depth': 50}"
   ]
  },
  {
   "cell_type": "code",
   "execution_count": 121,
   "metadata": {},
   "outputs": [
    {
     "data": {
      "text/plain": [
       "RandomForestClassifier(bootstrap=True, ccp_alpha=0.0, class_weight=None,\n",
       "                       criterion='gini', max_depth=150, max_features='auto',\n",
       "                       max_leaf_nodes=None, max_samples=None,\n",
       "                       min_impurity_decrease=0.0, min_impurity_split=None,\n",
       "                       min_samples_leaf=1, min_samples_split=3,\n",
       "                       min_weight_fraction_leaf=0.0, n_estimators=100, n_jobs=6,\n",
       "                       oob_score=False, random_state=1234, verbose=0,\n",
       "                       warm_start=False)"
      ]
     },
     "execution_count": 121,
     "metadata": {},
     "output_type": "execute_result"
    }
   ],
   "source": [
    "#set up optimized rf model based on from best_params above\n",
    "rf_opt = RandomForestClassifier(n_jobs=N_JOBS,\n",
    "                                min_samples_split = best_params['min_samples_split'],\n",
    "                                min_samples_leaf = best_params['min_samples_leaf'],\n",
    "                                max_depth = best_params['max_depth'],\n",
    "                                bootstrap = True,\n",
    "                               random_state=RAND_SEED)\n",
    "\n",
    "#train\n",
    "rf_opt.fit(X_train, y_train)"
   ]
  },
  {
   "cell_type": "code",
   "execution_count": 122,
   "metadata": {
    "scrolled": true
   },
   "outputs": [
    {
     "data": {
      "image/png": "[encoded data removed]",
      "text/plain": [
       "<Figure size 432x288 with 1 Axes>"
      ]
     },
     "metadata": {
      "needs_background": "light"
     },
     "output_type": "display_data"
    },
    {
     "data": {
      "image/png": "[encoded data removed]",
      "text/plain": [
       "<Figure size 432x288 with 1 Axes>"
      ]
     },
     "metadata": {
      "needs_background": "light"
     },
     "output_type": "display_data"
    },
    {
     "name": "stdout",
     "output_type": "stream",
     "text": [
      "Confusion matrix for threshold = 0.4:\n",
      "[[37112     0]\n",
      " [    1  1813]]\n",
      "Classification report:\n",
      "              precision    recall  f1-score   support\n",
      "\n",
      "           0       1.00      1.00      1.00     37112\n",
      "           1       1.00      1.00      1.00      1814\n",
      "\n",
      "    accuracy                           1.00     38926\n",
      "   macro avg       1.00      1.00      1.00     38926\n",
      "weighted avg       1.00      1.00      1.00     38926\n",
      "\n"
     ]
    },
    {
     "data": {
      "image/png": "[encoded data removed]",
      "text/plain": [
       "<Figure size 432x288 with 1 Axes>"
      ]
     },
     "metadata": {
      "needs_background": "light"
     },
     "output_type": "display_data"
    }
   ],
   "source": [
    "#optimized model performance on training set\n",
    "probs_opt_t = rf_opt.predict_proba(X_train)\n",
    "scores_opt_t = probs_opt_t[:, 1]\n",
    "opt_perf_t = get_model_performance('optimized random forest training', X_train, scores_opt_t, y_train, pos_label=1)"
   ]
  },
  {
   "cell_type": "code",
   "execution_count": 1,
   "metadata": {
    "scrolled": true
   },
   "outputs": [
    {
     "ename": "NameError",
     "evalue": "name 'rf_opt' is not defined",
     "output_type": "error",
     "traceback": [
      "\u001b[0;31m---------------------------------------------------------------------------\u001b[0m",
      "\u001b[0;31mNameError\u001b[0m                                 Traceback (most recent call last)",
      "\u001b[0;32m<ipython-input-1-61cf8d64ca54>\u001b[0m in \u001b[0;36m<module>\u001b[0;34m\u001b[0m\n\u001b[1;32m      1\u001b[0m \u001b[0;31m#predict for test set\u001b[0m\u001b[0;34m\u001b[0m\u001b[0;34m\u001b[0m\u001b[0;34m\u001b[0m\u001b[0m\n\u001b[0;32m----> 2\u001b[0;31m \u001b[0mtest_probs\u001b[0m \u001b[0;34m=\u001b[0m \u001b[0mrf_opt\u001b[0m\u001b[0;34m.\u001b[0m\u001b[0mpredict_proba\u001b[0m\u001b[0;34m(\u001b[0m\u001b[0mX_test\u001b[0m\u001b[0;34m)\u001b[0m\u001b[0;34m\u001b[0m\u001b[0;34m\u001b[0m\u001b[0m\n\u001b[0m\u001b[1;32m      3\u001b[0m \u001b[0mtest_scores\u001b[0m \u001b[0;34m=\u001b[0m \u001b[0mtest_probs\u001b[0m\u001b[0;34m[\u001b[0m\u001b[0;34m:\u001b[0m\u001b[0;34m,\u001b[0m \u001b[0;36m1\u001b[0m\u001b[0;34m]\u001b[0m\u001b[0;34m\u001b[0m\u001b[0;34m\u001b[0m\u001b[0m\n\u001b[1;32m      4\u001b[0m \u001b[0mtest_perf\u001b[0m \u001b[0;34m=\u001b[0m \u001b[0mget_model_performance\u001b[0m\u001b[0;34m(\u001b[0m\u001b[0;34m'optimized random forest TEST'\u001b[0m\u001b[0;34m,\u001b[0m \u001b[0mX_test\u001b[0m\u001b[0;34m,\u001b[0m \u001b[0mtest_scores\u001b[0m\u001b[0;34m,\u001b[0m \u001b[0my_test\u001b[0m\u001b[0;34m,\u001b[0m \u001b[0mpos_label\u001b[0m\u001b[0;34m=\u001b[0m\u001b[0;36m1\u001b[0m\u001b[0;34m)\u001b[0m\u001b[0;34m\u001b[0m\u001b[0;34m\u001b[0m\u001b[0m\n\u001b[1;32m      5\u001b[0m \u001b[0;34m\u001b[0m\u001b[0m\n",
      "\u001b[0;31mNameError\u001b[0m: name 'rf_opt' is not defined"
     ]
    }
   ],
   "source": [
    "#predict for test set\n",
    "test_probs = rf_opt.predict_proba(X_test)\n",
    "test_scores = test_probs[:, 1]\n",
    "test_perf = get_model_performance('optimized random forest TEST', X_test, test_scores, y_test, pos_label=1)\n",
    "\n",
    "\n",
    "threshold = 0.02\n",
    "opt_pred = (test_scores > threshold).astype('int')\n",
    "y_num = (y_test==1).astype('int')\n",
    "print('Confusion matrix for threshold = {}:'.format(round(threshold, 2)))\n",
    "cm = confusion_matrix(y_num, opt_pred)\n",
    "print(cm)\n",
    "print('Classification report:')\n",
    "print(classification_report(y_num, opt_pred))"
   ]
  },
  {
   "cell_type": "code",
   "execution_count": null,
   "metadata": {},
   "outputs": [],
   "source": []
  },
  {
   "cell_type": "code",
   "execution_count": null,
   "metadata": {},
   "outputs": [],
   "source": []
  }
 ],
 "metadata": {
  "kernelspec": {
   "display_name": "Python 3",
   "language": "python",
   "name": "python3"
  },
  "language_info": {
   "codemirror_mode": {
    "name": "ipython",
    "version": 3
   },
   "file_extension": ".py",
   "mimetype": "text/x-python",
   "name": "python",
   "nbconvert_exporter": "python",
   "pygments_lexer": "ipython3",
   "version": "3.7.6"
  }
 },
 "nbformat": 4,
 "nbformat_minor": 4
}

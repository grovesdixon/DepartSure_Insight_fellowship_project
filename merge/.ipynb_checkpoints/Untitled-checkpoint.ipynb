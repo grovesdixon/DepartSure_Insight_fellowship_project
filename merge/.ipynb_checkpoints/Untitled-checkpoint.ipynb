{
 "cells": [
  {
   "cell_type": "code",
   "execution_count": 1,
   "metadata": {},
   "outputs": [
    {
     "name": "stdout",
     "output_type": "stream",
     "text": [
      "Database: eicu\n",
      "Username: postgres\n",
      "\n",
      "Configured for local EICU database.\n"
     ]
    }
   ],
   "source": [
    "#configure for local eicu databse\n",
    "exec(open(\"/Users/grovesdixon/gitreps/Insight_fellowship_project/merge/configure_eicu.py\").read())"
   ]
  },
  {
   "cell_type": "code",
   "execution_count": 2,
   "metadata": {},
   "outputs": [
    {
     "data": {
      "text/plain": [
       "Index(['patientunitstayid', 'patienthealthsystemstayid', 'gender', 'age',\n",
       "       'ethnicity', 'hospitalid', 'wardid', 'apacheadmissiondx',\n",
       "       'admissionheight', 'hospitaladmittime24', 'hospitaladmitoffset',\n",
       "       'hospitaladmitsource', 'hospitaldischargeyear',\n",
       "       'hospitaldischargetime24', 'hospitaldischargeoffset',\n",
       "       'hospitaldischargelocation', 'hospitaldischargestatus', 'unittype',\n",
       "       'unitadmittime24', 'unitadmitsource', 'unitvisitnumber', 'unitstaytype',\n",
       "       'admissionweight', 'dischargeweight', 'unitdischargetime24',\n",
       "       'unitdischargeoffset', 'unitdischargelocation', 'unitdischargestatus',\n",
       "       'uniquepid'],\n",
       "      dtype='object')"
      ]
     },
     "execution_count": 2,
     "metadata": {},
     "output_type": "execute_result"
    }
   ],
   "source": [
    "#LOAD PATIENT DATA\n",
    "\n",
    "#load patient data\n",
    "#load patients data eicu\n",
    "query = query_schema + \"\"\"\n",
    "select \n",
    "   *\n",
    "from patient\n",
    "\"\"\"\n",
    "ep_dat = pd.read_sql_query(query, con)\n",
    "\n",
    "ep_dat.head()\n",
    "ep_dat.columns"
   ]
  },
  {
   "cell_type": "code",
   "execution_count": 3,
   "metadata": {},
   "outputs": [],
   "source": [
    "#LOAD DIAGNOSIS DATA BINARY CID CALLS\n",
    "dat = pd.read_csv('~/projects/Insight/icu_project/my_eicu/eicu_for_model.csv')\n",
    "cdiff_dat = dat.loc[:, ['patientunitstayid',\n",
    "                   'icd9Code_008.45']].copy()"
   ]
  },
  {
   "cell_type": "code",
   "execution_count": 59,
   "metadata": {},
   "outputs": [],
   "source": [
    "#function to run the pairing\n",
    "def get_pairs(vi, ri):\n",
    "    v = ep_dat.loc[ep_dat['unitvisitnumber']==vi, ['patienthealthsystemstayid',\n",
    "                                              'patientunitstayid',\n",
    "                                              'unitvisitnumber']]\n",
    "    #merge with cdiff diagnosis\n",
    "    vd = pd.merge(v, cdiff_dat, how='inner', on = ['patientunitstayid']).rename(columns = {'patientunitstayid':'visitID',\n",
    "        'icd9Code_008.45':'visitCID'})\n",
    "    \n",
    "    #set up lists to keep positive and negative stays in\n",
    "    positive = [] #icu stays with a return stay that was diagnosed with CID\n",
    "    negative = [] #icu stay without a return stay that was diagnosed with CID\n",
    "\n",
    "\n",
    "    #pull second ICU visit patient data\n",
    "    rv = ep_dat.loc[ep_dat['unitvisitnumber']==ri, ['patienthealthsystemstayid',\n",
    "                                                  'patientunitstayid',\n",
    "                                                  'unitvisitnumber']]\n",
    "    #merge with cdiff diagnosis\n",
    "    rvd = pd.merge(rv, cdiff_dat, how='inner', on = ['patientunitstayid']).rename(columns = {'patientunitstayid':'returnID','icd9Code_008.45':'returnCID'})\n",
    "    rvd.columns\n",
    "\n",
    "    #merge first and second visits\n",
    "    paired = pd.merge(vd, rvd, how='left', on = ['patienthealthsystemstayid'])\n",
    "    return(paired)"
   ]
  },
  {
   "cell_type": "code",
   "execution_count": 81,
   "metadata": {},
   "outputs": [],
   "source": [
    "#funtion to call exclusions positives and negatives\n",
    "def call_outcome(paired):\n",
    "    exclude = paired['visitCID']==1\n",
    "    negative = (~exclude) & ( (paired['returnCID'].isna()) | (paired['returnCID']==0) )\n",
    "    positive = (~exclude) & (paired['returnCID']==1)\n",
    "#     print('N positive = {}'.format(np.sum(positive)))\n",
    "#     print('N negative = {}'.format(np.sum(negative)))\n",
    "#     print('N excluded = {}'.format(np.sum(exclude)))\n",
    "#     print('Total = {}'.format(np.sum([positive, negative, exclude])))\n",
    "    ex_ids = paired.loc[exclude, ['visitID']]\n",
    "    neg_ids = paired.loc[negative, ['visitID']]\n",
    "    pos_ids = paired.loc[positive, ['visitID']]\n",
    "    return(ex_ids, neg_ids, pos_ids)"
   ]
  },
  {
   "cell_type": "code",
   "execution_count": 82,
   "metadata": {},
   "outputs": [],
   "source": [
    "paired = get_pairs(1, 2)\n",
    "ex_ids, neg_ids, pos_ids = call_outcome(paired)\n",
    "all_ex_ids = list(ex_ids['visitID'])\n",
    "all_neg_ids = list(neg_ids['visitID'])\n",
    "all_pos_ids = list(pos_ids['visitID'])"
   ]
  },
  {
   "cell_type": "code",
   "execution_count": 86,
   "metadata": {},
   "outputs": [
    {
     "name": "stdout",
     "output_type": "stream",
     "text": [
      "Total excluded visits = 1283\n",
      "Total negative visits = 198835\n",
      "Total positive visits = 115\n",
      "Total visits = 200233\n",
      "Total expected = 200859\n"
     ]
    }
   ],
   "source": [
    "verbose = False\n",
    "\n",
    "#gather visit 1 results\n",
    "paired = get_pairs(1, 2)\n",
    "ex_ids, neg_ids, pos_ids = call_outcome(paired)\n",
    "all_ex_ids = list(ex_ids['visitID'])\n",
    "all_neg_ids = list(neg_ids['visitID'])\n",
    "all_pos_ids = list(pos_ids['visitID'])\n",
    "\n",
    "#iterate through the rest\n",
    "for i in range(2, np.max(ep_dat['unitvisitnumber'])):\n",
    "    vi = i\n",
    "    ri = i+1\n",
    "    next_paired = get_pairs(vi, ri)\n",
    "    ex_ids, neg_ids, pos_ids = call_outcome(next_paired)\n",
    "    all_ex_ids.extend(list(ex_ids['visitID']))\n",
    "    all_neg_ids.extend(list(neg_ids['visitID']))\n",
    "    all_pos_ids.extend(list(pos_ids['visitID']))\n",
    "    if verbose:\n",
    "        print('----------')\n",
    "        print('visit number = {}'.format(i))\n",
    "        print('total cumulative positive outcomes = {}'.format(len(all_pos_ids)))\n",
    "print('Total excluded visits = {}'.format(len(all_ex_ids)))\n",
    "print('Total negative visits = {}'.format(len(all_neg_ids)))\n",
    "print('Total positive visits = {}'.format(len(all_pos_ids)))\n",
    "print('Total visits = {}'.format(np.sum([len(all_ex_ids), len(all_neg_ids), len(all_pos_ids)])))\n",
    "print('Total expected = {}'.format(len(ep_dat['patientunitstayid'].unique())))"
   ]
  },
  {
   "cell_type": "code",
   "execution_count": 91,
   "metadata": {},
   "outputs": [],
   "source": [
    "#build new dataframe to model\n",
    "mdat = dat.copy().loc[~dat['patientunitstayid'].isin(all_ex_ids),:]"
   ]
  },
  {
   "cell_type": "code",
   "execution_count": 115,
   "metadata": {},
   "outputs": [],
   "source": [
    "mdat\n",
    "conditions = [\n",
    "    (mdat['patientunitstayid'].isin(all_pos_ids)),\n",
    "    (mdat['patientunitstayid'].isin(all_neg_ids))]\n",
    "choices = [1,0]\n",
    "mdat['outcome'] = np.select(conditions, choices, default='null')\n",
    "mdat = mdat.loc[mdat['outcome']!='null',:]\n",
    "mdat['outcome'] = pd.to_numeric(mdat['outcome'])"
   ]
  },
  {
   "cell_type": "code",
   "execution_count": 116,
   "metadata": {},
   "outputs": [
    {
     "ename": "NameError",
     "evalue": "name 'cdat' is not defined",
     "output_type": "error",
     "traceback": [
      "\u001b[0;31m---------------------------------------------------------------------------\u001b[0m",
      "\u001b[0;31mNameError\u001b[0m                                 Traceback (most recent call last)",
      "\u001b[0;32m<ipython-input-116-27f60cd1d000>\u001b[0m in \u001b[0;36m<module>\u001b[0;34m\u001b[0m\n\u001b[1;32m      1\u001b[0m \u001b[0;31m#PREPARE DATA FOR MODELING\u001b[0m\u001b[0;34m\u001b[0m\u001b[0;34m\u001b[0m\u001b[0;34m\u001b[0m\u001b[0m\n\u001b[1;32m      2\u001b[0m \u001b[0;32mfrom\u001b[0m \u001b[0msklearn\u001b[0m\u001b[0;34m.\u001b[0m\u001b[0mmetrics\u001b[0m \u001b[0;32mimport\u001b[0m \u001b[0mprecision_recall_curve\u001b[0m\u001b[0;34m,\u001b[0m \u001b[0mroc_curve\u001b[0m\u001b[0;34m,\u001b[0m \u001b[0mroc_auc_score\u001b[0m\u001b[0;34m,\u001b[0m \u001b[0mconfusion_matrix\u001b[0m\u001b[0;34m,\u001b[0m \u001b[0maccuracy_score\u001b[0m\u001b[0;34m,\u001b[0m \u001b[0mprecision_score\u001b[0m\u001b[0;34m,\u001b[0m \u001b[0mrecall_score\u001b[0m\u001b[0;34m,\u001b[0m \u001b[0mf1_score\u001b[0m\u001b[0;34m,\u001b[0m \u001b[0mclassification_report\u001b[0m\u001b[0;34m\u001b[0m\u001b[0;34m\u001b[0m\u001b[0m\n\u001b[0;32m----> 3\u001b[0;31m \u001b[0my\u001b[0m \u001b[0;34m=\u001b[0m \u001b[0mcdat\u001b[0m\u001b[0;34m[\u001b[0m\u001b[0;34m'icd9Code_008.45'\u001b[0m\u001b[0;34m]\u001b[0m\u001b[0;34m\u001b[0m\u001b[0;34m\u001b[0m\u001b[0m\n\u001b[0m\u001b[1;32m      4\u001b[0m X = cdat.drop([\n\u001b[1;32m      5\u001b[0m     \u001b[0;34m'icd9Code_008.45'\u001b[0m\u001b[0;34m,\u001b[0m\u001b[0;34m\u001b[0m\u001b[0;34m\u001b[0m\u001b[0m\n",
      "\u001b[0;31mNameError\u001b[0m: name 'cdat' is not defined"
     ]
    }
   ],
   "source": [
    "#PREPARE DATA FOR MODELING\n",
    "from sklearn.metrics import precision_recall_curve, roc_curve, roc_auc_score, confusion_matrix, accuracy_score, precision_score, recall_score, f1_score, classification_report\n",
    "y = mdat['outcome']\n",
    "X = mdat.drop([\n",
    "    'icd9Code_008.45',\n",
    "    'patientunitstayid',\n",
    "    'patienthealthsystemstayid',\n",
    "    'outcome'], 1)\n",
    "print(X.dtypes)\n",
    "X.head()\n"
   ]
  },
  {
   "cell_type": "code",
   "execution_count": null,
   "metadata": {},
   "outputs": [],
   "source": []
  }
 ],
 "metadata": {
  "kernelspec": {
   "display_name": "Python 3",
   "language": "python",
   "name": "python3"
  },
  "language_info": {
   "codemirror_mode": {
    "name": "ipython",
    "version": 3
   },
   "file_extension": ".py",
   "mimetype": "text/x-python",
   "name": "python",
   "nbconvert_exporter": "python",
   "pygments_lexer": "ipython3",
   "version": "3.7.6"
  }
 },
 "nbformat": 4,
 "nbformat_minor": 4
}

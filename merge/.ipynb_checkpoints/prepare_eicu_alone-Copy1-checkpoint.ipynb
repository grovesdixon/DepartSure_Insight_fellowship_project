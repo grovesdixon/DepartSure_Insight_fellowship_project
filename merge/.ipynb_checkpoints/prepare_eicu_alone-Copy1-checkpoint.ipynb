{
 "cells": [
  {
   "cell_type": "markdown",
   "metadata": {},
   "source": [
    "# prepare_eicu_alone"
   ]
  },
  {
   "cell_type": "markdown",
   "metadata": {},
   "source": [
    "## configure"
   ]
  },
  {
   "cell_type": "code",
   "execution_count": 1,
   "metadata": {},
   "outputs": [
    {
     "name": "stdout",
     "output_type": "stream",
     "text": [
      "Database: eicu\n",
      "Username: postgres\n",
      "\n",
      "Configured for local EICU database.\n"
     ]
    }
   ],
   "source": [
    "#configure for local eicu databse\n",
    "exec(open(\"/Users/grovesdixon/gitreps/Insight_fellowship_project/merge/configure_eicu.py\").read())"
   ]
  },
  {
   "cell_type": "markdown",
   "metadata": {},
   "source": [
    "## load patient data"
   ]
  },
  {
   "cell_type": "code",
   "execution_count": 2,
   "metadata": {
    "scrolled": true
   },
   "outputs": [
    {
     "name": "stdout",
     "output_type": "stream",
     "text": [
      "set search_path to public,eicu_crd;\n",
      "select \n",
      "    patientunitstayid,\n",
      "    patienthealthsystemstayid,\n",
      "    gender,\n",
      "    age,\n",
      "    ethnicity,\n",
      "    hospitalid,\n",
      "    admissionweight,\n",
      "    unitDischargeOffset,\n",
      "    unitvisitnumber\n",
      "from patient\n",
      "\n"
     ]
    },
    {
     "data": {
      "text/html": [
       "<div>\n",
       "<style scoped>\n",
       "    .dataframe tbody tr th:only-of-type {\n",
       "        vertical-align: middle;\n",
       "    }\n",
       "\n",
       "    .dataframe tbody tr th {\n",
       "        vertical-align: top;\n",
       "    }\n",
       "\n",
       "    .dataframe thead th {\n",
       "        text-align: right;\n",
       "    }\n",
       "</style>\n",
       "<table border=\"1\" class=\"dataframe\">\n",
       "  <thead>\n",
       "    <tr style=\"text-align: right;\">\n",
       "      <th></th>\n",
       "      <th>patientunitstayid</th>\n",
       "      <th>patienthealthsystemstayid</th>\n",
       "      <th>gender</th>\n",
       "      <th>age</th>\n",
       "      <th>ethnicity</th>\n",
       "      <th>hospitalid</th>\n",
       "      <th>admissionweight</th>\n",
       "      <th>unitdischargeoffset</th>\n",
       "      <th>unitvisitnumber</th>\n",
       "    </tr>\n",
       "  </thead>\n",
       "  <tbody>\n",
       "    <tr>\n",
       "      <th>0</th>\n",
       "      <td>141168</td>\n",
       "      <td>128919</td>\n",
       "      <td>Female</td>\n",
       "      <td>70</td>\n",
       "      <td>Caucasian</td>\n",
       "      <td>59</td>\n",
       "      <td>84.3</td>\n",
       "      <td>3596</td>\n",
       "      <td>1</td>\n",
       "    </tr>\n",
       "    <tr>\n",
       "      <th>1</th>\n",
       "      <td>141178</td>\n",
       "      <td>128927</td>\n",
       "      <td>Female</td>\n",
       "      <td>52</td>\n",
       "      <td>Caucasian</td>\n",
       "      <td>60</td>\n",
       "      <td>54.4</td>\n",
       "      <td>8</td>\n",
       "      <td>1</td>\n",
       "    </tr>\n",
       "    <tr>\n",
       "      <th>2</th>\n",
       "      <td>141179</td>\n",
       "      <td>128927</td>\n",
       "      <td>Female</td>\n",
       "      <td>52</td>\n",
       "      <td>Caucasian</td>\n",
       "      <td>60</td>\n",
       "      <td>NaN</td>\n",
       "      <td>2042</td>\n",
       "      <td>2</td>\n",
       "    </tr>\n",
       "    <tr>\n",
       "      <th>3</th>\n",
       "      <td>141194</td>\n",
       "      <td>128941</td>\n",
       "      <td>Male</td>\n",
       "      <td>68</td>\n",
       "      <td>Caucasian</td>\n",
       "      <td>73</td>\n",
       "      <td>73.9</td>\n",
       "      <td>4813</td>\n",
       "      <td>1</td>\n",
       "    </tr>\n",
       "    <tr>\n",
       "      <th>4</th>\n",
       "      <td>141196</td>\n",
       "      <td>128943</td>\n",
       "      <td>Male</td>\n",
       "      <td>71</td>\n",
       "      <td>Caucasian</td>\n",
       "      <td>67</td>\n",
       "      <td>NaN</td>\n",
       "      <td>1463</td>\n",
       "      <td>2</td>\n",
       "    </tr>\n",
       "  </tbody>\n",
       "</table>\n",
       "</div>"
      ],
      "text/plain": [
       "   patientunitstayid  patienthealthsystemstayid  gender age  ethnicity  \\\n",
       "0             141168                     128919  Female  70  Caucasian   \n",
       "1             141178                     128927  Female  52  Caucasian   \n",
       "2             141179                     128927  Female  52  Caucasian   \n",
       "3             141194                     128941    Male  68  Caucasian   \n",
       "4             141196                     128943    Male  71  Caucasian   \n",
       "\n",
       "   hospitalid  admissionweight  unitdischargeoffset  unitvisitnumber  \n",
       "0          59             84.3                 3596                1  \n",
       "1          60             54.4                    8                1  \n",
       "2          60              NaN                 2042                2  \n",
       "3          73             73.9                 4813                1  \n",
       "4          67              NaN                 1463                2  "
      ]
     },
     "execution_count": 2,
     "metadata": {},
     "output_type": "execute_result"
    }
   ],
   "source": [
    "#load patient data\n",
    "#load patients data eicu\n",
    "query = query_schema + \"\"\"\n",
    "select \n",
    "    patientunitstayid,\n",
    "    patienthealthsystemstayid,\n",
    "    gender,\n",
    "    age,\n",
    "    ethnicity,\n",
    "    hospitalid,\n",
    "    admissionweight,\n",
    "    unitDischargeOffset,\n",
    "    unitvisitnumber\n",
    "from patient\n",
    "\"\"\"\n",
    "\n",
    "ep_dat = pd.read_sql_query(query, con)\n",
    "print(query)\n",
    "ep_dat.head()"
   ]
  },
  {
   "cell_type": "markdown",
   "metadata": {},
   "source": [
    "## load hospital data"
   ]
  },
  {
   "cell_type": "code",
   "execution_count": 3,
   "metadata": {
    "scrolled": false
   },
   "outputs": [
    {
     "name": "stdout",
     "output_type": "stream",
     "text": [
      "set search_path to public,eicu_crd;\n",
      "select \n",
      "    hospitalid,\n",
      "    numbedscategory,\n",
      "    region\n",
      "from hospital\n",
      "\n"
     ]
    },
    {
     "data": {
      "text/html": [
       "<div>\n",
       "<style scoped>\n",
       "    .dataframe tbody tr th:only-of-type {\n",
       "        vertical-align: middle;\n",
       "    }\n",
       "\n",
       "    .dataframe tbody tr th {\n",
       "        vertical-align: top;\n",
       "    }\n",
       "\n",
       "    .dataframe thead th {\n",
       "        text-align: right;\n",
       "    }\n",
       "</style>\n",
       "<table border=\"1\" class=\"dataframe\">\n",
       "  <thead>\n",
       "    <tr style=\"text-align: right;\">\n",
       "      <th></th>\n",
       "      <th>hospitalid</th>\n",
       "      <th>numbedscategory</th>\n",
       "      <th>region</th>\n",
       "    </tr>\n",
       "  </thead>\n",
       "  <tbody>\n",
       "    <tr>\n",
       "      <th>0</th>\n",
       "      <td>56</td>\n",
       "      <td>&lt;100</td>\n",
       "      <td>Midwest</td>\n",
       "    </tr>\n",
       "    <tr>\n",
       "      <th>1</th>\n",
       "      <td>58</td>\n",
       "      <td>100 - 249</td>\n",
       "      <td>Midwest</td>\n",
       "    </tr>\n",
       "    <tr>\n",
       "      <th>2</th>\n",
       "      <td>59</td>\n",
       "      <td>&lt;100</td>\n",
       "      <td>Midwest</td>\n",
       "    </tr>\n",
       "    <tr>\n",
       "      <th>3</th>\n",
       "      <td>60</td>\n",
       "      <td>&lt;100</td>\n",
       "      <td>Midwest</td>\n",
       "    </tr>\n",
       "    <tr>\n",
       "      <th>4</th>\n",
       "      <td>61</td>\n",
       "      <td>&lt;100</td>\n",
       "      <td>Midwest</td>\n",
       "    </tr>\n",
       "  </tbody>\n",
       "</table>\n",
       "</div>"
      ],
      "text/plain": [
       "   hospitalid numbedscategory   region\n",
       "0          56            <100  Midwest\n",
       "1          58       100 - 249  Midwest\n",
       "2          59            <100  Midwest\n",
       "3          60            <100  Midwest\n",
       "4          61            <100  Midwest"
      ]
     },
     "execution_count": 3,
     "metadata": {},
     "output_type": "execute_result"
    }
   ],
   "source": [
    "#load hospital data eicu\n",
    "query = query_schema + \"\"\"\n",
    "select \n",
    "    hospitalid,\n",
    "    numbedscategory,\n",
    "    region\n",
    "from hospital\n",
    "\"\"\"\n",
    "\n",
    "eh_dat = pd.read_sql_query(query, con)\n",
    "print(query)\n",
    "eh_dat.head()"
   ]
  },
  {
   "cell_type": "markdown",
   "metadata": {},
   "source": [
    "## assemble patient dataframe"
   ]
  },
  {
   "cell_type": "code",
   "execution_count": 4,
   "metadata": {},
   "outputs": [
    {
     "name": "stdout",
     "output_type": "stream",
     "text": [
      "18.0\n"
     ]
    },
    {
     "data": {
      "text/html": [
       "<div>\n",
       "<style scoped>\n",
       "    .dataframe tbody tr th:only-of-type {\n",
       "        vertical-align: middle;\n",
       "    }\n",
       "\n",
       "    .dataframe tbody tr th {\n",
       "        vertical-align: top;\n",
       "    }\n",
       "\n",
       "    .dataframe thead th {\n",
       "        text-align: right;\n",
       "    }\n",
       "</style>\n",
       "<table border=\"1\" class=\"dataframe\">\n",
       "  <thead>\n",
       "    <tr style=\"text-align: right;\">\n",
       "      <th></th>\n",
       "      <th>patientunitstayid</th>\n",
       "      <th>patienthealthsystemstayid</th>\n",
       "      <th>gender</th>\n",
       "      <th>age</th>\n",
       "      <th>ethnicity</th>\n",
       "      <th>hospitalid</th>\n",
       "      <th>admissionweight</th>\n",
       "      <th>unitdischargeoffset</th>\n",
       "      <th>unitvisitnumber</th>\n",
       "      <th>numbedscategory</th>\n",
       "      <th>region</th>\n",
       "    </tr>\n",
       "  </thead>\n",
       "  <tbody>\n",
       "    <tr>\n",
       "      <th>0</th>\n",
       "      <td>141168</td>\n",
       "      <td>128919</td>\n",
       "      <td>Female</td>\n",
       "      <td>70.0</td>\n",
       "      <td>Caucasian</td>\n",
       "      <td>hospital_59</td>\n",
       "      <td>84.30000</td>\n",
       "      <td>3596</td>\n",
       "      <td>1</td>\n",
       "      <td>&lt;100</td>\n",
       "      <td>Midwest</td>\n",
       "    </tr>\n",
       "    <tr>\n",
       "      <th>1</th>\n",
       "      <td>141263</td>\n",
       "      <td>128998</td>\n",
       "      <td>Male</td>\n",
       "      <td>19.0</td>\n",
       "      <td>Caucasian</td>\n",
       "      <td>hospital_59</td>\n",
       "      <td>83.93392</td>\n",
       "      <td>475</td>\n",
       "      <td>2</td>\n",
       "      <td>&lt;100</td>\n",
       "      <td>Midwest</td>\n",
       "    </tr>\n",
       "    <tr>\n",
       "      <th>2</th>\n",
       "      <td>141264</td>\n",
       "      <td>128998</td>\n",
       "      <td>Male</td>\n",
       "      <td>19.0</td>\n",
       "      <td>Caucasian</td>\n",
       "      <td>hospital_59</td>\n",
       "      <td>83.93392</td>\n",
       "      <td>292</td>\n",
       "      <td>1</td>\n",
       "      <td>&lt;100</td>\n",
       "      <td>Midwest</td>\n",
       "    </tr>\n",
       "    <tr>\n",
       "      <th>3</th>\n",
       "      <td>141304</td>\n",
       "      <td>129031</td>\n",
       "      <td>Male</td>\n",
       "      <td>70.0</td>\n",
       "      <td>Caucasian</td>\n",
       "      <td>hospital_59</td>\n",
       "      <td>83.93392</td>\n",
       "      <td>6639</td>\n",
       "      <td>1</td>\n",
       "      <td>&lt;100</td>\n",
       "      <td>Midwest</td>\n",
       "    </tr>\n",
       "    <tr>\n",
       "      <th>4</th>\n",
       "      <td>141432</td>\n",
       "      <td>129140</td>\n",
       "      <td>Male</td>\n",
       "      <td>75.0</td>\n",
       "      <td>Caucasian</td>\n",
       "      <td>hospital_59</td>\n",
       "      <td>131.50000</td>\n",
       "      <td>1145</td>\n",
       "      <td>1</td>\n",
       "      <td>&lt;100</td>\n",
       "      <td>Midwest</td>\n",
       "    </tr>\n",
       "  </tbody>\n",
       "</table>\n",
       "</div>"
      ],
      "text/plain": [
       "   patientunitstayid  patienthealthsystemstayid  gender   age  ethnicity  \\\n",
       "0             141168                     128919  Female  70.0  Caucasian   \n",
       "1             141263                     128998    Male  19.0  Caucasian   \n",
       "2             141264                     128998    Male  19.0  Caucasian   \n",
       "3             141304                     129031    Male  70.0  Caucasian   \n",
       "4             141432                     129140    Male  75.0  Caucasian   \n",
       "\n",
       "    hospitalid  admissionweight  unitdischargeoffset  unitvisitnumber  \\\n",
       "0  hospital_59         84.30000                 3596                1   \n",
       "1  hospital_59         83.93392                  475                2   \n",
       "2  hospital_59         83.93392                  292                1   \n",
       "3  hospital_59         83.93392                 6639                1   \n",
       "4  hospital_59        131.50000                 1145                1   \n",
       "\n",
       "  numbedscategory   region  \n",
       "0            <100  Midwest  \n",
       "1            <100  Midwest  \n",
       "2            <100  Midwest  \n",
       "3            <100  Midwest  \n",
       "4            <100  Midwest  "
      ]
     },
     "execution_count": 4,
     "metadata": {},
     "output_type": "execute_result"
    }
   ],
   "source": [
    "#build the patient dataframe\n",
    "pdat = pd.merge(ep_dat, eh_dat, how='inner', on = ['hospitalid']) #pateints and hospitals\n",
    "pdat.loc[pdat['gender']=='', 'gender'] = 'Unknown'\n",
    "pdat.loc[pdat['gender']=='Other', 'gender'] = 'Unknown'\n",
    "pdat.loc[pdat['admissionweight'].isna(), 'admissionweight'] = np.mean(pdat['admissionweight'])\n",
    "pdat.loc[pdat['age']=='> 89', 'age'] = 91\n",
    "pdat['age'] = pd.to_numeric(pdat['age'])\n",
    "pdat['hospitalid'] = 'hospital_' + pdat['hospitalid'].astype('str')\n",
    "pdat = pdat.loc[(pdat['age'].notna()) & (pdat['age']>=18), ] #just remove those with missing age and too young\n",
    "print(np.min(pdat['age']))\n",
    "pdat.head()"
   ]
  },
  {
   "cell_type": "markdown",
   "metadata": {},
   "source": [
    "## load medications data"
   ]
  },
  {
   "cell_type": "code",
   "execution_count": 5,
   "metadata": {
    "scrolled": false
   },
   "outputs": [
    {
     "name": "stdout",
     "output_type": "stream",
     "text": [
      "patients query:\n",
      "set search_path to public,eicu_crd;\n",
      "SELECT \n",
      "    drugname,\n",
      "    patientunitstayid,\n",
      "    drugordercancelled\n",
      "from medication\n",
      "WHERE\n",
      "    drugordercancelled = 'No'\n",
      "\n",
      "1412\n"
     ]
    },
    {
     "data": {
      "text/html": [
       "<div>\n",
       "<style scoped>\n",
       "    .dataframe tbody tr th:only-of-type {\n",
       "        vertical-align: middle;\n",
       "    }\n",
       "\n",
       "    .dataframe tbody tr th {\n",
       "        vertical-align: top;\n",
       "    }\n",
       "\n",
       "    .dataframe thead th {\n",
       "        text-align: right;\n",
       "    }\n",
       "</style>\n",
       "<table border=\"1\" class=\"dataframe\">\n",
       "  <thead>\n",
       "    <tr style=\"text-align: right;\">\n",
       "      <th></th>\n",
       "      <th>drugname</th>\n",
       "      <th>patientunitstayid</th>\n",
       "    </tr>\n",
       "  </thead>\n",
       "  <tbody>\n",
       "    <tr>\n",
       "      <th>0</th>\n",
       "      <td>METOPROLOL TARTRATE 25 MG PO TABS</td>\n",
       "      <td>141168</td>\n",
       "    </tr>\n",
       "    <tr>\n",
       "      <th>1</th>\n",
       "      <td>3 ML  -  IPRATROPIUM-ALBUTEROL 0.5-2.5 (3) MG/...</td>\n",
       "      <td>141168</td>\n",
       "    </tr>\n",
       "    <tr>\n",
       "      <th>2</th>\n",
       "      <td>ASPIRIN EC 81 MG PO TBEC</td>\n",
       "      <td>141168</td>\n",
       "    </tr>\n",
       "    <tr>\n",
       "      <th>3</th>\n",
       "      <td>3 ML  -  IPRATROPIUM-ALBUTEROL 0.5-2.5 (3) MG/...</td>\n",
       "      <td>141168</td>\n",
       "    </tr>\n",
       "    <tr>\n",
       "      <th>4</th>\n",
       "      <td>ENOXAPARIN SODIUM 40 MG/0.4ML SC SOLN</td>\n",
       "      <td>141168</td>\n",
       "    </tr>\n",
       "  </tbody>\n",
       "</table>\n",
       "</div>"
      ],
      "text/plain": [
       "                                            drugname  patientunitstayid\n",
       "0                  METOPROLOL TARTRATE 25 MG PO TABS             141168\n",
       "1  3 ML  -  IPRATROPIUM-ALBUTEROL 0.5-2.5 (3) MG/...             141168\n",
       "2                           ASPIRIN EC 81 MG PO TBEC             141168\n",
       "3  3 ML  -  IPRATROPIUM-ALBUTEROL 0.5-2.5 (3) MG/...             141168\n",
       "4              ENOXAPARIN SODIUM 40 MG/0.4ML SC SOLN             141168"
      ]
     },
     "execution_count": 5,
     "metadata": {},
     "output_type": "execute_result"
    }
   ],
   "source": [
    "#load medications\n",
    "query = query_schema + \"\"\"\n",
    "SELECT \n",
    "    drugname,\n",
    "    patientunitstayid,\n",
    "    drugordercancelled\n",
    "from medication\n",
    "WHERE\n",
    "    drugordercancelled = 'No'\n",
    "\"\"\"\n",
    "print('patients query:')\n",
    "print(query)\n",
    "em_dat = pd.read_sql_query(query,con)\n",
    "em_dat = em_dat.drop(['drugordercancelled'], 1)\n",
    "print(len(em_dat['drugname'].unique()))\n",
    "em_dat.head()"
   ]
  },
  {
   "cell_type": "code",
   "execution_count": 6,
   "metadata": {},
   "outputs": [],
   "source": [
    "#function to build boolean column for a column of hospital events\n",
    "def build_presence_absence_cols(stay_ids, long_df, long_col):\n",
    "    df = pd.DataFrame(stay_ids)\n",
    "    levels = long_df[long_col].unique()\n",
    "    print('making columns for {} levels'.format(len(levels)))\n",
    "    counter = 0\n",
    "    for l in levels:\n",
    "        counter += 1\n",
    "        if counter % 100 == 0:\n",
    "            print('level {} of {}'.format(counter, len(levels)))\n",
    "        new_col = '{}_{}'.format(long_col, l)\n",
    "        l_ids = long_df.loc[long_df[long_col]==l, 'patientunitstayid']\n",
    "        df[new_col] = df['patientunitstayid'].isin(l_ids).astype(int)\n",
    "    return df"
   ]
  },
  {
   "cell_type": "code",
   "execution_count": 7,
   "metadata": {},
   "outputs": [
    {
     "name": "stdout",
     "output_type": "stream",
     "text": [
      "making columns for 1412 levels\n",
      "level 100 of 1412\n",
      "level 200 of 1412\n",
      "level 300 of 1412\n",
      "level 400 of 1412\n",
      "level 500 of 1412\n",
      "level 600 of 1412\n",
      "level 700 of 1412\n",
      "level 800 of 1412\n",
      "level 900 of 1412\n",
      "level 1000 of 1412\n"
     ]
    },
    {
     "ename": "KeyboardInterrupt",
     "evalue": "",
     "output_type": "error",
     "traceback": [
      "\u001b[0;31m---------------------------------------------------------------------------\u001b[0m",
      "\u001b[0;31mKeyboardInterrupt\u001b[0m                         Traceback (most recent call last)",
      "\u001b[0;32m<ipython-input-7-64de82e9df7c>\u001b[0m in \u001b[0;36m<module>\u001b[0;34m\u001b[0m\n\u001b[1;32m      1\u001b[0m \u001b[0;31m#build boolean columns for diagnoses and add to pdat\u001b[0m\u001b[0;34m\u001b[0m\u001b[0;34m\u001b[0m\u001b[0;34m\u001b[0m\u001b[0m\n\u001b[1;32m      2\u001b[0m \u001b[0mstay_ids\u001b[0m \u001b[0;34m=\u001b[0m \u001b[0mpdat\u001b[0m\u001b[0;34m[\u001b[0m\u001b[0;34m'patientunitstayid'\u001b[0m\u001b[0;34m]\u001b[0m\u001b[0;34m\u001b[0m\u001b[0;34m\u001b[0m\u001b[0m\n\u001b[0;32m----> 3\u001b[0;31m \u001b[0mem_cols\u001b[0m \u001b[0;34m=\u001b[0m \u001b[0mbuild_presence_absence_cols\u001b[0m\u001b[0;34m(\u001b[0m\u001b[0mstay_ids\u001b[0m\u001b[0;34m,\u001b[0m \u001b[0mem_dat\u001b[0m\u001b[0;34m,\u001b[0m \u001b[0;34m'drugname'\u001b[0m\u001b[0;34m)\u001b[0m\u001b[0;34m\u001b[0m\u001b[0;34m\u001b[0m\u001b[0m\n\u001b[0m\u001b[1;32m      4\u001b[0m \u001b[0mprint\u001b[0m\u001b[0;34m(\u001b[0m\u001b[0mem_cols\u001b[0m\u001b[0;34m.\u001b[0m\u001b[0mshape\u001b[0m\u001b[0;34m)\u001b[0m\u001b[0;34m\u001b[0m\u001b[0;34m\u001b[0m\u001b[0m\n\u001b[1;32m      5\u001b[0m \u001b[0mem_cols\u001b[0m\u001b[0;34m.\u001b[0m\u001b[0mhead\u001b[0m\u001b[0;34m(\u001b[0m\u001b[0;34m)\u001b[0m\u001b[0;34m\u001b[0m\u001b[0;34m\u001b[0m\u001b[0m\n",
      "\u001b[0;32m<ipython-input-6-b091ba60618c>\u001b[0m in \u001b[0;36mbuild_presence_absence_cols\u001b[0;34m(stay_ids, long_df, long_col)\u001b[0m\n\u001b[1;32m     10\u001b[0m             \u001b[0mprint\u001b[0m\u001b[0;34m(\u001b[0m\u001b[0;34m'level {} of {}'\u001b[0m\u001b[0;34m.\u001b[0m\u001b[0mformat\u001b[0m\u001b[0;34m(\u001b[0m\u001b[0mcounter\u001b[0m\u001b[0;34m,\u001b[0m \u001b[0mlen\u001b[0m\u001b[0;34m(\u001b[0m\u001b[0mlevels\u001b[0m\u001b[0;34m)\u001b[0m\u001b[0;34m)\u001b[0m\u001b[0;34m)\u001b[0m\u001b[0;34m\u001b[0m\u001b[0;34m\u001b[0m\u001b[0m\n\u001b[1;32m     11\u001b[0m         \u001b[0mnew_col\u001b[0m \u001b[0;34m=\u001b[0m \u001b[0;34m'{}_{}'\u001b[0m\u001b[0;34m.\u001b[0m\u001b[0mformat\u001b[0m\u001b[0;34m(\u001b[0m\u001b[0mlong_col\u001b[0m\u001b[0;34m,\u001b[0m \u001b[0ml\u001b[0m\u001b[0;34m)\u001b[0m\u001b[0;34m\u001b[0m\u001b[0;34m\u001b[0m\u001b[0m\n\u001b[0;32m---> 12\u001b[0;31m         \u001b[0ml_ids\u001b[0m \u001b[0;34m=\u001b[0m \u001b[0mlong_df\u001b[0m\u001b[0;34m.\u001b[0m\u001b[0mloc\u001b[0m\u001b[0;34m[\u001b[0m\u001b[0mlong_df\u001b[0m\u001b[0;34m[\u001b[0m\u001b[0mlong_col\u001b[0m\u001b[0;34m]\u001b[0m\u001b[0;34m==\u001b[0m\u001b[0ml\u001b[0m\u001b[0;34m,\u001b[0m \u001b[0;34m'patientunitstayid'\u001b[0m\u001b[0;34m]\u001b[0m\u001b[0;34m\u001b[0m\u001b[0;34m\u001b[0m\u001b[0m\n\u001b[0m\u001b[1;32m     13\u001b[0m         \u001b[0mdf\u001b[0m\u001b[0;34m[\u001b[0m\u001b[0mnew_col\u001b[0m\u001b[0;34m]\u001b[0m \u001b[0;34m=\u001b[0m \u001b[0mdf\u001b[0m\u001b[0;34m[\u001b[0m\u001b[0;34m'patientunitstayid'\u001b[0m\u001b[0;34m]\u001b[0m\u001b[0;34m.\u001b[0m\u001b[0misin\u001b[0m\u001b[0;34m(\u001b[0m\u001b[0ml_ids\u001b[0m\u001b[0;34m)\u001b[0m\u001b[0;34m.\u001b[0m\u001b[0mastype\u001b[0m\u001b[0;34m(\u001b[0m\u001b[0mint\u001b[0m\u001b[0;34m)\u001b[0m\u001b[0;34m\u001b[0m\u001b[0;34m\u001b[0m\u001b[0m\n\u001b[1;32m     14\u001b[0m     \u001b[0;32mreturn\u001b[0m \u001b[0mdf\u001b[0m\u001b[0;34m\u001b[0m\u001b[0;34m\u001b[0m\u001b[0m\n",
      "\u001b[0;32m/opt/anaconda3/lib/python3.7/site-packages/pandas/core/ops/common.py\u001b[0m in \u001b[0;36mnew_method\u001b[0;34m(self, other)\u001b[0m\n\u001b[1;32m     62\u001b[0m         \u001b[0mother\u001b[0m \u001b[0;34m=\u001b[0m \u001b[0mitem_from_zerodim\u001b[0m\u001b[0;34m(\u001b[0m\u001b[0mother\u001b[0m\u001b[0;34m)\u001b[0m\u001b[0;34m\u001b[0m\u001b[0;34m\u001b[0m\u001b[0m\n\u001b[1;32m     63\u001b[0m \u001b[0;34m\u001b[0m\u001b[0m\n\u001b[0;32m---> 64\u001b[0;31m         \u001b[0;32mreturn\u001b[0m \u001b[0mmethod\u001b[0m\u001b[0;34m(\u001b[0m\u001b[0mself\u001b[0m\u001b[0;34m,\u001b[0m \u001b[0mother\u001b[0m\u001b[0;34m)\u001b[0m\u001b[0;34m\u001b[0m\u001b[0;34m\u001b[0m\u001b[0m\n\u001b[0m\u001b[1;32m     65\u001b[0m \u001b[0;34m\u001b[0m\u001b[0m\n\u001b[1;32m     66\u001b[0m     \u001b[0;32mreturn\u001b[0m \u001b[0mnew_method\u001b[0m\u001b[0;34m\u001b[0m\u001b[0;34m\u001b[0m\u001b[0m\n",
      "\u001b[0;32m/opt/anaconda3/lib/python3.7/site-packages/pandas/core/ops/__init__.py\u001b[0m in \u001b[0;36mwrapper\u001b[0;34m(self, other)\u001b[0m\n\u001b[1;32m    527\u001b[0m         \u001b[0mrvalues\u001b[0m \u001b[0;34m=\u001b[0m \u001b[0mextract_array\u001b[0m\u001b[0;34m(\u001b[0m\u001b[0mother\u001b[0m\u001b[0;34m,\u001b[0m \u001b[0mextract_numpy\u001b[0m\u001b[0;34m=\u001b[0m\u001b[0;32mTrue\u001b[0m\u001b[0;34m)\u001b[0m\u001b[0;34m\u001b[0m\u001b[0;34m\u001b[0m\u001b[0m\n\u001b[1;32m    528\u001b[0m \u001b[0;34m\u001b[0m\u001b[0m\n\u001b[0;32m--> 529\u001b[0;31m         \u001b[0mres_values\u001b[0m \u001b[0;34m=\u001b[0m \u001b[0mcomparison_op\u001b[0m\u001b[0;34m(\u001b[0m\u001b[0mlvalues\u001b[0m\u001b[0;34m,\u001b[0m \u001b[0mrvalues\u001b[0m\u001b[0;34m,\u001b[0m \u001b[0mop\u001b[0m\u001b[0;34m)\u001b[0m\u001b[0;34m\u001b[0m\u001b[0;34m\u001b[0m\u001b[0m\n\u001b[0m\u001b[1;32m    530\u001b[0m \u001b[0;34m\u001b[0m\u001b[0m\n\u001b[1;32m    531\u001b[0m         \u001b[0;32mreturn\u001b[0m \u001b[0m_construct_result\u001b[0m\u001b[0;34m(\u001b[0m\u001b[0mself\u001b[0m\u001b[0;34m,\u001b[0m \u001b[0mres_values\u001b[0m\u001b[0;34m,\u001b[0m \u001b[0mindex\u001b[0m\u001b[0;34m=\u001b[0m\u001b[0mself\u001b[0m\u001b[0;34m.\u001b[0m\u001b[0mindex\u001b[0m\u001b[0;34m,\u001b[0m \u001b[0mname\u001b[0m\u001b[0;34m=\u001b[0m\u001b[0mres_name\u001b[0m\u001b[0;34m)\u001b[0m\u001b[0;34m\u001b[0m\u001b[0;34m\u001b[0m\u001b[0m\n",
      "\u001b[0;32m/opt/anaconda3/lib/python3.7/site-packages/pandas/core/ops/array_ops.py\u001b[0m in \u001b[0;36mcomparison_op\u001b[0;34m(left, right, op)\u001b[0m\n\u001b[1;32m    245\u001b[0m \u001b[0;34m\u001b[0m\u001b[0m\n\u001b[1;32m    246\u001b[0m     \u001b[0;32melif\u001b[0m \u001b[0mis_object_dtype\u001b[0m\u001b[0;34m(\u001b[0m\u001b[0mlvalues\u001b[0m\u001b[0;34m.\u001b[0m\u001b[0mdtype\u001b[0m\u001b[0;34m)\u001b[0m\u001b[0;34m:\u001b[0m\u001b[0;34m\u001b[0m\u001b[0;34m\u001b[0m\u001b[0m\n\u001b[0;32m--> 247\u001b[0;31m         \u001b[0mres_values\u001b[0m \u001b[0;34m=\u001b[0m \u001b[0mcomp_method_OBJECT_ARRAY\u001b[0m\u001b[0;34m(\u001b[0m\u001b[0mop\u001b[0m\u001b[0;34m,\u001b[0m \u001b[0mlvalues\u001b[0m\u001b[0;34m,\u001b[0m \u001b[0mrvalues\u001b[0m\u001b[0;34m)\u001b[0m\u001b[0;34m\u001b[0m\u001b[0;34m\u001b[0m\u001b[0m\n\u001b[0m\u001b[1;32m    248\u001b[0m \u001b[0;34m\u001b[0m\u001b[0m\n\u001b[1;32m    249\u001b[0m     \u001b[0;32melse\u001b[0m\u001b[0;34m:\u001b[0m\u001b[0;34m\u001b[0m\u001b[0;34m\u001b[0m\u001b[0m\n",
      "\u001b[0;32m/opt/anaconda3/lib/python3.7/site-packages/pandas/core/ops/array_ops.py\u001b[0m in \u001b[0;36mcomp_method_OBJECT_ARRAY\u001b[0;34m(op, x, y)\u001b[0m\n\u001b[1;32m     55\u001b[0m         \u001b[0mresult\u001b[0m \u001b[0;34m=\u001b[0m \u001b[0mlibops\u001b[0m\u001b[0;34m.\u001b[0m\u001b[0mvec_compare\u001b[0m\u001b[0;34m(\u001b[0m\u001b[0mx\u001b[0m\u001b[0;34m.\u001b[0m\u001b[0mravel\u001b[0m\u001b[0;34m(\u001b[0m\u001b[0;34m)\u001b[0m\u001b[0;34m,\u001b[0m \u001b[0my\u001b[0m\u001b[0;34m,\u001b[0m \u001b[0mop\u001b[0m\u001b[0;34m)\u001b[0m\u001b[0;34m\u001b[0m\u001b[0;34m\u001b[0m\u001b[0m\n\u001b[1;32m     56\u001b[0m     \u001b[0;32melse\u001b[0m\u001b[0;34m:\u001b[0m\u001b[0;34m\u001b[0m\u001b[0;34m\u001b[0m\u001b[0m\n\u001b[0;32m---> 57\u001b[0;31m         \u001b[0mresult\u001b[0m \u001b[0;34m=\u001b[0m \u001b[0mlibops\u001b[0m\u001b[0;34m.\u001b[0m\u001b[0mscalar_compare\u001b[0m\u001b[0;34m(\u001b[0m\u001b[0mx\u001b[0m\u001b[0;34m.\u001b[0m\u001b[0mravel\u001b[0m\u001b[0;34m(\u001b[0m\u001b[0;34m)\u001b[0m\u001b[0;34m,\u001b[0m \u001b[0my\u001b[0m\u001b[0;34m,\u001b[0m \u001b[0mop\u001b[0m\u001b[0;34m)\u001b[0m\u001b[0;34m\u001b[0m\u001b[0;34m\u001b[0m\u001b[0m\n\u001b[0m\u001b[1;32m     58\u001b[0m     \u001b[0;32mreturn\u001b[0m \u001b[0mresult\u001b[0m\u001b[0;34m.\u001b[0m\u001b[0mreshape\u001b[0m\u001b[0;34m(\u001b[0m\u001b[0mx\u001b[0m\u001b[0;34m.\u001b[0m\u001b[0mshape\u001b[0m\u001b[0;34m)\u001b[0m\u001b[0;34m\u001b[0m\u001b[0;34m\u001b[0m\u001b[0m\n\u001b[1;32m     59\u001b[0m \u001b[0;34m\u001b[0m\u001b[0m\n",
      "\u001b[0;31mKeyboardInterrupt\u001b[0m: "
     ]
    }
   ],
   "source": [
    "#build boolean columns for diagnoses and add to pdat\n",
    "stay_ids = pdat['patientunitstayid']\n",
    "em_cols = build_presence_absence_cols(stay_ids, em_dat, 'drugname')\n",
    "print(em_cols.shape)\n",
    "em_cols.head()"
   ]
  },
  {
   "cell_type": "markdown",
   "metadata": {},
   "source": [
    "## load diagnosis data"
   ]
  },
  {
   "cell_type": "code",
   "execution_count": null,
   "metadata": {
    "scrolled": false
   },
   "outputs": [],
   "source": [
    "# load diagnosis from eicu\n",
    "query = query_schema + \"\"\"\n",
    "SELECT \n",
    "    patientunitstayid,\n",
    "    diagnosisstring,\n",
    "    icd9code\n",
    "from diagnosis\n",
    "\"\"\"\n",
    "print('patients query:')\n",
    "print(query)\n",
    "ed_dat = pd.read_sql_query(query,con)\n",
    "ed_dat[['icd9Code','extra']] = ed_dat['icd9code'].str.split(pat=',', expand=True, n=1)\n",
    "ed_dat = ed_dat.drop(['icd9code', 'extra'], 1)\n",
    "ed_dat.loc[ed_dat['diagnosisstring'].str.contains('diffici'), 'icd9Code'] = '008.45' #replace some missing codes\n",
    "ed_dat.head()"
   ]
  },
  {
   "cell_type": "code",
   "execution_count": null,
   "metadata": {},
   "outputs": [],
   "source": [
    "np.sum(ed_dat['icd9Code']=='008.45')"
   ]
  },
  {
   "cell_type": "code",
   "execution_count": null,
   "metadata": {
    "scrolled": true
   },
   "outputs": [],
   "source": [
    "#build boolean columns for diagnoses and add to pdat\n",
    "stay_ids = pdat['patientunitstayid']\n",
    "ed_cols = build_presence_absence_cols(stay_ids, ed_dat, 'icd9Code')\n",
    "print(ed_cols.shape)\n",
    "ed_cols.head()"
   ]
  },
  {
   "cell_type": "markdown",
   "metadata": {},
   "source": [
    "## combine results"
   ]
  },
  {
   "cell_type": "code",
   "execution_count": null,
   "metadata": {
    "scrolled": true
   },
   "outputs": [],
   "source": [
    "#onehot encode the pdat columns\n",
    "to_onehot = [\n",
    "    'gender',\n",
    "    'ethnicity',\n",
    "    'hospitalid',\n",
    "    'numbedscategory',\n",
    "    'region'\n",
    "]\n",
    "ep_cols = pd.get_dummies(pdat, columns = to_onehot, drop_first = True)\n",
    "ep_cols.head()"
   ]
  },
  {
   "cell_type": "code",
   "execution_count": 21,
   "metadata": {
    "scrolled": true
   },
   "outputs": [
    {
     "name": "stdout",
     "output_type": "stream",
     "text": [
      "(200234, 2558)\n"
     ]
    },
    {
     "data": {
      "text/html": [
       "<div>\n",
       "<style scoped>\n",
       "    .dataframe tbody tr th:only-of-type {\n",
       "        vertical-align: middle;\n",
       "    }\n",
       "\n",
       "    .dataframe tbody tr th {\n",
       "        vertical-align: top;\n",
       "    }\n",
       "\n",
       "    .dataframe thead th {\n",
       "        text-align: right;\n",
       "    }\n",
       "</style>\n",
       "<table border=\"1\" class=\"dataframe\">\n",
       "  <thead>\n",
       "    <tr style=\"text-align: right;\">\n",
       "      <th></th>\n",
       "      <th>patientunitstayid</th>\n",
       "      <th>patienthealthsystemstayid</th>\n",
       "      <th>age</th>\n",
       "      <th>admissionweight</th>\n",
       "      <th>gender_Male</th>\n",
       "      <th>gender_Unknown</th>\n",
       "      <th>ethnicity_African American</th>\n",
       "      <th>ethnicity_Asian</th>\n",
       "      <th>ethnicity_Caucasian</th>\n",
       "      <th>ethnicity_Hispanic</th>\n",
       "      <th>...</th>\n",
       "      <th>icd9Code_801.50</th>\n",
       "      <th>icd9Code_130.0</th>\n",
       "      <th>icd9Code_483.1</th>\n",
       "      <th>icd9Code_G95.9</th>\n",
       "      <th>icd9Code_041.09</th>\n",
       "      <th>icd9Code_810.10</th>\n",
       "      <th>icd9Code_835.10</th>\n",
       "      <th>icd9Code_041.19</th>\n",
       "      <th>icd9Code_811.10</th>\n",
       "      <th>icd9Code_320.3</th>\n",
       "    </tr>\n",
       "  </thead>\n",
       "  <tbody>\n",
       "    <tr>\n",
       "      <th>0</th>\n",
       "      <td>141168</td>\n",
       "      <td>128919</td>\n",
       "      <td>70.0</td>\n",
       "      <td>84.30000</td>\n",
       "      <td>0</td>\n",
       "      <td>0</td>\n",
       "      <td>0</td>\n",
       "      <td>0</td>\n",
       "      <td>1</td>\n",
       "      <td>0</td>\n",
       "      <td>...</td>\n",
       "      <td>0</td>\n",
       "      <td>0</td>\n",
       "      <td>0</td>\n",
       "      <td>0</td>\n",
       "      <td>0</td>\n",
       "      <td>0</td>\n",
       "      <td>0</td>\n",
       "      <td>0</td>\n",
       "      <td>0</td>\n",
       "      <td>0</td>\n",
       "    </tr>\n",
       "    <tr>\n",
       "      <th>1</th>\n",
       "      <td>141263</td>\n",
       "      <td>128998</td>\n",
       "      <td>19.0</td>\n",
       "      <td>83.93392</td>\n",
       "      <td>1</td>\n",
       "      <td>0</td>\n",
       "      <td>0</td>\n",
       "      <td>0</td>\n",
       "      <td>1</td>\n",
       "      <td>0</td>\n",
       "      <td>...</td>\n",
       "      <td>0</td>\n",
       "      <td>0</td>\n",
       "      <td>0</td>\n",
       "      <td>0</td>\n",
       "      <td>0</td>\n",
       "      <td>0</td>\n",
       "      <td>0</td>\n",
       "      <td>0</td>\n",
       "      <td>0</td>\n",
       "      <td>0</td>\n",
       "    </tr>\n",
       "    <tr>\n",
       "      <th>2</th>\n",
       "      <td>141264</td>\n",
       "      <td>128998</td>\n",
       "      <td>19.0</td>\n",
       "      <td>83.93392</td>\n",
       "      <td>1</td>\n",
       "      <td>0</td>\n",
       "      <td>0</td>\n",
       "      <td>0</td>\n",
       "      <td>1</td>\n",
       "      <td>0</td>\n",
       "      <td>...</td>\n",
       "      <td>0</td>\n",
       "      <td>0</td>\n",
       "      <td>0</td>\n",
       "      <td>0</td>\n",
       "      <td>0</td>\n",
       "      <td>0</td>\n",
       "      <td>0</td>\n",
       "      <td>0</td>\n",
       "      <td>0</td>\n",
       "      <td>0</td>\n",
       "    </tr>\n",
       "    <tr>\n",
       "      <th>3</th>\n",
       "      <td>141304</td>\n",
       "      <td>129031</td>\n",
       "      <td>70.0</td>\n",
       "      <td>83.93392</td>\n",
       "      <td>1</td>\n",
       "      <td>0</td>\n",
       "      <td>0</td>\n",
       "      <td>0</td>\n",
       "      <td>1</td>\n",
       "      <td>0</td>\n",
       "      <td>...</td>\n",
       "      <td>0</td>\n",
       "      <td>0</td>\n",
       "      <td>0</td>\n",
       "      <td>0</td>\n",
       "      <td>0</td>\n",
       "      <td>0</td>\n",
       "      <td>0</td>\n",
       "      <td>0</td>\n",
       "      <td>0</td>\n",
       "      <td>0</td>\n",
       "    </tr>\n",
       "    <tr>\n",
       "      <th>4</th>\n",
       "      <td>141432</td>\n",
       "      <td>129140</td>\n",
       "      <td>75.0</td>\n",
       "      <td>131.50000</td>\n",
       "      <td>1</td>\n",
       "      <td>0</td>\n",
       "      <td>0</td>\n",
       "      <td>0</td>\n",
       "      <td>1</td>\n",
       "      <td>0</td>\n",
       "      <td>...</td>\n",
       "      <td>0</td>\n",
       "      <td>0</td>\n",
       "      <td>0</td>\n",
       "      <td>0</td>\n",
       "      <td>0</td>\n",
       "      <td>0</td>\n",
       "      <td>0</td>\n",
       "      <td>0</td>\n",
       "      <td>0</td>\n",
       "      <td>0</td>\n",
       "    </tr>\n",
       "    <tr>\n",
       "      <th>...</th>\n",
       "      <td>...</td>\n",
       "      <td>...</td>\n",
       "      <td>...</td>\n",
       "      <td>...</td>\n",
       "      <td>...</td>\n",
       "      <td>...</td>\n",
       "      <td>...</td>\n",
       "      <td>...</td>\n",
       "      <td>...</td>\n",
       "      <td>...</td>\n",
       "      <td>...</td>\n",
       "      <td>...</td>\n",
       "      <td>...</td>\n",
       "      <td>...</td>\n",
       "      <td>...</td>\n",
       "      <td>...</td>\n",
       "      <td>...</td>\n",
       "      <td>...</td>\n",
       "      <td>...</td>\n",
       "      <td>...</td>\n",
       "      <td>...</td>\n",
       "    </tr>\n",
       "    <tr>\n",
       "      <th>200854</th>\n",
       "      <td>3353226</td>\n",
       "      <td>2743075</td>\n",
       "      <td>79.0</td>\n",
       "      <td>58.40000</td>\n",
       "      <td>0</td>\n",
       "      <td>0</td>\n",
       "      <td>1</td>\n",
       "      <td>0</td>\n",
       "      <td>0</td>\n",
       "      <td>0</td>\n",
       "      <td>...</td>\n",
       "      <td>0</td>\n",
       "      <td>0</td>\n",
       "      <td>0</td>\n",
       "      <td>0</td>\n",
       "      <td>0</td>\n",
       "      <td>0</td>\n",
       "      <td>0</td>\n",
       "      <td>0</td>\n",
       "      <td>0</td>\n",
       "      <td>0</td>\n",
       "    </tr>\n",
       "    <tr>\n",
       "      <th>200855</th>\n",
       "      <td>3353235</td>\n",
       "      <td>2743084</td>\n",
       "      <td>50.0</td>\n",
       "      <td>90.00000</td>\n",
       "      <td>1</td>\n",
       "      <td>0</td>\n",
       "      <td>0</td>\n",
       "      <td>0</td>\n",
       "      <td>1</td>\n",
       "      <td>0</td>\n",
       "      <td>...</td>\n",
       "      <td>0</td>\n",
       "      <td>0</td>\n",
       "      <td>0</td>\n",
       "      <td>0</td>\n",
       "      <td>0</td>\n",
       "      <td>0</td>\n",
       "      <td>0</td>\n",
       "      <td>0</td>\n",
       "      <td>0</td>\n",
       "      <td>0</td>\n",
       "    </tr>\n",
       "    <tr>\n",
       "      <th>200856</th>\n",
       "      <td>3353237</td>\n",
       "      <td>2743086</td>\n",
       "      <td>79.0</td>\n",
       "      <td>78.40000</td>\n",
       "      <td>0</td>\n",
       "      <td>0</td>\n",
       "      <td>0</td>\n",
       "      <td>0</td>\n",
       "      <td>1</td>\n",
       "      <td>0</td>\n",
       "      <td>...</td>\n",
       "      <td>0</td>\n",
       "      <td>0</td>\n",
       "      <td>0</td>\n",
       "      <td>0</td>\n",
       "      <td>0</td>\n",
       "      <td>0</td>\n",
       "      <td>0</td>\n",
       "      <td>0</td>\n",
       "      <td>0</td>\n",
       "      <td>0</td>\n",
       "    </tr>\n",
       "    <tr>\n",
       "      <th>200857</th>\n",
       "      <td>3353251</td>\n",
       "      <td>2743099</td>\n",
       "      <td>73.0</td>\n",
       "      <td>102.00000</td>\n",
       "      <td>1</td>\n",
       "      <td>0</td>\n",
       "      <td>1</td>\n",
       "      <td>0</td>\n",
       "      <td>0</td>\n",
       "      <td>0</td>\n",
       "      <td>...</td>\n",
       "      <td>0</td>\n",
       "      <td>0</td>\n",
       "      <td>0</td>\n",
       "      <td>0</td>\n",
       "      <td>0</td>\n",
       "      <td>0</td>\n",
       "      <td>0</td>\n",
       "      <td>0</td>\n",
       "      <td>0</td>\n",
       "      <td>0</td>\n",
       "    </tr>\n",
       "    <tr>\n",
       "      <th>200858</th>\n",
       "      <td>3353263</td>\n",
       "      <td>2743110</td>\n",
       "      <td>35.0</td>\n",
       "      <td>100.80000</td>\n",
       "      <td>1</td>\n",
       "      <td>0</td>\n",
       "      <td>1</td>\n",
       "      <td>0</td>\n",
       "      <td>0</td>\n",
       "      <td>0</td>\n",
       "      <td>...</td>\n",
       "      <td>0</td>\n",
       "      <td>0</td>\n",
       "      <td>0</td>\n",
       "      <td>0</td>\n",
       "      <td>0</td>\n",
       "      <td>0</td>\n",
       "      <td>0</td>\n",
       "      <td>0</td>\n",
       "      <td>0</td>\n",
       "      <td>0</td>\n",
       "    </tr>\n",
       "  </tbody>\n",
       "</table>\n",
       "<p>200234 rows × 2557 columns</p>\n",
       "</div>"
      ],
      "text/plain": [
       "        patientunitstayid  patienthealthsystemstayid   age  admissionweight  \\\n",
       "0                  141168                     128919  70.0         84.30000   \n",
       "1                  141263                     128998  19.0         83.93392   \n",
       "2                  141264                     128998  19.0         83.93392   \n",
       "3                  141304                     129031  70.0         83.93392   \n",
       "4                  141432                     129140  75.0        131.50000   \n",
       "...                   ...                        ...   ...              ...   \n",
       "200854            3353226                    2743075  79.0         58.40000   \n",
       "200855            3353235                    2743084  50.0         90.00000   \n",
       "200856            3353237                    2743086  79.0         78.40000   \n",
       "200857            3353251                    2743099  73.0        102.00000   \n",
       "200858            3353263                    2743110  35.0        100.80000   \n",
       "\n",
       "        gender_Male  gender_Unknown  ethnicity_African American  \\\n",
       "0                 0               0                           0   \n",
       "1                 1               0                           0   \n",
       "2                 1               0                           0   \n",
       "3                 1               0                           0   \n",
       "4                 1               0                           0   \n",
       "...             ...             ...                         ...   \n",
       "200854            0               0                           1   \n",
       "200855            1               0                           0   \n",
       "200856            0               0                           0   \n",
       "200857            1               0                           1   \n",
       "200858            1               0                           1   \n",
       "\n",
       "        ethnicity_Asian  ethnicity_Caucasian  ethnicity_Hispanic  ...  \\\n",
       "0                     0                    1                   0  ...   \n",
       "1                     0                    1                   0  ...   \n",
       "2                     0                    1                   0  ...   \n",
       "3                     0                    1                   0  ...   \n",
       "4                     0                    1                   0  ...   \n",
       "...                 ...                  ...                 ...  ...   \n",
       "200854                0                    0                   0  ...   \n",
       "200855                0                    1                   0  ...   \n",
       "200856                0                    1                   0  ...   \n",
       "200857                0                    0                   0  ...   \n",
       "200858                0                    0                   0  ...   \n",
       "\n",
       "        icd9Code_801.50  icd9Code_130.0  icd9Code_483.1  icd9Code_G95.9  \\\n",
       "0                     0               0               0               0   \n",
       "1                     0               0               0               0   \n",
       "2                     0               0               0               0   \n",
       "3                     0               0               0               0   \n",
       "4                     0               0               0               0   \n",
       "...                 ...             ...             ...             ...   \n",
       "200854                0               0               0               0   \n",
       "200855                0               0               0               0   \n",
       "200856                0               0               0               0   \n",
       "200857                0               0               0               0   \n",
       "200858                0               0               0               0   \n",
       "\n",
       "        icd9Code_041.09  icd9Code_810.10  icd9Code_835.10  icd9Code_041.19  \\\n",
       "0                     0                0                0                0   \n",
       "1                     0                0                0                0   \n",
       "2                     0                0                0                0   \n",
       "3                     0                0                0                0   \n",
       "4                     0                0                0                0   \n",
       "...                 ...              ...              ...              ...   \n",
       "200854                0                0                0                0   \n",
       "200855                0                0                0                0   \n",
       "200856                0                0                0                0   \n",
       "200857                0                0                0                0   \n",
       "200858                0                0                0                0   \n",
       "\n",
       "        icd9Code_811.10  icd9Code_320.3  \n",
       "0                     0               0  \n",
       "1                     0               0  \n",
       "2                     0               0  \n",
       "3                     0               0  \n",
       "4                     0               0  \n",
       "...                 ...             ...  \n",
       "200854                0               0  \n",
       "200855                0               0  \n",
       "200856                0               0  \n",
       "200857                0               0  \n",
       "200858                0               0  \n",
       "\n",
       "[200234 rows x 2557 columns]"
      ]
     },
     "execution_count": 21,
     "metadata": {},
     "output_type": "execute_result"
    }
   ],
   "source": [
    "#pdat\n",
    "#em_cols\n",
    "#ed_cols\n",
    "cat_list = [\n",
    "    ep_cols,\n",
    "    em_cols.drop('patientunitstayid', 1),\n",
    "    ed_cols.drop('patientunitstayid', 1)]\n",
    "cdat = pd.concat(cat_list, axis=1)\n",
    "print(cdat.shape)\n",
    "cdat.head()"
   ]
  },
  {
   "cell_type": "code",
   "execution_count": 22,
   "metadata": {},
   "outputs": [],
   "source": [
    "cdat.to_csv('/Users/grovesdixon/projects/Insight/icu_project/my_eicu/eicu_for_model.csv',\n",
    "           index=False)"
   ]
  },
  {
   "cell_type": "markdown",
   "metadata": {},
   "source": [
    "## TEST LM"
   ]
  },
  {
   "cell_type": "code",
   "execution_count": 23,
   "metadata": {},
   "outputs": [
    {
     "name": "stdout",
     "output_type": "stream",
     "text": [
      "age                    float64\n",
      "admissionweight        float64\n",
      "unitdischargeoffset      int64\n",
      "gender_Male              uint8\n",
      "gender_Unknown           uint8\n",
      "                        ...   \n",
      "icd9Code_810.10          int64\n",
      "icd9Code_835.10          int64\n",
      "icd9Code_041.19          int64\n",
      "icd9Code_811.10          int64\n",
      "icd9Code_320.3           int64\n",
      "Length: 2555, dtype: object\n"
     ]
    },
    {
     "data": {
      "text/html": [
       "<div>\n",
       "<style scoped>\n",
       "    .dataframe tbody tr th:only-of-type {\n",
       "        vertical-align: middle;\n",
       "    }\n",
       "\n",
       "    .dataframe tbody tr th {\n",
       "        vertical-align: top;\n",
       "    }\n",
       "\n",
       "    .dataframe thead th {\n",
       "        text-align: right;\n",
       "    }\n",
       "</style>\n",
       "<table border=\"1\" class=\"dataframe\">\n",
       "  <thead>\n",
       "    <tr style=\"text-align: right;\">\n",
       "      <th></th>\n",
       "      <th>age</th>\n",
       "      <th>admissionweight</th>\n",
       "      <th>unitdischargeoffset</th>\n",
       "      <th>gender_Male</th>\n",
       "      <th>gender_Unknown</th>\n",
       "      <th>ethnicity_African American</th>\n",
       "      <th>ethnicity_Asian</th>\n",
       "      <th>ethnicity_Caucasian</th>\n",
       "      <th>ethnicity_Hispanic</th>\n",
       "      <th>ethnicity_Native American</th>\n",
       "      <th>...</th>\n",
       "      <th>icd9Code_801.50</th>\n",
       "      <th>icd9Code_130.0</th>\n",
       "      <th>icd9Code_483.1</th>\n",
       "      <th>icd9Code_G95.9</th>\n",
       "      <th>icd9Code_041.09</th>\n",
       "      <th>icd9Code_810.10</th>\n",
       "      <th>icd9Code_835.10</th>\n",
       "      <th>icd9Code_041.19</th>\n",
       "      <th>icd9Code_811.10</th>\n",
       "      <th>icd9Code_320.3</th>\n",
       "    </tr>\n",
       "  </thead>\n",
       "  <tbody>\n",
       "    <tr>\n",
       "      <th>0</th>\n",
       "      <td>70.0</td>\n",
       "      <td>84.30000</td>\n",
       "      <td>3596</td>\n",
       "      <td>0</td>\n",
       "      <td>0</td>\n",
       "      <td>0</td>\n",
       "      <td>0</td>\n",
       "      <td>1</td>\n",
       "      <td>0</td>\n",
       "      <td>0</td>\n",
       "      <td>...</td>\n",
       "      <td>0</td>\n",
       "      <td>0</td>\n",
       "      <td>0</td>\n",
       "      <td>0</td>\n",
       "      <td>0</td>\n",
       "      <td>0</td>\n",
       "      <td>0</td>\n",
       "      <td>0</td>\n",
       "      <td>0</td>\n",
       "      <td>0</td>\n",
       "    </tr>\n",
       "    <tr>\n",
       "      <th>1</th>\n",
       "      <td>19.0</td>\n",
       "      <td>83.93392</td>\n",
       "      <td>475</td>\n",
       "      <td>1</td>\n",
       "      <td>0</td>\n",
       "      <td>0</td>\n",
       "      <td>0</td>\n",
       "      <td>1</td>\n",
       "      <td>0</td>\n",
       "      <td>0</td>\n",
       "      <td>...</td>\n",
       "      <td>0</td>\n",
       "      <td>0</td>\n",
       "      <td>0</td>\n",
       "      <td>0</td>\n",
       "      <td>0</td>\n",
       "      <td>0</td>\n",
       "      <td>0</td>\n",
       "      <td>0</td>\n",
       "      <td>0</td>\n",
       "      <td>0</td>\n",
       "    </tr>\n",
       "    <tr>\n",
       "      <th>2</th>\n",
       "      <td>19.0</td>\n",
       "      <td>83.93392</td>\n",
       "      <td>292</td>\n",
       "      <td>1</td>\n",
       "      <td>0</td>\n",
       "      <td>0</td>\n",
       "      <td>0</td>\n",
       "      <td>1</td>\n",
       "      <td>0</td>\n",
       "      <td>0</td>\n",
       "      <td>...</td>\n",
       "      <td>0</td>\n",
       "      <td>0</td>\n",
       "      <td>0</td>\n",
       "      <td>0</td>\n",
       "      <td>0</td>\n",
       "      <td>0</td>\n",
       "      <td>0</td>\n",
       "      <td>0</td>\n",
       "      <td>0</td>\n",
       "      <td>0</td>\n",
       "    </tr>\n",
       "    <tr>\n",
       "      <th>3</th>\n",
       "      <td>70.0</td>\n",
       "      <td>83.93392</td>\n",
       "      <td>6639</td>\n",
       "      <td>1</td>\n",
       "      <td>0</td>\n",
       "      <td>0</td>\n",
       "      <td>0</td>\n",
       "      <td>1</td>\n",
       "      <td>0</td>\n",
       "      <td>0</td>\n",
       "      <td>...</td>\n",
       "      <td>0</td>\n",
       "      <td>0</td>\n",
       "      <td>0</td>\n",
       "      <td>0</td>\n",
       "      <td>0</td>\n",
       "      <td>0</td>\n",
       "      <td>0</td>\n",
       "      <td>0</td>\n",
       "      <td>0</td>\n",
       "      <td>0</td>\n",
       "    </tr>\n",
       "    <tr>\n",
       "      <th>4</th>\n",
       "      <td>75.0</td>\n",
       "      <td>131.50000</td>\n",
       "      <td>1145</td>\n",
       "      <td>1</td>\n",
       "      <td>0</td>\n",
       "      <td>0</td>\n",
       "      <td>0</td>\n",
       "      <td>1</td>\n",
       "      <td>0</td>\n",
       "      <td>0</td>\n",
       "      <td>...</td>\n",
       "      <td>0</td>\n",
       "      <td>0</td>\n",
       "      <td>0</td>\n",
       "      <td>0</td>\n",
       "      <td>0</td>\n",
       "      <td>0</td>\n",
       "      <td>0</td>\n",
       "      <td>0</td>\n",
       "      <td>0</td>\n",
       "      <td>0</td>\n",
       "    </tr>\n",
       "  </tbody>\n",
       "</table>\n",
       "<p>5 rows × 2555 columns</p>\n",
       "</div>"
      ],
      "text/plain": [
       "    age  admissionweight  unitdischargeoffset  gender_Male  gender_Unknown  \\\n",
       "0  70.0         84.30000                 3596            0               0   \n",
       "1  19.0         83.93392                  475            1               0   \n",
       "2  19.0         83.93392                  292            1               0   \n",
       "3  70.0         83.93392                 6639            1               0   \n",
       "4  75.0        131.50000                 1145            1               0   \n",
       "\n",
       "   ethnicity_African American  ethnicity_Asian  ethnicity_Caucasian  \\\n",
       "0                           0                0                    1   \n",
       "1                           0                0                    1   \n",
       "2                           0                0                    1   \n",
       "3                           0                0                    1   \n",
       "4                           0                0                    1   \n",
       "\n",
       "   ethnicity_Hispanic  ethnicity_Native American  ...  icd9Code_801.50  \\\n",
       "0                   0                          0  ...                0   \n",
       "1                   0                          0  ...                0   \n",
       "2                   0                          0  ...                0   \n",
       "3                   0                          0  ...                0   \n",
       "4                   0                          0  ...                0   \n",
       "\n",
       "   icd9Code_130.0  icd9Code_483.1  icd9Code_G95.9  icd9Code_041.09  \\\n",
       "0               0               0               0                0   \n",
       "1               0               0               0                0   \n",
       "2               0               0               0                0   \n",
       "3               0               0               0                0   \n",
       "4               0               0               0                0   \n",
       "\n",
       "   icd9Code_810.10  icd9Code_835.10  icd9Code_041.19  icd9Code_811.10  \\\n",
       "0                0                0                0                0   \n",
       "1                0                0                0                0   \n",
       "2                0                0                0                0   \n",
       "3                0                0                0                0   \n",
       "4                0                0                0                0   \n",
       "\n",
       "   icd9Code_320.3  \n",
       "0               0  \n",
       "1               0  \n",
       "2               0  \n",
       "3               0  \n",
       "4               0  \n",
       "\n",
       "[5 rows x 2555 columns]"
      ]
     },
     "execution_count": 23,
     "metadata": {},
     "output_type": "execute_result"
    }
   ],
   "source": [
    "#PREPARE DATA FOR MODELING\n",
    "from sklearn.metrics import precision_recall_curve, roc_curve, roc_auc_score, confusion_matrix, accuracy_score, precision_score, recall_score, f1_score, classification_report\n",
    "y = cdat['icd9Code_008.45']\n",
    "X = cdat.drop([\n",
    "    'icd9Code_008.45',\n",
    "    'patientunitstayid',\n",
    "    'patienthealthsystemstayid'], 1)\n",
    "print(X.dtypes)\n",
    "X.head()"
   ]
  },
  {
   "cell_type": "code",
   "execution_count": 35,
   "metadata": {},
   "outputs": [
    {
     "data": {
      "text/plain": [
       "(200234, 2555)"
      ]
     },
     "execution_count": 35,
     "metadata": {},
     "output_type": "execute_result"
    }
   ],
   "source": [
    "X.shape"
   ]
  },
  {
   "cell_type": "code",
   "execution_count": 36,
   "metadata": {},
   "outputs": [
    {
     "data": {
      "text/html": [
       "<div>\n",
       "<style scoped>\n",
       "    .dataframe tbody tr th:only-of-type {\n",
       "        vertical-align: middle;\n",
       "    }\n",
       "\n",
       "    .dataframe tbody tr th {\n",
       "        vertical-align: top;\n",
       "    }\n",
       "\n",
       "    .dataframe thead th {\n",
       "        text-align: right;\n",
       "    }\n",
       "</style>\n",
       "<table border=\"1\" class=\"dataframe\">\n",
       "  <thead>\n",
       "    <tr style=\"text-align: right;\">\n",
       "      <th></th>\n",
       "      <th>age</th>\n",
       "      <th>admissionweight</th>\n",
       "      <th>unitdischargeoffset</th>\n",
       "      <th>gender_Male</th>\n",
       "      <th>gender_Unknown</th>\n",
       "      <th>ethnicity_African American</th>\n",
       "      <th>ethnicity_Asian</th>\n",
       "      <th>ethnicity_Caucasian</th>\n",
       "      <th>ethnicity_Hispanic</th>\n",
       "      <th>ethnicity_Native American</th>\n",
       "      <th>...</th>\n",
       "      <th>icd9Code_801.50</th>\n",
       "      <th>icd9Code_130.0</th>\n",
       "      <th>icd9Code_483.1</th>\n",
       "      <th>icd9Code_G95.9</th>\n",
       "      <th>icd9Code_041.09</th>\n",
       "      <th>icd9Code_810.10</th>\n",
       "      <th>icd9Code_835.10</th>\n",
       "      <th>icd9Code_041.19</th>\n",
       "      <th>icd9Code_811.10</th>\n",
       "      <th>icd9Code_320.3</th>\n",
       "    </tr>\n",
       "  </thead>\n",
       "  <tbody>\n",
       "    <tr>\n",
       "      <th>0</th>\n",
       "      <td>0.712329</td>\n",
       "      <td>0.088458</td>\n",
       "      <td>3596</td>\n",
       "      <td>0</td>\n",
       "      <td>0</td>\n",
       "      <td>0</td>\n",
       "      <td>0</td>\n",
       "      <td>1</td>\n",
       "      <td>0</td>\n",
       "      <td>0</td>\n",
       "      <td>...</td>\n",
       "      <td>0</td>\n",
       "      <td>0</td>\n",
       "      <td>0</td>\n",
       "      <td>0</td>\n",
       "      <td>0</td>\n",
       "      <td>0</td>\n",
       "      <td>0</td>\n",
       "      <td>0</td>\n",
       "      <td>0</td>\n",
       "      <td>0</td>\n",
       "    </tr>\n",
       "    <tr>\n",
       "      <th>1</th>\n",
       "      <td>0.013699</td>\n",
       "      <td>0.088073</td>\n",
       "      <td>475</td>\n",
       "      <td>1</td>\n",
       "      <td>0</td>\n",
       "      <td>0</td>\n",
       "      <td>0</td>\n",
       "      <td>1</td>\n",
       "      <td>0</td>\n",
       "      <td>0</td>\n",
       "      <td>...</td>\n",
       "      <td>0</td>\n",
       "      <td>0</td>\n",
       "      <td>0</td>\n",
       "      <td>0</td>\n",
       "      <td>0</td>\n",
       "      <td>0</td>\n",
       "      <td>0</td>\n",
       "      <td>0</td>\n",
       "      <td>0</td>\n",
       "      <td>0</td>\n",
       "    </tr>\n",
       "    <tr>\n",
       "      <th>2</th>\n",
       "      <td>0.013699</td>\n",
       "      <td>0.088073</td>\n",
       "      <td>292</td>\n",
       "      <td>1</td>\n",
       "      <td>0</td>\n",
       "      <td>0</td>\n",
       "      <td>0</td>\n",
       "      <td>1</td>\n",
       "      <td>0</td>\n",
       "      <td>0</td>\n",
       "      <td>...</td>\n",
       "      <td>0</td>\n",
       "      <td>0</td>\n",
       "      <td>0</td>\n",
       "      <td>0</td>\n",
       "      <td>0</td>\n",
       "      <td>0</td>\n",
       "      <td>0</td>\n",
       "      <td>0</td>\n",
       "      <td>0</td>\n",
       "      <td>0</td>\n",
       "    </tr>\n",
       "    <tr>\n",
       "      <th>3</th>\n",
       "      <td>0.712329</td>\n",
       "      <td>0.088073</td>\n",
       "      <td>6639</td>\n",
       "      <td>1</td>\n",
       "      <td>0</td>\n",
       "      <td>0</td>\n",
       "      <td>0</td>\n",
       "      <td>1</td>\n",
       "      <td>0</td>\n",
       "      <td>0</td>\n",
       "      <td>...</td>\n",
       "      <td>0</td>\n",
       "      <td>0</td>\n",
       "      <td>0</td>\n",
       "      <td>0</td>\n",
       "      <td>0</td>\n",
       "      <td>0</td>\n",
       "      <td>0</td>\n",
       "      <td>0</td>\n",
       "      <td>0</td>\n",
       "      <td>0</td>\n",
       "    </tr>\n",
       "    <tr>\n",
       "      <th>4</th>\n",
       "      <td>0.780822</td>\n",
       "      <td>0.137985</td>\n",
       "      <td>1145</td>\n",
       "      <td>1</td>\n",
       "      <td>0</td>\n",
       "      <td>0</td>\n",
       "      <td>0</td>\n",
       "      <td>1</td>\n",
       "      <td>0</td>\n",
       "      <td>0</td>\n",
       "      <td>...</td>\n",
       "      <td>0</td>\n",
       "      <td>0</td>\n",
       "      <td>0</td>\n",
       "      <td>0</td>\n",
       "      <td>0</td>\n",
       "      <td>0</td>\n",
       "      <td>0</td>\n",
       "      <td>0</td>\n",
       "      <td>0</td>\n",
       "      <td>0</td>\n",
       "    </tr>\n",
       "  </tbody>\n",
       "</table>\n",
       "<p>5 rows × 2555 columns</p>\n",
       "</div>"
      ],
      "text/plain": [
       "        age  admissionweight  unitdischargeoffset  gender_Male  \\\n",
       "0  0.712329         0.088458                 3596            0   \n",
       "1  0.013699         0.088073                  475            1   \n",
       "2  0.013699         0.088073                  292            1   \n",
       "3  0.712329         0.088073                 6639            1   \n",
       "4  0.780822         0.137985                 1145            1   \n",
       "\n",
       "   gender_Unknown  ethnicity_African American  ethnicity_Asian  \\\n",
       "0               0                           0                0   \n",
       "1               0                           0                0   \n",
       "2               0                           0                0   \n",
       "3               0                           0                0   \n",
       "4               0                           0                0   \n",
       "\n",
       "   ethnicity_Caucasian  ethnicity_Hispanic  ethnicity_Native American  ...  \\\n",
       "0                    1                   0                          0  ...   \n",
       "1                    1                   0                          0  ...   \n",
       "2                    1                   0                          0  ...   \n",
       "3                    1                   0                          0  ...   \n",
       "4                    1                   0                          0  ...   \n",
       "\n",
       "   icd9Code_801.50  icd9Code_130.0  icd9Code_483.1  icd9Code_G95.9  \\\n",
       "0                0               0               0               0   \n",
       "1                0               0               0               0   \n",
       "2                0               0               0               0   \n",
       "3                0               0               0               0   \n",
       "4                0               0               0               0   \n",
       "\n",
       "   icd9Code_041.09  icd9Code_810.10  icd9Code_835.10  icd9Code_041.19  \\\n",
       "0                0                0                0                0   \n",
       "1                0                0                0                0   \n",
       "2                0                0                0                0   \n",
       "3                0                0                0                0   \n",
       "4                0                0                0                0   \n",
       "\n",
       "   icd9Code_811.10  icd9Code_320.3  \n",
       "0                0               0  \n",
       "1                0               0  \n",
       "2                0               0  \n",
       "3                0               0  \n",
       "4                0               0  \n",
       "\n",
       "[5 rows x 2555 columns]"
      ]
     },
     "execution_count": 36,
     "metadata": {},
     "output_type": "execute_result"
    }
   ],
   "source": [
    "#scale the dataframe\n",
    "from sklearn.preprocessing import MinMaxScaler\n",
    "scaler = MinMaxScaler()\n",
    "need_scaling = [\n",
    "    'age',\n",
    "    'admissionweight'\n",
    "]\n",
    "X[need_scaling] = scaler.fit_transform(X[need_scaling])\n",
    "X.head()"
   ]
  },
  {
   "cell_type": "code",
   "execution_count": 40,
   "metadata": {},
   "outputs": [],
   "source": [
    "#split out a traingin and test sets\n",
    "from sklearn.model_selection import train_test_split\n",
    "X_train, X_test, y_train, y_test = train_test_split(X, y, test_size = 0.2, random_state=321)"
   ]
  },
  {
   "cell_type": "markdown",
   "metadata": {},
   "source": [
    "# Fit models"
   ]
  },
  {
   "cell_type": "markdown",
   "metadata": {},
   "source": [
    "## logistic regression"
   ]
  },
  {
   "cell_type": "code",
   "execution_count": 41,
   "metadata": {},
   "outputs": [
    {
     "data": {
      "text/plain": [
       "LogisticRegression(max_iter=1000)"
      ]
     },
     "execution_count": 41,
     "metadata": {},
     "output_type": "execute_result"
    }
   ],
   "source": [
    "#logistic regression\n",
    "from sklearn.linear_model import LogisticRegression\n",
    "log_reg = LogisticRegression(max_iter=1000)\n",
    "\n",
    "#train\n",
    "log_reg.fit(X_train, y_train)"
   ]
  },
  {
   "cell_type": "code",
   "execution_count": 42,
   "metadata": {
    "collapsed": true
   },
   "outputs": [
    {
     "data": {
      "image/png": "[encoded data removed]",
      "text/plain": [
       "<Figure size 432x288 with 1 Axes>"
      ]
     },
     "metadata": {
      "needs_background": "light"
     },
     "output_type": "display_data"
    },
    {
     "data": {
      "image/png": "[encoded data removed]",
      "text/plain": [
       "<Figure size 432x288 with 1 Axes>"
      ]
     },
     "metadata": {
      "needs_background": "light"
     },
     "output_type": "display_data"
    },
    {
     "name": "stdout",
     "output_type": "stream",
     "text": [
      "Confusion matrix for threshold = 0.1:\n",
      "[[158255    906]\n",
      " [   907    119]]\n",
      "Classification report:\n",
      "              precision    recall  f1-score   support\n",
      "\n",
      "           0       0.99      0.99      0.99    159161\n",
      "           1       0.12      0.12      0.12      1026\n",
      "\n",
      "    accuracy                           0.99    160187\n",
      "   macro avg       0.56      0.56      0.56    160187\n",
      "weighted avg       0.99      0.99      0.99    160187\n",
      "\n"
     ]
    },
    {
     "data": {
      "image/png": "[encoded data removed]",
      "text/plain": [
       "<Figure size 432x288 with 1 Axes>"
      ]
     },
     "metadata": {
      "needs_background": "light"
     },
     "output_type": "display_data"
    }
   ],
   "source": [
    "#performance on the training set\n",
    "exec(open(\"my_functions.py\").read())\n",
    "probs_train = log_reg.predict_proba(X_train)\n",
    "scores_train = probs_train[:, 1]\n",
    "train_perf = get_model_performance('logistic regression training set', X_train, scores_train, y_train, pos_label=1)"
   ]
  },
  {
   "cell_type": "code",
   "execution_count": 21,
   "metadata": {
    "collapsed": true
   },
   "outputs": [
    {
     "data": {
      "image/png": "[encoded data removed]",
      "text/plain": [
       "<Figure size 432x288 with 1 Axes>"
      ]
     },
     "metadata": {
      "needs_background": "light"
     },
     "output_type": "display_data"
    },
    {
     "data": {
      "image/png": "[encoded data removed]",
      "text/plain": [
       "<Figure size 432x288 with 1 Axes>"
      ]
     },
     "metadata": {
      "needs_background": "light"
     },
     "output_type": "display_data"
    },
    {
     "name": "stdout",
     "output_type": "stream",
     "text": [
      "Confusion matrix for threshold = 0.13:\n",
      "[[39681   211]\n",
      " [  212    49]]\n",
      "Classification report:\n",
      "              precision    recall  f1-score   support\n",
      "\n",
      "           0       0.99      0.99      0.99     39892\n",
      "           1       0.19      0.19      0.19       261\n",
      "\n",
      "    accuracy                           0.99     40153\n",
      "   macro avg       0.59      0.59      0.59     40153\n",
      "weighted avg       0.99      0.99      0.99     40153\n",
      "\n"
     ]
    },
    {
     "data": {
      "image/png": "[encoded data removed]",
      "text/plain": [
       "<Figure size 432x288 with 1 Axes>"
      ]
     },
     "metadata": {
      "needs_background": "light"
     },
     "output_type": "display_data"
    }
   ],
   "source": [
    "#performance on the test set\n",
    "probs_test = log_reg.predict_proba(X_test)\n",
    "scores_test = probs_test[:, 1]\n",
    "test_perf = get_model_performance('logistic regression test set', X_test, scores_test, y_test, pos_label=1)"
   ]
  },
  {
   "cell_type": "markdown",
   "metadata": {},
   "source": [
    "## lasso regression"
   ]
  },
  {
   "cell_type": "code",
   "execution_count": 43,
   "metadata": {},
   "outputs": [
    {
     "data": {
      "text/plain": [
       "LogisticRegression(max_iter=1000, penalty='l1', solver='liblinear')"
      ]
     },
     "execution_count": 43,
     "metadata": {},
     "output_type": "execute_result"
    }
   ],
   "source": [
    "#lasso logistic regression\n",
    "l1log_reg = LogisticRegression(max_iter=1000, penalty='l1', solver='liblinear')\n",
    "\n",
    "#train\n",
    "l1log_reg.fit(X_train, y_train)"
   ]
  },
  {
   "cell_type": "code",
   "execution_count": 44,
   "metadata": {},
   "outputs": [
    {
     "data": {
      "image/png": "[encoded data removed]",
      "text/plain": [
       "<Figure size 432x288 with 1 Axes>"
      ]
     },
     "metadata": {
      "needs_background": "light"
     },
     "output_type": "display_data"
    },
    {
     "data": {
      "image/png": "[encoded data removed]",
      "text/plain": [
       "<Figure size 432x288 with 1 Axes>"
      ]
     },
     "metadata": {
      "needs_background": "light"
     },
     "output_type": "display_data"
    },
    {
     "name": "stdout",
     "output_type": "stream",
     "text": [
      "Confusion matrix for threshold = 0.13:\n",
      "[[158493    668]\n",
      " [   669    357]]\n",
      "Classification report:\n",
      "              precision    recall  f1-score   support\n",
      "\n",
      "           0       1.00      1.00      1.00    159161\n",
      "           1       0.35      0.35      0.35      1026\n",
      "\n",
      "    accuracy                           0.99    160187\n",
      "   macro avg       0.67      0.67      0.67    160187\n",
      "weighted avg       0.99      0.99      0.99    160187\n",
      "\n"
     ]
    },
    {
     "data": {
      "image/png": "[encoded data removed]",
      "text/plain": [
       "<Figure size 432x288 with 1 Axes>"
      ]
     },
     "metadata": {
      "needs_background": "light"
     },
     "output_type": "display_data"
    }
   ],
   "source": [
    "#performance on the training set\n",
    "l1probs_train = l1log_reg.predict_proba(X_train)\n",
    "l1scores_train = l1probs_train[:, 1]\n",
    "train_perf = get_model_performance('logistic regression training set', X_train, l1scores_train, y_train, pos_label=1)"
   ]
  },
  {
   "cell_type": "code",
   "execution_count": 45,
   "metadata": {},
   "outputs": [
    {
     "data": {
      "image/png": "[encoded data removed]",
      "text/plain": [
       "<Figure size 432x288 with 1 Axes>"
      ]
     },
     "metadata": {
      "needs_background": "light"
     },
     "output_type": "display_data"
    },
    {
     "data": {
      "image/png": "[encoded data removed]",
      "text/plain": [
       "<Figure size 432x288 with 1 Axes>"
      ]
     },
     "metadata": {
      "needs_background": "light"
     },
     "output_type": "display_data"
    },
    {
     "name": "stdout",
     "output_type": "stream",
     "text": [
      "Confusion matrix for threshold = 0.14:\n",
      "[[39577   213]\n",
      " [  214    43]]\n",
      "Classification report:\n",
      "              precision    recall  f1-score   support\n",
      "\n",
      "           0       0.99      0.99      0.99     39790\n",
      "           1       0.17      0.17      0.17       257\n",
      "\n",
      "    accuracy                           0.99     40047\n",
      "   macro avg       0.58      0.58      0.58     40047\n",
      "weighted avg       0.99      0.99      0.99     40047\n",
      "\n"
     ]
    },
    {
     "data": {
      "image/png": "[encoded data removed]",
      "text/plain": [
       "<Figure size 432x288 with 1 Axes>"
      ]
     },
     "metadata": {
      "needs_background": "light"
     },
     "output_type": "display_data"
    }
   ],
   "source": [
    "#performance on the test set\n",
    "l1probs_test = l1log_reg.predict_proba(X_test)\n",
    "l1scores_test = l1probs_test[:, 1]\n",
    "test_perf = get_model_performance('logistic regression test set', X_test, l1scores_test, y_test, pos_label=1)"
   ]
  },
  {
   "cell_type": "code",
   "execution_count": 68,
   "metadata": {},
   "outputs": [
    {
     "name": "stdout",
     "output_type": "stream",
     "text": [
      "<class 'numpy.ndarray'>\n",
      "<class 'list'>\n",
      "(537, 2)\n"
     ]
    }
   ],
   "source": [
    "coefs = l1log_reg.coef_[0]\n",
    "features = list(X.columns)\n",
    "print(type(coefs))\n",
    "print(type(features))\n",
    "coef_df = pd.DataFrame({'feature':features, 'coef':coefs}).sort_values('coef', ascending=False)\n",
    "nonz = coef_df.loc[coef_df['coef'] > 0]\n",
    "print(nonz.shape)\n",
    "nonz.to_csv('non_zero_coefficients.csv')"
   ]
  },
  {
   "cell_type": "code",
   "execution_count": 67,
   "metadata": {},
   "outputs": [
    {
     "data": {
      "text/plain": [
       "'/Users/grovesdixon/gitreps/Insight_fellowship_project/merge'"
      ]
     },
     "execution_count": 67,
     "metadata": {},
     "output_type": "execute_result"
    }
   ],
   "source": [
    "os.getcwd()"
   ]
  },
  {
   "cell_type": "markdown",
   "metadata": {},
   "source": [
    "## test app"
   ]
  },
  {
   "cell_type": "code",
   "execution_count": 84,
   "metadata": {},
   "outputs": [],
   "source": [
    "res = X_train.copy()\n",
    "res['prob_cdiff'] = l1scores_train"
   ]
  },
  {
   "cell_type": "code",
   "execution_count": 153,
   "metadata": {},
   "outputs": [],
   "source": [
    "#pick a high ica stay\n",
    "high = res.loc[res['prob_cdiff'] > 0.9].sort_values('prob_cdiff', ascending = False)\n",
    "high.index = range(len(high.index))\n",
    "h = high.loc[5,:]\n",
    "h\n",
    "\n",
    "#pick a medium\n",
    "med = res.loc[(res['prob_cdiff'] > 0.6),].sort_values('prob_cdiff', ascending = True)\n",
    "med.index = range(len(med.index))\n",
    "m = med.loc[5,:]\n",
    "\n",
    "#low\n",
    "low = res.loc[(res['prob_cdiff'] > 0.1),].sort_values('prob_cdiff', ascending = True)\n",
    "low.index = range(len(low.index))\n",
    "l = low.loc[5,:]\n",
    "l\n",
    "\n",
    "#vlow\n",
    "low = res.loc[(res['prob_cdiff'] > 0.001),].sort_values('prob_cdiff', ascending = True)\n",
    "low.index = range(len(low.index))\n",
    "vl = low.loc[5,:]\n",
    "vl\n",
    "\n",
    "example_patients = pd.DataFrame([h,m,l,vl]).drop('prob_cdiff', 1)\n",
    "example_patients.index = ['June Hieghts', 'Jane Middleman', 'Joe Lowe', 'Jess V. Lowe']\n",
    "example_patients.to_csv('../app/example_patients.csv', index=True)"
   ]
  },
  {
   "cell_type": "code",
   "execution_count": 154,
   "metadata": {},
   "outputs": [],
   "source": [
    "# save the model to disk\n",
    "import pickle\n",
    "filename = '../app/lasso_model.sav'\n",
    "pickle.dump(l1log_reg, open(filename, 'wb'))"
   ]
  },
  {
   "cell_type": "code",
   "execution_count": 155,
   "metadata": {},
   "outputs": [
    {
     "data": {
      "text/html": [
       "<div>\n",
       "<style scoped>\n",
       "    .dataframe tbody tr th:only-of-type {\n",
       "        vertical-align: middle;\n",
       "    }\n",
       "\n",
       "    .dataframe tbody tr th {\n",
       "        vertical-align: top;\n",
       "    }\n",
       "\n",
       "    .dataframe thead th {\n",
       "        text-align: right;\n",
       "    }\n",
       "</style>\n",
       "<table border=\"1\" class=\"dataframe\">\n",
       "  <thead>\n",
       "    <tr style=\"text-align: right;\">\n",
       "      <th></th>\n",
       "      <th>age</th>\n",
       "      <th>admissionweight</th>\n",
       "      <th>unitdischargeoffset</th>\n",
       "      <th>gender_Male</th>\n",
       "      <th>gender_Unknown</th>\n",
       "      <th>ethnicity_African American</th>\n",
       "      <th>ethnicity_Asian</th>\n",
       "      <th>ethnicity_Caucasian</th>\n",
       "      <th>ethnicity_Hispanic</th>\n",
       "      <th>ethnicity_Native American</th>\n",
       "      <th>...</th>\n",
       "      <th>icd9Code_801.50</th>\n",
       "      <th>icd9Code_130.0</th>\n",
       "      <th>icd9Code_483.1</th>\n",
       "      <th>icd9Code_G95.9</th>\n",
       "      <th>icd9Code_041.09</th>\n",
       "      <th>icd9Code_810.10</th>\n",
       "      <th>icd9Code_835.10</th>\n",
       "      <th>icd9Code_041.19</th>\n",
       "      <th>icd9Code_811.10</th>\n",
       "      <th>icd9Code_320.3</th>\n",
       "    </tr>\n",
       "  </thead>\n",
       "  <tbody>\n",
       "    <tr>\n",
       "      <th>June Hieghts</th>\n",
       "      <td>0.561644</td>\n",
       "      <td>0.062959</td>\n",
       "      <td>21310.0</td>\n",
       "      <td>0.0</td>\n",
       "      <td>0.0</td>\n",
       "      <td>0.0</td>\n",
       "      <td>0.0</td>\n",
       "      <td>1.0</td>\n",
       "      <td>0.0</td>\n",
       "      <td>0.0</td>\n",
       "      <td>...</td>\n",
       "      <td>0.0</td>\n",
       "      <td>0.0</td>\n",
       "      <td>0.0</td>\n",
       "      <td>0.0</td>\n",
       "      <td>0.0</td>\n",
       "      <td>0.0</td>\n",
       "      <td>0.0</td>\n",
       "      <td>0.0</td>\n",
       "      <td>0.0</td>\n",
       "      <td>0.0</td>\n",
       "    </tr>\n",
       "    <tr>\n",
       "      <th>Jane Middleman</th>\n",
       "      <td>0.479452</td>\n",
       "      <td>0.129381</td>\n",
       "      <td>50309.0</td>\n",
       "      <td>0.0</td>\n",
       "      <td>0.0</td>\n",
       "      <td>1.0</td>\n",
       "      <td>0.0</td>\n",
       "      <td>0.0</td>\n",
       "      <td>0.0</td>\n",
       "      <td>0.0</td>\n",
       "      <td>...</td>\n",
       "      <td>0.0</td>\n",
       "      <td>0.0</td>\n",
       "      <td>0.0</td>\n",
       "      <td>0.0</td>\n",
       "      <td>0.0</td>\n",
       "      <td>0.0</td>\n",
       "      <td>0.0</td>\n",
       "      <td>0.0</td>\n",
       "      <td>0.0</td>\n",
       "      <td>0.0</td>\n",
       "    </tr>\n",
       "    <tr>\n",
       "      <th>Joe Lowe</th>\n",
       "      <td>0.616438</td>\n",
       "      <td>0.087408</td>\n",
       "      <td>49058.0</td>\n",
       "      <td>1.0</td>\n",
       "      <td>0.0</td>\n",
       "      <td>0.0</td>\n",
       "      <td>1.0</td>\n",
       "      <td>0.0</td>\n",
       "      <td>0.0</td>\n",
       "      <td>0.0</td>\n",
       "      <td>...</td>\n",
       "      <td>0.0</td>\n",
       "      <td>0.0</td>\n",
       "      <td>0.0</td>\n",
       "      <td>0.0</td>\n",
       "      <td>0.0</td>\n",
       "      <td>0.0</td>\n",
       "      <td>0.0</td>\n",
       "      <td>0.0</td>\n",
       "      <td>0.0</td>\n",
       "      <td>0.0</td>\n",
       "    </tr>\n",
       "    <tr>\n",
       "      <th>Jess V. Lowe</th>\n",
       "      <td>0.767123</td>\n",
       "      <td>0.066632</td>\n",
       "      <td>4968.0</td>\n",
       "      <td>0.0</td>\n",
       "      <td>0.0</td>\n",
       "      <td>0.0</td>\n",
       "      <td>0.0</td>\n",
       "      <td>1.0</td>\n",
       "      <td>0.0</td>\n",
       "      <td>0.0</td>\n",
       "      <td>...</td>\n",
       "      <td>0.0</td>\n",
       "      <td>0.0</td>\n",
       "      <td>0.0</td>\n",
       "      <td>0.0</td>\n",
       "      <td>0.0</td>\n",
       "      <td>0.0</td>\n",
       "      <td>0.0</td>\n",
       "      <td>0.0</td>\n",
       "      <td>0.0</td>\n",
       "      <td>0.0</td>\n",
       "    </tr>\n",
       "  </tbody>\n",
       "</table>\n",
       "<p>4 rows × 2555 columns</p>\n",
       "</div>"
      ],
      "text/plain": [
       "                     age  admissionweight  unitdischargeoffset  gender_Male  \\\n",
       "June Hieghts    0.561644         0.062959              21310.0          0.0   \n",
       "Jane Middleman  0.479452         0.129381              50309.0          0.0   \n",
       "Joe Lowe        0.616438         0.087408              49058.0          1.0   \n",
       "Jess V. Lowe    0.767123         0.066632               4968.0          0.0   \n",
       "\n",
       "                gender_Unknown  ethnicity_African American  ethnicity_Asian  \\\n",
       "June Hieghts               0.0                         0.0              0.0   \n",
       "Jane Middleman             0.0                         1.0              0.0   \n",
       "Joe Lowe                   0.0                         0.0              1.0   \n",
       "Jess V. Lowe               0.0                         0.0              0.0   \n",
       "\n",
       "                ethnicity_Caucasian  ethnicity_Hispanic  \\\n",
       "June Hieghts                    1.0                 0.0   \n",
       "Jane Middleman                  0.0                 0.0   \n",
       "Joe Lowe                        0.0                 0.0   \n",
       "Jess V. Lowe                    1.0                 0.0   \n",
       "\n",
       "                ethnicity_Native American  ...  icd9Code_801.50  \\\n",
       "June Hieghts                          0.0  ...              0.0   \n",
       "Jane Middleman                        0.0  ...              0.0   \n",
       "Joe Lowe                              0.0  ...              0.0   \n",
       "Jess V. Lowe                          0.0  ...              0.0   \n",
       "\n",
       "                icd9Code_130.0  icd9Code_483.1  icd9Code_G95.9  \\\n",
       "June Hieghts               0.0             0.0             0.0   \n",
       "Jane Middleman             0.0             0.0             0.0   \n",
       "Joe Lowe                   0.0             0.0             0.0   \n",
       "Jess V. Lowe               0.0             0.0             0.0   \n",
       "\n",
       "                icd9Code_041.09  icd9Code_810.10  icd9Code_835.10  \\\n",
       "June Hieghts                0.0              0.0              0.0   \n",
       "Jane Middleman              0.0              0.0              0.0   \n",
       "Joe Lowe                    0.0              0.0              0.0   \n",
       "Jess V. Lowe                0.0              0.0              0.0   \n",
       "\n",
       "                icd9Code_041.19  icd9Code_811.10  icd9Code_320.3  \n",
       "June Hieghts                0.0              0.0             0.0  \n",
       "Jane Middleman              0.0              0.0             0.0  \n",
       "Joe Lowe                    0.0              0.0             0.0  \n",
       "Jess V. Lowe                0.0              0.0             0.0  \n",
       "\n",
       "[4 rows x 2555 columns]"
      ]
     },
     "execution_count": 155,
     "metadata": {},
     "output_type": "execute_result"
    }
   ],
   "source": [
    "# load the model from disk\n",
    "X_example = pd.read_csv('../app/example_patients.csv', index_col=0)\n",
    "loaded_model = pickle.load(open('lasso_model.sav', 'rb'))\n",
    "probs_example = loaded_model.predict_proba(X_example)\n",
    "scores_example = probs_example[:, 1]\n",
    "X_example.head()"
   ]
  },
  {
   "cell_type": "code",
   "execution_count": 156,
   "metadata": {},
   "outputs": [
    {
     "name": "stdout",
     "output_type": "stream",
     "text": [
      "age                        0.561644\n",
      "admissionweight            0.062959\n",
      "unitdischargeoffset    21310.000000\n",
      "gender_Male                0.000000\n",
      "gender_Unknown             0.000000\n",
      "                           ...     \n",
      "icd9Code_810.10            0.000000\n",
      "icd9Code_835.10            0.000000\n",
      "icd9Code_041.19            0.000000\n",
      "icd9Code_811.10            0.000000\n",
      "icd9Code_320.3             0.000000\n",
      "Name: June Hieghts, Length: 2555, dtype: float64\n"
     ]
    },
    {
     "data": {
      "text/plain": [
       "0.9459833237526097"
      ]
     },
     "execution_count": 156,
     "metadata": {},
     "output_type": "execute_result"
    }
   ],
   "source": [
    "patient = 'June Hieghts'\n",
    "psub = X_example.loc[patient,:]\n",
    "print(psub)\n",
    "p_prob = loaded_model.predict_proba([psub])\n",
    "p_prob[0][1]"
   ]
  },
  {
   "cell_type": "code",
   "execution_count": 117,
   "metadata": {},
   "outputs": [
    {
     "data": {
      "text/html": [
       "<div>\n",
       "<style scoped>\n",
       "    .dataframe tbody tr th:only-of-type {\n",
       "        vertical-align: middle;\n",
       "    }\n",
       "\n",
       "    .dataframe tbody tr th {\n",
       "        vertical-align: top;\n",
       "    }\n",
       "\n",
       "    .dataframe thead th {\n",
       "        text-align: right;\n",
       "    }\n",
       "</style>\n",
       "<table border=\"1\" class=\"dataframe\">\n",
       "  <thead>\n",
       "    <tr style=\"text-align: right;\">\n",
       "      <th></th>\n",
       "      <th>Unnamed: 0</th>\n",
       "      <th>age</th>\n",
       "      <th>admissionweight</th>\n",
       "      <th>unitdischargeoffset</th>\n",
       "      <th>gender_Male</th>\n",
       "      <th>gender_Unknown</th>\n",
       "      <th>ethnicity_African American</th>\n",
       "      <th>ethnicity_Asian</th>\n",
       "      <th>ethnicity_Caucasian</th>\n",
       "      <th>ethnicity_Hispanic</th>\n",
       "      <th>...</th>\n",
       "      <th>icd9Code_801.50</th>\n",
       "      <th>icd9Code_130.0</th>\n",
       "      <th>icd9Code_483.1</th>\n",
       "      <th>icd9Code_G95.9</th>\n",
       "      <th>icd9Code_041.09</th>\n",
       "      <th>icd9Code_810.10</th>\n",
       "      <th>icd9Code_835.10</th>\n",
       "      <th>icd9Code_041.19</th>\n",
       "      <th>icd9Code_811.10</th>\n",
       "      <th>icd9Code_320.3</th>\n",
       "    </tr>\n",
       "  </thead>\n",
       "  <tbody>\n",
       "    <tr>\n",
       "      <th>0</th>\n",
       "      <td>5</td>\n",
       "      <td>0.561644</td>\n",
       "      <td>0.062959</td>\n",
       "      <td>21310.0</td>\n",
       "      <td>0.0</td>\n",
       "      <td>0.0</td>\n",
       "      <td>0.0</td>\n",
       "      <td>0.0</td>\n",
       "      <td>1.0</td>\n",
       "      <td>0.0</td>\n",
       "      <td>...</td>\n",
       "      <td>0.0</td>\n",
       "      <td>0.0</td>\n",
       "      <td>0.0</td>\n",
       "      <td>0.0</td>\n",
       "      <td>0.0</td>\n",
       "      <td>0.0</td>\n",
       "      <td>0.0</td>\n",
       "      <td>0.0</td>\n",
       "      <td>0.0</td>\n",
       "      <td>0.0</td>\n",
       "    </tr>\n",
       "    <tr>\n",
       "      <th>1</th>\n",
       "      <td>5</td>\n",
       "      <td>0.479452</td>\n",
       "      <td>0.129381</td>\n",
       "      <td>50309.0</td>\n",
       "      <td>0.0</td>\n",
       "      <td>0.0</td>\n",
       "      <td>1.0</td>\n",
       "      <td>0.0</td>\n",
       "      <td>0.0</td>\n",
       "      <td>0.0</td>\n",
       "      <td>...</td>\n",
       "      <td>0.0</td>\n",
       "      <td>0.0</td>\n",
       "      <td>0.0</td>\n",
       "      <td>0.0</td>\n",
       "      <td>0.0</td>\n",
       "      <td>0.0</td>\n",
       "      <td>0.0</td>\n",
       "      <td>0.0</td>\n",
       "      <td>0.0</td>\n",
       "      <td>0.0</td>\n",
       "    </tr>\n",
       "    <tr>\n",
       "      <th>2</th>\n",
       "      <td>5</td>\n",
       "      <td>0.616438</td>\n",
       "      <td>0.087408</td>\n",
       "      <td>49058.0</td>\n",
       "      <td>1.0</td>\n",
       "      <td>0.0</td>\n",
       "      <td>0.0</td>\n",
       "      <td>1.0</td>\n",
       "      <td>0.0</td>\n",
       "      <td>0.0</td>\n",
       "      <td>...</td>\n",
       "      <td>0.0</td>\n",
       "      <td>0.0</td>\n",
       "      <td>0.0</td>\n",
       "      <td>0.0</td>\n",
       "      <td>0.0</td>\n",
       "      <td>0.0</td>\n",
       "      <td>0.0</td>\n",
       "      <td>0.0</td>\n",
       "      <td>0.0</td>\n",
       "      <td>0.0</td>\n",
       "    </tr>\n",
       "    <tr>\n",
       "      <th>3</th>\n",
       "      <td>5</td>\n",
       "      <td>0.767123</td>\n",
       "      <td>0.066632</td>\n",
       "      <td>4968.0</td>\n",
       "      <td>0.0</td>\n",
       "      <td>0.0</td>\n",
       "      <td>0.0</td>\n",
       "      <td>0.0</td>\n",
       "      <td>1.0</td>\n",
       "      <td>0.0</td>\n",
       "      <td>...</td>\n",
       "      <td>0.0</td>\n",
       "      <td>0.0</td>\n",
       "      <td>0.0</td>\n",
       "      <td>0.0</td>\n",
       "      <td>0.0</td>\n",
       "      <td>0.0</td>\n",
       "      <td>0.0</td>\n",
       "      <td>0.0</td>\n",
       "      <td>0.0</td>\n",
       "      <td>0.0</td>\n",
       "    </tr>\n",
       "  </tbody>\n",
       "</table>\n",
       "<p>4 rows × 2556 columns</p>\n",
       "</div>"
      ],
      "text/plain": [
       "   Unnamed: 0       age  admissionweight  unitdischargeoffset  gender_Male  \\\n",
       "0           5  0.561644         0.062959              21310.0          0.0   \n",
       "1           5  0.479452         0.129381              50309.0          0.0   \n",
       "2           5  0.616438         0.087408              49058.0          1.0   \n",
       "3           5  0.767123         0.066632               4968.0          0.0   \n",
       "\n",
       "   gender_Unknown  ethnicity_African American  ethnicity_Asian  \\\n",
       "0             0.0                         0.0              0.0   \n",
       "1             0.0                         1.0              0.0   \n",
       "2             0.0                         0.0              1.0   \n",
       "3             0.0                         0.0              0.0   \n",
       "\n",
       "   ethnicity_Caucasian  ethnicity_Hispanic  ...  icd9Code_801.50  \\\n",
       "0                  1.0                 0.0  ...              0.0   \n",
       "1                  0.0                 0.0  ...              0.0   \n",
       "2                  0.0                 0.0  ...              0.0   \n",
       "3                  1.0                 0.0  ...              0.0   \n",
       "\n",
       "   icd9Code_130.0  icd9Code_483.1  icd9Code_G95.9  icd9Code_041.09  \\\n",
       "0             0.0             0.0             0.0              0.0   \n",
       "1             0.0             0.0             0.0              0.0   \n",
       "2             0.0             0.0             0.0              0.0   \n",
       "3             0.0             0.0             0.0              0.0   \n",
       "\n",
       "   icd9Code_810.10  icd9Code_835.10  icd9Code_041.19  icd9Code_811.10  \\\n",
       "0              0.0              0.0              0.0              0.0   \n",
       "1              0.0              0.0              0.0              0.0   \n",
       "2              0.0              0.0              0.0              0.0   \n",
       "3              0.0              0.0              0.0              0.0   \n",
       "\n",
       "   icd9Code_320.3  \n",
       "0             0.0  \n",
       "1             0.0  \n",
       "2             0.0  \n",
       "3             0.0  \n",
       "\n",
       "[4 rows x 2556 columns]"
      ]
     },
     "execution_count": 117,
     "metadata": {},
     "output_type": "execute_result"
    }
   ],
   "source": [
    "X_example"
   ]
  },
  {
   "cell_type": "code",
   "execution_count": 126,
   "metadata": {},
   "outputs": [
    {
     "data": {
      "text/plain": [
       "['John High', 'June Middle', 'Mary Lowe', 'Tom V. Lowe']"
      ]
     },
     "execution_count": 126,
     "metadata": {},
     "output_type": "execute_result"
    }
   ],
   "source": [
    "X_example.index.tolist()"
   ]
  },
  {
   "cell_type": "code",
   "execution_count": 169,
   "metadata": {},
   "outputs": [
    {
     "data": {
      "text/plain": [
       "array([[0.        ],\n",
       "       [0.75342466],\n",
       "       [1.        ]])"
      ]
     },
     "execution_count": 169,
     "metadata": {},
     "output_type": "execute_result"
    }
   ],
   "source": [
    "scaler.fit_transform(np.array([18,73,91]).reshape(-1, 1))\n"
   ]
  },
  {
   "cell_type": "code",
   "execution_count": 160,
   "metadata": {},
   "outputs": [
    {
     "data": {
      "text/plain": [
       "array([1, 2])"
      ]
     },
     "execution_count": 160,
     "metadata": {},
     "output_type": "execute_result"
    }
   ],
   "source": [
    "np.array([1,2])"
   ]
  },
  {
   "cell_type": "code",
   "execution_count": 167,
   "metadata": {},
   "outputs": [
    {
     "data": {
      "text/plain": [
       "array([[18, 73, 91]])"
      ]
     },
     "execution_count": 167,
     "metadata": {},
     "output_type": "execute_result"
    }
   ],
   "source": [
    "np.array([18,73,91]).reshape(1, -1)"
   ]
  },
  {
   "cell_type": "code",
   "execution_count": null,
   "metadata": {},
   "outputs": [],
   "source": []
  }
 ],
 "metadata": {
  "kernelspec": {
   "display_name": "Python 3",
   "language": "python",
   "name": "python3"
  },
  "language_info": {
   "codemirror_mode": {
    "name": "ipython",
    "version": 3
   },
   "file_extension": ".py",
   "mimetype": "text/x-python",
   "name": "python",
   "nbconvert_exporter": "python",
   "pygments_lexer": "ipython3",
   "version": "3.7.6"
  }
 },
 "nbformat": 4,
 "nbformat_minor": 4
}

{
 "cells": [
  {
   "cell_type": "markdown",
   "metadata": {},
   "source": [
    "# prepare_eicu_alone"
   ]
  },
  {
   "cell_type": "code",
   "execution_count": 1,
   "metadata": {},
   "outputs": [
    {
     "name": "stdout",
     "output_type": "stream",
     "text": [
      "time cut = 1440 minutes\n"
     ]
    }
   ],
   "source": [
    "RAND_SEED = 1234\n",
    "N_JOBS = 6\n",
    "TIME_CUT = 24*60 #(in minutes) time point cutoff. Will only use features knowable before this time, and outcome known after this time\n",
    "print('time cut = {} minutes'.format(TIME_CUT))"
   ]
  },
  {
   "cell_type": "markdown",
   "metadata": {},
   "source": [
    "## configure"
   ]
  },
  {
   "cell_type": "code",
   "execution_count": 2,
   "metadata": {},
   "outputs": [
    {
     "name": "stdout",
     "output_type": "stream",
     "text": [
      "Database: eicu\n",
      "Username: postgres\n",
      "\n",
      "Configured for local EICU database.\n"
     ]
    }
   ],
   "source": [
    "#configure for local eicu databse\n",
    "exec(open(\"/Users/grovesdixon/gitreps/Insight_fellowship_project/merge/configure_eicu.py\").read())"
   ]
  },
  {
   "cell_type": "markdown",
   "metadata": {},
   "source": [
    "## load patient data"
   ]
  },
  {
   "cell_type": "code",
   "execution_count": 3,
   "metadata": {
    "scrolled": true
   },
   "outputs": [
    {
     "name": "stdout",
     "output_type": "stream",
     "text": [
      "(200859, 9)\n",
      "200859\n"
     ]
    },
    {
     "data": {
      "text/html": [
       "<div>\n",
       "<style scoped>\n",
       "    .dataframe tbody tr th:only-of-type {\n",
       "        vertical-align: middle;\n",
       "    }\n",
       "\n",
       "    .dataframe tbody tr th {\n",
       "        vertical-align: top;\n",
       "    }\n",
       "\n",
       "    .dataframe thead th {\n",
       "        text-align: right;\n",
       "    }\n",
       "</style>\n",
       "<table border=\"1\" class=\"dataframe\">\n",
       "  <thead>\n",
       "    <tr style=\"text-align: right;\">\n",
       "      <th></th>\n",
       "      <th>patientunitstayid</th>\n",
       "      <th>patienthealthsystemstayid</th>\n",
       "      <th>gender</th>\n",
       "      <th>age</th>\n",
       "      <th>ethnicity</th>\n",
       "      <th>hospitalid</th>\n",
       "      <th>admissionweight</th>\n",
       "      <th>unitdischargeoffset</th>\n",
       "      <th>unitvisitnumber</th>\n",
       "    </tr>\n",
       "  </thead>\n",
       "  <tbody>\n",
       "    <tr>\n",
       "      <th>0</th>\n",
       "      <td>141168</td>\n",
       "      <td>128919</td>\n",
       "      <td>Female</td>\n",
       "      <td>70</td>\n",
       "      <td>Caucasian</td>\n",
       "      <td>59</td>\n",
       "      <td>84.3</td>\n",
       "      <td>3596</td>\n",
       "      <td>1</td>\n",
       "    </tr>\n",
       "    <tr>\n",
       "      <th>1</th>\n",
       "      <td>141178</td>\n",
       "      <td>128927</td>\n",
       "      <td>Female</td>\n",
       "      <td>52</td>\n",
       "      <td>Caucasian</td>\n",
       "      <td>60</td>\n",
       "      <td>54.4</td>\n",
       "      <td>8</td>\n",
       "      <td>1</td>\n",
       "    </tr>\n",
       "    <tr>\n",
       "      <th>2</th>\n",
       "      <td>141179</td>\n",
       "      <td>128927</td>\n",
       "      <td>Female</td>\n",
       "      <td>52</td>\n",
       "      <td>Caucasian</td>\n",
       "      <td>60</td>\n",
       "      <td>NaN</td>\n",
       "      <td>2042</td>\n",
       "      <td>2</td>\n",
       "    </tr>\n",
       "    <tr>\n",
       "      <th>3</th>\n",
       "      <td>141194</td>\n",
       "      <td>128941</td>\n",
       "      <td>Male</td>\n",
       "      <td>68</td>\n",
       "      <td>Caucasian</td>\n",
       "      <td>73</td>\n",
       "      <td>73.9</td>\n",
       "      <td>4813</td>\n",
       "      <td>1</td>\n",
       "    </tr>\n",
       "    <tr>\n",
       "      <th>4</th>\n",
       "      <td>141196</td>\n",
       "      <td>128943</td>\n",
       "      <td>Male</td>\n",
       "      <td>71</td>\n",
       "      <td>Caucasian</td>\n",
       "      <td>67</td>\n",
       "      <td>NaN</td>\n",
       "      <td>1463</td>\n",
       "      <td>2</td>\n",
       "    </tr>\n",
       "  </tbody>\n",
       "</table>\n",
       "</div>"
      ],
      "text/plain": [
       "   patientunitstayid  patienthealthsystemstayid  gender age  ethnicity  \\\n",
       "0             141168                     128919  Female  70  Caucasian   \n",
       "1             141178                     128927  Female  52  Caucasian   \n",
       "2             141179                     128927  Female  52  Caucasian   \n",
       "3             141194                     128941    Male  68  Caucasian   \n",
       "4             141196                     128943    Male  71  Caucasian   \n",
       "\n",
       "   hospitalid  admissionweight  unitdischargeoffset  unitvisitnumber  \n",
       "0          59             84.3                 3596                1  \n",
       "1          60             54.4                    8                1  \n",
       "2          60              NaN                 2042                2  \n",
       "3          73             73.9                 4813                1  \n",
       "4          67              NaN                 1463                2  "
      ]
     },
     "execution_count": 3,
     "metadata": {},
     "output_type": "execute_result"
    }
   ],
   "source": [
    "#load patient data\n",
    "#load patients data eicu\n",
    "query = query_schema + \"\"\"\n",
    "select \n",
    "    patientunitstayid,\n",
    "    patienthealthsystemstayid,\n",
    "    gender,\n",
    "    age,\n",
    "    ethnicity,\n",
    "    hospitalid,\n",
    "    admissionweight,\n",
    "    unitDischargeOffset,\n",
    "    unitvisitnumber\n",
    "from patient\n",
    "\"\"\"\n",
    "\n",
    "ep_dat = pd.read_sql_query(query, con)\n",
    "print(ep_dat.shape)\n",
    "print(len(ep_dat['patientunitstayid'].unique()))\n",
    "ep_dat.head()"
   ]
  },
  {
   "cell_type": "markdown",
   "metadata": {},
   "source": [
    "## load hospital data"
   ]
  },
  {
   "cell_type": "code",
   "execution_count": 4,
   "metadata": {
    "scrolled": false
   },
   "outputs": [
    {
     "name": "stdout",
     "output_type": "stream",
     "text": [
      "set search_path to public,eicu_crd;\n",
      "select \n",
      "    hospitalid,\n",
      "    region\n",
      "from hospital\n",
      "\n"
     ]
    },
    {
     "data": {
      "text/html": [
       "<div>\n",
       "<style scoped>\n",
       "    .dataframe tbody tr th:only-of-type {\n",
       "        vertical-align: middle;\n",
       "    }\n",
       "\n",
       "    .dataframe tbody tr th {\n",
       "        vertical-align: top;\n",
       "    }\n",
       "\n",
       "    .dataframe thead th {\n",
       "        text-align: right;\n",
       "    }\n",
       "</style>\n",
       "<table border=\"1\" class=\"dataframe\">\n",
       "  <thead>\n",
       "    <tr style=\"text-align: right;\">\n",
       "      <th></th>\n",
       "      <th>hospitalid</th>\n",
       "      <th>region</th>\n",
       "    </tr>\n",
       "  </thead>\n",
       "  <tbody>\n",
       "    <tr>\n",
       "      <th>0</th>\n",
       "      <td>56</td>\n",
       "      <td>Midwest</td>\n",
       "    </tr>\n",
       "    <tr>\n",
       "      <th>1</th>\n",
       "      <td>58</td>\n",
       "      <td>Midwest</td>\n",
       "    </tr>\n",
       "    <tr>\n",
       "      <th>2</th>\n",
       "      <td>59</td>\n",
       "      <td>Midwest</td>\n",
       "    </tr>\n",
       "    <tr>\n",
       "      <th>3</th>\n",
       "      <td>60</td>\n",
       "      <td>Midwest</td>\n",
       "    </tr>\n",
       "    <tr>\n",
       "      <th>4</th>\n",
       "      <td>61</td>\n",
       "      <td>Midwest</td>\n",
       "    </tr>\n",
       "  </tbody>\n",
       "</table>\n",
       "</div>"
      ],
      "text/plain": [
       "   hospitalid   region\n",
       "0          56  Midwest\n",
       "1          58  Midwest\n",
       "2          59  Midwest\n",
       "3          60  Midwest\n",
       "4          61  Midwest"
      ]
     },
     "execution_count": 4,
     "metadata": {},
     "output_type": "execute_result"
    }
   ],
   "source": [
    "#load hospital data eicu\n",
    "query = query_schema + \"\"\"\n",
    "select \n",
    "    hospitalid,\n",
    "    region\n",
    "from hospital\n",
    "\"\"\"\n",
    "\n",
    "eh_dat = pd.read_sql_query(query, con)\n",
    "print(query)\n",
    "eh_dat.head()"
   ]
  },
  {
   "cell_type": "markdown",
   "metadata": {},
   "source": [
    "## load Apache data"
   ]
  },
  {
   "cell_type": "code",
   "execution_count": 5,
   "metadata": {
    "scrolled": true
   },
   "outputs": [],
   "source": [
    "# #load the apache variables\n",
    "# query = query_schema + \"\"\"\n",
    "# select \n",
    "#     *\n",
    "# from apacheApsVar\n",
    "# \"\"\"\n",
    "\n",
    "# ea_dat0 = pd.read_sql_query(query, con)\n",
    "# print('Loading Apache variables...')\n",
    "# print(query)\n",
    "# print(ea_dat.columns)\n",
    "\n",
    "#load the apache scores\n",
    "query = query_schema + \"\"\"\n",
    "SELECT \n",
    "    acutePhysiologyScore,\n",
    "    predictedICUMortality,\n",
    "    predictedICULOS,\n",
    "    preopMI,\n",
    "    preopCardiacCath,\n",
    "    PTCAwithin24h,\n",
    "    apachePredVar.*\n",
    "    \n",
    "FROM apachePatientResult\n",
    "INNER JOIN apachePredVar \n",
    "ON apachePatientResult.patientunitstayid=apachePredVar.patientunitstayid;\n",
    "\"\"\"\n",
    "\n",
    "ea_dat = pd.read_sql_query(query, con)\n",
    "ea_dat = ea_dat.drop(['gender', 'age', 'region', 'electivesurgery'], 1) #drop vars repeated in patients table"
   ]
  },
  {
   "cell_type": "markdown",
   "metadata": {},
   "source": [
    "## assemble patient dataframe"
   ]
  },
  {
   "cell_type": "code",
   "execution_count": 6,
   "metadata": {},
   "outputs": [],
   "source": [
    "#build the patient dataframe\n",
    "pdat = pd.merge(ep_dat, eh_dat, how='inner', on = ['hospitalid']) #pateints and hospitals\n",
    "pdat.loc[pdat['gender']=='', 'gender'] = 'Unknown'\n",
    "pdat.loc[pdat['gender']=='Other', 'gender'] = 'Unknown'\n",
    "pdat.loc[pdat['admissionweight'].isna(), 'admissionweight'] = np.mean(pdat['admissionweight'])\n",
    "pdat.loc[pdat['age']=='> 89', 'age'] = 91\n",
    "pdat['age'] = pd.to_numeric(pdat['age'])\n",
    "pdat['hospitalid'] = 'hospital_' + pdat['hospitalid'].astype('str')\n",
    "pdat = pdat.loc[(pdat['age'].notna()) & (pdat['age']>=18), ] #just remove those with missing age and too young\n",
    "#pdat = pd.merge(pdat, ea_dat, how = 'inner', on = 'patientunitstayid')"
   ]
  },
  {
   "cell_type": "code",
   "execution_count": 7,
   "metadata": {},
   "outputs": [
    {
     "name": "stdout",
     "output_type": "stream",
     "text": [
      "(200234, 10)\n",
      "200234\n"
     ]
    }
   ],
   "source": [
    "print(pdat.shape)\n",
    "print(len(pdat['patientunitstayid'].unique()))"
   ]
  },
  {
   "cell_type": "code",
   "execution_count": 8,
   "metadata": {},
   "outputs": [],
   "source": [
    "#function to build boolean column for a column of hospital events\n",
    "def build_presence_absence_cols(stay_ids, long_df, long_col):\n",
    "    df = pd.DataFrame(stay_ids)\n",
    "    levels = long_df[long_col].unique()\n",
    "    print('making columns for {} levels'.format(len(levels)))\n",
    "    counter = 0\n",
    "    for l in levels:\n",
    "        counter += 1\n",
    "        if counter % 100 == 0:\n",
    "            print('level {} of {}'.format(counter, len(levels)))\n",
    "        new_col = '{}_{}'.format(long_col, l)\n",
    "        l_ids = long_df.loc[long_df[long_col]==l, 'patientunitstayid']\n",
    "        df[new_col] = df['patientunitstayid'].isin(l_ids).astype(int)\n",
    "    return df"
   ]
  },
  {
   "cell_type": "markdown",
   "metadata": {},
   "source": [
    "## load medications data"
   ]
  },
  {
   "cell_type": "code",
   "execution_count": 9,
   "metadata": {
    "scrolled": true
   },
   "outputs": [
    {
     "name": "stdout",
     "output_type": "stream",
     "text": [
      "patients query:\n",
      "set search_path to public,eicu_crd;\n",
      "SELECT \n",
      "    drugname,\n",
      "    patientunitstayid,\n",
      "    drugordercancelled,\n",
      "    drugOrderOffset\n",
      "from medication\n",
      "WHERE\n",
      "    drugordercancelled = 'No'\n",
      "\n",
      "Index(['drugname', 'patientunitstayid', 'drugordercancelled',\n",
      "       'drugorderoffset'],\n",
      "      dtype='object')\n"
     ]
    },
    {
     "data": {
      "text/html": [
       "<div>\n",
       "<style scoped>\n",
       "    .dataframe tbody tr th:only-of-type {\n",
       "        vertical-align: middle;\n",
       "    }\n",
       "\n",
       "    .dataframe tbody tr th {\n",
       "        vertical-align: top;\n",
       "    }\n",
       "\n",
       "    .dataframe thead th {\n",
       "        text-align: right;\n",
       "    }\n",
       "</style>\n",
       "<table border=\"1\" class=\"dataframe\">\n",
       "  <thead>\n",
       "    <tr style=\"text-align: right;\">\n",
       "      <th></th>\n",
       "      <th>drugname</th>\n",
       "      <th>patientunitstayid</th>\n",
       "      <th>drugorderoffset</th>\n",
       "    </tr>\n",
       "  </thead>\n",
       "  <tbody>\n",
       "    <tr>\n",
       "      <th>0</th>\n",
       "      <td>METOPROLOL TARTRATE 25 MG PO TABS</td>\n",
       "      <td>141168</td>\n",
       "      <td>309</td>\n",
       "    </tr>\n",
       "    <tr>\n",
       "      <th>2</th>\n",
       "      <td>ASPIRIN EC 81 MG PO TBEC</td>\n",
       "      <td>141168</td>\n",
       "      <td>296</td>\n",
       "    </tr>\n",
       "    <tr>\n",
       "      <th>4</th>\n",
       "      <td>ENOXAPARIN SODIUM 40 MG/0.4ML SC SOLN</td>\n",
       "      <td>141168</td>\n",
       "      <td>117</td>\n",
       "    </tr>\n",
       "    <tr>\n",
       "      <th>8</th>\n",
       "      <td>ENOXAPARIN SODIUM 40 MG/0.4ML SC SOLN</td>\n",
       "      <td>141178</td>\n",
       "      <td>8</td>\n",
       "    </tr>\n",
       "    <tr>\n",
       "      <th>9</th>\n",
       "      <td>SENNOSIDES-DOCUSATE SODIUM 8.6-50 MG PO TABS</td>\n",
       "      <td>141178</td>\n",
       "      <td>8</td>\n",
       "    </tr>\n",
       "  </tbody>\n",
       "</table>\n",
       "</div>"
      ],
      "text/plain": [
       "                                       drugname  patientunitstayid  \\\n",
       "0             METOPROLOL TARTRATE 25 MG PO TABS             141168   \n",
       "2                      ASPIRIN EC 81 MG PO TBEC             141168   \n",
       "4         ENOXAPARIN SODIUM 40 MG/0.4ML SC SOLN             141168   \n",
       "8         ENOXAPARIN SODIUM 40 MG/0.4ML SC SOLN             141178   \n",
       "9  SENNOSIDES-DOCUSATE SODIUM 8.6-50 MG PO TABS             141178   \n",
       "\n",
       "   drugorderoffset  \n",
       "0              309  \n",
       "2              296  \n",
       "4              117  \n",
       "8                8  \n",
       "9                8  "
      ]
     },
     "execution_count": 9,
     "metadata": {},
     "output_type": "execute_result"
    }
   ],
   "source": [
    "#load medications\n",
    "query = query_schema + \"\"\"\n",
    "SELECT \n",
    "    drugname,\n",
    "    patientunitstayid,\n",
    "    drugordercancelled,\n",
    "    drugOrderOffset\n",
    "from medication\n",
    "WHERE\n",
    "    drugordercancelled = 'No'\n",
    "\"\"\"\n",
    "print('patients query:')\n",
    "print(query)\n",
    "em_dat = pd.read_sql_query(query,con)\n",
    "print(em_dat.columns)\n",
    "em_dat = em_dat.drop(['drugordercancelled'], 1)\n",
    "em_dat = em_dat.loc[em_dat['drugname'].notna(), :]\n",
    "em_dat = em_dat.loc[em_dat['drugorderoffset'] < TIME_CUT, :]\n",
    "em_dat.head()"
   ]
  },
  {
   "cell_type": "code",
   "execution_count": null,
   "metadata": {
    "scrolled": false
   },
   "outputs": [
    {
     "name": "stdout",
     "output_type": "stream",
     "text": [
      "making columns for 1411 levels\n"
     ]
    }
   ],
   "source": [
    "#build boolean columns for diagnoses and add to pdat\n",
    "stay_ids = pdat['patientunitstayid']\n",
    "em_cols = build_presence_absence_cols(stay_ids, em_dat, 'drugname')\n",
    "print(em_cols.shape)\n",
    "em_cols.head()"
   ]
  },
  {
   "cell_type": "markdown",
   "metadata": {},
   "source": [
    "## load treatments"
   ]
  },
  {
   "cell_type": "code",
   "execution_count": null,
   "metadata": {},
   "outputs": [],
   "source": [
    "#load medications\n",
    "query = query_schema + \"\"\"\n",
    "SELECT \n",
    "    patientunitstayid,\n",
    "    treatmentstring,\n",
    "    treatmentoffset\n",
    "from treatment\n",
    "\"\"\"\n",
    "et_dat = pd.read_sql_query(query,con)\n",
    "et_dat = et_dat.loc[et_dat['treatmentstring'].notna(), :]\n",
    "et_dat = et_dat.loc[et_dat['treatmentoffset'] < TIME_CUT, :]\n",
    "et_dat.head()"
   ]
  },
  {
   "cell_type": "code",
   "execution_count": null,
   "metadata": {
    "scrolled": true
   },
   "outputs": [],
   "source": [
    "#build boolean columns for treatments and add to pdat\n",
    "stay_ids = pdat['patientunitstayid']\n",
    "et_cols = build_presence_absence_cols(stay_ids, et_dat, 'treatmentstring')\n",
    "print(et_cols.shape)\n",
    "et_cols.head()"
   ]
  },
  {
   "cell_type": "code",
   "execution_count": null,
   "metadata": {},
   "outputs": [],
   "source": [
    "print(et_cols.shape)\n",
    "print(len(et_cols['patientunitstayid'].unique()))"
   ]
  },
  {
   "cell_type": "markdown",
   "metadata": {},
   "source": [
    "## load diagnoses"
   ]
  },
  {
   "cell_type": "code",
   "execution_count": null,
   "metadata": {
    "scrolled": false
   },
   "outputs": [],
   "source": [
    "# load diagnosis from eicu\n",
    "query = query_schema + \"\"\"\n",
    "SELECT \n",
    "    patientunitstayid,\n",
    "    diagnosisstring,\n",
    "    diagnosisoffset,\n",
    "    icd9code\n",
    "from diagnosis\n",
    "\"\"\"\n",
    "print('patients query:')\n",
    "ed_dat = pd.read_sql_query(query,con)\n",
    "ed_dat[['icd9Code','extra']] = ed_dat['icd9code'].str.split(pat=',', expand=True, n=1)\n",
    "ed_dat = ed_dat.drop(['icd9code', 'extra'], 1)\n",
    "ed_dat = ed_dat.loc[ed_dat['diagnosisoffset'] < TIME_CUT, :]"
   ]
  },
  {
   "cell_type": "code",
   "execution_count": null,
   "metadata": {
    "scrolled": true
   },
   "outputs": [],
   "source": [
    "#build boolean columns for diagnoses and add to pdat\n",
    "stay_ids = pdat['patientunitstayid']\n",
    "ed_cols = build_presence_absence_cols(stay_ids, ed_dat, 'icd9Code')\n",
    "print(ed_cols.shape)\n",
    "ed_cols.head()"
   ]
  },
  {
   "cell_type": "code",
   "execution_count": null,
   "metadata": {},
   "outputs": [],
   "source": [
    "print(ed_cols.shape)\n",
    "print(len(ed_cols['patientunitstayid'].unique()))"
   ]
  },
  {
   "cell_type": "markdown",
   "metadata": {},
   "source": [
    "## format outcome"
   ]
  },
  {
   "cell_type": "code",
   "execution_count": null,
   "metadata": {
    "scrolled": true
   },
   "outputs": [],
   "source": [
    "# load outcome data\n",
    "query = query_schema + \"\"\"\n",
    "SELECT \n",
    "    patientunitstayid,\n",
    "    diagnosisstring,\n",
    "    icd9code,\n",
    "    diagnosisoffset\n",
    "from diagnosis\n",
    "\"\"\"\n",
    "print('patients query:')\n",
    "print(query)\n",
    "oc_dat = pd.read_sql_query(query,con)\n",
    "oc_dat[['icd9Code','extra']] = oc_dat['icd9code'].str.split(pat=',', expand=True, n=1)\n",
    "oc_dat = oc_dat.drop(['icd9code', 'extra'], 1)\n",
    "oc_dat.loc[oc_dat['diagnosisstring'].str.contains('diffici'), 'icd9Code'] = '008.45' #replace some missing codes\n",
    "oc_dat.head()"
   ]
  },
  {
   "cell_type": "code",
   "execution_count": null,
   "metadata": {},
   "outputs": [],
   "source": [
    "pdat['patientunitstayid'].unique()"
   ]
  },
  {
   "cell_type": "code",
   "execution_count": null,
   "metadata": {
    "scrolled": true
   },
   "outputs": [],
   "source": [
    "#exclude positive cases that predate data collection\n",
    "exclude = oc_dat.loc[(oc_dat['icd9Code']=='008.45') & (oc_dat['diagnosisoffset'] < TIME_CUT),:] #we do not want positive cases where diagnosis occured before our data cutoff\n",
    "ex_ids = exclude['patientunitstayid'].unique()\n",
    "oc = oc_dat.loc[~oc_dat['patientunitstayid'].isin(ex_ids),['patientunitstayid', 'icd9Code']]\n",
    "kept_ids = oc['patientunitstayid'].unique()\n",
    "total_ids = oc_dat['patientunitstayid'].unique()\n",
    "\n",
    "\n",
    "#build boolean columns for diagnoses and add to pdat\n",
    "stay_ids = pdat['patientunitstayid'].loc[pdat['patientunitstayid'].isin(kept_ids)]\n",
    "cdiff_dat = oc.loc[oc['icd9Code']=='008.45',:]\n",
    "cdiff_dat.sort_values('patientunitstayid', axis=0)\n",
    "cdiff_dat\n",
    "print('cdiff')\n",
    "print(cdiff_dat.shape)\n",
    "print(len(cdiff_dat['patientunitstayid'].unique()))\n",
    "\n",
    "\n",
    "oc_cols = build_presence_absence_cols(stay_ids, cdiff_dat, 'icd9Code')\n",
    "\n",
    "\n",
    "print(oc_cols.shape)\n",
    "print(len(oc_cols['patientunitstayid'].unique()))\n",
    "print(cdiff_dat.shape)\n",
    "print(len(cdiff_dat['patientunitstayid'].unique()))\n",
    "\n",
    "#print results\n",
    "total_visit_ids = len(oc_dat['patientunitstayid'].unique())\n",
    "visits_w_pos = len(oc_dat.loc[oc_dat['icd9Code']=='008.45', 'patientunitstayid'].unique())\n",
    "before_time = len(ex_ids)\n",
    "not_excluded = len(kept_ids)\n",
    "after_time = len(oc.loc[oc['icd9Code']=='008.45', 'patientunitstayid'].unique())\n",
    "print('total unique icu visits with diagnosis data = {}'.format(total_visit_ids))\n",
    "print('total excluded icu visits with cdiff diagnosis before time cut = {}'.format(before_time))\n",
    "print('total icu visits after exclusions = {}'.format(not_excluded))\n",
    "print('total icu visits with at least one cdiff diagnosis = {}'.format(visits_w_pos))\n",
    "print('total icu visits with cdiff diagnosis after time cut = {}'.format(after_time))\n",
    "print('total cases written to outcome column = {}'.format(len(oc_cols['patientunitstayid'])))\n",
    "print('positive cases written to outcome column = {}'.format(np.sum(oc_cols['icd9Code_008.45'])))\n",
    "print('negative cases written to outcome column = {}'.format(np.sum(oc_cols['icd9Code_008.45']==0)))\n",
    "oc_cols.head()"
   ]
  },
  {
   "cell_type": "markdown",
   "metadata": {},
   "source": [
    "## combine results"
   ]
  },
  {
   "cell_type": "code",
   "execution_count": null,
   "metadata": {
    "scrolled": true
   },
   "outputs": [],
   "source": [
    "#onehot encode the pdat columns\n",
    "to_onehot = [\n",
    "    'gender',\n",
    "    'ethnicity',\n",
    "    'hospitalid',\n",
    "    'region'\n",
    "]\n",
    "ep_cols = pd.get_dummies(pdat, columns = to_onehot, drop_first = True)\n",
    "ep_cols.head()"
   ]
  },
  {
   "cell_type": "code",
   "execution_count": null,
   "metadata": {
    "scrolled": true
   },
   "outputs": [],
   "source": [
    "#pdat\n",
    "#em_cols\n",
    "#ed_cols\n",
    "print('patienthealthsystemstayid matched?')\n",
    "print(np.sum(ep_cols['patientunitstayid'] == ed_cols['patientunitstayid'])==ed_cols.shape[0])\n",
    "print(np.sum(ep_cols['patientunitstayid'] == em_cols['patientunitstayid'])==ed_cols.shape[0])\n",
    "print(np.sum(ep_cols['patientunitstayid'] == et_cols['patientunitstayid'])==et_cols.shape[0])\n",
    "cat_list = [\n",
    "    ep_cols,\n",
    "    ed_cols.drop(['patientunitstayid', 'icd9Code_008.45'], 1),\n",
    "    em_cols.drop(['patientunitstayid'], 1),\n",
    "    et_cols.drop(['patientunitstayid'], 1)]\n",
    "cdat0 = pd.concat(cat_list, axis=1)\n",
    "print(cdat0.shape)\n",
    "cdat0.head()"
   ]
  },
  {
   "cell_type": "code",
   "execution_count": null,
   "metadata": {},
   "outputs": [],
   "source": [
    "#merge with outcome\n",
    "cdat = pd.merge(cdat0, oc_cols, how='inner', on='patientunitstayid')\n",
    "cdat.head()\n",
    "cdat.to_csv('~/Desktop/cdat.csv')"
   ]
  },
  {
   "cell_type": "markdown",
   "metadata": {},
   "source": [
    "## TEST LM"
   ]
  },
  {
   "cell_type": "code",
   "execution_count": 55,
   "metadata": {},
   "outputs": [
    {
     "name": "stdout",
     "output_type": "stream",
     "text": [
      "total positive cases = 410\n",
      "total negative cases = 171357\n",
      "(171767, 5211)\n"
     ]
    }
   ],
   "source": [
    "#PREPARE DATA FOR MODELING\n",
    "from sklearn.metrics import precision_recall_curve, roc_curve, roc_auc_score, confusion_matrix, accuracy_score, precision_score, recall_score, f1_score, classification_report\n",
    "y = cdat['icd9Code_008.45']\n",
    "X = cdat.drop([\n",
    "    'icd9Code_008.45',\n",
    "    'patientunitstayid',\n",
    "    'patienthealthsystemstayid'], 1)\n",
    "print('total positive cases = {}'.format(np.sum(y==1)))\n",
    "print('total negative cases = {}'.format(np.sum(y==0)))\n",
    "print(X.shape)"
   ]
  },
  {
   "cell_type": "code",
   "execution_count": 56,
   "metadata": {},
   "outputs": [
    {
     "data": {
      "text/html": [
       "<div>\n",
       "<style scoped>\n",
       "    .dataframe tbody tr th:only-of-type {\n",
       "        vertical-align: middle;\n",
       "    }\n",
       "\n",
       "    .dataframe tbody tr th {\n",
       "        vertical-align: top;\n",
       "    }\n",
       "\n",
       "    .dataframe thead th {\n",
       "        text-align: right;\n",
       "    }\n",
       "</style>\n",
       "<table border=\"1\" class=\"dataframe\">\n",
       "  <thead>\n",
       "    <tr style=\"text-align: right;\">\n",
       "      <th></th>\n",
       "      <th>age</th>\n",
       "      <th>admissionweight</th>\n",
       "      <th>unitdischargeoffset</th>\n",
       "      <th>unitvisitnumber</th>\n",
       "      <th>gender_Male</th>\n",
       "      <th>gender_Unknown</th>\n",
       "      <th>ethnicity_African American</th>\n",
       "      <th>ethnicity_Asian</th>\n",
       "      <th>ethnicity_Caucasian</th>\n",
       "      <th>ethnicity_Hispanic</th>\n",
       "      <th>...</th>\n",
       "      <th>treatmentstring_surgery|immunosuppressives|immunosuppressive therapy|basiliximab</th>\n",
       "      <th>treatmentstring_cardiovascular|other therapies|antibacterials|penicillins|penicllin G benzathine</th>\n",
       "      <th>treatmentstring_toxicology|drug overdose|agent specific therapy|cocaine overdose|anticonvulsant|midazolam</th>\n",
       "      <th>treatmentstring_endocrine|diagnostic studies|CT scan|pancreas</th>\n",
       "      <th>treatmentstring_hematology|transplant and immunology|bone marrow transplantation</th>\n",
       "      <th>treatmentstring_endocrine|thyroid disorder|glucocorticoids|stress doses</th>\n",
       "      <th>treatmentstring_surgery|GI therapies|stress ulcer treatment|ranitidine</th>\n",
       "      <th>treatmentstring_pulmonary|medications|antibacterials|third generation cephalosporin|cefotaxime</th>\n",
       "      <th>treatmentstring_surgery|seizure therapy|anticonvulsant|midazolam</th>\n",
       "      <th>treatmentstring_surgery|pulmonary therapies|mechanical ventilation|non-invasive ventilation|nasal mask</th>\n",
       "    </tr>\n",
       "  </thead>\n",
       "  <tbody>\n",
       "    <tr>\n",
       "      <th>0</th>\n",
       "      <td>0.712329</td>\n",
       "      <td>0.088458</td>\n",
       "      <td>3596</td>\n",
       "      <td>1</td>\n",
       "      <td>0</td>\n",
       "      <td>0</td>\n",
       "      <td>0</td>\n",
       "      <td>0</td>\n",
       "      <td>1</td>\n",
       "      <td>0</td>\n",
       "      <td>...</td>\n",
       "      <td>0</td>\n",
       "      <td>0</td>\n",
       "      <td>0</td>\n",
       "      <td>0</td>\n",
       "      <td>0</td>\n",
       "      <td>0</td>\n",
       "      <td>0</td>\n",
       "      <td>0</td>\n",
       "      <td>0</td>\n",
       "      <td>0</td>\n",
       "    </tr>\n",
       "    <tr>\n",
       "      <th>1</th>\n",
       "      <td>0.712329</td>\n",
       "      <td>0.088073</td>\n",
       "      <td>6639</td>\n",
       "      <td>1</td>\n",
       "      <td>1</td>\n",
       "      <td>0</td>\n",
       "      <td>0</td>\n",
       "      <td>0</td>\n",
       "      <td>1</td>\n",
       "      <td>0</td>\n",
       "      <td>...</td>\n",
       "      <td>0</td>\n",
       "      <td>0</td>\n",
       "      <td>0</td>\n",
       "      <td>0</td>\n",
       "      <td>0</td>\n",
       "      <td>0</td>\n",
       "      <td>0</td>\n",
       "      <td>0</td>\n",
       "      <td>0</td>\n",
       "      <td>0</td>\n",
       "    </tr>\n",
       "    <tr>\n",
       "      <th>2</th>\n",
       "      <td>0.780822</td>\n",
       "      <td>0.137985</td>\n",
       "      <td>1145</td>\n",
       "      <td>1</td>\n",
       "      <td>1</td>\n",
       "      <td>0</td>\n",
       "      <td>0</td>\n",
       "      <td>0</td>\n",
       "      <td>1</td>\n",
       "      <td>0</td>\n",
       "      <td>...</td>\n",
       "      <td>0</td>\n",
       "      <td>0</td>\n",
       "      <td>0</td>\n",
       "      <td>0</td>\n",
       "      <td>0</td>\n",
       "      <td>0</td>\n",
       "      <td>0</td>\n",
       "      <td>0</td>\n",
       "      <td>0</td>\n",
       "      <td>0</td>\n",
       "    </tr>\n",
       "    <tr>\n",
       "      <th>3</th>\n",
       "      <td>0.835616</td>\n",
       "      <td>0.055194</td>\n",
       "      <td>2623</td>\n",
       "      <td>1</td>\n",
       "      <td>0</td>\n",
       "      <td>0</td>\n",
       "      <td>0</td>\n",
       "      <td>0</td>\n",
       "      <td>1</td>\n",
       "      <td>0</td>\n",
       "      <td>...</td>\n",
       "      <td>0</td>\n",
       "      <td>0</td>\n",
       "      <td>0</td>\n",
       "      <td>0</td>\n",
       "      <td>0</td>\n",
       "      <td>0</td>\n",
       "      <td>0</td>\n",
       "      <td>0</td>\n",
       "      <td>0</td>\n",
       "      <td>0</td>\n",
       "    </tr>\n",
       "    <tr>\n",
       "      <th>4</th>\n",
       "      <td>0.808219</td>\n",
       "      <td>0.099790</td>\n",
       "      <td>873</td>\n",
       "      <td>1</td>\n",
       "      <td>0</td>\n",
       "      <td>0</td>\n",
       "      <td>0</td>\n",
       "      <td>0</td>\n",
       "      <td>1</td>\n",
       "      <td>0</td>\n",
       "      <td>...</td>\n",
       "      <td>0</td>\n",
       "      <td>0</td>\n",
       "      <td>0</td>\n",
       "      <td>0</td>\n",
       "      <td>0</td>\n",
       "      <td>0</td>\n",
       "      <td>0</td>\n",
       "      <td>0</td>\n",
       "      <td>0</td>\n",
       "      <td>0</td>\n",
       "    </tr>\n",
       "  </tbody>\n",
       "</table>\n",
       "<p>5 rows × 5211 columns</p>\n",
       "</div>"
      ],
      "text/plain": [
       "        age  admissionweight  unitdischargeoffset  unitvisitnumber  \\\n",
       "0  0.712329         0.088458                 3596                1   \n",
       "1  0.712329         0.088073                 6639                1   \n",
       "2  0.780822         0.137985                 1145                1   \n",
       "3  0.835616         0.055194                 2623                1   \n",
       "4  0.808219         0.099790                  873                1   \n",
       "\n",
       "   gender_Male  gender_Unknown  ethnicity_African American  ethnicity_Asian  \\\n",
       "0            0               0                           0                0   \n",
       "1            1               0                           0                0   \n",
       "2            1               0                           0                0   \n",
       "3            0               0                           0                0   \n",
       "4            0               0                           0                0   \n",
       "\n",
       "   ethnicity_Caucasian  ethnicity_Hispanic  ...  \\\n",
       "0                    1                   0  ...   \n",
       "1                    1                   0  ...   \n",
       "2                    1                   0  ...   \n",
       "3                    1                   0  ...   \n",
       "4                    1                   0  ...   \n",
       "\n",
       "   treatmentstring_surgery|immunosuppressives|immunosuppressive therapy|basiliximab  \\\n",
       "0                                                  0                                  \n",
       "1                                                  0                                  \n",
       "2                                                  0                                  \n",
       "3                                                  0                                  \n",
       "4                                                  0                                  \n",
       "\n",
       "   treatmentstring_cardiovascular|other therapies|antibacterials|penicillins|penicllin G benzathine  \\\n",
       "0                                                  0                                                  \n",
       "1                                                  0                                                  \n",
       "2                                                  0                                                  \n",
       "3                                                  0                                                  \n",
       "4                                                  0                                                  \n",
       "\n",
       "   treatmentstring_toxicology|drug overdose|agent specific therapy|cocaine overdose|anticonvulsant|midazolam  \\\n",
       "0                                                  0                                                           \n",
       "1                                                  0                                                           \n",
       "2                                                  0                                                           \n",
       "3                                                  0                                                           \n",
       "4                                                  0                                                           \n",
       "\n",
       "   treatmentstring_endocrine|diagnostic studies|CT scan|pancreas  \\\n",
       "0                                                  0               \n",
       "1                                                  0               \n",
       "2                                                  0               \n",
       "3                                                  0               \n",
       "4                                                  0               \n",
       "\n",
       "   treatmentstring_hematology|transplant and immunology|bone marrow transplantation  \\\n",
       "0                                                  0                                  \n",
       "1                                                  0                                  \n",
       "2                                                  0                                  \n",
       "3                                                  0                                  \n",
       "4                                                  0                                  \n",
       "\n",
       "   treatmentstring_endocrine|thyroid disorder|glucocorticoids|stress doses  \\\n",
       "0                                                  0                         \n",
       "1                                                  0                         \n",
       "2                                                  0                         \n",
       "3                                                  0                         \n",
       "4                                                  0                         \n",
       "\n",
       "   treatmentstring_surgery|GI therapies|stress ulcer treatment|ranitidine  \\\n",
       "0                                                  0                        \n",
       "1                                                  0                        \n",
       "2                                                  0                        \n",
       "3                                                  0                        \n",
       "4                                                  0                        \n",
       "\n",
       "   treatmentstring_pulmonary|medications|antibacterials|third generation cephalosporin|cefotaxime  \\\n",
       "0                                                  0                                                \n",
       "1                                                  0                                                \n",
       "2                                                  0                                                \n",
       "3                                                  0                                                \n",
       "4                                                  0                                                \n",
       "\n",
       "   treatmentstring_surgery|seizure therapy|anticonvulsant|midazolam  \\\n",
       "0                                                  0                  \n",
       "1                                                  0                  \n",
       "2                                                  0                  \n",
       "3                                                  0                  \n",
       "4                                                  0                  \n",
       "\n",
       "   treatmentstring_surgery|pulmonary therapies|mechanical ventilation|non-invasive ventilation|nasal mask  \n",
       "0                                                  0                                                       \n",
       "1                                                  0                                                       \n",
       "2                                                  0                                                       \n",
       "3                                                  0                                                       \n",
       "4                                                  0                                                       \n",
       "\n",
       "[5 rows x 5211 columns]"
      ]
     },
     "execution_count": 56,
     "metadata": {},
     "output_type": "execute_result"
    }
   ],
   "source": [
    "#scale the dataframe\n",
    "from sklearn.preprocessing import MinMaxScaler\n",
    "scaler = MinMaxScaler()\n",
    "need_scaling = [\n",
    "    'age',\n",
    "    'admissionweight'\n",
    "]\n",
    "X[need_scaling] = scaler.fit_transform(X[need_scaling])\n",
    "X.head()"
   ]
  },
  {
   "cell_type": "code",
   "execution_count": 57,
   "metadata": {},
   "outputs": [],
   "source": [
    "#split out a traingin and test sets\n",
    "from sklearn.model_selection import train_test_split\n",
    "X_train, X_test, y_train, y_test = train_test_split(X, y, test_size = 0.2, random_state=321)"
   ]
  },
  {
   "cell_type": "markdown",
   "metadata": {},
   "source": [
    "# Fit models"
   ]
  },
  {
   "cell_type": "markdown",
   "metadata": {},
   "source": [
    "## lasso regression"
   ]
  },
  {
   "cell_type": "code",
   "execution_count": 58,
   "metadata": {},
   "outputs": [
    {
     "data": {
      "text/plain": [
       "LogisticRegression(C=1.0, class_weight=None, dual=False, fit_intercept=True,\n",
       "                   intercept_scaling=1, l1_ratio=None, max_iter=1000,\n",
       "                   multi_class='auto', n_jobs=None, penalty='l1',\n",
       "                   random_state=None, solver='liblinear', tol=0.0001, verbose=0,\n",
       "                   warm_start=False)"
      ]
     },
     "execution_count": 58,
     "metadata": {},
     "output_type": "execute_result"
    }
   ],
   "source": [
    "#lasso logistic regression\n",
    "l1log_reg = LogisticRegression(max_iter=1000, penalty='l1', solver='liblinear')\n",
    "\n",
    "#train\n",
    "l1log_reg.fit(X_train, y_train)"
   ]
  },
  {
   "cell_type": "code",
   "execution_count": 59,
   "metadata": {},
   "outputs": [
    {
     "data": {
      "image/png": "[encoded data removed]",
      "text/plain": [
       "<Figure size 432x288 with 1 Axes>"
      ]
     },
     "metadata": {
      "needs_background": "light"
     },
     "output_type": "display_data"
    },
    {
     "data": {
      "image/png": "[encoded data removed]",
      "text/plain": [
       "<Figure size 432x288 with 1 Axes>"
      ]
     },
     "metadata": {
      "needs_background": "light"
     },
     "output_type": "display_data"
    },
    {
     "name": "stdout",
     "output_type": "stream",
     "text": [
      "Confusion matrix for threshold = 0.09:\n",
      "[[136882    201]\n",
      " [   202    128]]\n",
      "Classification report:\n",
      "              precision    recall  f1-score   support\n",
      "\n",
      "           0       1.00      1.00      1.00    137083\n",
      "           1       0.39      0.39      0.39       330\n",
      "\n",
      "    accuracy                           1.00    137413\n",
      "   macro avg       0.69      0.69      0.69    137413\n",
      "weighted avg       1.00      1.00      1.00    137413\n",
      "\n"
     ]
    },
    {
     "data": {
      "image/png": "[encoded data removed]",
      "text/plain": [
       "<Figure size 432x288 with 1 Axes>"
      ]
     },
     "metadata": {
      "needs_background": "light"
     },
     "output_type": "display_data"
    }
   ],
   "source": [
    "#performance on the training set\n",
    "l1probs_train = l1log_reg.predict_proba(X_train)\n",
    "l1scores_train = l1probs_train[:, 1]\n",
    "train_perf = get_model_performance('logistic regression training set', X_train, l1scores_train, y_train, pos_label=1)"
   ]
  },
  {
   "cell_type": "code",
   "execution_count": 60,
   "metadata": {
    "scrolled": true
   },
   "outputs": [
    {
     "data": {
      "image/png": "[encoded data removed]",
      "text/plain": [
       "<Figure size 432x288 with 1 Axes>"
      ]
     },
     "metadata": {
      "needs_background": "light"
     },
     "output_type": "display_data"
    },
    {
     "data": {
      "image/png": "[encoded data removed]",
      "text/plain": [
       "<Figure size 432x288 with 1 Axes>"
      ]
     },
     "metadata": {
      "needs_background": "light"
     },
     "output_type": "display_data"
    },
    {
     "name": "stdout",
     "output_type": "stream",
     "text": [
      "Confusion matrix for threshold = 0.1:\n",
      "[[34201    73]\n",
      " [   74     6]]\n",
      "Classification report:\n",
      "              precision    recall  f1-score   support\n",
      "\n",
      "           0       1.00      1.00      1.00     34274\n",
      "           1       0.08      0.07      0.08        80\n",
      "\n",
      "    accuracy                           1.00     34354\n",
      "   macro avg       0.54      0.54      0.54     34354\n",
      "weighted avg       1.00      1.00      1.00     34354\n",
      "\n"
     ]
    },
    {
     "data": {
      "image/png": "[encoded data removed]",
      "text/plain": [
       "<Figure size 432x288 with 1 Axes>"
      ]
     },
     "metadata": {
      "needs_background": "light"
     },
     "output_type": "display_data"
    }
   ],
   "source": [
    "#performance on the test set\n",
    "l1probs_test = l1log_reg.predict_proba(X_test)\n",
    "l1scores_test = l1probs_test[:, 1]\n",
    "test_perf = get_model_performance('logistic regression test set', X_test, l1scores_test, y_test, pos_label=1)"
   ]
  },
  {
   "cell_type": "markdown",
   "metadata": {},
   "source": [
    "## Random Forest"
   ]
  },
  {
   "cell_type": "code",
   "execution_count": 29,
   "metadata": {
    "scrolled": true
   },
   "outputs": [
    {
     "data": {
      "text/plain": [
       "RandomForestClassifier(bootstrap=True, ccp_alpha=0.0, class_weight=None,\n",
       "                       criterion='gini', max_depth=None, max_features='auto',\n",
       "                       max_leaf_nodes=None, max_samples=None,\n",
       "                       min_impurity_decrease=0.0, min_impurity_split=None,\n",
       "                       min_samples_leaf=1, min_samples_split=2,\n",
       "                       min_weight_fraction_leaf=0.0, n_estimators=100, n_jobs=4,\n",
       "                       oob_score=False, random_state=None, verbose=0,\n",
       "                       warm_start=False)"
      ]
     },
     "execution_count": 29,
     "metadata": {},
     "output_type": "execute_result"
    }
   ],
   "source": [
    "#RANDOM FOREST\n",
    "from sklearn.ensemble import RandomForestClassifier\n",
    "rf = RandomForestClassifier(n_jobs=4)\n",
    "#train\n",
    "rf.fit(X_train, y_train)"
   ]
  },
  {
   "cell_type": "code",
   "execution_count": 31,
   "metadata": {
    "scrolled": true
   },
   "outputs": [
    {
     "data": {
      "image/png": "[encoded data removed]",
      "text/plain": [
       "<Figure size 432x288 with 1 Axes>"
      ]
     },
     "metadata": {
      "needs_background": "light"
     },
     "output_type": "display_data"
    },
    {
     "data": {
      "image/png": "[encoded data removed]",
      "text/plain": [
       "<Figure size 432x288 with 1 Axes>"
      ]
     },
     "metadata": {
      "needs_background": "light"
     },
     "output_type": "display_data"
    },
    {
     "name": "stdout",
     "output_type": "stream",
     "text": [
      "Confusion matrix for threshold = 0.49:\n",
      "[[137083      0]\n",
      " [     1    329]]\n",
      "Classification report:\n",
      "              precision    recall  f1-score   support\n",
      "\n",
      "           0       1.00      1.00      1.00    137083\n",
      "           1       1.00      1.00      1.00       330\n",
      "\n",
      "    accuracy                           1.00    137413\n",
      "   macro avg       1.00      1.00      1.00    137413\n",
      "weighted avg       1.00      1.00      1.00    137413\n",
      "\n"
     ]
    },
    {
     "data": {
      "image/png": "[encoded data removed]",
      "text/plain": [
       "<Figure size 432x288 with 1 Axes>"
      ]
     },
     "metadata": {
      "needs_background": "light"
     },
     "output_type": "display_data"
    }
   ],
   "source": [
    "#random forest performance on training\n",
    "probs_rf = rf.predict_proba(X_train)\n",
    "scores_rf = probs_rf[:, 1]\n",
    "rf_perf = get_model_performance('random forest', X_train, scores_rf, y_train, pos_label=1)"
   ]
  },
  {
   "cell_type": "code",
   "execution_count": 32,
   "metadata": {
    "scrolled": true
   },
   "outputs": [
    {
     "data": {
      "image/png": "[encoded data removed]",
      "text/plain": [
       "<Figure size 432x288 with 1 Axes>"
      ]
     },
     "metadata": {
      "needs_background": "light"
     },
     "output_type": "display_data"
    },
    {
     "data": {
      "image/png": "[encoded data removed]",
      "text/plain": [
       "<Figure size 432x288 with 1 Axes>"
      ]
     },
     "metadata": {
      "needs_background": "light"
     },
     "output_type": "display_data"
    },
    {
     "name": "stdout",
     "output_type": "stream",
     "text": [
      "Confusion matrix for threshold = 0.07:\n",
      "[[34221    53]\n",
      " [   75     5]]\n",
      "Classification report:\n",
      "              precision    recall  f1-score   support\n",
      "\n",
      "           0       1.00      1.00      1.00     34274\n",
      "           1       0.09      0.06      0.07        80\n",
      "\n",
      "    accuracy                           1.00     34354\n",
      "   macro avg       0.54      0.53      0.54     34354\n",
      "weighted avg       1.00      1.00      1.00     34354\n",
      "\n"
     ]
    },
    {
     "data": {
      "image/png": "[encoded data removed]",
      "text/plain": [
       "<Figure size 432x288 with 1 Axes>"
      ]
     },
     "metadata": {
      "needs_background": "light"
     },
     "output_type": "display_data"
    }
   ],
   "source": [
    "#random forest performance on training\n",
    "probs_rf = rf.predict_proba(X_test)\n",
    "scores_rf = probs_rf[:, 1]\n",
    "rf_perf = get_model_performance('random forest', X_test, scores_rf, y_test, pos_label=1)"
   ]
  },
  {
   "cell_type": "markdown",
   "metadata": {},
   "source": [
    "## Optimize random forest"
   ]
  },
  {
   "cell_type": "code",
   "execution_count": 34,
   "metadata": {},
   "outputs": [
    {
     "name": "stdout",
     "output_type": "stream",
     "text": [
      "Fitting 3 folds for each of 3 candidates, totalling 9 fits\n"
     ]
    },
    {
     "name": "stderr",
     "output_type": "stream",
     "text": [
      "[Parallel(n_jobs=6)]: Using backend LokyBackend with 6 concurrent workers.\n",
      "[Parallel(n_jobs=6)]: Done   3 out of   9 | elapsed:  1.6min remaining:  3.2min\n",
      "[Parallel(n_jobs=6)]: Done   9 out of   9 | elapsed:  2.0min finished\n"
     ]
    },
    {
     "name": "stdout",
     "output_type": "stream",
     "text": [
      "{'min_samples_split': 100, 'min_samples_leaf': 25, 'max_depth': 100}\n"
     ]
    }
   ],
   "source": [
    "#------- OPTIMIZE RF\n",
    "\n",
    "#use RandomizedSearchCV() to optimized Random forest hyperparameters\n",
    "from sklearn.model_selection import RandomizedSearchCV\n",
    "rf_clf = RandomForestClassifier()\n",
    "\n",
    "#choose parameter grid values\n",
    "max_depth = [10, 50, 100, 200]\n",
    "min_samples_split = [10, 50, 100, 250]\n",
    "min_samples_leaf = [10, 25, 100, 250, 500]\n",
    "\n",
    "#make grid dict\n",
    "random_grid = {'max_depth': max_depth,\n",
    "               'min_samples_split': min_samples_split,\n",
    "               'min_samples_leaf': min_samples_leaf}\n",
    "\n",
    "\n",
    "# ### run random search\n",
    "rf_search = RandomizedSearchCV(estimator = rf_clf,\n",
    "                               param_distributions = random_grid,\n",
    "                               n_iter = 3,\n",
    "                               scoring = 'recall',\n",
    "                               cv = 3,\n",
    "                               verbose=2,\n",
    "                               random_state=RAND_SEED,\n",
    "                               n_jobs = )\n",
    "rf_search.fit(X_train, y_train)\n",
    "best_params = rf_search.best_params_\n",
    "print(rf_search.best_params_)\n",
    "\n",
    "\n",
    "# #or just select the best parameters if already run\n",
    "# best_params = {'min_samples_split': 10,\n",
    "#   'min_samples_leaf': 5,\n",
    "#   'max_features': 'sqrt',\n",
    "#   'max_depth': 100,\n",
    "#   'bootstrap': True}\n",
    "\n",
    "# print('Best parameters:')\n",
    "# print(best_params)\n",
    "\n"
   ]
  },
  {
   "cell_type": "code",
   "execution_count": 39,
   "metadata": {},
   "outputs": [
    {
     "data": {
      "text/plain": [
       "RandomForestClassifier(bootstrap=True, ccp_alpha=0.0, class_weight=None,\n",
       "                       criterion='gini', max_depth=100, max_features='auto',\n",
       "                       max_leaf_nodes=None, max_samples=None,\n",
       "                       min_impurity_decrease=0.0, min_impurity_split=None,\n",
       "                       min_samples_leaf=25, min_samples_split=100,\n",
       "                       min_weight_fraction_leaf=0.0, n_estimators=100, n_jobs=6,\n",
       "                       oob_score=False, random_state=1234, verbose=0,\n",
       "                       warm_start=False)"
      ]
     },
     "execution_count": 39,
     "metadata": {},
     "output_type": "execute_result"
    }
   ],
   "source": [
    "#set up optimized rf model based on from best_params above\n",
    "rf_opt = RandomForestClassifier(n_jobs=N_JOBS,\n",
    "                                min_samples_split = best_params['min_samples_split'],\n",
    "                                min_samples_leaf = best_params['min_samples_leaf'],\n",
    "                                max_depth = best_params['max_depth'],\n",
    "                                bootstrap = True,\n",
    "                               random_state=RAND_SEED)\n",
    "\n",
    "#train\n",
    "rf_opt.fit(X_train, y_train)"
   ]
  },
  {
   "cell_type": "code",
   "execution_count": 41,
   "metadata": {
    "scrolled": true
   },
   "outputs": [
    {
     "data": {
      "image/png": "[encoded data removed]",
      "text/plain": [
       "<Figure size 432x288 with 1 Axes>"
      ]
     },
     "metadata": {
      "needs_background": "light"
     },
     "output_type": "display_data"
    },
    {
     "data": {
      "image/png": "[encoded data removed]",
      "text/plain": [
       "<Figure size 432x288 with 1 Axes>"
      ]
     },
     "metadata": {
      "needs_background": "light"
     },
     "output_type": "display_data"
    },
    {
     "name": "stdout",
     "output_type": "stream",
     "text": [
      "Confusion matrix for threshold = 0.03:\n",
      "[[136836    247]\n",
      " [   248     82]]\n",
      "Classification report:\n",
      "              precision    recall  f1-score   support\n",
      "\n",
      "           0       1.00      1.00      1.00    137083\n",
      "           1       0.25      0.25      0.25       330\n",
      "\n",
      "    accuracy                           1.00    137413\n",
      "   macro avg       0.62      0.62      0.62    137413\n",
      "weighted avg       1.00      1.00      1.00    137413\n",
      "\n"
     ]
    },
    {
     "data": {
      "image/png": "[encoded data removed]",
      "text/plain": [
       "<Figure size 432x288 with 1 Axes>"
      ]
     },
     "metadata": {
      "needs_background": "light"
     },
     "output_type": "display_data"
    }
   ],
   "source": [
    "#optimized model performance on training set\n",
    "probs_opt_t = rf_opt.predict_proba(X_train)\n",
    "scores_opt_t = probs_opt_t[:, 1]\n",
    "opt_perf_t = get_model_performance('optimized random forest training', X_train, scores_opt_t, y_train, pos_label=1)"
   ]
  },
  {
   "cell_type": "code",
   "execution_count": 42,
   "metadata": {},
   "outputs": [
    {
     "data": {
      "image/png": "[encoded data removed]",
      "text/plain": [
       "<Figure size 432x288 with 1 Axes>"
      ]
     },
     "metadata": {
      "needs_background": "light"
     },
     "output_type": "display_data"
    },
    {
     "data": {
      "image/png": "[encoded data removed]",
      "text/plain": [
       "<Figure size 432x288 with 1 Axes>"
      ]
     },
     "metadata": {
      "needs_background": "light"
     },
     "output_type": "display_data"
    },
    {
     "name": "stdout",
     "output_type": "stream",
     "text": [
      "Confusion matrix for threshold = 0.03:\n",
      "[[34199    75]\n",
      " [   76     4]]\n",
      "Classification report:\n",
      "              precision    recall  f1-score   support\n",
      "\n",
      "           0       1.00      1.00      1.00     34274\n",
      "           1       0.05      0.05      0.05        80\n",
      "\n",
      "    accuracy                           1.00     34354\n",
      "   macro avg       0.52      0.52      0.52     34354\n",
      "weighted avg       1.00      1.00      1.00     34354\n",
      "\n"
     ]
    },
    {
     "data": {
      "image/png": "[encoded data removed]",
      "text/plain": [
       "<Figure size 432x288 with 1 Axes>"
      ]
     },
     "metadata": {
      "needs_background": "light"
     },
     "output_type": "display_data"
    }
   ],
   "source": [
    "#predict for test set\n",
    "test_probs = rf_opt.predict_proba(X_test)\n",
    "test_scores = test_probs[:, 1]\n",
    "test_perf = get_model_performance('optimized random forest TEST', X_test, test_scores, y_test, pos_label=1)"
   ]
  },
  {
   "cell_type": "code",
   "execution_count": 68,
   "metadata": {},
   "outputs": [
    {
     "name": "stdout",
     "output_type": "stream",
     "text": [
      "<class 'numpy.ndarray'>\n",
      "<class 'list'>\n",
      "(537, 2)\n"
     ]
    }
   ],
   "source": [
    "coefs = l1log_reg.coef_[0]\n",
    "features = list(X.columns)\n",
    "print(type(coefs))\n",
    "print(type(features))\n",
    "coef_df = pd.DataFrame({'feature':features, 'coef':coefs}).sort_values('coef', ascending=False)\n",
    "nonz = coef_df.loc[coef_df['coef'] > 0]\n",
    "print(nonz.shape)\n",
    "nonz.to_csv('non_zero_coefficients.csv')"
   ]
  },
  {
   "cell_type": "code",
   "execution_count": 67,
   "metadata": {},
   "outputs": [
    {
     "data": {
      "text/plain": [
       "'/Users/grovesdixon/gitreps/Insight_fellowship_project/merge'"
      ]
     },
     "execution_count": 67,
     "metadata": {},
     "output_type": "execute_result"
    }
   ],
   "source": [
    "os.getcwd()"
   ]
  },
  {
   "cell_type": "markdown",
   "metadata": {},
   "source": [
    "## test app"
   ]
  },
  {
   "cell_type": "code",
   "execution_count": 84,
   "metadata": {},
   "outputs": [],
   "source": [
    "res = X_train.copy()\n",
    "res['prob_cdiff'] = l1scores_train"
   ]
  },
  {
   "cell_type": "code",
   "execution_count": 153,
   "metadata": {},
   "outputs": [],
   "source": [
    "#pick a high ica stay\n",
    "high = res.loc[res['prob_cdiff'] > 0.9].sort_values('prob_cdiff', ascending = False)\n",
    "high.index = range(len(high.index))\n",
    "h = high.loc[5,:]\n",
    "h\n",
    "\n",
    "#pick a medium\n",
    "med = res.loc[(res['prob_cdiff'] > 0.6),].sort_values('prob_cdiff', ascending = True)\n",
    "med.index = range(len(med.index))\n",
    "m = med.loc[5,:]\n",
    "\n",
    "#low\n",
    "low = res.loc[(res['prob_cdiff'] > 0.1),].sort_values('prob_cdiff', ascending = True)\n",
    "low.index = range(len(low.index))\n",
    "l = low.loc[5,:]\n",
    "l\n",
    "\n",
    "#vlow\n",
    "low = res.loc[(res['prob_cdiff'] > 0.001),].sort_values('prob_cdiff', ascending = True)\n",
    "low.index = range(len(low.index))\n",
    "vl = low.loc[5,:]\n",
    "vl\n",
    "\n",
    "example_patients = pd.DataFrame([h,m,l,vl]).drop('prob_cdiff', 1)\n",
    "example_patients.index = ['June Hieghts', 'Jane Middleman', 'Joe Lowe', 'Jess V. Lowe']\n",
    "example_patients.to_csv('../app/example_patients.csv', index=True)"
   ]
  },
  {
   "cell_type": "code",
   "execution_count": 154,
   "metadata": {},
   "outputs": [],
   "source": [
    "# save the model to disk\n",
    "import pickle\n",
    "filename = '../app/lasso_model.sav'\n",
    "pickle.dump(l1log_reg, open(filename, 'wb'))"
   ]
  },
  {
   "cell_type": "code",
   "execution_count": 155,
   "metadata": {},
   "outputs": [
    {
     "data": {
      "text/html": [
       "<div>\n",
       "<style scoped>\n",
       "    .dataframe tbody tr th:only-of-type {\n",
       "        vertical-align: middle;\n",
       "    }\n",
       "\n",
       "    .dataframe tbody tr th {\n",
       "        vertical-align: top;\n",
       "    }\n",
       "\n",
       "    .dataframe thead th {\n",
       "        text-align: right;\n",
       "    }\n",
       "</style>\n",
       "<table border=\"1\" class=\"dataframe\">\n",
       "  <thead>\n",
       "    <tr style=\"text-align: right;\">\n",
       "      <th></th>\n",
       "      <th>age</th>\n",
       "      <th>admissionweight</th>\n",
       "      <th>unitdischargeoffset</th>\n",
       "      <th>gender_Male</th>\n",
       "      <th>gender_Unknown</th>\n",
       "      <th>ethnicity_African American</th>\n",
       "      <th>ethnicity_Asian</th>\n",
       "      <th>ethnicity_Caucasian</th>\n",
       "      <th>ethnicity_Hispanic</th>\n",
       "      <th>ethnicity_Native American</th>\n",
       "      <th>...</th>\n",
       "      <th>icd9Code_801.50</th>\n",
       "      <th>icd9Code_130.0</th>\n",
       "      <th>icd9Code_483.1</th>\n",
       "      <th>icd9Code_G95.9</th>\n",
       "      <th>icd9Code_041.09</th>\n",
       "      <th>icd9Code_810.10</th>\n",
       "      <th>icd9Code_835.10</th>\n",
       "      <th>icd9Code_041.19</th>\n",
       "      <th>icd9Code_811.10</th>\n",
       "      <th>icd9Code_320.3</th>\n",
       "    </tr>\n",
       "  </thead>\n",
       "  <tbody>\n",
       "    <tr>\n",
       "      <th>June Hieghts</th>\n",
       "      <td>0.561644</td>\n",
       "      <td>0.062959</td>\n",
       "      <td>21310.0</td>\n",
       "      <td>0.0</td>\n",
       "      <td>0.0</td>\n",
       "      <td>0.0</td>\n",
       "      <td>0.0</td>\n",
       "      <td>1.0</td>\n",
       "      <td>0.0</td>\n",
       "      <td>0.0</td>\n",
       "      <td>...</td>\n",
       "      <td>0.0</td>\n",
       "      <td>0.0</td>\n",
       "      <td>0.0</td>\n",
       "      <td>0.0</td>\n",
       "      <td>0.0</td>\n",
       "      <td>0.0</td>\n",
       "      <td>0.0</td>\n",
       "      <td>0.0</td>\n",
       "      <td>0.0</td>\n",
       "      <td>0.0</td>\n",
       "    </tr>\n",
       "    <tr>\n",
       "      <th>Jane Middleman</th>\n",
       "      <td>0.479452</td>\n",
       "      <td>0.129381</td>\n",
       "      <td>50309.0</td>\n",
       "      <td>0.0</td>\n",
       "      <td>0.0</td>\n",
       "      <td>1.0</td>\n",
       "      <td>0.0</td>\n",
       "      <td>0.0</td>\n",
       "      <td>0.0</td>\n",
       "      <td>0.0</td>\n",
       "      <td>...</td>\n",
       "      <td>0.0</td>\n",
       "      <td>0.0</td>\n",
       "      <td>0.0</td>\n",
       "      <td>0.0</td>\n",
       "      <td>0.0</td>\n",
       "      <td>0.0</td>\n",
       "      <td>0.0</td>\n",
       "      <td>0.0</td>\n",
       "      <td>0.0</td>\n",
       "      <td>0.0</td>\n",
       "    </tr>\n",
       "    <tr>\n",
       "      <th>Joe Lowe</th>\n",
       "      <td>0.616438</td>\n",
       "      <td>0.087408</td>\n",
       "      <td>49058.0</td>\n",
       "      <td>1.0</td>\n",
       "      <td>0.0</td>\n",
       "      <td>0.0</td>\n",
       "      <td>1.0</td>\n",
       "      <td>0.0</td>\n",
       "      <td>0.0</td>\n",
       "      <td>0.0</td>\n",
       "      <td>...</td>\n",
       "      <td>0.0</td>\n",
       "      <td>0.0</td>\n",
       "      <td>0.0</td>\n",
       "      <td>0.0</td>\n",
       "      <td>0.0</td>\n",
       "      <td>0.0</td>\n",
       "      <td>0.0</td>\n",
       "      <td>0.0</td>\n",
       "      <td>0.0</td>\n",
       "      <td>0.0</td>\n",
       "    </tr>\n",
       "    <tr>\n",
       "      <th>Jess V. Lowe</th>\n",
       "      <td>0.767123</td>\n",
       "      <td>0.066632</td>\n",
       "      <td>4968.0</td>\n",
       "      <td>0.0</td>\n",
       "      <td>0.0</td>\n",
       "      <td>0.0</td>\n",
       "      <td>0.0</td>\n",
       "      <td>1.0</td>\n",
       "      <td>0.0</td>\n",
       "      <td>0.0</td>\n",
       "      <td>...</td>\n",
       "      <td>0.0</td>\n",
       "      <td>0.0</td>\n",
       "      <td>0.0</td>\n",
       "      <td>0.0</td>\n",
       "      <td>0.0</td>\n",
       "      <td>0.0</td>\n",
       "      <td>0.0</td>\n",
       "      <td>0.0</td>\n",
       "      <td>0.0</td>\n",
       "      <td>0.0</td>\n",
       "    </tr>\n",
       "  </tbody>\n",
       "</table>\n",
       "<p>4 rows × 2555 columns</p>\n",
       "</div>"
      ],
      "text/plain": [
       "                     age  admissionweight  unitdischargeoffset  gender_Male  \\\n",
       "June Hieghts    0.561644         0.062959              21310.0          0.0   \n",
       "Jane Middleman  0.479452         0.129381              50309.0          0.0   \n",
       "Joe Lowe        0.616438         0.087408              49058.0          1.0   \n",
       "Jess V. Lowe    0.767123         0.066632               4968.0          0.0   \n",
       "\n",
       "                gender_Unknown  ethnicity_African American  ethnicity_Asian  \\\n",
       "June Hieghts               0.0                         0.0              0.0   \n",
       "Jane Middleman             0.0                         1.0              0.0   \n",
       "Joe Lowe                   0.0                         0.0              1.0   \n",
       "Jess V. Lowe               0.0                         0.0              0.0   \n",
       "\n",
       "                ethnicity_Caucasian  ethnicity_Hispanic  \\\n",
       "June Hieghts                    1.0                 0.0   \n",
       "Jane Middleman                  0.0                 0.0   \n",
       "Joe Lowe                        0.0                 0.0   \n",
       "Jess V. Lowe                    1.0                 0.0   \n",
       "\n",
       "                ethnicity_Native American  ...  icd9Code_801.50  \\\n",
       "June Hieghts                          0.0  ...              0.0   \n",
       "Jane Middleman                        0.0  ...              0.0   \n",
       "Joe Lowe                              0.0  ...              0.0   \n",
       "Jess V. Lowe                          0.0  ...              0.0   \n",
       "\n",
       "                icd9Code_130.0  icd9Code_483.1  icd9Code_G95.9  \\\n",
       "June Hieghts               0.0             0.0             0.0   \n",
       "Jane Middleman             0.0             0.0             0.0   \n",
       "Joe Lowe                   0.0             0.0             0.0   \n",
       "Jess V. Lowe               0.0             0.0             0.0   \n",
       "\n",
       "                icd9Code_041.09  icd9Code_810.10  icd9Code_835.10  \\\n",
       "June Hieghts                0.0              0.0              0.0   \n",
       "Jane Middleman              0.0              0.0              0.0   \n",
       "Joe Lowe                    0.0              0.0              0.0   \n",
       "Jess V. Lowe                0.0              0.0              0.0   \n",
       "\n",
       "                icd9Code_041.19  icd9Code_811.10  icd9Code_320.3  \n",
       "June Hieghts                0.0              0.0             0.0  \n",
       "Jane Middleman              0.0              0.0             0.0  \n",
       "Joe Lowe                    0.0              0.0             0.0  \n",
       "Jess V. Lowe                0.0              0.0             0.0  \n",
       "\n",
       "[4 rows x 2555 columns]"
      ]
     },
     "execution_count": 155,
     "metadata": {},
     "output_type": "execute_result"
    }
   ],
   "source": [
    "# load the model from disk\n",
    "X_example = pd.read_csv('../app/example_patients.csv', index_col=0)\n",
    "loaded_model = pickle.load(open('lasso_model.sav', 'rb'))\n",
    "probs_example = loaded_model.predict_proba(X_example)\n",
    "scores_example = probs_example[:, 1]\n",
    "X_example.head()"
   ]
  },
  {
   "cell_type": "code",
   "execution_count": 156,
   "metadata": {},
   "outputs": [
    {
     "name": "stdout",
     "output_type": "stream",
     "text": [
      "age                        0.561644\n",
      "admissionweight            0.062959\n",
      "unitdischargeoffset    21310.000000\n",
      "gender_Male                0.000000\n",
      "gender_Unknown             0.000000\n",
      "                           ...     \n",
      "icd9Code_810.10            0.000000\n",
      "icd9Code_835.10            0.000000\n",
      "icd9Code_041.19            0.000000\n",
      "icd9Code_811.10            0.000000\n",
      "icd9Code_320.3             0.000000\n",
      "Name: June Hieghts, Length: 2555, dtype: float64\n"
     ]
    },
    {
     "data": {
      "text/plain": [
       "0.9459833237526097"
      ]
     },
     "execution_count": 156,
     "metadata": {},
     "output_type": "execute_result"
    }
   ],
   "source": [
    "patient = 'June Hieghts'\n",
    "psub = X_example.loc[patient,:]\n",
    "print(psub)\n",
    "p_prob = loaded_model.predict_proba([psub])\n",
    "p_prob[0][1]"
   ]
  },
  {
   "cell_type": "code",
   "execution_count": 117,
   "metadata": {},
   "outputs": [
    {
     "data": {
      "text/html": [
       "<div>\n",
       "<style scoped>\n",
       "    .dataframe tbody tr th:only-of-type {\n",
       "        vertical-align: middle;\n",
       "    }\n",
       "\n",
       "    .dataframe tbody tr th {\n",
       "        vertical-align: top;\n",
       "    }\n",
       "\n",
       "    .dataframe thead th {\n",
       "        text-align: right;\n",
       "    }\n",
       "</style>\n",
       "<table border=\"1\" class=\"dataframe\">\n",
       "  <thead>\n",
       "    <tr style=\"text-align: right;\">\n",
       "      <th></th>\n",
       "      <th>Unnamed: 0</th>\n",
       "      <th>age</th>\n",
       "      <th>admissionweight</th>\n",
       "      <th>unitdischargeoffset</th>\n",
       "      <th>gender_Male</th>\n",
       "      <th>gender_Unknown</th>\n",
       "      <th>ethnicity_African American</th>\n",
       "      <th>ethnicity_Asian</th>\n",
       "      <th>ethnicity_Caucasian</th>\n",
       "      <th>ethnicity_Hispanic</th>\n",
       "      <th>...</th>\n",
       "      <th>icd9Code_801.50</th>\n",
       "      <th>icd9Code_130.0</th>\n",
       "      <th>icd9Code_483.1</th>\n",
       "      <th>icd9Code_G95.9</th>\n",
       "      <th>icd9Code_041.09</th>\n",
       "      <th>icd9Code_810.10</th>\n",
       "      <th>icd9Code_835.10</th>\n",
       "      <th>icd9Code_041.19</th>\n",
       "      <th>icd9Code_811.10</th>\n",
       "      <th>icd9Code_320.3</th>\n",
       "    </tr>\n",
       "  </thead>\n",
       "  <tbody>\n",
       "    <tr>\n",
       "      <th>0</th>\n",
       "      <td>5</td>\n",
       "      <td>0.561644</td>\n",
       "      <td>0.062959</td>\n",
       "      <td>21310.0</td>\n",
       "      <td>0.0</td>\n",
       "      <td>0.0</td>\n",
       "      <td>0.0</td>\n",
       "      <td>0.0</td>\n",
       "      <td>1.0</td>\n",
       "      <td>0.0</td>\n",
       "      <td>...</td>\n",
       "      <td>0.0</td>\n",
       "      <td>0.0</td>\n",
       "      <td>0.0</td>\n",
       "      <td>0.0</td>\n",
       "      <td>0.0</td>\n",
       "      <td>0.0</td>\n",
       "      <td>0.0</td>\n",
       "      <td>0.0</td>\n",
       "      <td>0.0</td>\n",
       "      <td>0.0</td>\n",
       "    </tr>\n",
       "    <tr>\n",
       "      <th>1</th>\n",
       "      <td>5</td>\n",
       "      <td>0.479452</td>\n",
       "      <td>0.129381</td>\n",
       "      <td>50309.0</td>\n",
       "      <td>0.0</td>\n",
       "      <td>0.0</td>\n",
       "      <td>1.0</td>\n",
       "      <td>0.0</td>\n",
       "      <td>0.0</td>\n",
       "      <td>0.0</td>\n",
       "      <td>...</td>\n",
       "      <td>0.0</td>\n",
       "      <td>0.0</td>\n",
       "      <td>0.0</td>\n",
       "      <td>0.0</td>\n",
       "      <td>0.0</td>\n",
       "      <td>0.0</td>\n",
       "      <td>0.0</td>\n",
       "      <td>0.0</td>\n",
       "      <td>0.0</td>\n",
       "      <td>0.0</td>\n",
       "    </tr>\n",
       "    <tr>\n",
       "      <th>2</th>\n",
       "      <td>5</td>\n",
       "      <td>0.616438</td>\n",
       "      <td>0.087408</td>\n",
       "      <td>49058.0</td>\n",
       "      <td>1.0</td>\n",
       "      <td>0.0</td>\n",
       "      <td>0.0</td>\n",
       "      <td>1.0</td>\n",
       "      <td>0.0</td>\n",
       "      <td>0.0</td>\n",
       "      <td>...</td>\n",
       "      <td>0.0</td>\n",
       "      <td>0.0</td>\n",
       "      <td>0.0</td>\n",
       "      <td>0.0</td>\n",
       "      <td>0.0</td>\n",
       "      <td>0.0</td>\n",
       "      <td>0.0</td>\n",
       "      <td>0.0</td>\n",
       "      <td>0.0</td>\n",
       "      <td>0.0</td>\n",
       "    </tr>\n",
       "    <tr>\n",
       "      <th>3</th>\n",
       "      <td>5</td>\n",
       "      <td>0.767123</td>\n",
       "      <td>0.066632</td>\n",
       "      <td>4968.0</td>\n",
       "      <td>0.0</td>\n",
       "      <td>0.0</td>\n",
       "      <td>0.0</td>\n",
       "      <td>0.0</td>\n",
       "      <td>1.0</td>\n",
       "      <td>0.0</td>\n",
       "      <td>...</td>\n",
       "      <td>0.0</td>\n",
       "      <td>0.0</td>\n",
       "      <td>0.0</td>\n",
       "      <td>0.0</td>\n",
       "      <td>0.0</td>\n",
       "      <td>0.0</td>\n",
       "      <td>0.0</td>\n",
       "      <td>0.0</td>\n",
       "      <td>0.0</td>\n",
       "      <td>0.0</td>\n",
       "    </tr>\n",
       "  </tbody>\n",
       "</table>\n",
       "<p>4 rows × 2556 columns</p>\n",
       "</div>"
      ],
      "text/plain": [
       "   Unnamed: 0       age  admissionweight  unitdischargeoffset  gender_Male  \\\n",
       "0           5  0.561644         0.062959              21310.0          0.0   \n",
       "1           5  0.479452         0.129381              50309.0          0.0   \n",
       "2           5  0.616438         0.087408              49058.0          1.0   \n",
       "3           5  0.767123         0.066632               4968.0          0.0   \n",
       "\n",
       "   gender_Unknown  ethnicity_African American  ethnicity_Asian  \\\n",
       "0             0.0                         0.0              0.0   \n",
       "1             0.0                         1.0              0.0   \n",
       "2             0.0                         0.0              1.0   \n",
       "3             0.0                         0.0              0.0   \n",
       "\n",
       "   ethnicity_Caucasian  ethnicity_Hispanic  ...  icd9Code_801.50  \\\n",
       "0                  1.0                 0.0  ...              0.0   \n",
       "1                  0.0                 0.0  ...              0.0   \n",
       "2                  0.0                 0.0  ...              0.0   \n",
       "3                  1.0                 0.0  ...              0.0   \n",
       "\n",
       "   icd9Code_130.0  icd9Code_483.1  icd9Code_G95.9  icd9Code_041.09  \\\n",
       "0             0.0             0.0             0.0              0.0   \n",
       "1             0.0             0.0             0.0              0.0   \n",
       "2             0.0             0.0             0.0              0.0   \n",
       "3             0.0             0.0             0.0              0.0   \n",
       "\n",
       "   icd9Code_810.10  icd9Code_835.10  icd9Code_041.19  icd9Code_811.10  \\\n",
       "0              0.0              0.0              0.0              0.0   \n",
       "1              0.0              0.0              0.0              0.0   \n",
       "2              0.0              0.0              0.0              0.0   \n",
       "3              0.0              0.0              0.0              0.0   \n",
       "\n",
       "   icd9Code_320.3  \n",
       "0             0.0  \n",
       "1             0.0  \n",
       "2             0.0  \n",
       "3             0.0  \n",
       "\n",
       "[4 rows x 2556 columns]"
      ]
     },
     "execution_count": 117,
     "metadata": {},
     "output_type": "execute_result"
    }
   ],
   "source": [
    "X_example"
   ]
  },
  {
   "cell_type": "code",
   "execution_count": 126,
   "metadata": {},
   "outputs": [
    {
     "data": {
      "text/plain": [
       "['John High', 'June Middle', 'Mary Lowe', 'Tom V. Lowe']"
      ]
     },
     "execution_count": 126,
     "metadata": {},
     "output_type": "execute_result"
    }
   ],
   "source": [
    "X_example.index.tolist()"
   ]
  },
  {
   "cell_type": "code",
   "execution_count": 169,
   "metadata": {},
   "outputs": [
    {
     "data": {
      "text/plain": [
       "array([[0.        ],\n",
       "       [0.75342466],\n",
       "       [1.        ]])"
      ]
     },
     "execution_count": 169,
     "metadata": {},
     "output_type": "execute_result"
    }
   ],
   "source": [
    "scaler.fit_transform(np.array([18,73,91]).reshape(-1, 1))\n"
   ]
  },
  {
   "cell_type": "code",
   "execution_count": 160,
   "metadata": {},
   "outputs": [
    {
     "data": {
      "text/plain": [
       "array([1, 2])"
      ]
     },
     "execution_count": 160,
     "metadata": {},
     "output_type": "execute_result"
    }
   ],
   "source": [
    "np.array([1,2])"
   ]
  },
  {
   "cell_type": "code",
   "execution_count": 167,
   "metadata": {},
   "outputs": [
    {
     "data": {
      "text/plain": [
       "array([[18, 73, 91]])"
      ]
     },
     "execution_count": 167,
     "metadata": {},
     "output_type": "execute_result"
    }
   ],
   "source": [
    "np.array([18,73,91]).reshape(1, -1)"
   ]
  },
  {
   "cell_type": "code",
   "execution_count": null,
   "metadata": {},
   "outputs": [],
   "source": []
  }
 ],
 "metadata": {
  "kernelspec": {
   "display_name": "Python 3",
   "language": "python",
   "name": "python3"
  },
  "language_info": {
   "codemirror_mode": {
    "name": "ipython",
    "version": 3
   },
   "file_extension": ".py",
   "mimetype": "text/x-python",
   "name": "python",
   "nbconvert_exporter": "python",
   "pygments_lexer": "ipython3",
   "version": "3.7.6"
  }
 },
 "nbformat": 4,
 "nbformat_minor": 4
}

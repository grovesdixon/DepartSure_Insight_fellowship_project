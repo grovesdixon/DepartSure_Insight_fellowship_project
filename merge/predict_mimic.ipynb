{
 "cells": [
  {
   "cell_type": "markdown",
   "metadata": {},
   "source": [
    "## load"
   ]
  },
  {
   "cell_type": "code",
   "execution_count": 1,
   "metadata": {},
   "outputs": [
    {
     "name": "stdout",
     "output_type": "stream",
     "text": [
      "3.7.6 (default, Jan  8 2020, 13:42:34) \n",
      "[Clang 4.0.1 (tags/RELEASE_401/final)]\n"
     ]
    }
   ],
   "source": [
    "import sys\n",
    "print(sys.version)"
   ]
  },
  {
   "cell_type": "code",
   "execution_count": 2,
   "metadata": {
    "scrolled": true
   },
   "outputs": [
    {
     "name": "stdout",
     "output_type": "stream",
     "text": [
      "Database: eicu\n",
      "Username: postgres\n",
      "\n",
      "Configured for local EICU database.\n"
     ]
    }
   ],
   "source": [
    "#configure for local eicu databse\n",
    "exec(open(\"/Users/grovesdixon/gitreps/Insight_fellowship_project/merge/configure_eicu.py\").read())\n",
    "exec(open(\"my_functions.py\").read())"
   ]
  },
  {
   "cell_type": "code",
   "execution_count": 3,
   "metadata": {},
   "outputs": [
    {
     "name": "stdout",
     "output_type": "stream",
     "text": [
      "2436\n"
     ]
    }
   ],
   "source": [
    "RAND_SEED=1234\n",
    "N_JOBS=6\n",
    "#dat = pd.read_csv(\"~/projects/Insight/icu_project/my_mimic/readmission_quickCdiff_features.csv\")\n",
    "#dat = pd.read_csv(\"~/projects/Insight/icu_project/my_mimic/readmission_after_cdiff_features.csv\")\n",
    "#dat = pd.read_csv(\"~/projects/Insight/icu_project/my_mimic/readmission_cdiff_features.csv\")\n",
    "dat = pd.read_csv(\"/Users/grovesdixon/projects/Insight/icu_project/my_mimic/any_readmission_features.csv\")\n",
    "pa_column_list = ['diagnosis_icd9', 'procedure_icd9', 'DRUG']\n",
    "standard_column_list = [i for i in dat.columns if i not in pa_column_list]\n",
    "sdat = dat.loc[:,standard_column_list]\n",
    "sdat = sdat.drop_duplicates()\n",
    "pa_dat = dat.loc[:,['HADM_ID', 'diagnosis_icd9', 'procedure_icd9', 'DRUG']]\n",
    "print(np.sum(sdat['outcome']))"
   ]
  },
  {
   "cell_type": "markdown",
   "metadata": {},
   "source": [
    "## handle missing values"
   ]
  },
  {
   "cell_type": "code",
   "execution_count": 4,
   "metadata": {},
   "outputs": [
    {
     "data": {
      "text/html": [
       "<div>\n",
       "<style scoped>\n",
       "    .dataframe tbody tr th:only-of-type {\n",
       "        vertical-align: middle;\n",
       "    }\n",
       "\n",
       "    .dataframe tbody tr th {\n",
       "        vertical-align: top;\n",
       "    }\n",
       "\n",
       "    .dataframe thead th {\n",
       "        text-align: right;\n",
       "    }\n",
       "</style>\n",
       "<table border=\"1\" class=\"dataframe\">\n",
       "  <thead>\n",
       "    <tr style=\"text-align: right;\">\n",
       "      <th></th>\n",
       "      <th>outcome</th>\n",
       "      <th>SUBJECT_ID</th>\n",
       "      <th>HADM_ID</th>\n",
       "      <th>INSURANCE</th>\n",
       "      <th>RELIGION</th>\n",
       "      <th>MARITAL_STATUS</th>\n",
       "      <th>hospital_duration</th>\n",
       "      <th>ADMISSION_LOCATION</th>\n",
       "      <th>DISCHARGE_LOCATION</th>\n",
       "      <th>GENDER</th>\n",
       "      <th>age</th>\n",
       "      <th>nicu_stays</th>\n",
       "      <th>total_icu_days</th>\n",
       "      <th>total_diagnoses</th>\n",
       "      <th>total_procedure</th>\n",
       "      <th>total_drug</th>\n",
       "    </tr>\n",
       "  </thead>\n",
       "  <tbody>\n",
       "    <tr>\n",
       "      <th>0</th>\n",
       "      <td>0</td>\n",
       "      <td>22</td>\n",
       "      <td>165315</td>\n",
       "      <td>Private</td>\n",
       "      <td>UNOBTAINABLE</td>\n",
       "      <td>MARRIED</td>\n",
       "      <td>1.144444</td>\n",
       "      <td>EMERGENCY ROOM ADMIT</td>\n",
       "      <td>DISC-TRAN CANCER/CHLDRN H</td>\n",
       "      <td>F</td>\n",
       "      <td>64.971282</td>\n",
       "      <td>1.0</td>\n",
       "      <td>1.143750</td>\n",
       "      <td>7</td>\n",
       "      <td>3</td>\n",
       "      <td>NaN</td>\n",
       "    </tr>\n",
       "    <tr>\n",
       "      <th>1</th>\n",
       "      <td>0</td>\n",
       "      <td>23</td>\n",
       "      <td>152223</td>\n",
       "      <td>Medicare</td>\n",
       "      <td>CATHOLIC</td>\n",
       "      <td>MARRIED</td>\n",
       "      <td>5.496528</td>\n",
       "      <td>PHYS REFERRAL/NORMAL DELI</td>\n",
       "      <td>HOME HEALTH CARE</td>\n",
       "      <td>M</td>\n",
       "      <td>73.242627</td>\n",
       "      <td>1.0</td>\n",
       "      <td>1.264074</td>\n",
       "      <td>8</td>\n",
       "      <td>7</td>\n",
       "      <td>38.0</td>\n",
       "    </tr>\n",
       "    <tr>\n",
       "      <th>40</th>\n",
       "      <td>0</td>\n",
       "      <td>23</td>\n",
       "      <td>124321</td>\n",
       "      <td>Medicare</td>\n",
       "      <td>CATHOLIC</td>\n",
       "      <td>MARRIED</td>\n",
       "      <td>6.768056</td>\n",
       "      <td>TRANSFER FROM HOSP/EXTRAM</td>\n",
       "      <td>HOME HEALTH CARE</td>\n",
       "      <td>M</td>\n",
       "      <td>73.242627</td>\n",
       "      <td>1.0</td>\n",
       "      <td>1.186227</td>\n",
       "      <td>10</td>\n",
       "      <td>1</td>\n",
       "      <td>33.0</td>\n",
       "    </tr>\n",
       "    <tr>\n",
       "      <th>52</th>\n",
       "      <td>0</td>\n",
       "      <td>24</td>\n",
       "      <td>161859</td>\n",
       "      <td>Private</td>\n",
       "      <td>PROTESTANT QUAKER</td>\n",
       "      <td>SINGLE</td>\n",
       "      <td>2.856944</td>\n",
       "      <td>TRANSFER FROM HOSP/EXTRAM</td>\n",
       "      <td>HOME</td>\n",
       "      <td>M</td>\n",
       "      <td>39.042949</td>\n",
       "      <td>1.0</td>\n",
       "      <td>0.512373</td>\n",
       "      <td>4</td>\n",
       "      <td>6</td>\n",
       "      <td>22.0</td>\n",
       "    </tr>\n",
       "    <tr>\n",
       "      <th>60</th>\n",
       "      <td>0</td>\n",
       "      <td>25</td>\n",
       "      <td>129635</td>\n",
       "      <td>Private</td>\n",
       "      <td>UNOBTAINABLE</td>\n",
       "      <td>MARRIED</td>\n",
       "      <td>3.534028</td>\n",
       "      <td>EMERGENCY ROOM ADMIT</td>\n",
       "      <td>HOME</td>\n",
       "      <td>M</td>\n",
       "      <td>58.989281</td>\n",
       "      <td>1.0</td>\n",
       "      <td>3.546574</td>\n",
       "      <td>4</td>\n",
       "      <td>6</td>\n",
       "      <td>35.0</td>\n",
       "    </tr>\n",
       "  </tbody>\n",
       "</table>\n",
       "</div>"
      ],
      "text/plain": [
       "    outcome  SUBJECT_ID  HADM_ID INSURANCE           RELIGION MARITAL_STATUS  \\\n",
       "0         0          22   165315   Private       UNOBTAINABLE        MARRIED   \n",
       "1         0          23   152223  Medicare           CATHOLIC        MARRIED   \n",
       "40        0          23   124321  Medicare           CATHOLIC        MARRIED   \n",
       "52        0          24   161859   Private  PROTESTANT QUAKER         SINGLE   \n",
       "60        0          25   129635   Private       UNOBTAINABLE        MARRIED   \n",
       "\n",
       "    hospital_duration         ADMISSION_LOCATION         DISCHARGE_LOCATION  \\\n",
       "0            1.144444       EMERGENCY ROOM ADMIT  DISC-TRAN CANCER/CHLDRN H   \n",
       "1            5.496528  PHYS REFERRAL/NORMAL DELI           HOME HEALTH CARE   \n",
       "40           6.768056  TRANSFER FROM HOSP/EXTRAM           HOME HEALTH CARE   \n",
       "52           2.856944  TRANSFER FROM HOSP/EXTRAM                       HOME   \n",
       "60           3.534028       EMERGENCY ROOM ADMIT                       HOME   \n",
       "\n",
       "   GENDER        age  nicu_stays  total_icu_days  total_diagnoses  \\\n",
       "0       F  64.971282         1.0        1.143750                7   \n",
       "1       M  73.242627         1.0        1.264074                8   \n",
       "40      M  73.242627         1.0        1.186227               10   \n",
       "52      M  39.042949         1.0        0.512373                4   \n",
       "60      M  58.989281         1.0        3.546574                4   \n",
       "\n",
       "    total_procedure  total_drug  \n",
       "0                 3         NaN  \n",
       "1                 7        38.0  \n",
       "40                1        33.0  \n",
       "52                6        22.0  \n",
       "60                6        35.0  "
      ]
     },
     "execution_count": 4,
     "metadata": {},
     "output_type": "execute_result"
    }
   ],
   "source": [
    "sdat.head()"
   ]
  },
  {
   "cell_type": "code",
   "execution_count": 5,
   "metadata": {},
   "outputs": [],
   "source": [
    "#handle missing values\n",
    "# print(np.sum(pa_dat.isnull()))\n",
    "# print(np.sum(sdat.isnull()))\n",
    "sdat['age'] = sdat['age'].fillna(np.mean(sdat['age'])) #input missing ages with mean\n",
    "sdat['age'] = sdat['age'].fillna(np.mean(sdat['age'])) #input missing ages with mean\n",
    "sdat['total_drug'] = sdat['total_drug'].fillna(0) #people that did not recieve drugs\n",
    "pa_dat = pa_dat.fillna('missing')\n",
    "# print(np.sum(pa_dat.isnull()))\n",
    "# print(np.sum(sdat.isnull()))"
   ]
  },
  {
   "cell_type": "markdown",
   "metadata": {},
   "source": [
    "## add presence absence variables"
   ]
  },
  {
   "cell_type": "code",
   "execution_count": 6,
   "metadata": {},
   "outputs": [],
   "source": [
    "#function to build boolean column for a column of hospital events\n",
    "def build_presence_absence_cols(stay_ids, long_df, long_col):\n",
    "    df = pd.DataFrame(stay_ids)\n",
    "    levels = long_df[long_col].unique()\n",
    "    print('making columns for {} levels'.format(len(levels)))\n",
    "    counter = 0\n",
    "    for l in levels:\n",
    "        counter += 1\n",
    "        if counter % 100 == 0:\n",
    "            print('level {} of {}'.format(counter, len(levels)))\n",
    "        new_col = '{}_{}'.format(long_col, l)\n",
    "        l_ids = long_df.loc[long_df[long_col]==l, 'HADM_ID']\n",
    "        df[new_col] = df['HADM_ID'].isin(l_ids).astype(int)\n",
    "    return df"
   ]
  },
  {
   "cell_type": "code",
   "execution_count": 7,
   "metadata": {},
   "outputs": [
    {
     "name": "stdout",
     "output_type": "stream",
     "text": [
      "making columns for 22 levels\n",
      "(49693, 23)\n",
      "HADM_IDs match = True\n",
      "making columns for 3 levels\n",
      "(49693, 4)\n",
      "HADM_IDs match = True\n",
      "making columns for 14 levels\n",
      "(49693, 15)\n",
      "HADM_IDs match = True\n",
      "(49693, 39)\n",
      "Index(['outcome', 'SUBJECT_ID', 'HADM_ID', 'INSURANCE', 'RELIGION',\n",
      "       'MARITAL_STATUS', 'hospital_duration', 'ADMISSION_LOCATION',\n",
      "       'DISCHARGE_LOCATION', 'GENDER', 'age', 'nicu_stays', 'total_icu_days',\n",
      "       'total_diagnoses', 'total_procedure', 'total_drug'],\n",
      "      dtype='object')\n"
     ]
    }
   ],
   "source": [
    "#build boolean columns for diagnoses and add to pdat\n",
    "stay_ids = sdat['HADM_ID']\n",
    "\n",
    "#for diagnoses\n",
    "diag_cols = build_presence_absence_cols(stay_ids, pa_dat, 'diagnosis_icd9')\n",
    "print(diag_cols.shape)\n",
    "print('HADM_IDs match = {}'.format(np.sum(diag_cols['HADM_ID']==sdat['HADM_ID'])==sdat.shape[0]))\n",
    "\n",
    "#for procedures\n",
    "proc_cols = build_presence_absence_cols(stay_ids, pa_dat, 'procedure_icd9')\n",
    "print(proc_cols.shape)\n",
    "print('HADM_IDs match = {}'.format(np.sum(proc_cols['HADM_ID']==sdat['HADM_ID'])==sdat.shape[0]))\n",
    "\n",
    "#for drugs\n",
    "drug_cols = build_presence_absence_cols(stay_ids, pa_dat, 'DRUG')\n",
    "print(drug_cols.shape)\n",
    "print('HADM_IDs match = {}'.format(np.sum(drug_cols['HADM_ID']==sdat['HADM_ID'])==sdat.shape[0]))\n",
    "\n",
    "#assemble\n",
    "cat_list = [\n",
    "    diag_cols.drop(['HADM_ID'], 1),\n",
    "    proc_cols.drop(['HADM_ID'], 1),\n",
    "    drug_cols.drop(['HADM_ID'], 1)]\n",
    "pa_cols = pd.concat(cat_list, axis=1)\n",
    "print(pa_cols.shape)\n",
    "pa_cols.head()\n",
    "print(sdat.columns)"
   ]
  },
  {
   "cell_type": "code",
   "execution_count": 8,
   "metadata": {
    "scrolled": true
   },
   "outputs": [
    {
     "data": {
      "text/html": [
       "<div>\n",
       "<style scoped>\n",
       "    .dataframe tbody tr th:only-of-type {\n",
       "        vertical-align: middle;\n",
       "    }\n",
       "\n",
       "    .dataframe tbody tr th {\n",
       "        vertical-align: top;\n",
       "    }\n",
       "\n",
       "    .dataframe thead th {\n",
       "        text-align: right;\n",
       "    }\n",
       "</style>\n",
       "<table border=\"1\" class=\"dataframe\">\n",
       "  <thead>\n",
       "    <tr style=\"text-align: right;\">\n",
       "      <th></th>\n",
       "      <th>outcome</th>\n",
       "      <th>SUBJECT_ID</th>\n",
       "      <th>HADM_ID</th>\n",
       "      <th>hospital_duration</th>\n",
       "      <th>age</th>\n",
       "      <th>nicu_stays</th>\n",
       "      <th>total_icu_days</th>\n",
       "      <th>total_diagnoses</th>\n",
       "      <th>total_procedure</th>\n",
       "      <th>total_drug</th>\n",
       "      <th>...</th>\n",
       "      <th>DRUG_Insulin</th>\n",
       "      <th>DRUG_Pantoprazole</th>\n",
       "      <th>DRUG_Spironolactone</th>\n",
       "      <th>DRUG_Lactulose</th>\n",
       "      <th>DRUG_Ketorolac</th>\n",
       "      <th>DRUG_Hydromorphone</th>\n",
       "      <th>DRUG_PredniSONE</th>\n",
       "      <th>DRUG_CefePIME</th>\n",
       "      <th>DRUG_Nephrocaps</th>\n",
       "      <th>DRUG_Labetalol</th>\n",
       "    </tr>\n",
       "  </thead>\n",
       "  <tbody>\n",
       "    <tr>\n",
       "      <th>0</th>\n",
       "      <td>0</td>\n",
       "      <td>22</td>\n",
       "      <td>165315</td>\n",
       "      <td>1.144444</td>\n",
       "      <td>64.971282</td>\n",
       "      <td>1.0</td>\n",
       "      <td>1.143750</td>\n",
       "      <td>7</td>\n",
       "      <td>3</td>\n",
       "      <td>0.0</td>\n",
       "      <td>...</td>\n",
       "      <td>0</td>\n",
       "      <td>0</td>\n",
       "      <td>0</td>\n",
       "      <td>0</td>\n",
       "      <td>0</td>\n",
       "      <td>0</td>\n",
       "      <td>0</td>\n",
       "      <td>0</td>\n",
       "      <td>0</td>\n",
       "      <td>0</td>\n",
       "    </tr>\n",
       "    <tr>\n",
       "      <th>1</th>\n",
       "      <td>0</td>\n",
       "      <td>23</td>\n",
       "      <td>152223</td>\n",
       "      <td>5.496528</td>\n",
       "      <td>73.242627</td>\n",
       "      <td>1.0</td>\n",
       "      <td>1.264074</td>\n",
       "      <td>8</td>\n",
       "      <td>7</td>\n",
       "      <td>38.0</td>\n",
       "      <td>...</td>\n",
       "      <td>1</td>\n",
       "      <td>0</td>\n",
       "      <td>0</td>\n",
       "      <td>0</td>\n",
       "      <td>0</td>\n",
       "      <td>0</td>\n",
       "      <td>0</td>\n",
       "      <td>0</td>\n",
       "      <td>0</td>\n",
       "      <td>0</td>\n",
       "    </tr>\n",
       "    <tr>\n",
       "      <th>40</th>\n",
       "      <td>0</td>\n",
       "      <td>23</td>\n",
       "      <td>124321</td>\n",
       "      <td>6.768056</td>\n",
       "      <td>73.242627</td>\n",
       "      <td>1.0</td>\n",
       "      <td>1.186227</td>\n",
       "      <td>10</td>\n",
       "      <td>1</td>\n",
       "      <td>33.0</td>\n",
       "      <td>...</td>\n",
       "      <td>1</td>\n",
       "      <td>1</td>\n",
       "      <td>0</td>\n",
       "      <td>0</td>\n",
       "      <td>0</td>\n",
       "      <td>0</td>\n",
       "      <td>0</td>\n",
       "      <td>0</td>\n",
       "      <td>0</td>\n",
       "      <td>0</td>\n",
       "    </tr>\n",
       "    <tr>\n",
       "      <th>52</th>\n",
       "      <td>0</td>\n",
       "      <td>24</td>\n",
       "      <td>161859</td>\n",
       "      <td>2.856944</td>\n",
       "      <td>39.042949</td>\n",
       "      <td>1.0</td>\n",
       "      <td>0.512373</td>\n",
       "      <td>4</td>\n",
       "      <td>6</td>\n",
       "      <td>22.0</td>\n",
       "      <td>...</td>\n",
       "      <td>1</td>\n",
       "      <td>1</td>\n",
       "      <td>0</td>\n",
       "      <td>0</td>\n",
       "      <td>0</td>\n",
       "      <td>0</td>\n",
       "      <td>0</td>\n",
       "      <td>0</td>\n",
       "      <td>0</td>\n",
       "      <td>0</td>\n",
       "    </tr>\n",
       "    <tr>\n",
       "      <th>60</th>\n",
       "      <td>0</td>\n",
       "      <td>25</td>\n",
       "      <td>129635</td>\n",
       "      <td>3.534028</td>\n",
       "      <td>58.989281</td>\n",
       "      <td>1.0</td>\n",
       "      <td>3.546574</td>\n",
       "      <td>4</td>\n",
       "      <td>6</td>\n",
       "      <td>35.0</td>\n",
       "      <td>...</td>\n",
       "      <td>0</td>\n",
       "      <td>1</td>\n",
       "      <td>0</td>\n",
       "      <td>0</td>\n",
       "      <td>0</td>\n",
       "      <td>0</td>\n",
       "      <td>0</td>\n",
       "      <td>0</td>\n",
       "      <td>0</td>\n",
       "      <td>0</td>\n",
       "    </tr>\n",
       "    <tr>\n",
       "      <th>...</th>\n",
       "      <td>...</td>\n",
       "      <td>...</td>\n",
       "      <td>...</td>\n",
       "      <td>...</td>\n",
       "      <td>...</td>\n",
       "      <td>...</td>\n",
       "      <td>...</td>\n",
       "      <td>...</td>\n",
       "      <td>...</td>\n",
       "      <td>...</td>\n",
       "      <td>...</td>\n",
       "      <td>...</td>\n",
       "      <td>...</td>\n",
       "      <td>...</td>\n",
       "      <td>...</td>\n",
       "      <td>...</td>\n",
       "      <td>...</td>\n",
       "      <td>...</td>\n",
       "      <td>...</td>\n",
       "      <td>...</td>\n",
       "      <td>...</td>\n",
       "    </tr>\n",
       "    <tr>\n",
       "      <th>1068334</th>\n",
       "      <td>0</td>\n",
       "      <td>98794</td>\n",
       "      <td>190603</td>\n",
       "      <td>4.145833</td>\n",
       "      <td>78.327283</td>\n",
       "      <td>1.0</td>\n",
       "      <td>2.288796</td>\n",
       "      <td>5</td>\n",
       "      <td>2</td>\n",
       "      <td>44.0</td>\n",
       "      <td>...</td>\n",
       "      <td>1</td>\n",
       "      <td>0</td>\n",
       "      <td>0</td>\n",
       "      <td>0</td>\n",
       "      <td>0</td>\n",
       "      <td>0</td>\n",
       "      <td>0</td>\n",
       "      <td>0</td>\n",
       "      <td>0</td>\n",
       "      <td>0</td>\n",
       "    </tr>\n",
       "    <tr>\n",
       "      <th>1068338</th>\n",
       "      <td>0</td>\n",
       "      <td>98800</td>\n",
       "      <td>191113</td>\n",
       "      <td>2.742361</td>\n",
       "      <td>19.413381</td>\n",
       "      <td>1.0</td>\n",
       "      <td>0.877778</td>\n",
       "      <td>8</td>\n",
       "      <td>4</td>\n",
       "      <td>33.0</td>\n",
       "      <td>...</td>\n",
       "      <td>1</td>\n",
       "      <td>0</td>\n",
       "      <td>0</td>\n",
       "      <td>0</td>\n",
       "      <td>0</td>\n",
       "      <td>0</td>\n",
       "      <td>0</td>\n",
       "      <td>0</td>\n",
       "      <td>0</td>\n",
       "      <td>0</td>\n",
       "    </tr>\n",
       "    <tr>\n",
       "      <th>1068339</th>\n",
       "      <td>0</td>\n",
       "      <td>98805</td>\n",
       "      <td>122631</td>\n",
       "      <td>8.203472</td>\n",
       "      <td>42.559732</td>\n",
       "      <td>1.0</td>\n",
       "      <td>1.952199</td>\n",
       "      <td>17</td>\n",
       "      <td>5</td>\n",
       "      <td>40.0</td>\n",
       "      <td>...</td>\n",
       "      <td>1</td>\n",
       "      <td>1</td>\n",
       "      <td>0</td>\n",
       "      <td>0</td>\n",
       "      <td>0</td>\n",
       "      <td>0</td>\n",
       "      <td>0</td>\n",
       "      <td>0</td>\n",
       "      <td>0</td>\n",
       "      <td>0</td>\n",
       "    </tr>\n",
       "    <tr>\n",
       "      <th>1068342</th>\n",
       "      <td>0</td>\n",
       "      <td>98813</td>\n",
       "      <td>170407</td>\n",
       "      <td>41.445833</td>\n",
       "      <td>63.289557</td>\n",
       "      <td>1.0</td>\n",
       "      <td>8.036157</td>\n",
       "      <td>9</td>\n",
       "      <td>4</td>\n",
       "      <td>60.0</td>\n",
       "      <td>...</td>\n",
       "      <td>1</td>\n",
       "      <td>1</td>\n",
       "      <td>0</td>\n",
       "      <td>1</td>\n",
       "      <td>0</td>\n",
       "      <td>0</td>\n",
       "      <td>0</td>\n",
       "      <td>0</td>\n",
       "      <td>0</td>\n",
       "      <td>0</td>\n",
       "    </tr>\n",
       "    <tr>\n",
       "      <th>1068368</th>\n",
       "      <td>0</td>\n",
       "      <td>98813</td>\n",
       "      <td>190264</td>\n",
       "      <td>1.607639</td>\n",
       "      <td>63.289557</td>\n",
       "      <td>1.0</td>\n",
       "      <td>1.637025</td>\n",
       "      <td>7</td>\n",
       "      <td>1</td>\n",
       "      <td>17.0</td>\n",
       "      <td>...</td>\n",
       "      <td>0</td>\n",
       "      <td>1</td>\n",
       "      <td>0</td>\n",
       "      <td>0</td>\n",
       "      <td>0</td>\n",
       "      <td>0</td>\n",
       "      <td>0</td>\n",
       "      <td>0</td>\n",
       "      <td>0</td>\n",
       "      <td>0</td>\n",
       "    </tr>\n",
       "  </tbody>\n",
       "</table>\n",
       "<p>48658 rows × 102 columns</p>\n",
       "</div>"
      ],
      "text/plain": [
       "         outcome  SUBJECT_ID  HADM_ID  hospital_duration        age  \\\n",
       "0              0          22   165315           1.144444  64.971282   \n",
       "1              0          23   152223           5.496528  73.242627   \n",
       "40             0          23   124321           6.768056  73.242627   \n",
       "52             0          24   161859           2.856944  39.042949   \n",
       "60             0          25   129635           3.534028  58.989281   \n",
       "...          ...         ...      ...                ...        ...   \n",
       "1068334        0       98794   190603           4.145833  78.327283   \n",
       "1068338        0       98800   191113           2.742361  19.413381   \n",
       "1068339        0       98805   122631           8.203472  42.559732   \n",
       "1068342        0       98813   170407          41.445833  63.289557   \n",
       "1068368        0       98813   190264           1.607639  63.289557   \n",
       "\n",
       "         nicu_stays  total_icu_days  total_diagnoses  total_procedure  \\\n",
       "0               1.0        1.143750                7                3   \n",
       "1               1.0        1.264074                8                7   \n",
       "40              1.0        1.186227               10                1   \n",
       "52              1.0        0.512373                4                6   \n",
       "60              1.0        3.546574                4                6   \n",
       "...             ...             ...              ...              ...   \n",
       "1068334         1.0        2.288796                5                2   \n",
       "1068338         1.0        0.877778                8                4   \n",
       "1068339         1.0        1.952199               17                5   \n",
       "1068342         1.0        8.036157                9                4   \n",
       "1068368         1.0        1.637025                7                1   \n",
       "\n",
       "         total_drug  ...  DRUG_Insulin  DRUG_Pantoprazole  \\\n",
       "0               0.0  ...             0                  0   \n",
       "1              38.0  ...             1                  0   \n",
       "40             33.0  ...             1                  1   \n",
       "52             22.0  ...             1                  1   \n",
       "60             35.0  ...             0                  1   \n",
       "...             ...  ...           ...                ...   \n",
       "1068334        44.0  ...             1                  0   \n",
       "1068338        33.0  ...             1                  0   \n",
       "1068339        40.0  ...             1                  1   \n",
       "1068342        60.0  ...             1                  1   \n",
       "1068368        17.0  ...             0                  1   \n",
       "\n",
       "         DRUG_Spironolactone  DRUG_Lactulose  DRUG_Ketorolac  \\\n",
       "0                          0               0               0   \n",
       "1                          0               0               0   \n",
       "40                         0               0               0   \n",
       "52                         0               0               0   \n",
       "60                         0               0               0   \n",
       "...                      ...             ...             ...   \n",
       "1068334                    0               0               0   \n",
       "1068338                    0               0               0   \n",
       "1068339                    0               0               0   \n",
       "1068342                    0               1               0   \n",
       "1068368                    0               0               0   \n",
       "\n",
       "         DRUG_Hydromorphone  DRUG_PredniSONE  DRUG_CefePIME  DRUG_Nephrocaps  \\\n",
       "0                         0                0              0                0   \n",
       "1                         0                0              0                0   \n",
       "40                        0                0              0                0   \n",
       "52                        0                0              0                0   \n",
       "60                        0                0              0                0   \n",
       "...                     ...              ...            ...              ...   \n",
       "1068334                   0                0              0                0   \n",
       "1068338                   0                0              0                0   \n",
       "1068339                   0                0              0                0   \n",
       "1068342                   0                0              0                0   \n",
       "1068368                   0                0              0                0   \n",
       "\n",
       "         DRUG_Labetalol  \n",
       "0                     0  \n",
       "1                     0  \n",
       "40                    0  \n",
       "52                    0  \n",
       "60                    0  \n",
       "...                 ...  \n",
       "1068334               0  \n",
       "1068338               0  \n",
       "1068339               0  \n",
       "1068342               0  \n",
       "1068368               0  \n",
       "\n",
       "[48658 rows x 102 columns]"
      ]
     },
     "execution_count": 8,
     "metadata": {},
     "output_type": "execute_result"
    }
   ],
   "source": [
    "#onehot encode the pdat columns\n",
    "to_onehot = ['INSURANCE', \n",
    "             'RELIGION', \n",
    "             'MARITAL_STATUS',\n",
    "             'GENDER', \n",
    "             'ADMISSION_LOCATION',\n",
    "             'DISCHARGE_LOCATION']\n",
    "sdat_cols = pd.get_dummies(sdat, columns = to_onehot, drop_first = True)\n",
    "for_model = pd.concat([sdat_cols, pa_cols], axis=1)\n",
    "for_model = for_model.dropna()\n",
    "for_model"
   ]
  },
  {
   "cell_type": "code",
   "execution_count": 9,
   "metadata": {
    "scrolled": true
   },
   "outputs": [
    {
     "name": "stdout",
     "output_type": "stream",
     "text": [
      "2267\n"
     ]
    },
    {
     "data": {
      "text/html": [
       "<div>\n",
       "<style scoped>\n",
       "    .dataframe tbody tr th:only-of-type {\n",
       "        vertical-align: middle;\n",
       "    }\n",
       "\n",
       "    .dataframe tbody tr th {\n",
       "        vertical-align: top;\n",
       "    }\n",
       "\n",
       "    .dataframe thead th {\n",
       "        text-align: right;\n",
       "    }\n",
       "</style>\n",
       "<table border=\"1\" class=\"dataframe\">\n",
       "  <thead>\n",
       "    <tr style=\"text-align: right;\">\n",
       "      <th></th>\n",
       "      <th>outcome</th>\n",
       "      <th>SUBJECT_ID</th>\n",
       "      <th>HADM_ID</th>\n",
       "      <th>hospital_duration</th>\n",
       "      <th>age</th>\n",
       "      <th>nicu_stays</th>\n",
       "      <th>total_icu_days</th>\n",
       "      <th>total_diagnoses</th>\n",
       "      <th>total_procedure</th>\n",
       "      <th>total_drug</th>\n",
       "      <th>...</th>\n",
       "      <th>DRUG_Insulin</th>\n",
       "      <th>DRUG_Pantoprazole</th>\n",
       "      <th>DRUG_Spironolactone</th>\n",
       "      <th>DRUG_Lactulose</th>\n",
       "      <th>DRUG_Ketorolac</th>\n",
       "      <th>DRUG_Hydromorphone</th>\n",
       "      <th>DRUG_PredniSONE</th>\n",
       "      <th>DRUG_CefePIME</th>\n",
       "      <th>DRUG_Nephrocaps</th>\n",
       "      <th>DRUG_Labetalol</th>\n",
       "    </tr>\n",
       "    <tr>\n",
       "      <th>HADM_ID</th>\n",
       "      <th></th>\n",
       "      <th></th>\n",
       "      <th></th>\n",
       "      <th></th>\n",
       "      <th></th>\n",
       "      <th></th>\n",
       "      <th></th>\n",
       "      <th></th>\n",
       "      <th></th>\n",
       "      <th></th>\n",
       "      <th></th>\n",
       "      <th></th>\n",
       "      <th></th>\n",
       "      <th></th>\n",
       "      <th></th>\n",
       "      <th></th>\n",
       "      <th></th>\n",
       "      <th></th>\n",
       "      <th></th>\n",
       "      <th></th>\n",
       "      <th></th>\n",
       "    </tr>\n",
       "  </thead>\n",
       "  <tbody>\n",
       "    <tr>\n",
       "      <th>165315</th>\n",
       "      <td>0</td>\n",
       "      <td>22</td>\n",
       "      <td>165315</td>\n",
       "      <td>1.144444</td>\n",
       "      <td>0.643391</td>\n",
       "      <td>0.0</td>\n",
       "      <td>0.004386</td>\n",
       "      <td>0.157895</td>\n",
       "      <td>0.058824</td>\n",
       "      <td>0.000000</td>\n",
       "      <td>...</td>\n",
       "      <td>0</td>\n",
       "      <td>0</td>\n",
       "      <td>0</td>\n",
       "      <td>0</td>\n",
       "      <td>0</td>\n",
       "      <td>0</td>\n",
       "      <td>0</td>\n",
       "      <td>0</td>\n",
       "      <td>0</td>\n",
       "      <td>0</td>\n",
       "    </tr>\n",
       "    <tr>\n",
       "      <th>152223</th>\n",
       "      <td>0</td>\n",
       "      <td>23</td>\n",
       "      <td>152223</td>\n",
       "      <td>5.496528</td>\n",
       "      <td>0.756713</td>\n",
       "      <td>0.0</td>\n",
       "      <td>0.004847</td>\n",
       "      <td>0.184211</td>\n",
       "      <td>0.176471</td>\n",
       "      <td>0.231707</td>\n",
       "      <td>...</td>\n",
       "      <td>1</td>\n",
       "      <td>0</td>\n",
       "      <td>0</td>\n",
       "      <td>0</td>\n",
       "      <td>0</td>\n",
       "      <td>0</td>\n",
       "      <td>0</td>\n",
       "      <td>0</td>\n",
       "      <td>0</td>\n",
       "      <td>0</td>\n",
       "    </tr>\n",
       "    <tr>\n",
       "      <th>124321</th>\n",
       "      <td>0</td>\n",
       "      <td>23</td>\n",
       "      <td>124321</td>\n",
       "      <td>6.768056</td>\n",
       "      <td>0.756713</td>\n",
       "      <td>0.0</td>\n",
       "      <td>0.004549</td>\n",
       "      <td>0.236842</td>\n",
       "      <td>0.000000</td>\n",
       "      <td>0.201220</td>\n",
       "      <td>...</td>\n",
       "      <td>1</td>\n",
       "      <td>1</td>\n",
       "      <td>0</td>\n",
       "      <td>0</td>\n",
       "      <td>0</td>\n",
       "      <td>0</td>\n",
       "      <td>0</td>\n",
       "      <td>0</td>\n",
       "      <td>0</td>\n",
       "      <td>0</td>\n",
       "    </tr>\n",
       "    <tr>\n",
       "      <th>161859</th>\n",
       "      <td>0</td>\n",
       "      <td>24</td>\n",
       "      <td>161859</td>\n",
       "      <td>2.856944</td>\n",
       "      <td>0.288156</td>\n",
       "      <td>0.0</td>\n",
       "      <td>0.001964</td>\n",
       "      <td>0.078947</td>\n",
       "      <td>0.147059</td>\n",
       "      <td>0.134146</td>\n",
       "      <td>...</td>\n",
       "      <td>1</td>\n",
       "      <td>1</td>\n",
       "      <td>0</td>\n",
       "      <td>0</td>\n",
       "      <td>0</td>\n",
       "      <td>0</td>\n",
       "      <td>0</td>\n",
       "      <td>0</td>\n",
       "      <td>0</td>\n",
       "      <td>0</td>\n",
       "    </tr>\n",
       "    <tr>\n",
       "      <th>129635</th>\n",
       "      <td>0</td>\n",
       "      <td>25</td>\n",
       "      <td>129635</td>\n",
       "      <td>3.534028</td>\n",
       "      <td>0.561433</td>\n",
       "      <td>0.0</td>\n",
       "      <td>0.013602</td>\n",
       "      <td>0.078947</td>\n",
       "      <td>0.147059</td>\n",
       "      <td>0.213415</td>\n",
       "      <td>...</td>\n",
       "      <td>0</td>\n",
       "      <td>1</td>\n",
       "      <td>0</td>\n",
       "      <td>0</td>\n",
       "      <td>0</td>\n",
       "      <td>0</td>\n",
       "      <td>0</td>\n",
       "      <td>0</td>\n",
       "      <td>0</td>\n",
       "      <td>0</td>\n",
       "    </tr>\n",
       "  </tbody>\n",
       "</table>\n",
       "<p>5 rows × 102 columns</p>\n",
       "</div>"
      ],
      "text/plain": [
       "         outcome  SUBJECT_ID  HADM_ID  hospital_duration       age  \\\n",
       "HADM_ID                                                              \n",
       "165315         0          22   165315           1.144444  0.643391   \n",
       "152223         0          23   152223           5.496528  0.756713   \n",
       "124321         0          23   124321           6.768056  0.756713   \n",
       "161859         0          24   161859           2.856944  0.288156   \n",
       "129635         0          25   129635           3.534028  0.561433   \n",
       "\n",
       "         nicu_stays  total_icu_days  total_diagnoses  total_procedure  \\\n",
       "HADM_ID                                                                 \n",
       "165315          0.0        0.004386         0.157895         0.058824   \n",
       "152223          0.0        0.004847         0.184211         0.176471   \n",
       "124321          0.0        0.004549         0.236842         0.000000   \n",
       "161859          0.0        0.001964         0.078947         0.147059   \n",
       "129635          0.0        0.013602         0.078947         0.147059   \n",
       "\n",
       "         total_drug  ...  DRUG_Insulin  DRUG_Pantoprazole  \\\n",
       "HADM_ID              ...                                    \n",
       "165315     0.000000  ...             0                  0   \n",
       "152223     0.231707  ...             1                  0   \n",
       "124321     0.201220  ...             1                  1   \n",
       "161859     0.134146  ...             1                  1   \n",
       "129635     0.213415  ...             0                  1   \n",
       "\n",
       "         DRUG_Spironolactone  DRUG_Lactulose  DRUG_Ketorolac  \\\n",
       "HADM_ID                                                        \n",
       "165315                     0               0               0   \n",
       "152223                     0               0               0   \n",
       "124321                     0               0               0   \n",
       "161859                     0               0               0   \n",
       "129635                     0               0               0   \n",
       "\n",
       "         DRUG_Hydromorphone  DRUG_PredniSONE  DRUG_CefePIME  DRUG_Nephrocaps  \\\n",
       "HADM_ID                                                                        \n",
       "165315                    0                0              0                0   \n",
       "152223                    0                0              0                0   \n",
       "124321                    0                0              0                0   \n",
       "161859                    0                0              0                0   \n",
       "129635                    0                0              0                0   \n",
       "\n",
       "         DRUG_Labetalol  \n",
       "HADM_ID                  \n",
       "165315                0  \n",
       "152223                0  \n",
       "124321                0  \n",
       "161859                0  \n",
       "129635                0  \n",
       "\n",
       "[5 rows x 102 columns]"
      ]
     },
     "execution_count": 9,
     "metadata": {},
     "output_type": "execute_result"
    }
   ],
   "source": [
    "#scale the dataframe\n",
    "from sklearn.preprocessing import MinMaxScaler\n",
    "scaler = MinMaxScaler()\n",
    "need_scaling = [\n",
    "    'age', 'total_diagnoses','total_procedure', 'total_drug', 'nicu_stays', 'total_icu_days',\n",
    "]\n",
    "for_model[need_scaling] = scaler.fit_transform(for_model[need_scaling])\n",
    "print(np.sum(for_model['outcome']))\n",
    "for_model.index = for_model['HADM_ID']\n",
    "for_model.head()"
   ]
  },
  {
   "cell_type": "markdown",
   "metadata": {},
   "source": [
    "## set aside basic and presence absense"
   ]
  },
  {
   "cell_type": "code",
   "execution_count": 10,
   "metadata": {},
   "outputs": [],
   "source": [
    "for_model.head()\n",
    "basic = for_model.loc[:,sdat_cols.columns]"
   ]
  },
  {
   "cell_type": "markdown",
   "metadata": {},
   "source": [
    "## Run basic"
   ]
  },
  {
   "cell_type": "code",
   "execution_count": 11,
   "metadata": {},
   "outputs": [],
   "source": [
    "from sklearn.metrics import precision_recall_curve, roc_curve, roc_auc_score, confusion_matrix, accuracy_score, precision_score, recall_score, f1_score, classification_report\n",
    "from sklearn.model_selection import train_test_split\n",
    "y = basic['outcome']\n",
    "X = basic.drop([\n",
    "    'outcome',\n",
    "    'SUBJECT_ID',\n",
    "    'HADM_ID'], 1)\n",
    "X_train, X_test, y_train, y_test = train_test_split(X, y, test_size = 0.2, random_state=321)"
   ]
  },
  {
   "cell_type": "code",
   "execution_count": 12,
   "metadata": {},
   "outputs": [],
   "source": [
    "# #logistic regression\n",
    "# from sklearn.linear_model import LogisticRegression\n",
    "# log_reg = LogisticRegression(max_iter=1000)\n",
    "\n",
    "# #train\n",
    "# log_reg.fit(X_train, y_train)"
   ]
  },
  {
   "cell_type": "code",
   "execution_count": 13,
   "metadata": {},
   "outputs": [],
   "source": [
    "# #performance on the training set\n",
    "# exec(open(\"my_functions.py\").read())\n",
    "# probs_train = log_reg.predict_proba(X_train)\n",
    "# scores_train = probs_train[:, 1]\n",
    "# train_perf = get_model_performance('logistic regression training set', X_train, scores_train, y_train, pos_label=1)"
   ]
  },
  {
   "cell_type": "code",
   "execution_count": 14,
   "metadata": {},
   "outputs": [],
   "source": [
    "# #performance on the test set\n",
    "# probs_test = log_reg.predict_proba(X_test)\n",
    "# scores_test = probs_test[:, 1]\n",
    "# test_perf = get_model_performance('logistic regression test set', X_test, scores_test, y_test, pos_label=1)"
   ]
  },
  {
   "cell_type": "code",
   "execution_count": 15,
   "metadata": {
    "scrolled": true
   },
   "outputs": [],
   "source": [
    "#------- OPTIMIZE RF\n",
    "\n",
    "# #use RandomizedSearchCV() to optimized Random forest hyperparameters\n",
    "# from sklearn.ensemble import RandomForestClassifier\n",
    "# from sklearn.model_selection import RandomizedSearchCV\n",
    "# rf_clf = RandomForestClassifier()\n",
    "\n",
    "# #choose parameter grid values\n",
    "# max_depth = [10, 50, 100, 150]\n",
    "# min_samples_split = [3, 5, 10]\n",
    "# min_samples_leaf = [1, 2, 3, 4]\n",
    "\n",
    "# #make grid dict\n",
    "# random_grid = {'max_depth': max_depth,\n",
    "#                'min_samples_split': min_samples_split,\n",
    "#                'min_samples_leaf': min_samples_leaf}\n",
    "\n",
    "\n",
    "# # ### run random search\n",
    "# rf_search = RandomizedSearchCV(estimator = rf_clf,\n",
    "#                                param_distributions = random_grid,\n",
    "#                                n_iter = 100,\n",
    "#                                scoring = 'recall',\n",
    "#                                cv = 5,\n",
    "#                                verbose=2,\n",
    "#                                random_state=RAND_SEED,\n",
    "#                                n_jobs = N_JOBS)\n",
    "# rf_search.fit(X_train, y_train)\n",
    "# best_params = rf_search.best_params_\n",
    "# print(rf_search.best_params_)\n",
    "\n",
    "\n",
    "# #or just select the best parameters if already run\n",
    "# best_params = {'min_samples_split': 10,\n",
    "#   'min_samples_leaf': 5,\n",
    "#   'max_features': 'sqrt',\n",
    "#   'max_depth': 100,\n",
    "#   'bootstrap': True}\n",
    "\n",
    "# print('Best parameters:')\n",
    "# print(best_params)\n",
    "\n"
   ]
  },
  {
   "cell_type": "code",
   "execution_count": 16,
   "metadata": {},
   "outputs": [],
   "source": [
    "best_params={'min_samples_split': 3, 'min_samples_leaf': 1, 'max_depth': 150}"
   ]
  },
  {
   "cell_type": "code",
   "execution_count": 17,
   "metadata": {
    "scrolled": true
   },
   "outputs": [
    {
     "name": "stdout",
     "output_type": "stream",
     "text": [
      "{'min_samples_split': 3, 'min_samples_leaf': 1, 'max_depth': 150}\n"
     ]
    },
    {
     "data": {
      "text/plain": [
       "RandomForestClassifier(bootstrap=True, ccp_alpha=0.0, class_weight=None,\n",
       "                       criterion='gini', max_depth=150, max_features='auto',\n",
       "                       max_leaf_nodes=None, max_samples=None,\n",
       "                       min_impurity_decrease=0.0, min_impurity_split=None,\n",
       "                       min_samples_leaf=1, min_samples_split=3,\n",
       "                       min_weight_fraction_leaf=0.0, n_estimators=100, n_jobs=6,\n",
       "                       oob_score=False, random_state=1234, verbose=0,\n",
       "                       warm_start=False)"
      ]
     },
     "execution_count": 17,
     "metadata": {},
     "output_type": "execute_result"
    }
   ],
   "source": [
    "#set up optimized rf model based on from best_params above\n",
    "from sklearn.ensemble import RandomForestClassifier\n",
    "from sklearn.model_selection import RandomizedSearchCV\n",
    "print(best_params)\n",
    "rf_opt_basic = RandomForestClassifier(n_jobs=N_JOBS,\n",
    "                                min_samples_split = best_params['min_samples_split'],\n",
    "                                min_samples_leaf = best_params['min_samples_leaf'],\n",
    "                                max_depth = best_params['max_depth'],\n",
    "                                bootstrap = True,\n",
    "                               random_state=RAND_SEED)\n",
    "\n",
    "#train\n",
    "rf_opt_basic.fit(X_train, y_train)"
   ]
  },
  {
   "cell_type": "code",
   "execution_count": 18,
   "metadata": {},
   "outputs": [
    {
     "data": {
      "image/png": "[encoded data removed]",
      "text/plain": [
       "<Figure size 432x288 with 1 Axes>"
      ]
     },
     "metadata": {
      "needs_background": "light"
     },
     "output_type": "display_data"
    },
    {
     "data": {
      "image/png": "[encoded data removed]",
      "text/plain": [
       "<Figure size 432x288 with 1 Axes>"
      ]
     },
     "metadata": {
      "needs_background": "light"
     },
     "output_type": "display_data"
    },
    {
     "name": "stdout",
     "output_type": "stream",
     "text": [
      "Confusion matrix for threshold = 0.37:\n",
      "[[37136     1]\n",
      " [    2  1787]]\n",
      "Classification report:\n",
      "              precision    recall  f1-score   support\n",
      "\n",
      "           0       1.00      1.00      1.00     37137\n",
      "           1       1.00      1.00      1.00      1789\n",
      "\n",
      "    accuracy                           1.00     38926\n",
      "   macro avg       1.00      1.00      1.00     38926\n",
      "weighted avg       1.00      1.00      1.00     38926\n",
      "\n"
     ]
    },
    {
     "data": {
      "image/png": "[encoded data removed]",
      "text/plain": [
       "<Figure size 432x288 with 1 Axes>"
      ]
     },
     "metadata": {
      "needs_background": "light"
     },
     "output_type": "display_data"
    }
   ],
   "source": [
    "#optimized model performance on training set\n",
    "scores_opt = rf_opt_basic.predict_proba(X_train)[:, 1]\n",
    "opt_perf = get_model_performance('optimized random forest training', X_train, scores_opt, y_train, pos_label=1)"
   ]
  },
  {
   "cell_type": "code",
   "execution_count": 19,
   "metadata": {
    "scrolled": true
   },
   "outputs": [
    {
     "data": {
      "image/png": "[encoded data removed]",
      "text/plain": [
       "<Figure size 432x288 with 1 Axes>"
      ]
     },
     "metadata": {
      "needs_background": "light"
     },
     "output_type": "display_data"
    },
    {
     "data": {
      "image/png": "[encoded data removed]",
      "text/plain": [
       "<Figure size 432x288 with 1 Axes>"
      ]
     },
     "metadata": {
      "needs_background": "light"
     },
     "output_type": "display_data"
    },
    {
     "name": "stdout",
     "output_type": "stream",
     "text": [
      "Confusion matrix for threshold = 0.16:\n",
      "[[8859  395]\n",
      " [ 398   80]]\n",
      "Classification report:\n",
      "              precision    recall  f1-score   support\n",
      "\n",
      "           0       0.96      0.96      0.96      9254\n",
      "           1       0.17      0.17      0.17       478\n",
      "\n",
      "    accuracy                           0.92      9732\n",
      "   macro avg       0.56      0.56      0.56      9732\n",
      "weighted avg       0.92      0.92      0.92      9732\n",
      "\n"
     ]
    },
    {
     "data": {
      "image/png": "[encoded data removed]",
      "text/plain": [
       "<Figure size 432x288 with 1 Axes>"
      ]
     },
     "metadata": {
      "needs_background": "light"
     },
     "output_type": "display_data"
    },
    {
     "name": "stdout",
     "output_type": "stream",
     "text": [
      "Confusion matrix for threshold = 0.07:\n",
      "[[7291 1963]\n",
      " [ 260  218]]\n",
      "Classification report:\n",
      "              precision    recall  f1-score   support\n",
      "\n",
      "           0       0.97      0.79      0.87      9254\n",
      "           1       0.10      0.46      0.16       478\n",
      "\n",
      "    accuracy                           0.77      9732\n",
      "   macro avg       0.53      0.62      0.52      9732\n",
      "weighted avg       0.92      0.77      0.83      9732\n",
      "\n"
     ]
    }
   ],
   "source": [
    "#predict for test set\n",
    "test_scores = rf_opt_basic.predict_proba(X_test)[:, 1]\n",
    "test_perf = get_model_performance('optimized random forest TEST', X_test, test_scores, y_test, pos_label=1)\n",
    "\n",
    "\n",
    "threshold = 0.075\n",
    "opt_pred = (test_scores > threshold).astype('int')\n",
    "y_num = (y_test==1).astype('int')\n",
    "print('Confusion matrix for threshold = {}:'.format(round(threshold, 2)))\n",
    "cm = confusion_matrix(y_num, opt_pred)\n",
    "print(cm)\n",
    "print('Classification report:')\n",
    "print(classification_report(y_num, opt_pred))"
   ]
  },
  {
   "cell_type": "markdown",
   "metadata": {},
   "source": [
    "## run full set"
   ]
  },
  {
   "cell_type": "code",
   "execution_count": 20,
   "metadata": {},
   "outputs": [],
   "source": [
    "from sklearn.metrics import precision_recall_curve, roc_curve, roc_auc_score, confusion_matrix, accuracy_score, precision_score, recall_score, f1_score, classification_report\n",
    "from sklearn.model_selection import train_test_split\n",
    "y = for_model['outcome']\n",
    "X = for_model.drop([\n",
    "    'outcome',\n",
    "    'SUBJECT_ID',\n",
    "    'HADM_ID'], 1)\n",
    "X_train, X_test, y_train, y_test = train_test_split(X, y, test_size = 0.2, random_state=RAND_SEED, stratify = y)"
   ]
  },
  {
   "cell_type": "markdown",
   "metadata": {},
   "source": [
    "### optimaize the RF hyperparameters"
   ]
  },
  {
   "cell_type": "code",
   "execution_count": 21,
   "metadata": {
    "scrolled": false
   },
   "outputs": [],
   "source": [
    "#------- OPTIMIZE RF\n",
    "\n",
    "# #use RandomizedSearchCV() to optimized Random forest hyperparameters\n",
    "# from sklearn.ensemble import RandomForestClassifier\n",
    "# from sklearn.model_selection import RandomizedSearchCV\n",
    "# rf_clf = RandomForestClassifier()\n",
    "\n",
    "# #choose parameter grid values\n",
    "# max_depth = [5, 10, 50, 100, 150]\n",
    "# min_samples_split = [1, 3, 5, 10]\n",
    "# min_samples_leaf = [1, 2, 3, 4]\n",
    "\n",
    "# #make grid dict\n",
    "# random_grid = {'max_depth': max_depth,\n",
    "#                'min_samples_split': min_samples_split,\n",
    "#                'min_samples_leaf': min_samples_leaf}\n",
    "\n",
    "\n",
    "# # ### run random search\n",
    "# rf_search = RandomizedSearchCV(estimator = rf_clf,\n",
    "#                                param_distributions = random_grid,\n",
    "#                                n_iter = 100,\n",
    "#                                scoring = 'recall',\n",
    "#                                cv = 5,\n",
    "#                                verbose=2,\n",
    "#                                random_state=RAND_SEED,\n",
    "#                                n_jobs = N_JOBS)\n",
    "# rf_search.fit(X_train, y_train)\n",
    "# best_params = rf_search.best_params_\n",
    "# print(rf_search.best_params_)\n",
    "\n"
   ]
  },
  {
   "cell_type": "code",
   "execution_count": 22,
   "metadata": {},
   "outputs": [],
   "source": [
    "best_params = {'min_samples_split': 3, 'min_samples_leaf': 1, 'max_depth': 50}"
   ]
  },
  {
   "cell_type": "code",
   "execution_count": 23,
   "metadata": {},
   "outputs": [
    {
     "data": {
      "text/plain": [
       "RandomForestClassifier(bootstrap=True, ccp_alpha=0.0, class_weight=None,\n",
       "                       criterion='gini', max_depth=50, max_features='auto',\n",
       "                       max_leaf_nodes=None, max_samples=None,\n",
       "                       min_impurity_decrease=0.0, min_impurity_split=None,\n",
       "                       min_samples_leaf=1, min_samples_split=3,\n",
       "                       min_weight_fraction_leaf=0.0, n_estimators=100, n_jobs=6,\n",
       "                       oob_score=False, random_state=1234, verbose=0,\n",
       "                       warm_start=False)"
      ]
     },
     "execution_count": 23,
     "metadata": {},
     "output_type": "execute_result"
    }
   ],
   "source": [
    "#set up optimized rf model based on from best_params above\n",
    "rf_opt = RandomForestClassifier(n_jobs=N_JOBS,\n",
    "                                min_samples_split = best_params['min_samples_split'],\n",
    "                                min_samples_leaf = best_params['min_samples_leaf'],\n",
    "                                max_depth = best_params['max_depth'],\n",
    "                                bootstrap = True,\n",
    "                               random_state=RAND_SEED)\n",
    "\n",
    "#train\n",
    "rf_opt.fit(X_train, y_train)"
   ]
  },
  {
   "cell_type": "code",
   "execution_count": 24,
   "metadata": {},
   "outputs": [
    {
     "data": {
      "image/png": "[encoded data removed]",
      "text/plain": [
       "<Figure size 432x288 with 1 Axes>"
      ]
     },
     "metadata": {
      "needs_background": "light"
     },
     "output_type": "display_data"
    },
    {
     "data": {
      "image/png": "[encoded data removed]",
      "text/plain": [
       "<Figure size 432x288 with 1 Axes>"
      ]
     },
     "metadata": {
      "needs_background": "light"
     },
     "output_type": "display_data"
    },
    {
     "name": "stdout",
     "output_type": "stream",
     "text": [
      "Confusion matrix for threshold = 0.38:\n",
      "[[37112     0]\n",
      " [    1  1813]]\n",
      "Classification report:\n",
      "              precision    recall  f1-score   support\n",
      "\n",
      "           0       1.00      1.00      1.00     37112\n",
      "           1       1.00      1.00      1.00      1814\n",
      "\n",
      "    accuracy                           1.00     38926\n",
      "   macro avg       1.00      1.00      1.00     38926\n",
      "weighted avg       1.00      1.00      1.00     38926\n",
      "\n"
     ]
    },
    {
     "data": {
      "image/png": "[encoded data removed]",
      "text/plain": [
       "<Figure size 432x288 with 1 Axes>"
      ]
     },
     "metadata": {
      "needs_background": "light"
     },
     "output_type": "display_data"
    }
   ],
   "source": [
    "#optimized model performance on training set\n",
    "probs_opt_t = rf_opt.predict_proba(X_train)\n",
    "scores_opt_t = probs_opt_t[:, 1]\n",
    "opt_perf_t = get_model_performance('optimized random forest training', X_train, scores_opt_t, y_train, pos_label=1)"
   ]
  },
  {
   "cell_type": "code",
   "execution_count": 25,
   "metadata": {
    "scrolled": true
   },
   "outputs": [
    {
     "data": {
      "image/png": "[encoded data removed]",
      "text/plain": [
       "<Figure size 432x288 with 1 Axes>"
      ]
     },
     "metadata": {
      "needs_background": "light"
     },
     "output_type": "display_data"
    },
    {
     "data": {
      "image/png": "[encoded data removed]",
      "text/plain": [
       "<Figure size 432x288 with 1 Axes>"
      ]
     },
     "metadata": {
      "needs_background": "light"
     },
     "output_type": "display_data"
    },
    {
     "name": "stdout",
     "output_type": "stream",
     "text": [
      "Confusion matrix for threshold = 0.15:\n",
      "[[8910  369]\n",
      " [ 373   80]]\n",
      "Classification report:\n",
      "              precision    recall  f1-score   support\n",
      "\n",
      "           0       0.96      0.96      0.96      9279\n",
      "           1       0.18      0.18      0.18       453\n",
      "\n",
      "    accuracy                           0.92      9732\n",
      "   macro avg       0.57      0.57      0.57      9732\n",
      "weighted avg       0.92      0.92      0.92      9732\n",
      "\n"
     ]
    },
    {
     "data": {
      "image/png": "[encoded data removed]",
      "text/plain": [
       "<Figure size 432x288 with 1 Axes>"
      ]
     },
     "metadata": {
      "needs_background": "light"
     },
     "output_type": "display_data"
    },
    {
     "name": "stdout",
     "output_type": "stream",
     "text": [
      "Confusion matrix for threshold = 0.06:\n",
      "[[6410 2869]\n",
      " [ 186  267]]\n",
      "Classification report:\n",
      "              precision    recall  f1-score   support\n",
      "\n",
      "           0       0.97      0.69      0.81      9279\n",
      "           1       0.09      0.59      0.15       453\n",
      "\n",
      "    accuracy                           0.69      9732\n",
      "   macro avg       0.53      0.64      0.48      9732\n",
      "weighted avg       0.93      0.69      0.78      9732\n",
      "\n"
     ]
    }
   ],
   "source": [
    "#predict for test set\n",
    "test_probs = rf_opt.predict_proba(X_test)\n",
    "test_scores = test_probs[:, 1]\n",
    "test_perf = get_model_performance('optimized random forest TEST', X_test, test_scores, y_test, pos_label=1)\n",
    "\n",
    "\n",
    "threshold = 0.06\n",
    "opt_pred = (test_scores > threshold).astype('int')\n",
    "y_num = (y_test==1).astype('int')\n",
    "print('Confusion matrix for threshold = {}:'.format(round(threshold, 2)))\n",
    "cm = confusion_matrix(y_num, opt_pred)\n",
    "print(cm)\n",
    "print('Classification report:')\n",
    "print(classification_report(y_num, opt_pred))"
   ]
  },
  {
   "cell_type": "markdown",
   "metadata": {},
   "source": [
    "# Add NLP data"
   ]
  },
  {
   "cell_type": "code",
   "execution_count": 27,
   "metadata": {},
   "outputs": [
    {
     "data": {
      "text/plain": [
       "False"
      ]
     },
     "execution_count": 27,
     "metadata": {},
     "output_type": "execute_result"
    }
   ],
   "source": [
    "nlp_dat = pd.read_csv('/Users/grovesdixon/projects/Insight/icu_project/my_mimic/selected_nlp_data.csv')\n",
    "rn_dict = {'hadm_id':'HADM_ID'}\n",
    "nlp_dat.rename(columns = rn_dict,inplace=True)\n",
    "nlp_dat.index = nlp_dat['HADM_ID']\n",
    "nlp_dat = nlp_dat.drop('HADM_ID', 1)\n",
    "'outcome' in nlp_dat.columns"
   ]
  },
  {
   "cell_type": "markdown",
   "metadata": {},
   "source": [
    "### merge with structured data"
   ]
  },
  {
   "cell_type": "code",
   "execution_count": 28,
   "metadata": {},
   "outputs": [
    {
     "name": "stdout",
     "output_type": "stream",
     "text": [
      "(52704, 225)\n",
      "(48658, 102)\n",
      "(43408, 326)\n"
     ]
    }
   ],
   "source": [
    "for_merge = for_model.drop('HADM_ID', 1)\n",
    "with_nlp = pd.merge(nlp_dat, for_merge, how = 'inner', on = 'HADM_ID')\n",
    "print(nlp_dat.shape)\n",
    "print(for_model.shape)\n",
    "print(with_nlp.shape)\n"
   ]
  },
  {
   "cell_type": "code",
   "execution_count": 71,
   "metadata": {},
   "outputs": [],
   "source": [
    "with_nlp.to_csv('/Users/grovesdixon/projects/Insight/icu_project/my_mimic/with_nlp.csv')"
   ]
  },
  {
   "cell_type": "markdown",
   "metadata": {},
   "source": [
    "### prepare for modeling"
   ]
  },
  {
   "cell_type": "code",
   "execution_count": 72,
   "metadata": {},
   "outputs": [],
   "source": [
    "from sklearn.metrics import precision_recall_curve, roc_curve, roc_auc_score, confusion_matrix, accuracy_score, precision_score, recall_score, f1_score, classification_report\n",
    "from sklearn.model_selection import train_test_split\n",
    "y = with_nlp['outcome']\n",
    "X = with_nlp.drop(['outcome',\n",
    "    'SUBJECT_ID'], 1)\n",
    "X_train, X_test, y_train, y_test = train_test_split(X, y, test_size = 0.2, random_state=456, stratify = y)"
   ]
  },
  {
   "cell_type": "markdown",
   "metadata": {},
   "source": [
    "## logistic with NLP"
   ]
  },
  {
   "cell_type": "code",
   "execution_count": null,
   "metadata": {},
   "outputs": [],
   "source": [
    "# logistic regression\n",
    "from sklearn.linear_model import LogisticRegression\n",
    "log_reg = LogisticRegression(max_iter=1000)\n",
    "\n",
    "#train\n",
    "log_reg.fit(X_train, y_train)"
   ]
  },
  {
   "cell_type": "code",
   "execution_count": null,
   "metadata": {
    "scrolled": true
   },
   "outputs": [],
   "source": [
    "#performance on the training set\n",
    "exec(open(\"my_functions.py\").read())\n",
    "probs_train = log_reg.predict_proba(X_train)\n",
    "scores_train = probs_train[:, 1]\n",
    "train_perf = get_model_performance('logistic regression training set', X_train, scores_train, y_train, pos_label=1)"
   ]
  },
  {
   "cell_type": "code",
   "execution_count": null,
   "metadata": {},
   "outputs": [],
   "source": [
    "#performance on the test set\n",
    "probs_test = log_reg.predict_proba(X_test)\n",
    "scores_test = probs_test[:, 1]\n",
    "test_perf = get_model_performance('logistic regression test set', X_test, scores_test, y_test, pos_label=1)"
   ]
  },
  {
   "cell_type": "markdown",
   "metadata": {},
   "source": [
    "### optimize random forest for data with NLP"
   ]
  },
  {
   "cell_type": "code",
   "execution_count": 66,
   "metadata": {},
   "outputs": [],
   "source": [
    "#------- OPTIMIZE RF\n",
    "\n",
    "# #use RandomizedSearchCV() to optimized Random forest hyperparameters\n",
    "# from sklearn.ensemble import RandomForestClassifier\n",
    "# from sklearn.model_selection import RandomizedSearchCV\n",
    "# rf_clf = RandomForestClassifier()\n",
    "\n",
    "# #choose parameter grid values\n",
    "# max_depth = [5, 10, 50, 100, 150]\n",
    "# min_samples_split = [1, 3, 5, 10]\n",
    "# min_samples_leaf = [1, 2, 3, 4]\n",
    "\n",
    "# #make grid dict\n",
    "# random_grid = {'max_depth': max_depth,\n",
    "#                'min_samples_split': min_samples_split,\n",
    "#                'min_samples_leaf': min_samples_leaf}\n",
    "\n",
    "\n",
    "# # ### run random search\n",
    "# rf_search = RandomizedSearchCV(estimator = rf_clf,\n",
    "#                                param_distributions = random_grid,\n",
    "#                                n_iter = 100,\n",
    "#                                scoring = 'recall',\n",
    "#                                cv = 5,\n",
    "#                                verbose=2,\n",
    "#                                random_state=RAND_SEED,\n",
    "#                                n_jobs = 1)\n",
    "# rf_search.fit(X_train, y_train)\n",
    "# best_params = rf_search.best_params_\n",
    "# print(rf_search.best_params_)\n"
   ]
  },
  {
   "cell_type": "markdown",
   "metadata": {},
   "source": [
    "### or just enter them"
   ]
  },
  {
   "cell_type": "code",
   "execution_count": 67,
   "metadata": {},
   "outputs": [],
   "source": [
    "best_params = {'min_samples_split': 5, 'min_samples_leaf': 5, 'max_depth': 50}"
   ]
  },
  {
   "cell_type": "code",
   "execution_count": 68,
   "metadata": {},
   "outputs": [
    {
     "data": {
      "text/plain": [
       "RandomForestClassifier(bootstrap=True, ccp_alpha=0.0, class_weight=None,\n",
       "                       criterion='gini', max_depth=50, max_features='auto',\n",
       "                       max_leaf_nodes=None, max_samples=None,\n",
       "                       min_impurity_decrease=0.0, min_impurity_split=None,\n",
       "                       min_samples_leaf=5, min_samples_split=5,\n",
       "                       min_weight_fraction_leaf=0.0, n_estimators=100, n_jobs=4,\n",
       "                       oob_score=False, random_state=1234, verbose=0,\n",
       "                       warm_start=False)"
      ]
     },
     "execution_count": 68,
     "metadata": {},
     "output_type": "execute_result"
    }
   ],
   "source": [
    "#set up optimized rf model based on from best_params above\n",
    "rf_opt = RandomForestClassifier(n_jobs=4,\n",
    "                                min_samples_split = best_params['min_samples_split'],\n",
    "                                min_samples_leaf = best_params['min_samples_leaf'],\n",
    "                                max_depth = best_params['max_depth'],\n",
    "                                bootstrap = True,\n",
    "                               random_state=RAND_SEED)\n",
    "\n",
    "#train\n",
    "rf_opt.fit(X_train, y_train)"
   ]
  },
  {
   "cell_type": "markdown",
   "metadata": {},
   "source": [
    "### training performance for optimized RF on data with NLP"
   ]
  },
  {
   "cell_type": "code",
   "execution_count": 69,
   "metadata": {},
   "outputs": [
    {
     "data": {
      "image/png": "[encoded data removed]",
      "text/plain": [
       "<Figure size 432x288 with 1 Axes>"
      ]
     },
     "metadata": {
      "needs_background": "light"
     },
     "output_type": "display_data"
    },
    {
     "data": {
      "image/png": "[encoded data removed]",
      "text/plain": [
       "<Figure size 432x288 with 1 Axes>"
      ]
     },
     "metadata": {
      "needs_background": "light"
     },
     "output_type": "display_data"
    },
    {
     "name": "stdout",
     "output_type": "stream",
     "text": [
      "Confusion matrix for threshold = 0.15:\n",
      "[[36794   318]\n",
      " [  319  1495]]\n",
      "Classification report:\n",
      "              precision    recall  f1-score   support\n",
      "\n",
      "           0       0.99      0.99      0.99     37112\n",
      "           1       0.82      0.82      0.82      1814\n",
      "\n",
      "    accuracy                           0.98     38926\n",
      "   macro avg       0.91      0.91      0.91     38926\n",
      "weighted avg       0.98      0.98      0.98     38926\n",
      "\n"
     ]
    },
    {
     "data": {
      "image/png": "[encoded data removed]",
      "text/plain": [
       "<Figure size 432x288 with 1 Axes>"
      ]
     },
     "metadata": {
      "needs_background": "light"
     },
     "output_type": "display_data"
    }
   ],
   "source": [
    "#optimized model performance on training set\n",
    "probs_opt_t = rf_opt.predict_proba(X_train)\n",
    "scores_opt_t = probs_opt_t[:, 1]\n",
    "opt_perf_t = get_model_performance('optimized random forest training', X_train, scores_opt_t, y_train, pos_label=1)"
   ]
  },
  {
   "cell_type": "markdown",
   "metadata": {},
   "source": [
    "### test performance"
   ]
  },
  {
   "cell_type": "code",
   "execution_count": 70,
   "metadata": {
    "scrolled": true
   },
   "outputs": [
    {
     "data": {
      "image/png": "[encoded data removed]",
      "text/plain": [
       "<Figure size 432x288 with 1 Axes>"
      ]
     },
     "metadata": {
      "needs_background": "light"
     },
     "output_type": "display_data"
    },
    {
     "data": {
      "image/png": "[encoded data removed]",
      "text/plain": [
       "<Figure size 432x288 with 1 Axes>"
      ]
     },
     "metadata": {
      "needs_background": "light"
     },
     "output_type": "display_data"
    },
    {
     "name": "stdout",
     "output_type": "stream",
     "text": [
      "Confusion matrix for threshold = 0.12:\n",
      "[[8907  372]\n",
      " [ 373   80]]\n",
      "Classification report:\n",
      "              precision    recall  f1-score   support\n",
      "\n",
      "           0       0.96      0.96      0.96      9279\n",
      "           1       0.18      0.18      0.18       453\n",
      "\n",
      "    accuracy                           0.92      9732\n",
      "   macro avg       0.57      0.57      0.57      9732\n",
      "weighted avg       0.92      0.92      0.92      9732\n",
      "\n"
     ]
    },
    {
     "data": {
      "image/png": "[encoded data removed]",
      "text/plain": [
       "<Figure size 432x288 with 1 Axes>"
      ]
     },
     "metadata": {
      "needs_background": "light"
     },
     "output_type": "display_data"
    },
    {
     "name": "stdout",
     "output_type": "stream",
     "text": [
      "Confusion matrix for threshold = 0.06:\n",
      "[[6751 2528]\n",
      " [ 198  255]]\n",
      "Classification report:\n",
      "              precision    recall  f1-score   support\n",
      "\n",
      "           0       0.97      0.73      0.83      9279\n",
      "           1       0.09      0.56      0.16       453\n",
      "\n",
      "    accuracy                           0.72      9732\n",
      "   macro avg       0.53      0.65      0.49      9732\n",
      "weighted avg       0.93      0.72      0.80      9732\n",
      "\n"
     ]
    }
   ],
   "source": [
    "#predict for test set\n",
    "test_probs = rf_opt.predict_proba(X_test)\n",
    "test_scores = test_probs[:, 1]\n",
    "test_perf = get_model_performance('optimized random forest TEST', X_test, test_scores, y_test, pos_label=1)\n",
    "\n",
    "\n",
    "threshold = 0.06\n",
    "opt_pred = (test_scores > threshold).astype('int')\n",
    "y_num = (y_test==1).astype('int')\n",
    "print('Confusion matrix for threshold = {}:'.format(round(threshold, 2)))\n",
    "cm = confusion_matrix(y_num, opt_pred)\n",
    "print(cm)\n",
    "print('Classification report:')\n",
    "print(classification_report(y_num, opt_pred))"
   ]
  },
  {
   "cell_type": "markdown",
   "metadata": {},
   "source": [
    "# output results for app"
   ]
  },
  {
   "cell_type": "code",
   "execution_count": 42,
   "metadata": {},
   "outputs": [
    {
     "data": {
      "image/png": "[encoded data removed]",
      "text/plain": [
       "<Figure size 432x288 with 1 Axes>"
      ]
     },
     "metadata": {
      "needs_background": "light"
     },
     "output_type": "display_data"
    },
    {
     "data": {
      "text/plain": [
       "0.0"
      ]
     },
     "execution_count": 42,
     "metadata": {},
     "output_type": "execute_result"
    }
   ],
   "source": [
    "#gather the results\n",
    "res = X_train.copy()\n",
    "res['prob_readmission'] = scores_opt_t\n",
    "res\n",
    "plt.hist(res['prob_readmission'], bins=100)\n",
    "plt.xlim([0, 0.6])\n",
    "plt.show()\n",
    "min(res['prob_readmission'])"
   ]
  },
  {
   "cell_type": "code",
   "execution_count": 44,
   "metadata": {},
   "outputs": [],
   "source": [
    "#pick a high ica stay\n",
    "high = res.loc[res['prob_readmission'] > 0.8].sort_values('prob_readmission', ascending = False)\n",
    "high.index = range(len(high.index))\n",
    "h = high.loc[1,:]\n",
    "h\n",
    "\n",
    "#pick a medium\n",
    "med = res.loc[(res['prob_readmission'] > 0.4),].sort_values('prob_readmission', ascending = True)\n",
    "med.index = range(len(med.index))\n",
    "m = med.loc[5,:]\n",
    "\n",
    "#low\n",
    "low = res.loc[(res['prob_readmission'] > 0.1),].sort_values('prob_readmission', ascending = True)\n",
    "low.index = range(len(low.index))\n",
    "l = low.loc[5,:]\n",
    "l\n",
    "\n",
    "#vlow\n",
    "low = res.loc[(res['prob_readmission'] > 0.005),].sort_values('prob_readmission', ascending = True)\n",
    "low.index = range(len(low.index))\n",
    "vl = low.loc[5,:]\n",
    "vl\n",
    "\n",
    "example_patients = pd.DataFrame([h,m,l,vl]).drop('prob_readmission', 1)\n",
    "example_patients.index = ['June Hieghts', 'Jane Middleman', 'Joe Lowe', 'Jess V. Lowe']\n",
    "example_patients.to_csv('../app/readmission_example_patients.csv', index=True)"
   ]
  },
  {
   "cell_type": "code",
   "execution_count": 45,
   "metadata": {},
   "outputs": [
    {
     "data": {
      "text/html": [
       "<div>\n",
       "<style scoped>\n",
       "    .dataframe tbody tr th:only-of-type {\n",
       "        vertical-align: middle;\n",
       "    }\n",
       "\n",
       "    .dataframe tbody tr th {\n",
       "        vertical-align: top;\n",
       "    }\n",
       "\n",
       "    .dataframe thead th {\n",
       "        text-align: right;\n",
       "    }\n",
       "</style>\n",
       "<table border=\"1\" class=\"dataframe\">\n",
       "  <thead>\n",
       "    <tr style=\"text-align: right;\">\n",
       "      <th></th>\n",
       "      <th>hospital_duration</th>\n",
       "      <th>age</th>\n",
       "      <th>nicu_stays</th>\n",
       "      <th>total_icu_days</th>\n",
       "      <th>total_diagnoses</th>\n",
       "      <th>total_procedure</th>\n",
       "      <th>total_drug</th>\n",
       "      <th>INSURANCE_Medicaid</th>\n",
       "      <th>INSURANCE_Medicare</th>\n",
       "      <th>INSURANCE_Private</th>\n",
       "      <th>...</th>\n",
       "      <th>DRUG_Pantoprazole</th>\n",
       "      <th>DRUG_Spironolactone</th>\n",
       "      <th>DRUG_Lactulose</th>\n",
       "      <th>DRUG_Ketorolac</th>\n",
       "      <th>DRUG_Hydromorphone</th>\n",
       "      <th>DRUG_PredniSONE</th>\n",
       "      <th>DRUG_CefePIME</th>\n",
       "      <th>DRUG_Nephrocaps</th>\n",
       "      <th>DRUG_Labetalol</th>\n",
       "      <th>prob_readmission</th>\n",
       "    </tr>\n",
       "    <tr>\n",
       "      <th>HADM_ID</th>\n",
       "      <th></th>\n",
       "      <th></th>\n",
       "      <th></th>\n",
       "      <th></th>\n",
       "      <th></th>\n",
       "      <th></th>\n",
       "      <th></th>\n",
       "      <th></th>\n",
       "      <th></th>\n",
       "      <th></th>\n",
       "      <th></th>\n",
       "      <th></th>\n",
       "      <th></th>\n",
       "      <th></th>\n",
       "      <th></th>\n",
       "      <th></th>\n",
       "      <th></th>\n",
       "      <th></th>\n",
       "      <th></th>\n",
       "      <th></th>\n",
       "      <th></th>\n",
       "    </tr>\n",
       "  </thead>\n",
       "  <tbody>\n",
       "    <tr>\n",
       "      <th>132861</th>\n",
       "      <td>6.375000</td>\n",
       "      <td>0.754376</td>\n",
       "      <td>0.0</td>\n",
       "      <td>0.015918</td>\n",
       "      <td>0.315789</td>\n",
       "      <td>0.058824</td>\n",
       "      <td>0.317073</td>\n",
       "      <td>0</td>\n",
       "      <td>1</td>\n",
       "      <td>0</td>\n",
       "      <td>...</td>\n",
       "      <td>0</td>\n",
       "      <td>0</td>\n",
       "      <td>0</td>\n",
       "      <td>0</td>\n",
       "      <td>0</td>\n",
       "      <td>0</td>\n",
       "      <td>0</td>\n",
       "      <td>0</td>\n",
       "      <td>0</td>\n",
       "      <td>0.021667</td>\n",
       "    </tr>\n",
       "    <tr>\n",
       "      <th>111378</th>\n",
       "      <td>2.192361</td>\n",
       "      <td>0.845742</td>\n",
       "      <td>0.0</td>\n",
       "      <td>0.003882</td>\n",
       "      <td>0.157895</td>\n",
       "      <td>0.088235</td>\n",
       "      <td>0.000000</td>\n",
       "      <td>0</td>\n",
       "      <td>0</td>\n",
       "      <td>1</td>\n",
       "      <td>...</td>\n",
       "      <td>0</td>\n",
       "      <td>0</td>\n",
       "      <td>0</td>\n",
       "      <td>0</td>\n",
       "      <td>0</td>\n",
       "      <td>0</td>\n",
       "      <td>0</td>\n",
       "      <td>0</td>\n",
       "      <td>0</td>\n",
       "      <td>0.030000</td>\n",
       "    </tr>\n",
       "    <tr>\n",
       "      <th>190911</th>\n",
       "      <td>6.577083</td>\n",
       "      <td>0.833566</td>\n",
       "      <td>0.0</td>\n",
       "      <td>0.007079</td>\n",
       "      <td>0.342105</td>\n",
       "      <td>0.029412</td>\n",
       "      <td>0.121951</td>\n",
       "      <td>0</td>\n",
       "      <td>1</td>\n",
       "      <td>0</td>\n",
       "      <td>...</td>\n",
       "      <td>1</td>\n",
       "      <td>0</td>\n",
       "      <td>0</td>\n",
       "      <td>0</td>\n",
       "      <td>0</td>\n",
       "      <td>0</td>\n",
       "      <td>0</td>\n",
       "      <td>0</td>\n",
       "      <td>0</td>\n",
       "      <td>0.030000</td>\n",
       "    </tr>\n",
       "    <tr>\n",
       "      <th>155554</th>\n",
       "      <td>7.745139</td>\n",
       "      <td>0.239514</td>\n",
       "      <td>0.0</td>\n",
       "      <td>0.005917</td>\n",
       "      <td>0.184211</td>\n",
       "      <td>0.029412</td>\n",
       "      <td>0.225610</td>\n",
       "      <td>0</td>\n",
       "      <td>0</td>\n",
       "      <td>0</td>\n",
       "      <td>...</td>\n",
       "      <td>1</td>\n",
       "      <td>0</td>\n",
       "      <td>0</td>\n",
       "      <td>0</td>\n",
       "      <td>0</td>\n",
       "      <td>0</td>\n",
       "      <td>0</td>\n",
       "      <td>0</td>\n",
       "      <td>0</td>\n",
       "      <td>0.041667</td>\n",
       "    </tr>\n",
       "    <tr>\n",
       "      <th>181409</th>\n",
       "      <td>22.154861</td>\n",
       "      <td>0.592829</td>\n",
       "      <td>0.0</td>\n",
       "      <td>0.074386</td>\n",
       "      <td>0.605263</td>\n",
       "      <td>0.117647</td>\n",
       "      <td>0.359756</td>\n",
       "      <td>1</td>\n",
       "      <td>0</td>\n",
       "      <td>0</td>\n",
       "      <td>...</td>\n",
       "      <td>1</td>\n",
       "      <td>0</td>\n",
       "      <td>0</td>\n",
       "      <td>0</td>\n",
       "      <td>0</td>\n",
       "      <td>1</td>\n",
       "      <td>1</td>\n",
       "      <td>0</td>\n",
       "      <td>0</td>\n",
       "      <td>0.096667</td>\n",
       "    </tr>\n",
       "    <tr>\n",
       "      <th>...</th>\n",
       "      <td>...</td>\n",
       "      <td>...</td>\n",
       "      <td>...</td>\n",
       "      <td>...</td>\n",
       "      <td>...</td>\n",
       "      <td>...</td>\n",
       "      <td>...</td>\n",
       "      <td>...</td>\n",
       "      <td>...</td>\n",
       "      <td>...</td>\n",
       "      <td>...</td>\n",
       "      <td>...</td>\n",
       "      <td>...</td>\n",
       "      <td>...</td>\n",
       "      <td>...</td>\n",
       "      <td>...</td>\n",
       "      <td>...</td>\n",
       "      <td>...</td>\n",
       "      <td>...</td>\n",
       "      <td>...</td>\n",
       "      <td>...</td>\n",
       "    </tr>\n",
       "    <tr>\n",
       "      <th>193320</th>\n",
       "      <td>69.895139</td>\n",
       "      <td>0.336595</td>\n",
       "      <td>0.0</td>\n",
       "      <td>0.008341</td>\n",
       "      <td>0.368421</td>\n",
       "      <td>0.294118</td>\n",
       "      <td>0.500000</td>\n",
       "      <td>0</td>\n",
       "      <td>0</td>\n",
       "      <td>1</td>\n",
       "      <td>...</td>\n",
       "      <td>1</td>\n",
       "      <td>0</td>\n",
       "      <td>0</td>\n",
       "      <td>1</td>\n",
       "      <td>1</td>\n",
       "      <td>0</td>\n",
       "      <td>0</td>\n",
       "      <td>0</td>\n",
       "      <td>0</td>\n",
       "      <td>0.021667</td>\n",
       "    </tr>\n",
       "    <tr>\n",
       "      <th>177410</th>\n",
       "      <td>5.914583</td>\n",
       "      <td>0.055816</td>\n",
       "      <td>0.0</td>\n",
       "      <td>0.003284</td>\n",
       "      <td>0.131579</td>\n",
       "      <td>0.000000</td>\n",
       "      <td>0.195122</td>\n",
       "      <td>0</td>\n",
       "      <td>0</td>\n",
       "      <td>1</td>\n",
       "      <td>...</td>\n",
       "      <td>0</td>\n",
       "      <td>0</td>\n",
       "      <td>0</td>\n",
       "      <td>0</td>\n",
       "      <td>0</td>\n",
       "      <td>0</td>\n",
       "      <td>0</td>\n",
       "      <td>0</td>\n",
       "      <td>0</td>\n",
       "      <td>0.023000</td>\n",
       "    </tr>\n",
       "    <tr>\n",
       "      <th>169728</th>\n",
       "      <td>3.618750</td>\n",
       "      <td>0.781994</td>\n",
       "      <td>0.0</td>\n",
       "      <td>0.007406</td>\n",
       "      <td>0.184211</td>\n",
       "      <td>0.000000</td>\n",
       "      <td>0.128049</td>\n",
       "      <td>0</td>\n",
       "      <td>1</td>\n",
       "      <td>0</td>\n",
       "      <td>...</td>\n",
       "      <td>1</td>\n",
       "      <td>0</td>\n",
       "      <td>0</td>\n",
       "      <td>0</td>\n",
       "      <td>0</td>\n",
       "      <td>0</td>\n",
       "      <td>0</td>\n",
       "      <td>0</td>\n",
       "      <td>0</td>\n",
       "      <td>0.030000</td>\n",
       "    </tr>\n",
       "    <tr>\n",
       "      <th>151289</th>\n",
       "      <td>11.709028</td>\n",
       "      <td>0.060324</td>\n",
       "      <td>0.0</td>\n",
       "      <td>0.005493</td>\n",
       "      <td>0.289474</td>\n",
       "      <td>0.117647</td>\n",
       "      <td>0.182927</td>\n",
       "      <td>1</td>\n",
       "      <td>0</td>\n",
       "      <td>0</td>\n",
       "      <td>...</td>\n",
       "      <td>1</td>\n",
       "      <td>0</td>\n",
       "      <td>0</td>\n",
       "      <td>0</td>\n",
       "      <td>1</td>\n",
       "      <td>0</td>\n",
       "      <td>0</td>\n",
       "      <td>0</td>\n",
       "      <td>0</td>\n",
       "      <td>0.027500</td>\n",
       "    </tr>\n",
       "    <tr>\n",
       "      <th>183068</th>\n",
       "      <td>17.544444</td>\n",
       "      <td>0.440722</td>\n",
       "      <td>0.0</td>\n",
       "      <td>0.036564</td>\n",
       "      <td>0.184211</td>\n",
       "      <td>0.117647</td>\n",
       "      <td>0.280488</td>\n",
       "      <td>0</td>\n",
       "      <td>0</td>\n",
       "      <td>1</td>\n",
       "      <td>...</td>\n",
       "      <td>0</td>\n",
       "      <td>0</td>\n",
       "      <td>0</td>\n",
       "      <td>0</td>\n",
       "      <td>0</td>\n",
       "      <td>0</td>\n",
       "      <td>0</td>\n",
       "      <td>0</td>\n",
       "      <td>0</td>\n",
       "      <td>0.023333</td>\n",
       "    </tr>\n",
       "  </tbody>\n",
       "</table>\n",
       "<p>38926 rows × 99 columns</p>\n",
       "</div>"
      ],
      "text/plain": [
       "         hospital_duration       age  nicu_stays  total_icu_days  \\\n",
       "HADM_ID                                                            \n",
       "132861            6.375000  0.754376         0.0        0.015918   \n",
       "111378            2.192361  0.845742         0.0        0.003882   \n",
       "190911            6.577083  0.833566         0.0        0.007079   \n",
       "155554            7.745139  0.239514         0.0        0.005917   \n",
       "181409           22.154861  0.592829         0.0        0.074386   \n",
       "...                    ...       ...         ...             ...   \n",
       "193320           69.895139  0.336595         0.0        0.008341   \n",
       "177410            5.914583  0.055816         0.0        0.003284   \n",
       "169728            3.618750  0.781994         0.0        0.007406   \n",
       "151289           11.709028  0.060324         0.0        0.005493   \n",
       "183068           17.544444  0.440722         0.0        0.036564   \n",
       "\n",
       "         total_diagnoses  total_procedure  total_drug  INSURANCE_Medicaid  \\\n",
       "HADM_ID                                                                     \n",
       "132861          0.315789         0.058824    0.317073                   0   \n",
       "111378          0.157895         0.088235    0.000000                   0   \n",
       "190911          0.342105         0.029412    0.121951                   0   \n",
       "155554          0.184211         0.029412    0.225610                   0   \n",
       "181409          0.605263         0.117647    0.359756                   1   \n",
       "...                  ...              ...         ...                 ...   \n",
       "193320          0.368421         0.294118    0.500000                   0   \n",
       "177410          0.131579         0.000000    0.195122                   0   \n",
       "169728          0.184211         0.000000    0.128049                   0   \n",
       "151289          0.289474         0.117647    0.182927                   1   \n",
       "183068          0.184211         0.117647    0.280488                   0   \n",
       "\n",
       "         INSURANCE_Medicare  INSURANCE_Private  ...  DRUG_Pantoprazole  \\\n",
       "HADM_ID                                         ...                      \n",
       "132861                    1                  0  ...                  0   \n",
       "111378                    0                  1  ...                  0   \n",
       "190911                    1                  0  ...                  1   \n",
       "155554                    0                  0  ...                  1   \n",
       "181409                    0                  0  ...                  1   \n",
       "...                     ...                ...  ...                ...   \n",
       "193320                    0                  1  ...                  1   \n",
       "177410                    0                  1  ...                  0   \n",
       "169728                    1                  0  ...                  1   \n",
       "151289                    0                  0  ...                  1   \n",
       "183068                    0                  1  ...                  0   \n",
       "\n",
       "         DRUG_Spironolactone  DRUG_Lactulose  DRUG_Ketorolac  \\\n",
       "HADM_ID                                                        \n",
       "132861                     0               0               0   \n",
       "111378                     0               0               0   \n",
       "190911                     0               0               0   \n",
       "155554                     0               0               0   \n",
       "181409                     0               0               0   \n",
       "...                      ...             ...             ...   \n",
       "193320                     0               0               1   \n",
       "177410                     0               0               0   \n",
       "169728                     0               0               0   \n",
       "151289                     0               0               0   \n",
       "183068                     0               0               0   \n",
       "\n",
       "         DRUG_Hydromorphone  DRUG_PredniSONE  DRUG_CefePIME  DRUG_Nephrocaps  \\\n",
       "HADM_ID                                                                        \n",
       "132861                    0                0              0                0   \n",
       "111378                    0                0              0                0   \n",
       "190911                    0                0              0                0   \n",
       "155554                    0                0              0                0   \n",
       "181409                    0                1              1                0   \n",
       "...                     ...              ...            ...              ...   \n",
       "193320                    1                0              0                0   \n",
       "177410                    0                0              0                0   \n",
       "169728                    0                0              0                0   \n",
       "151289                    1                0              0                0   \n",
       "183068                    0                0              0                0   \n",
       "\n",
       "         DRUG_Labetalol  prob_readmission  \n",
       "HADM_ID                                    \n",
       "132861                0          0.021667  \n",
       "111378                0          0.030000  \n",
       "190911                0          0.030000  \n",
       "155554                0          0.041667  \n",
       "181409                0          0.096667  \n",
       "...                 ...               ...  \n",
       "193320                0          0.021667  \n",
       "177410                0          0.023000  \n",
       "169728                0          0.030000  \n",
       "151289                0          0.027500  \n",
       "183068                0          0.023333  \n",
       "\n",
       "[38926 rows x 99 columns]"
      ]
     },
     "execution_count": 45,
     "metadata": {},
     "output_type": "execute_result"
    }
   ],
   "source": [
    "res"
   ]
  },
  {
   "cell_type": "code",
   "execution_count": 46,
   "metadata": {
    "scrolled": true
   },
   "outputs": [
    {
     "data": {
      "text/plain": [
       "June Hieghts      0.0\n",
       "Jane Middleman    0.0\n",
       "Joe Lowe          1.0\n",
       "Jess V. Lowe      1.0\n",
       "Name: GENDER_M, dtype: float64"
      ]
     },
     "execution_count": 46,
     "metadata": {},
     "output_type": "execute_result"
    }
   ],
   "source": [
    "example_patients['GENDER_M']"
   ]
  },
  {
   "cell_type": "code",
   "execution_count": 48,
   "metadata": {},
   "outputs": [
    {
     "data": {
      "text/plain": [
       "['../app/rf_model.joblib']"
      ]
     },
     "execution_count": 48,
     "metadata": {},
     "output_type": "execute_result"
    }
   ],
   "source": [
    "# save the model to disk\n",
    "import pickle\n",
    "filename = '../app/rf_model.sav'\n",
    "pickle.dump(rf_opt, open(filename, 'wb'))\n",
    "\n",
    "from joblib import dump, load\n",
    "dump(rf_opt, '../app/rf_model.joblib') "
   ]
  },
  {
   "cell_type": "code",
   "execution_count": null,
   "metadata": {},
   "outputs": [],
   "source": []
  }
 ],
 "metadata": {
  "kernelspec": {
   "display_name": "Python 3",
   "language": "python",
   "name": "python3"
  },
  "language_info": {
   "codemirror_mode": {
    "name": "ipython",
    "version": 3
   },
   "file_extension": ".py",
   "mimetype": "text/x-python",
   "name": "python",
   "nbconvert_exporter": "python",
   "pygments_lexer": "ipython3",
   "version": "3.7.6"
  }
 },
 "nbformat": 4,
 "nbformat_minor": 4
}
